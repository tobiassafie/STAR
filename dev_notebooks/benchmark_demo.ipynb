{
 "cells": [
  {
   "cell_type": "markdown",
   "id": "5b1f906c",
   "metadata": {},
   "source": [
    "# **Benchmark Demo**\n",
    "**7/1**\n",
    "<br>\n",
    "Thoroughly benchmarking the **1D diffusion equation** will have a relatively low ROI. This is because the equation is simple enough that the PINN is actually a more tedious and very accurate of approximating the PDE. However, we should still scaffold how we're going to benchmark our solutions in the future. This is especially important because depending on the complexity of our PDE and our solving method, it may only be technically possible to benchmark a few different things for each equation. For instance, some of the equations we seek to evaluate in the future may not be able to be approximated without being simplified into a **toy model**, so our PINN wouldn't have a 1-to-1 comparison. We need to plan for these sorts of things.\n",
    "<br><br>\n",
    "If possible, we should benchmark a couple key traits\n",
    "<br>\n",
    "**Accuracy:**\n",
    "<br>\n",
    "**Runtime:**\n",
    "<br>\n",
    "**Development Complexity:**"
   ]
  },
  {
   "cell_type": "markdown",
   "id": "5b41dde7",
   "metadata": {},
   "source": []
  }
 ],
 "metadata": {
  "language_info": {
   "name": "python"
  }
 },
 "nbformat": 4,
 "nbformat_minor": 5
}
