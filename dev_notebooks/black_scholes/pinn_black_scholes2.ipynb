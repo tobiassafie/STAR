{
 "cells": [
  {
   "cell_type": "markdown",
   "id": "c677f17c",
   "metadata": {},
   "source": [
    "# **Black-Scholes PINN Approximator**\n",
    "In this notebook, I'll be approximating the **Black-Scholes** equation using a **Physics-Informed Neural Network** or **PINN**. This will be foundational for when we scale up to the **Heston Model**. We will also cross-validate the data in this notebook with the solution found in our RK4 numerical solver and the PINN will be optimized via a **Sweep**.\n",
    "\n",
    "\n",
    "\n",
    "---\n",
    "\n",
    "$$\n",
    "\\frac{\\partial V}{\\partial t} + \\frac{1}{2}\\sigma^2 S^2 \\frac{\\partial^2 V}{\\partial S^2} + rS \\frac{\\partial V}{\\partial S} - rV = 0\n",
    "$$\n",
    "<center>\n",
    "\n",
    "**Black-Scholes PDE**\n",
    "</center>\n",
    "\n",
    "Where:\n",
    "* $V$: Option price\n",
    "* $t$: Time\n",
    "* $S$: Price of the underlying asset\n",
    "* $\\sigma$: Volatility of the underlying asset's returns\n",
    "* $r$: Risk-free interest rate\n",
    "\n",
    "---\n",
    "\n",
    "$$\n"
   ]
  },
  {
   "cell_type": "markdown",
   "id": "cd8aa8d8",
   "metadata": {},
   "source": [
    "## **Import Libraries + Set Parameters**"
   ]
  },
  {
   "cell_type": "code",
   "execution_count": null,
   "id": "6e121b82",
   "metadata": {},
   "outputs": [],
   "source": [
    "import torch\n",
    "import torch.nn as nn\n",
    "import torch.optim as optim\n",
    "from torch.optim.lr_scheduler import ReduceLROnPlateau\n",
    "import numpy as np\n",
    "import matplotlib.pyplot as plt\n",
    "import pandas as pd\n",
    "\n",
    "# Manually set random seed for reproducibility\n",
    "torch.manual_seed(42)\n",
    "np.random.seed(42)\n",
    "\n",
    "# Black-Scholes parameters (match with RK4 solver)\n",
    "r = 0.05          # Risk-free rate\n",
    "sigma = 0.2       # Volatility\n",
    "K = 100           # Strike price\n",
    "T = 1.0           # Time to maturity (in years)\n",
    "S_max = 250       # Max stock price in spatial domain\n",
    "S_min = 0         # Min stock price\n",
    "N = 500           # Number of spatial grid points\n",
    "\n",
    "# Create spatial grid\n",
    "S = torch.linspace(S_min, S_max, N).view(-1, 1).requires_grad_()\n",
    "t = torch.linspace(0, T, N).view(-1, 1).requires_grad_()"
   ]
  },
  {
   "cell_type": "markdown",
   "id": "fe1d0645",
   "metadata": {},
   "source": [
    "## **Model**"
   ]
  },
  {
   "cell_type": "code",
   "execution_count": null,
   "id": "c045ee3b",
   "metadata": {},
   "outputs": [],
   "source": [
    "class blackScholesPINN(nn.Module):\n",
    "    def __init__(self, input_dim=2, output_dim=1, hidden_layers=4, neurons_per_layer=64, activation_fn=nn.Tanh()):\n",
    "        super().__init__()\n",
    "        layers = []\n",
    "\n",
    "        layers.append(nn.Linear(input_dim, neurons_per_layer))\n",
    "        layers.append(activation_fn)\n",
    "\n",
    "        for _ in range(hidden_layers - 1):\n",
    "            layers.append(nn.Linear(neurons_per_layer, neurons_per_layer))\n",
    "            layers.append(activation_fn)\n",
    "\n",
    "        layers.append(nn.Linear(neurons_per_layer, output_dim))\n",
    "        self.net = nn.Sequential(*layers)\n",
    "\n",
    "    def forward(self, x):\n",
    "        return self.net(x)\n",
    "\n",
    "\n",
    "def initialize_weights(model, method='xavier'):\n",
    "    for m in model.modules():\n",
    "        if isinstance(m, nn.Linear):\n",
    "            if method == 'xavier':\n",
    "                nn.init.xavier_uniform_(m.weight)\n",
    "            elif method == 'kaiming':\n",
    "                nn.init.kaiming_uniform_(m.weight)\n",
    "            elif method == 'normal':\n",
    "                nn.init.normal_(m.weight, mean=0.0, std=0.1)\n",
    "            if m.bias is not None:\n",
    "                nn.init.zeros_(m.bias)"
   ]
  },
  {
   "cell_type": "markdown",
   "id": "1daa1ca6",
   "metadata": {},
   "source": [
    "## **Losses**"
   ]
  },
  {
   "cell_type": "code",
   "execution_count": null,
   "id": "fd48ca14",
   "metadata": {},
   "outputs": [],
   "source": [
    "def pde_loss(model, S, t):\n",
    "    S.requires_grad_(True)\n",
    "    t.requires_grad_(True)\n",
    "    X = torch.cat((S, t), dim=1)\n",
    "    V = model(X)\n",
    "\n",
    "    V_t = torch.autograd.grad(V, t, grad_outputs=torch.ones_like(V), create_graph=True)[0]\n",
    "    V_S = torch.autograd.grad(V, S, grad_outputs=torch.ones_like(V), create_graph=True)[0]\n",
    "    V_SS = torch.autograd.grad(V_S, S, grad_outputs=torch.ones_like(V_S), create_graph=True)[0]\n",
    "\n",
    "    residual = V_t + 0.5 * sigma**2 * S**2 * V_SS + r * S * V_S - r * V\n",
    "    return torch.mean(residual.pow(2))\n",
    "\n",
    "\n",
    "def boundary_loss(model, t):\n",
    "    S0 = torch.zeros_like(t)\n",
    "    S_high = torch.full_like(t, S_max)\n",
    "\n",
    "    bc_low = model(torch.cat((S0, t), dim=1))\n",
    "    bc_high = model(torch.cat((S_high, t), dim=1))\n",
    "    # This is the boundary for a call option\n",
    "    # It would be K - S_max for a put option\n",
    "    expected_high = S_max - K * torch.exp(-r * (T - t))\n",
    "\n",
    "    return torch.mean(bc_low.pow(2)) + torch.mean((bc_high - expected_high).pow(2))\n",
    "\n",
    "\n",
    "def initial_loss(model, S):\n",
    "    t0 = torch.zeros_like(S)\n",
    "    X0 = torch.cat((S, t0), dim=1)\n",
    "\n",
    "    V_pred = model(X0)\n",
    "    V_true = torch.clamp(S - K, min=0.0)\n",
    "\n",
    "    return torch.mean((V_pred - V_true).pow(2))\n"
   ]
  },
  {
   "cell_type": "markdown",
   "id": "88b841d1",
   "metadata": {},
   "source": []
  },
  {
   "cell_type": "markdown",
   "id": "328a7e1c",
   "metadata": {},
   "source": [
    "## **Training Parameters**"
   ]
  },
  {
   "cell_type": "code",
   "execution_count": null,
   "id": "e4170fb3",
   "metadata": {},
   "outputs": [],
   "source": [
    "epochs = 7500\n",
    "\n",
    "configs = {\n",
    "    'hidden_layers': 6,\n",
    "    'neurons_per_layer': 32,\n",
    "    'activation': 'relu',\n",
    "    'init_method': 'xavier',\n",
    "    'initial_lr': 0.005,\n",
    "    'pde_weight_scale': 14.46,\n",
    "    'bc_weight_scale': 0.411,\n",
    "    'ic_weight_scale': 0.086\n",
    "}\n",
    "\n",
    "loss_history = []\n",
    "scheduler = ReduceLROnPlateau(optimizer, mode='min', factor=0.1, patience=20, min_lr=1e-7, verbose=True)\n",
    "\n",
    "def train_pinn():\n",
    "    model = blackScholesPINN(\n",
    "        input_dim=2,\n",
    "        output_dim=1,\n",
    "        hidden_layers=configs['hidden_layers'],\n",
    "        neurons_per_layer=configs['neurons_per_layer'],\n",
    "        activation_fn=getattr(nn, configs['activation'])()\n",
    "    )\n",
    "\n",
    "    initialize_weights(model, method=configs['init_method'])\n",
    "\n",
    "    optimizer = optim.Adam(model.parameters(), lr=configs['initial_lr'])\n",
    "    scheduler = ReduceLROnPlateau(optimizer, mode='min', factor=0.5, patience=100, verbose=True)\n",
    "\n",
    "    S = torch.linspace(0.0, S_max, 100).view(-1, 1)\n",
    "    t = torch.linspace(0.0, T, 100).view(-1, 1)\n",
    "\n",
    "    for epoch in range(epochs):\n",
    "        model.train()\n",
    "        optimizer.zero_grad()\n",
    "\n",
    "        loss_pde = pde_loss(model, S, t) * configs['pde_weight_scale']\n",
    "        loss_bc = boundary_loss(model, t) * configs['bc_weight_scale']\n",
    "        loss_ic = initial_loss(model, S) * configs['ic_weight_scale']\n",
    "\n",
    "        loss = loss_pde + loss_bc + loss_ic\n",
    "        loss.backward()\n",
    "        optimizer.step()\n",
    "\n",
    "        if epoch % 500 == 0:\n",
    "            print(f'Epoch {epoch}, Loss: {loss.item()}')\n",
    "\n",
    "        scheduler.step(loss)\n",
    "\n",
    "    return model\n"
   ]
  },
  {
   "cell_type": "markdown",
   "id": "0c85864d",
   "metadata": {},
   "source": [
    "## **Plot Loss**"
   ]
  },
  {
   "cell_type": "code",
   "execution_count": null,
   "id": "7dca108d",
   "metadata": {},
   "outputs": [],
   "source": [
    "plt.plot()"
   ]
  }
 ],
 "metadata": {
  "language_info": {
   "name": "python"
  }
 },
 "nbformat": 4,
 "nbformat_minor": 5
}
