{
 "cells": [
  {
   "cell_type": "markdown",
   "id": "6905a2c2",
   "metadata": {},
   "source": [
    "# **Sweep Notebook**\n",
    "This notebook is easily customizable for easier sweeping and finetuning rather than having messy dev sweeps that all look different. This will be the go to for sweeping."
   ]
  },
  {
   "cell_type": "markdown",
   "id": "4c0534f2",
   "metadata": {},
   "source": [
    "## **Import Libraries**"
   ]
  },
  {
   "cell_type": "code",
   "execution_count": null,
   "id": "bab0c77d",
   "metadata": {},
   "outputs": [],
   "source": [
    "import wandb\n",
    "import torch\n",
    "import torch.nn as nn\n",
    "import torch.optim as optim\n",
    "from torch.optim.lr_scheduler import ReduceLROnPlateau\n",
    "import numpy as np\n",
    "\n",
    "\n",
    "# --- Global Black-Scholes parameters and grids ---\n",
    "r = 0.05          # Risk-free rate\n",
    "sigma = 0.2       # Volatility\n",
    "K = 100           # Strike price\n",
    "T = 1.0           # Time to maturity (in years)\n",
    "S_max = 250       # Max stock price in spatial domain\n",
    "S_min = 0         # Min stock price\n",
    "N = 500           # Number of spatial grid points\n",
    "\n",
    "# Create spatial grid\n",
    "S = torch.linspace(S_min, S_max, N).view(-1, 1).requires_grad_()\n",
    "t = torch.linspace(0, T, N).view(-1, 1).requires_grad_()"
   ]
  },
  {
   "cell_type": "markdown",
   "id": "000c36d7",
   "metadata": {},
   "source": [
    "## **Model**"
   ]
  },
  {
   "cell_type": "code",
   "execution_count": null,
   "id": "2f7f05e9",
   "metadata": {},
   "outputs": [],
   "source": [
    "class blackScholesPINN(nn.Module):\n",
    "    def __init__(self, input_dim=2, output_dim=1, hidden_layers=4, neurons_per_layer=64, activation_fn=nn.Tanh()):\n",
    "        super().__init__()\n",
    "        layers = []\n",
    "\n",
    "        layers.append(nn.Linear(input_dim, neurons_per_layer))\n",
    "        layers.append(activation_fn)\n",
    "\n",
    "        for _ in range(hidden_layers - 1):\n",
    "            layers.append(nn.Linear(neurons_per_layer, neurons_per_layer))\n",
    "            layers.append(activation_fn)\n",
    "\n",
    "        layers.append(nn.Linear(neurons_per_layer, output_dim))\n",
    "        self.net = nn.Sequential(*layers)\n",
    "\n",
    "    def forward(self, x):\n",
    "        return self.net(x)\n",
    "\n",
    "\n",
    "def initialize_weights(model, method='xavier'):\n",
    "    for m in model.modules():\n",
    "        if isinstance(m, nn.Linear):\n",
    "            if method == 'xavier':\n",
    "                nn.init.xavier_uniform_(m.weight)\n",
    "            elif method == 'kaiming':\n",
    "                nn.init.kaiming_uniform_(m.weight)\n",
    "            elif method == 'normal':\n",
    "                nn.init.normal_(m.weight, mean=0.0, std=0.1)\n",
    "            if m.bias is not None:\n",
    "                nn.init.zeros_(m.bias)"
   ]
  },
  {
   "cell_type": "markdown",
   "id": "5463f197",
   "metadata": {},
   "source": [
    "## **Losses**"
   ]
  },
  {
   "cell_type": "code",
   "execution_count": null,
   "id": "843a23a4",
   "metadata": {},
   "outputs": [],
   "source": [
    "def pde_loss(model, S, t):\n",
    "    S.requires_grad_(True)\n",
    "    t.requires_grad_(True)\n",
    "    X = torch.cat((S, t), dim=1)\n",
    "    V = model(X)\n",
    "\n",
    "    V_t = torch.autograd.grad(V, t, grad_outputs=torch.ones_like(V), create_graph=True)[0]\n",
    "    V_S = torch.autograd.grad(V, S, grad_outputs=torch.ones_like(V), create_graph=True)[0]\n",
    "    V_SS = torch.autograd.grad(V_S, S, grad_outputs=torch.ones_like(V_S), create_graph=True)[0]\n",
    "\n",
    "    residual = V_t + 0.5 * sigma**2 * S**2 * V_SS + r * S * V_S - r * V\n",
    "    return torch.mean(residual.pow(2))\n",
    "\n",
    "\n",
    "def boundary_loss(model, t):\n",
    "    S0 = torch.zeros_like(t)\n",
    "    S_high = torch.full_like(t, S_max)\n",
    "\n",
    "    bc_low = model(torch.cat((S0, t), dim=1))\n",
    "    bc_high = model(torch.cat((S_high, t), dim=1))\n",
    "    expected_high = S_max - K * torch.exp(-r * (T - t))\n",
    "\n",
    "    return torch.mean(bc_low.pow(2)) + torch.mean((bc_high - expected_high).pow(2))\n",
    "\n",
    "\n",
    "def initial_loss(model, S):\n",
    "    t0 = torch.zeros_like(S)\n",
    "    X0 = torch.cat((S, t0), dim=1)\n",
    "\n",
    "    V_pred = model(X0)\n",
    "    V_true = torch.clamp(S - K, min=0.0)\n",
    "\n",
    "    return torch.mean((V_pred - V_true).pow(2))"
   ]
  },
  {
   "cell_type": "markdown",
   "id": "4540797e",
   "metadata": {},
   "source": [
    "## **Configuration**"
   ]
  },
  {
   "cell_type": "code",
   "execution_count": null,
   "id": "ad5a9042",
   "metadata": {},
   "outputs": [],
   "source": [
    "epochs = 7500\n",
    "num_sweeps = 20\n",
    "\n",
    "config_flags = {\n",
    "    'sweep_hidden_layers': False,\n",
    "    'sweep_neurons': False,\n",
    "    'sweep_activation': False,\n",
    "    'sweep_init': False,\n",
    "    'sweep_learning_rate': False,\n",
    "    'sweep_loss_weights': True,\n",
    "    'sweep_method': 'bayes'  # Choose from: 'random', 'bayes', 'grid'\n",
    "}\n",
    "\n",
    "# --------------------------\n",
    "# DEFAULT VALUES (used if not swept)\n",
    "# --------------------------\n",
    "fixed_defaults = {\n",
    "    'hidden_layers': 6,\n",
    "    'neurons_per_layer': 32,\n",
    "    'activation': 'relu',\n",
    "    'init_method': 'xavier',\n",
    "    'initial_lr': 0.005,\n",
    "    'pde_weight_scale': 7.6,\n",
    "    'bc_weight_scale': 1.35,\n",
    "    'ic_weight_scale': 0.05\n",
    "}\n",
    "\n",
    "# --------------------------\n",
    "# DYNAMIC SWEEP CONFIG BUILDER\n",
    "# --------------------------\n",
    "def generate_sweep_config(flags, defaults):\n",
    "    sweep_config = {\n",
    "        'method': flags['sweep_method'],\n",
    "        'metric': {\n",
    "            'name': 'final_total_loss',\n",
    "            'goal': 'minimize'\n",
    "        },\n",
    "        'parameters': {}\n",
    "    }\n",
    "\n",
    "    if flags['sweep_hidden_layers']:\n",
    "        sweep_config['parameters']['hidden_layers'] = {\n",
    "            'values': [2, 4, 6, 8]\n",
    "        }\n",
    "    else:\n",
    "        sweep_config['parameters']['hidden_layers'] = {\n",
    "            'value': defaults['hidden_layers']\n",
    "        }\n",
    "\n",
    "    if flags['sweep_neurons']:\n",
    "        sweep_config['parameters']['neurons_per_layer'] = {\n",
    "            'values': [32, 64, 128]\n",
    "        }\n",
    "    else:\n",
    "        sweep_config['parameters']['neurons_per_layer'] = {\n",
    "            'value': defaults['neurons_per_layer']\n",
    "        }\n",
    "\n",
    "    if flags['sweep_activation']:\n",
    "        sweep_config['parameters']['activation'] = {\n",
    "            'values': ['tanh', 'relu', 'silu']\n",
    "        }\n",
    "    else:\n",
    "        sweep_config['parameters']['activation'] = {\n",
    "            'value': defaults['activation']\n",
    "        }\n",
    "\n",
    "    if flags['sweep_init']:\n",
    "        sweep_config['parameters']['init_method'] = {\n",
    "            'values': ['xavier', 'kaiming', 'normal']\n",
    "        }\n",
    "    else:\n",
    "        sweep_config['parameters']['init_method'] = {\n",
    "            'value': defaults['init_method']\n",
    "        }\n",
    "\n",
    "    if flags['sweep_learning_rate']:\n",
    "        sweep_config['parameters']['initial_lr'] = {\n",
    "            'min': 0.0001,\n",
    "            'max': 0.01,\n",
    "            'distribution': 'log_uniform_values'\n",
    "        }\n",
    "    else:\n",
    "        sweep_config['parameters']['initial_lr'] = {\n",
    "            'value': defaults['initial_lr']\n",
    "        }\n",
    "\n",
    "    if flags['sweep_loss_weights']:\n",
    "        sweep_config['parameters']['pde_weight_scale'] = {\n",
    "            'min': 5.0, 'max': 15.0, 'distribution': 'log_uniform_values'\n",
    "        }\n",
    "        sweep_config['parameters']['bc_weight_scale'] = {\n",
    "            'min': 0.1, 'max': 3.5, 'distribution': 'log_uniform_values'\n",
    "        }\n",
    "        sweep_config['parameters']['ic_weight_scale'] = {\n",
    "            'min': 0.05, 'max': 3.5, 'distribution': 'log_uniform_values'\n",
    "        }\n",
    "    else:\n",
    "        sweep_config['parameters']['pde_weight_scale'] = {'value': defaults['pde_weight_scale']}\n",
    "        sweep_config['parameters']['bc_weight_scale'] = {'value': defaults['bc_weight_scale']}\n",
    "        sweep_config['parameters']['ic_weight_scale'] = {'value': defaults['ic_weight_scale']}\n",
    "\n",
    "    return sweep_config"
   ]
  },
  {
   "cell_type": "markdown",
   "id": "9c74d322",
   "metadata": {},
   "source": [
    "## **Sweep Function**"
   ]
  },
  {
   "cell_type": "code",
   "execution_count": 28,
   "id": "1129857d",
   "metadata": {},
   "outputs": [],
   "source": [
    "def train_pinn_sweep():\n",
    "    wandb.init()\n",
    "    config = wandb.config\n",
    "\n",
    "    # Set up activation\n",
    "    activation_map = {\n",
    "        'tanh': nn.Tanh(),\n",
    "        'relu': nn.ReLU(),\n",
    "        'silu': nn.SiLU()\n",
    "    }\n",
    "    activation_fn = activation_map.get(config.activation, nn.Tanh())\n",
    "\n",
    "    # Build model\n",
    "    model = blackScholesPINN(\n",
    "        hidden_layers=config.hidden_layers,\n",
    "        neurons_per_layer=config.neurons_per_layer,\n",
    "        activation_fn=activation_fn\n",
    "    )\n",
    "\n",
    "    initialize_weights(model, config.init_method)\n",
    "\n",
    "    # Fixed hyperparameters\n",
    "    lr = config.initial_lr\n",
    "    pde_weight = config.pde_weight_scale\n",
    "    bc_weight = config.bc_weight_scale\n",
    "    ic_weight = config.ic_weight_scale\n",
    "\n",
    "    optimizer = torch.optim.Adam(model.parameters(), lr=lr)\n",
    "    scheduler = torch.optim.lr_scheduler.ReduceLROnPlateau(optimizer, mode='min', factor=0.5, patience=300)\n",
    "\n",
    "    for epoch in range(epochs):\n",
    "        model.train()\n",
    "        optimizer.zero_grad()\n",
    "\n",
    "        V = model(torch.cat((S, t), dim=1))  # assumes S and t are defined globally or imported\n",
    "\n",
    "        pde_l = pde_loss(model, S, t)\n",
    "        bc_l = boundary_loss(model, t)\n",
    "        ic_l = initial_loss(model, S)\n",
    "\n",
    "        total_loss = pde_weight * pde_l + bc_weight * bc_l + ic_weight * ic_l\n",
    "        total_loss.backward()\n",
    "        optimizer.step()\n",
    "        scheduler.step(total_loss)\n",
    "\n",
    "        wandb.log({\n",
    "            \"epoch\": epoch,\n",
    "            \"total_loss\": total_loss.item(),\n",
    "            \"pde_loss\": pde_l.item(),\n",
    "            \"bc_loss\": bc_l.item(),\n",
    "            \"ic_loss\": ic_l.item(),\n",
    "            \"learning_rate\": optimizer.param_groups[0]['lr']\n",
    "        })\n",
    "\n",
    "        if epoch % 500 == 0:\n",
    "            print(f\"[{epoch}] Total: {total_loss.item():.5f}, PDE: {pde_l.item():.5f}, BC: {bc_l.item():.5f}, IC: {ic_l.item():.5f}\")\n",
    "\n",
    "    wandb.log({\n",
    "        \"final_total_loss\": total_loss.item()\n",
    "    })\n",
    "    wandb.finish()"
   ]
  },
  {
   "cell_type": "markdown",
   "id": "ce49fa1b",
   "metadata": {},
   "source": [
    "## **Instantiate Sweep**"
   ]
  },
  {
   "cell_type": "code",
   "execution_count": 29,
   "id": "cbff3bb3",
   "metadata": {},
   "outputs": [
    {
     "name": "stdout",
     "output_type": "stream",
     "text": [
      "Create sweep with ID: ie5y2esn\n",
      "Sweep URL: https://wandb.ai/tobiassafie-drexel-university/Black-Scholes-Architecture-Sweep/sweeps/ie5y2esn\n",
      "Sweep ID: ie5y2esn\n",
      "wandb agent ie5y2esn\n",
      "wandb.agent('ie5y2esn', function=train_pinn_sweep, count=20)\n"
     ]
    }
   ],
   "source": [
    "sweep_config = generate_sweep_config(config_flags, fixed_defaults)\n",
    "sweep_id = wandb.sweep(sweep_config, project=\"Black-Scholes-Architecture-Sweep\")\n",
    "\n",
    "print(f\"Sweep ID: {sweep_id}\")\n",
    "print(\"wandb agent \" + sweep_id)\n",
    "print(f\"wandb.agent('{sweep_id}', function=train_pinn_sweep, count={num_sweeps})\")"
   ]
  },
  {
   "cell_type": "markdown",
   "id": "43503b6d",
   "metadata": {},
   "source": [
    "### **Paste Function Call**"
   ]
  },
  {
   "cell_type": "code",
   "execution_count": 30,
   "id": "160a532b",
   "metadata": {},
   "outputs": [
    {
     "name": "stderr",
     "output_type": "stream",
     "text": [
      "wandb: Agent Starting Run: 8iqztt4m with config:\n",
      "wandb: \tactivation: relu\n",
      "wandb: \tbc_weight_scale: 0.6813706299260899\n",
      "wandb: \thidden_layers: 6\n",
      "wandb: \tic_weight_scale: 0.06114557165119223\n",
      "wandb: \tinit_method: xavier\n",
      "wandb: \tinitial_lr: 0.005\n",
      "wandb: \tneurons_per_layer: 32\n",
      "wandb: \tpde_weight_scale: 7.892454965443275\n"
     ]
    },
    {
     "data": {
      "text/html": [
       "Tracking run with wandb version 0.21.0"
      ],
      "text/plain": [
       "<IPython.core.display.HTML object>"
      ]
     },
     "metadata": {},
     "output_type": "display_data"
    },
    {
     "data": {
      "text/html": [
       "Run data is saved locally in <code>c:\\Users\\tobys\\Desktop\\STAR\\dev_notebooks\\black_scholes\\sweep\\wandb\\run-20250715_212427-8iqztt4m</code>"
      ],
      "text/plain": [
       "<IPython.core.display.HTML object>"
      ]
     },
     "metadata": {},
     "output_type": "display_data"
    },
    {
     "data": {
      "text/html": [
       "Syncing run <strong><a href='https://wandb.ai/tobiassafie-drexel-university/Black-Scholes-Architecture-Sweep/runs/8iqztt4m' target=\"_blank\">pleasant-sweep-1</a></strong> to <a href='https://wandb.ai/tobiassafie-drexel-university/Black-Scholes-Architecture-Sweep' target=\"_blank\">Weights & Biases</a> (<a href='https://wandb.me/developer-guide' target=\"_blank\">docs</a>)<br>Sweep page: <a href='https://wandb.ai/tobiassafie-drexel-university/Black-Scholes-Architecture-Sweep/sweeps/ie5y2esn' target=\"_blank\">https://wandb.ai/tobiassafie-drexel-university/Black-Scholes-Architecture-Sweep/sweeps/ie5y2esn</a>"
      ],
      "text/plain": [
       "<IPython.core.display.HTML object>"
      ]
     },
     "metadata": {},
     "output_type": "display_data"
    },
    {
     "data": {
      "text/html": [
       " View project at <a href='https://wandb.ai/tobiassafie-drexel-university/Black-Scholes-Architecture-Sweep' target=\"_blank\">https://wandb.ai/tobiassafie-drexel-university/Black-Scholes-Architecture-Sweep</a>"
      ],
      "text/plain": [
       "<IPython.core.display.HTML object>"
      ]
     },
     "metadata": {},
     "output_type": "display_data"
    },
    {
     "data": {
      "text/html": [
       " View sweep at <a href='https://wandb.ai/tobiassafie-drexel-university/Black-Scholes-Architecture-Sweep/sweeps/ie5y2esn' target=\"_blank\">https://wandb.ai/tobiassafie-drexel-university/Black-Scholes-Architecture-Sweep/sweeps/ie5y2esn</a>"
      ],
      "text/plain": [
       "<IPython.core.display.HTML object>"
      ]
     },
     "metadata": {},
     "output_type": "display_data"
    },
    {
     "data": {
      "text/html": [
       " View run at <a href='https://wandb.ai/tobiassafie-drexel-university/Black-Scholes-Architecture-Sweep/runs/8iqztt4m' target=\"_blank\">https://wandb.ai/tobiassafie-drexel-university/Black-Scholes-Architecture-Sweep/runs/8iqztt4m</a>"
      ],
      "text/plain": [
       "<IPython.core.display.HTML object>"
      ]
     },
     "metadata": {},
     "output_type": "display_data"
    },
    {
     "name": "stdout",
     "output_type": "stream",
     "text": [
      "[0] Total: 13219.44043, PDE: 0.00949, BC: 19082.99023, IC: 3545.25781\n",
      "[500] Total: 46.92128, PDE: 0.00094, BC: 1.52816, IC: 750.21936\n",
      "[1000] Total: 48.22533, PDE: 0.00212, BC: 2.30302, IC: 762.76031\n",
      "[1500] Total: 19.03658, PDE: 0.00151, BC: 0.93409, IC: 300.72888\n",
      "[2000] Total: 0.48572, PDE: 0.00168, BC: 0.18460, IC: 5.66961\n",
      "[2500] Total: 0.97751, PDE: 0.00150, BC: 1.18764, IC: 2.55815\n",
      "[3000] Total: 0.27542, PDE: 0.00133, BC: 0.04997, IC: 3.77611\n",
      "[3500] Total: 0.87833, PDE: 0.00111, BC: 1.02301, IC: 2.82102\n",
      "[4000] Total: 0.40666, PDE: 0.00108, BC: 0.16489, IC: 4.67346\n",
      "[4500] Total: 0.36508, PDE: 0.00090, BC: 0.04864, IC: 5.31184\n",
      "[5000] Total: 0.22413, PDE: 0.00097, BC: 0.01417, IC: 3.38261\n",
      "[5500] Total: 0.21624, PDE: 0.00091, BC: 0.01398, IC: 3.26368\n",
      "[6000] Total: 0.20752, PDE: 0.00085, BC: 0.01339, IC: 3.13525\n",
      "[6500] Total: 1.40245, PDE: 0.00079, BC: 1.88967, IC: 1.77764\n",
      "[7000] Total: 0.21081, PDE: 0.00071, BC: 0.03905, IC: 2.92136\n"
     ]
    },
    {
     "data": {
      "text/html": [],
      "text/plain": [
       "<IPython.core.display.HTML object>"
      ]
     },
     "metadata": {},
     "output_type": "display_data"
    },
    {
     "data": {
      "text/html": [
       "<br>    <style><br>        .wandb-row {<br>            display: flex;<br>            flex-direction: row;<br>            flex-wrap: wrap;<br>            justify-content: flex-start;<br>            width: 100%;<br>        }<br>        .wandb-col {<br>            display: flex;<br>            flex-direction: column;<br>            flex-basis: 100%;<br>            flex: 1;<br>            padding: 10px;<br>        }<br>    </style><br><div class=\"wandb-row\"><div class=\"wandb-col\"><h3>Run history:</h3><br/><table class=\"wandb\"><tr><td>bc_loss</td><td>██▇▆▆▆▅▄▃▂▁▁▁▁▁▂▂▁▁▁▁▁▁▂▁▁▁▁▁▁▁▁▁▁▁▁▂▁▁▃</td></tr><tr><td>epoch</td><td>▁▁▁▁▁▂▂▂▂▂▂▂▃▄▄▄▄▄▄▄▅▅▅▆▆▆▆▆▇▇▇▇▇▇▇█████</td></tr><tr><td>final_total_loss</td><td>▁</td></tr><tr><td>ic_loss</td><td>▇▅▇███▆▆▅▄▁▁▁▁▁▁▁▁▁▁▁▁▁▁▁▁▁▁▁▁▁▁▁▁▁▁▁▁▁▁</td></tr><tr><td>learning_rate</td><td>█████▄▁▁▁▁▁▁▁▁▁▁▁▁▁▁▁▁▁▁▁▁▁▁▁▁▁▁▁▁▁▁▁▁▁▁</td></tr><tr><td>pde_loss</td><td>▁▁▂▂▆█▅▆▇▆▅▅▅▅▅▅▅▅▅▅▄▄▄▄▄▄▄▃▃▃▃▃▃▃▃▂▂▂▂▂</td></tr><tr><td>total_loss</td><td>█▇▇▇▆▅▂▁▁▁▁▁▁▁▁▁▁▁▁▁▁▁▁▂▁▁▁▁▁▁▁▁▁▁▁▁▁▁▁▁</td></tr></table><br/></div><div class=\"wandb-col\"><h3>Run summary:</h3><br/><table class=\"wandb\"><tr><td>bc_loss</td><td>0.01209</td></tr><tr><td>epoch</td><td>7499</td></tr><tr><td>final_total_loss</td><td>0.28247</td></tr><tr><td>ic_loss</td><td>4.41505</td></tr><tr><td>learning_rate</td><td>0.00031</td></tr><tr><td>pde_loss</td><td>0.00054</td></tr><tr><td>total_loss</td><td>0.28247</td></tr></table><br/></div></div>"
      ],
      "text/plain": [
       "<IPython.core.display.HTML object>"
      ]
     },
     "metadata": {},
     "output_type": "display_data"
    },
    {
     "data": {
      "text/html": [
       " View run <strong style=\"color:#cdcd00\">pleasant-sweep-1</strong> at: <a href='https://wandb.ai/tobiassafie-drexel-university/Black-Scholes-Architecture-Sweep/runs/8iqztt4m' target=\"_blank\">https://wandb.ai/tobiassafie-drexel-university/Black-Scholes-Architecture-Sweep/runs/8iqztt4m</a><br> View project at: <a href='https://wandb.ai/tobiassafie-drexel-university/Black-Scholes-Architecture-Sweep' target=\"_blank\">https://wandb.ai/tobiassafie-drexel-university/Black-Scholes-Architecture-Sweep</a><br>Synced 5 W&B file(s), 0 media file(s), 0 artifact file(s) and 0 other file(s)"
      ],
      "text/plain": [
       "<IPython.core.display.HTML object>"
      ]
     },
     "metadata": {},
     "output_type": "display_data"
    },
    {
     "data": {
      "text/html": [
       "Find logs at: <code>.\\wandb\\run-20250715_212427-8iqztt4m\\logs</code>"
      ],
      "text/plain": [
       "<IPython.core.display.HTML object>"
      ]
     },
     "metadata": {},
     "output_type": "display_data"
    },
    {
     "name": "stderr",
     "output_type": "stream",
     "text": [
      "wandb: Agent Starting Run: bddtzxrv with config:\n",
      "wandb: \tactivation: relu\n",
      "wandb: \tbc_weight_scale: 0.17432197256539922\n",
      "wandb: \thidden_layers: 6\n",
      "wandb: \tic_weight_scale: 0.3743040365636722\n",
      "wandb: \tinit_method: xavier\n",
      "wandb: \tinitial_lr: 0.005\n",
      "wandb: \tneurons_per_layer: 32\n",
      "wandb: \tpde_weight_scale: 9.366002206217289\n"
     ]
    },
    {
     "data": {
      "text/html": [
       "Tracking run with wandb version 0.21.0"
      ],
      "text/plain": [
       "<IPython.core.display.HTML object>"
      ]
     },
     "metadata": {},
     "output_type": "display_data"
    },
    {
     "data": {
      "text/html": [
       "Run data is saved locally in <code>c:\\Users\\tobys\\Desktop\\STAR\\dev_notebooks\\black_scholes\\sweep\\wandb\\run-20250715_212518-bddtzxrv</code>"
      ],
      "text/plain": [
       "<IPython.core.display.HTML object>"
      ]
     },
     "metadata": {},
     "output_type": "display_data"
    },
    {
     "data": {
      "text/html": [
       "Syncing run <strong><a href='https://wandb.ai/tobiassafie-drexel-university/Black-Scholes-Architecture-Sweep/runs/bddtzxrv' target=\"_blank\">eager-sweep-2</a></strong> to <a href='https://wandb.ai/tobiassafie-drexel-university/Black-Scholes-Architecture-Sweep' target=\"_blank\">Weights & Biases</a> (<a href='https://wandb.me/developer-guide' target=\"_blank\">docs</a>)<br>Sweep page: <a href='https://wandb.ai/tobiassafie-drexel-university/Black-Scholes-Architecture-Sweep/sweeps/ie5y2esn' target=\"_blank\">https://wandb.ai/tobiassafie-drexel-university/Black-Scholes-Architecture-Sweep/sweeps/ie5y2esn</a>"
      ],
      "text/plain": [
       "<IPython.core.display.HTML object>"
      ]
     },
     "metadata": {},
     "output_type": "display_data"
    },
    {
     "data": {
      "text/html": [
       " View project at <a href='https://wandb.ai/tobiassafie-drexel-university/Black-Scholes-Architecture-Sweep' target=\"_blank\">https://wandb.ai/tobiassafie-drexel-university/Black-Scholes-Architecture-Sweep</a>"
      ],
      "text/plain": [
       "<IPython.core.display.HTML object>"
      ]
     },
     "metadata": {},
     "output_type": "display_data"
    },
    {
     "data": {
      "text/html": [
       " View sweep at <a href='https://wandb.ai/tobiassafie-drexel-university/Black-Scholes-Architecture-Sweep/sweeps/ie5y2esn' target=\"_blank\">https://wandb.ai/tobiassafie-drexel-university/Black-Scholes-Architecture-Sweep/sweeps/ie5y2esn</a>"
      ],
      "text/plain": [
       "<IPython.core.display.HTML object>"
      ]
     },
     "metadata": {},
     "output_type": "display_data"
    },
    {
     "data": {
      "text/html": [
       " View run at <a href='https://wandb.ai/tobiassafie-drexel-university/Black-Scholes-Architecture-Sweep/runs/bddtzxrv' target=\"_blank\">https://wandb.ai/tobiassafie-drexel-university/Black-Scholes-Architecture-Sweep/runs/bddtzxrv</a>"
      ],
      "text/plain": [
       "<IPython.core.display.HTML object>"
      ]
     },
     "metadata": {},
     "output_type": "display_data"
    },
    {
     "name": "stdout",
     "output_type": "stream",
     "text": [
      "[0] Total: 5064.65527, PDE: 0.00003, BC: 20659.70508, IC: 3909.16064\n",
      "[500] Total: 14.73156, PDE: 0.03975, BC: 8.67912, IC: 34.32058\n",
      "[1000] Total: 2.56679, PDE: 0.02486, BC: 0.04652, IC: 6.21391\n",
      "[1500] Total: 0.75609, PDE: 0.00764, BC: 0.90098, IC: 1.40910\n",
      "[2000] Total: 0.67091, PDE: 0.00327, BC: 0.81204, IC: 1.33239\n",
      "[2500] Total: 1.43748, PDE: 0.00585, BC: 0.54219, IC: 3.44145\n",
      "[3000] Total: 0.61003, PDE: 0.00373, BC: 0.32967, IC: 1.38295\n",
      "[3500] Total: 3.25212, PDE: 0.00334, BC: 14.43818, IC: 1.88065\n",
      "[4000] Total: 0.57364, PDE: 0.00162, BC: 0.58429, IC: 1.21990\n",
      "[4500] Total: 0.61079, PDE: 0.00753, BC: 0.55775, IC: 1.18361\n",
      "[5000] Total: 0.56923, PDE: 0.00394, BC: 0.54368, IC: 1.16901\n",
      "[5500] Total: 0.57302, PDE: 0.00392, BC: 0.55061, IC: 1.17651\n",
      "[6000] Total: 0.56837, PDE: 0.00378, BC: 0.54550, IC: 1.16979\n",
      "[6500] Total: 0.56718, PDE: 0.00332, BC: 0.55113, IC: 1.17557\n",
      "[7000] Total: 0.56585, PDE: 0.00319, BC: 0.55096, IC: 1.17542\n"
     ]
    },
    {
     "data": {
      "text/html": [],
      "text/plain": [
       "<IPython.core.display.HTML object>"
      ]
     },
     "metadata": {},
     "output_type": "display_data"
    },
    {
     "data": {
      "text/html": [
       "<br>    <style><br>        .wandb-row {<br>            display: flex;<br>            flex-direction: row;<br>            flex-wrap: wrap;<br>            justify-content: flex-start;<br>            width: 100%;<br>        }<br>        .wandb-col {<br>            display: flex;<br>            flex-direction: column;<br>            flex-basis: 100%;<br>            flex: 1;<br>            padding: 10px;<br>        }<br>    </style><br><div class=\"wandb-row\"><div class=\"wandb-col\"><h3>Run history:</h3><br/><table class=\"wandb\"><tr><td>bc_loss</td><td>▃█▁▁▁▁▁▁▁▁▁▁▁▂▁▁▁▁▁▁▂▁▁▁▁▁▁▁▁▁▁▁▁▁▁▁▁▁▁▁</td></tr><tr><td>epoch</td><td>▁▁▁▁▁▂▂▂▂▃▃▃▄▄▄▄▄▅▅▅▅▅▅▅▆▆▆▆▇▇▇▇▇▇▇▇▇▇▇█</td></tr><tr><td>final_total_loss</td><td>▁</td></tr><tr><td>ic_loss</td><td>█▁▁▁▁▁▁▁▁▁▁▁▁▁▁▁▁▁▁▁▁▁▁▁▁▁▁▁▁▁▁▁▁▁▁▁▁▁▁▁</td></tr><tr><td>learning_rate</td><td>██████████▄▄▄▄▄▄▄▄▄▄▄▄▄▃▃▂▂▂▂▂▁▁▁▁▁▁▁▁▁▁</td></tr><tr><td>pde_loss</td><td>██▄▂▃▂▂▂▂▂▁▁▁▁▁▂▁▂▁▁▁▂▁▁▂▁▂▁▂▁▂▂▁▁▁▁▁▁▁▁</td></tr><tr><td>total_loss</td><td>▆█▃▁▁▁▁▁▁▁▁▁▁▁▁▁▁▁▁▁▁▁▁▁▁▁▁▁▁▁▁▁▁▁▁▁▁▁▁▁</td></tr></table><br/></div><div class=\"wandb-col\"><h3>Run summary:</h3><br/><table class=\"wandb\"><tr><td>bc_loss</td><td>0.55054</td></tr><tr><td>epoch</td><td>7499</td></tr><tr><td>final_total_loss</td><td>0.5647</td></tr><tr><td>ic_loss</td><td>1.1748</td></tr><tr><td>learning_rate</td><td>0.0</td></tr><tr><td>pde_loss</td><td>0.0031</td></tr><tr><td>total_loss</td><td>0.5647</td></tr></table><br/></div></div>"
      ],
      "text/plain": [
       "<IPython.core.display.HTML object>"
      ]
     },
     "metadata": {},
     "output_type": "display_data"
    },
    {
     "data": {
      "text/html": [
       " View run <strong style=\"color:#cdcd00\">eager-sweep-2</strong> at: <a href='https://wandb.ai/tobiassafie-drexel-university/Black-Scholes-Architecture-Sweep/runs/bddtzxrv' target=\"_blank\">https://wandb.ai/tobiassafie-drexel-university/Black-Scholes-Architecture-Sweep/runs/bddtzxrv</a><br> View project at: <a href='https://wandb.ai/tobiassafie-drexel-university/Black-Scholes-Architecture-Sweep' target=\"_blank\">https://wandb.ai/tobiassafie-drexel-university/Black-Scholes-Architecture-Sweep</a><br>Synced 5 W&B file(s), 0 media file(s), 0 artifact file(s) and 0 other file(s)"
      ],
      "text/plain": [
       "<IPython.core.display.HTML object>"
      ]
     },
     "metadata": {},
     "output_type": "display_data"
    },
    {
     "data": {
      "text/html": [
       "Find logs at: <code>.\\wandb\\run-20250715_212518-bddtzxrv\\logs</code>"
      ],
      "text/plain": [
       "<IPython.core.display.HTML object>"
      ]
     },
     "metadata": {},
     "output_type": "display_data"
    },
    {
     "name": "stderr",
     "output_type": "stream",
     "text": [
      "wandb: Agent Starting Run: q6zxkkyu with config:\n",
      "wandb: \tactivation: relu\n",
      "wandb: \tbc_weight_scale: 0.7717061299293331\n",
      "wandb: \thidden_layers: 6\n",
      "wandb: \tic_weight_scale: 0.057363040580818904\n",
      "wandb: \tinit_method: xavier\n",
      "wandb: \tinitial_lr: 0.005\n",
      "wandb: \tneurons_per_layer: 32\n",
      "wandb: \tpde_weight_scale: 7.906436041561116\n"
     ]
    },
    {
     "data": {
      "text/html": [
       "Tracking run with wandb version 0.21.0"
      ],
      "text/plain": [
       "<IPython.core.display.HTML object>"
      ]
     },
     "metadata": {},
     "output_type": "display_data"
    },
    {
     "data": {
      "text/html": [
       "Run data is saved locally in <code>c:\\Users\\tobys\\Desktop\\STAR\\dev_notebooks\\black_scholes\\sweep\\wandb\\run-20250715_212615-q6zxkkyu</code>"
      ],
      "text/plain": [
       "<IPython.core.display.HTML object>"
      ]
     },
     "metadata": {},
     "output_type": "display_data"
    },
    {
     "data": {
      "text/html": [
       "Syncing run <strong><a href='https://wandb.ai/tobiassafie-drexel-university/Black-Scholes-Architecture-Sweep/runs/q6zxkkyu' target=\"_blank\">gentle-sweep-3</a></strong> to <a href='https://wandb.ai/tobiassafie-drexel-university/Black-Scholes-Architecture-Sweep' target=\"_blank\">Weights & Biases</a> (<a href='https://wandb.me/developer-guide' target=\"_blank\">docs</a>)<br>Sweep page: <a href='https://wandb.ai/tobiassafie-drexel-university/Black-Scholes-Architecture-Sweep/sweeps/ie5y2esn' target=\"_blank\">https://wandb.ai/tobiassafie-drexel-university/Black-Scholes-Architecture-Sweep/sweeps/ie5y2esn</a>"
      ],
      "text/plain": [
       "<IPython.core.display.HTML object>"
      ]
     },
     "metadata": {},
     "output_type": "display_data"
    },
    {
     "data": {
      "text/html": [
       " View project at <a href='https://wandb.ai/tobiassafie-drexel-university/Black-Scholes-Architecture-Sweep' target=\"_blank\">https://wandb.ai/tobiassafie-drexel-university/Black-Scholes-Architecture-Sweep</a>"
      ],
      "text/plain": [
       "<IPython.core.display.HTML object>"
      ]
     },
     "metadata": {},
     "output_type": "display_data"
    },
    {
     "data": {
      "text/html": [
       " View sweep at <a href='https://wandb.ai/tobiassafie-drexel-university/Black-Scholes-Architecture-Sweep/sweeps/ie5y2esn' target=\"_blank\">https://wandb.ai/tobiassafie-drexel-university/Black-Scholes-Architecture-Sweep/sweeps/ie5y2esn</a>"
      ],
      "text/plain": [
       "<IPython.core.display.HTML object>"
      ]
     },
     "metadata": {},
     "output_type": "display_data"
    },
    {
     "data": {
      "text/html": [
       " View run at <a href='https://wandb.ai/tobiassafie-drexel-university/Black-Scholes-Architecture-Sweep/runs/q6zxkkyu' target=\"_blank\">https://wandb.ai/tobiassafie-drexel-university/Black-Scholes-Architecture-Sweep/runs/q6zxkkyu</a>"
      ],
      "text/plain": [
       "<IPython.core.display.HTML object>"
      ]
     },
     "metadata": {},
     "output_type": "display_data"
    },
    {
     "name": "stdout",
     "output_type": "stream",
     "text": [
      "[0] Total: 17018.74609, PDE: 0.00001, BC: 21744.13867, IC: 4160.54541\n",
      "[500] Total: 67.24261, PDE: 0.00186, BC: 2.93850, IC: 1132.44031\n",
      "[1000] Total: 33.93656, PDE: 0.00475, BC: 1.14032, IC: 575.61450\n",
      "[1500] Total: 12.89182, PDE: 0.01156, BC: 0.82400, IC: 212.06271\n",
      "[2000] Total: 0.27117, PDE: 0.00368, BC: 0.01039, IC: 4.07985\n",
      "[2500] Total: 0.29005, PDE: 0.00176, BC: 0.03949, IC: 4.28285\n",
      "[3000] Total: 0.23611, PDE: 0.00123, BC: 0.04953, IC: 3.28069\n",
      "[3500] Total: 0.23877, PDE: 0.00261, BC: 0.04832, IC: 3.15212\n",
      "[4000] Total: 0.35056, PDE: 0.00195, BC: 0.15232, IC: 3.79335\n",
      "[4500] Total: 0.16598, PDE: 0.00180, BC: 0.00908, IC: 2.52363\n",
      "[5000] Total: 0.16318, PDE: 0.00153, BC: 0.00905, IC: 2.51140\n",
      "[5500] Total: 0.20038, PDE: 0.00131, BC: 0.01553, IC: 3.10418\n",
      "[6000] Total: 0.16082, PDE: 0.00141, BC: 0.00901, IC: 2.48745\n",
      "[6500] Total: 0.15956, PDE: 0.00134, BC: 0.00896, IC: 2.47631\n",
      "[7000] Total: 0.15943, PDE: 0.00143, BC: 0.00894, IC: 2.46195\n"
     ]
    },
    {
     "data": {
      "text/html": [],
      "text/plain": [
       "<IPython.core.display.HTML object>"
      ]
     },
     "metadata": {},
     "output_type": "display_data"
    },
    {
     "data": {
      "text/html": [
       "<br>    <style><br>        .wandb-row {<br>            display: flex;<br>            flex-direction: row;<br>            flex-wrap: wrap;<br>            justify-content: flex-start;<br>            width: 100%;<br>        }<br>        .wandb-col {<br>            display: flex;<br>            flex-direction: column;<br>            flex-basis: 100%;<br>            flex: 1;<br>            padding: 10px;<br>        }<br>    </style><br><div class=\"wandb-row\"><div class=\"wandb-col\"><h3>Run history:</h3><br/><table class=\"wandb\"><tr><td>bc_loss</td><td>▅█▇▇▇▄▅▆▅▅█▅▁▁▁▁▁▁▂▁▁▁▂▁▁▁▁▁▁▁▁▁▁▁▁▁▁▁▁▁</td></tr><tr><td>epoch</td><td>▁▁▁▁▂▂▂▂▂▂▂▂▂▃▃▃▃▃▄▄▄▄▅▅▅▅▅▆▆▆▇▇▇▇▇█████</td></tr><tr><td>final_total_loss</td><td>▁</td></tr><tr><td>ic_loss</td><td>▅▇███▇▅▅▄▁▁▁▁▁▁▁▁▁▁▁▁▁▁▁▁▁▁▁▁▁▁▁▁▁▁▁▁▁▁▁</td></tr><tr><td>learning_rate</td><td>██████▄▄▄▄▃▃▂▂▂▂▂▂▂▂▂▂▂▂▂▂▂▁▁▁▁▁▁▁▁▁▁▁▁▁</td></tr><tr><td>pde_loss</td><td>█▁▁▂▃▂▃▃▃▄▃▃▃▂▂▂▂▁▂▂▂▂▂▂▂▂▂▂▂▂▂▂▂▂▂▂▂▂▂▂</td></tr><tr><td>total_loss</td><td>█▁▁▁▁▁▁▁▁▁▁▁▁▁▁▁▁▁▁▁▁▁▁▁▁▁▁▁▁▁▁▁▁▁▁▁▁▁▁▁</td></tr></table><br/></div><div class=\"wandb-col\"><h3>Run summary:</h3><br/><table class=\"wandb\"><tr><td>bc_loss</td><td>0.00873</td></tr><tr><td>epoch</td><td>7499</td></tr><tr><td>final_total_loss</td><td>0.15855</td></tr><tr><td>ic_loss</td><td>2.45337</td></tr><tr><td>learning_rate</td><td>8e-05</td></tr><tr><td>pde_loss</td><td>0.0014</td></tr><tr><td>total_loss</td><td>0.15855</td></tr></table><br/></div></div>"
      ],
      "text/plain": [
       "<IPython.core.display.HTML object>"
      ]
     },
     "metadata": {},
     "output_type": "display_data"
    },
    {
     "data": {
      "text/html": [
       " View run <strong style=\"color:#cdcd00\">gentle-sweep-3</strong> at: <a href='https://wandb.ai/tobiassafie-drexel-university/Black-Scholes-Architecture-Sweep/runs/q6zxkkyu' target=\"_blank\">https://wandb.ai/tobiassafie-drexel-university/Black-Scholes-Architecture-Sweep/runs/q6zxkkyu</a><br> View project at: <a href='https://wandb.ai/tobiassafie-drexel-university/Black-Scholes-Architecture-Sweep' target=\"_blank\">https://wandb.ai/tobiassafie-drexel-university/Black-Scholes-Architecture-Sweep</a><br>Synced 5 W&B file(s), 0 media file(s), 0 artifact file(s) and 0 other file(s)"
      ],
      "text/plain": [
       "<IPython.core.display.HTML object>"
      ]
     },
     "metadata": {},
     "output_type": "display_data"
    },
    {
     "data": {
      "text/html": [
       "Find logs at: <code>.\\wandb\\run-20250715_212615-q6zxkkyu\\logs</code>"
      ],
      "text/plain": [
       "<IPython.core.display.HTML object>"
      ]
     },
     "metadata": {},
     "output_type": "display_data"
    },
    {
     "name": "stderr",
     "output_type": "stream",
     "text": [
      "wandb: Agent Starting Run: 17vex4ti with config:\n",
      "wandb: \tactivation: relu\n",
      "wandb: \tbc_weight_scale: 0.6377644286837456\n",
      "wandb: \thidden_layers: 6\n",
      "wandb: \tic_weight_scale: 2.1224772755362253\n",
      "wandb: \tinit_method: xavier\n",
      "wandb: \tinitial_lr: 0.005\n",
      "wandb: \tneurons_per_layer: 32\n",
      "wandb: \tpde_weight_scale: 5.664296495829101\n"
     ]
    },
    {
     "data": {
      "text/html": [
       "Tracking run with wandb version 0.21.0"
      ],
      "text/plain": [
       "<IPython.core.display.HTML object>"
      ]
     },
     "metadata": {},
     "output_type": "display_data"
    },
    {
     "data": {
      "text/html": [
       "Run data is saved locally in <code>c:\\Users\\tobys\\Desktop\\STAR\\dev_notebooks\\black_scholes\\sweep\\wandb\\run-20250715_212707-17vex4ti</code>"
      ],
      "text/plain": [
       "<IPython.core.display.HTML object>"
      ]
     },
     "metadata": {},
     "output_type": "display_data"
    },
    {
     "data": {
      "text/html": [
       "Syncing run <strong><a href='https://wandb.ai/tobiassafie-drexel-university/Black-Scholes-Architecture-Sweep/runs/17vex4ti' target=\"_blank\">crisp-sweep-4</a></strong> to <a href='https://wandb.ai/tobiassafie-drexel-university/Black-Scholes-Architecture-Sweep' target=\"_blank\">Weights & Biases</a> (<a href='https://wandb.me/developer-guide' target=\"_blank\">docs</a>)<br>Sweep page: <a href='https://wandb.ai/tobiassafie-drexel-university/Black-Scholes-Architecture-Sweep/sweeps/ie5y2esn' target=\"_blank\">https://wandb.ai/tobiassafie-drexel-university/Black-Scholes-Architecture-Sweep/sweeps/ie5y2esn</a>"
      ],
      "text/plain": [
       "<IPython.core.display.HTML object>"
      ]
     },
     "metadata": {},
     "output_type": "display_data"
    },
    {
     "data": {
      "text/html": [
       " View project at <a href='https://wandb.ai/tobiassafie-drexel-university/Black-Scholes-Architecture-Sweep' target=\"_blank\">https://wandb.ai/tobiassafie-drexel-university/Black-Scholes-Architecture-Sweep</a>"
      ],
      "text/plain": [
       "<IPython.core.display.HTML object>"
      ]
     },
     "metadata": {},
     "output_type": "display_data"
    },
    {
     "data": {
      "text/html": [
       " View sweep at <a href='https://wandb.ai/tobiassafie-drexel-university/Black-Scholes-Architecture-Sweep/sweeps/ie5y2esn' target=\"_blank\">https://wandb.ai/tobiassafie-drexel-university/Black-Scholes-Architecture-Sweep/sweeps/ie5y2esn</a>"
      ],
      "text/plain": [
       "<IPython.core.display.HTML object>"
      ]
     },
     "metadata": {},
     "output_type": "display_data"
    },
    {
     "data": {
      "text/html": [
       " View run at <a href='https://wandb.ai/tobiassafie-drexel-university/Black-Scholes-Architecture-Sweep/runs/17vex4ti' target=\"_blank\">https://wandb.ai/tobiassafie-drexel-university/Black-Scholes-Architecture-Sweep/runs/17vex4ti</a>"
      ],
      "text/plain": [
       "<IPython.core.display.HTML object>"
      ]
     },
     "metadata": {},
     "output_type": "display_data"
    },
    {
     "name": "stdout",
     "output_type": "stream",
     "text": [
      "[0] Total: 22459.82422, PDE: 0.00002, BC: 21533.38281, IC: 4111.51465\n",
      "[500] Total: 9.18302, PDE: 0.03315, BC: 11.32180, IC: 0.83609\n",
      "[1000] Total: 4.79958, PDE: 0.01851, BC: 3.03162, IC: 1.30096\n",
      "[1500] Total: 4.06521, PDE: 0.02105, BC: 2.05872, IC: 1.24052\n",
      "[2000] Total: 3.39239, PDE: 0.03043, BC: 1.46793, IC: 1.07601\n",
      "[2500] Total: 7.26392, PDE: 0.05238, BC: 0.01013, IC: 3.27954\n",
      "[3000] Total: 3.25052, PDE: 0.03903, BC: 1.30486, IC: 1.03523\n",
      "[3500] Total: 3.17949, PDE: 0.04002, BC: 1.23368, IC: 1.02051\n",
      "[4000] Total: 5.38458, PDE: 0.03362, BC: 6.07640, IC: 0.62136\n",
      "[4500] Total: 11.68458, PDE: 0.03251, BC: 14.39944, IC: 1.09165\n",
      "[5000] Total: 3.27086, PDE: 0.03574, BC: 2.41377, IC: 0.72039\n",
      "[5500] Total: 6.21597, PDE: 0.02665, BC: 0.52716, IC: 2.69910\n",
      "[6000] Total: 3.00725, PDE: 0.03543, BC: 0.54786, IC: 1.15767\n",
      "[6500] Total: 3.14288, PDE: 0.02104, BC: 0.25474, IC: 1.34807\n",
      "[7000] Total: 3.61078, PDE: 0.04773, BC: 2.94126, IC: 0.69003\n"
     ]
    },
    {
     "data": {
      "text/html": [],
      "text/plain": [
       "<IPython.core.display.HTML object>"
      ]
     },
     "metadata": {},
     "output_type": "display_data"
    },
    {
     "data": {
      "text/html": [
       "<br>    <style><br>        .wandb-row {<br>            display: flex;<br>            flex-direction: row;<br>            flex-wrap: wrap;<br>            justify-content: flex-start;<br>            width: 100%;<br>        }<br>        .wandb-col {<br>            display: flex;<br>            flex-direction: column;<br>            flex-basis: 100%;<br>            flex: 1;<br>            padding: 10px;<br>        }<br>    </style><br><div class=\"wandb-row\"><div class=\"wandb-col\"><h3>Run history:</h3><br/><table class=\"wandb\"><tr><td>bc_loss</td><td>▄█▆▁▁▁▁▁▁▁▁▁▁▁▁▁▁▁▁▁▁▁▁▁▁▁▁▁▁▁▁▁▁▁▁▁▁▁▁▁</td></tr><tr><td>epoch</td><td>▁▁▁▁▁▂▂▂▂▃▃▃▃▃▃▄▄▄▄▄▅▅▅▅▅▆▆▆▆▆▆▇▇▇▇▇████</td></tr><tr><td>final_total_loss</td><td>▁</td></tr><tr><td>ic_loss</td><td>█▁▁▁▁▁▁▁▁▁▁▁▁▁▁▁▁▁▁▁▁▁▁▁▁▁▁▁▁▁▁▁▁▁▁▁▁▁▁▁</td></tr><tr><td>learning_rate</td><td>█████▄▄▄▄▄▂▂▂▂▂▂▂▂▂▂▂▂▂▂▂▂▂▂▂▂▂▂▂▂▂▂▂▂▂▁</td></tr><tr><td>pde_loss</td><td>▁█▁▁▁▁▁▁▁▁▁▁▁▁▁▁▁▁▁▁▁▁▁▁▁▁▁▁▁▁▁▁▁▁▁▁▁▁▁▁</td></tr><tr><td>total_loss</td><td>▇▃▃▂▂▄▂▁▁▁▁▃▅▂▁█▃▂▄▁▁▁▂▂▂▂▃▁▅▃▁▃▁▁▄▁▁▁▁▁</td></tr></table><br/></div><div class=\"wandb-col\"><h3>Run summary:</h3><br/><table class=\"wandb\"><tr><td>bc_loss</td><td>0.90516</td></tr><tr><td>epoch</td><td>7499</td></tr><tr><td>final_total_loss</td><td>2.73609</td></tr><tr><td>ic_loss</td><td>0.92103</td></tr><tr><td>learning_rate</td><td>0.00063</td></tr><tr><td>pde_loss</td><td>0.036</td></tr><tr><td>total_loss</td><td>2.73609</td></tr></table><br/></div></div>"
      ],
      "text/plain": [
       "<IPython.core.display.HTML object>"
      ]
     },
     "metadata": {},
     "output_type": "display_data"
    },
    {
     "data": {
      "text/html": [
       " View run <strong style=\"color:#cdcd00\">crisp-sweep-4</strong> at: <a href='https://wandb.ai/tobiassafie-drexel-university/Black-Scholes-Architecture-Sweep/runs/17vex4ti' target=\"_blank\">https://wandb.ai/tobiassafie-drexel-university/Black-Scholes-Architecture-Sweep/runs/17vex4ti</a><br> View project at: <a href='https://wandb.ai/tobiassafie-drexel-university/Black-Scholes-Architecture-Sweep' target=\"_blank\">https://wandb.ai/tobiassafie-drexel-university/Black-Scholes-Architecture-Sweep</a><br>Synced 5 W&B file(s), 0 media file(s), 0 artifact file(s) and 0 other file(s)"
      ],
      "text/plain": [
       "<IPython.core.display.HTML object>"
      ]
     },
     "metadata": {},
     "output_type": "display_data"
    },
    {
     "data": {
      "text/html": [
       "Find logs at: <code>.\\wandb\\run-20250715_212707-17vex4ti\\logs</code>"
      ],
      "text/plain": [
       "<IPython.core.display.HTML object>"
      ]
     },
     "metadata": {},
     "output_type": "display_data"
    },
    {
     "name": "stderr",
     "output_type": "stream",
     "text": [
      "wandb: Agent Starting Run: uh53hfg3 with config:\n",
      "wandb: \tactivation: relu\n",
      "wandb: \tbc_weight_scale: 1.641443445362633\n",
      "wandb: \thidden_layers: 6\n",
      "wandb: \tic_weight_scale: 0.05283658444962415\n",
      "wandb: \tinit_method: xavier\n",
      "wandb: \tinitial_lr: 0.005\n",
      "wandb: \tneurons_per_layer: 32\n",
      "wandb: \tpde_weight_scale: 9.09721662852388\n"
     ]
    },
    {
     "data": {
      "text/html": [
       "Tracking run with wandb version 0.21.0"
      ],
      "text/plain": [
       "<IPython.core.display.HTML object>"
      ]
     },
     "metadata": {},
     "output_type": "display_data"
    },
    {
     "data": {
      "text/html": [
       "Run data is saved locally in <code>c:\\Users\\tobys\\Desktop\\STAR\\dev_notebooks\\black_scholes\\sweep\\wandb\\run-20250715_212753-uh53hfg3</code>"
      ],
      "text/plain": [
       "<IPython.core.display.HTML object>"
      ]
     },
     "metadata": {},
     "output_type": "display_data"
    },
    {
     "data": {
      "text/html": [
       "Syncing run <strong><a href='https://wandb.ai/tobiassafie-drexel-university/Black-Scholes-Architecture-Sweep/runs/uh53hfg3' target=\"_blank\">sleek-sweep-5</a></strong> to <a href='https://wandb.ai/tobiassafie-drexel-university/Black-Scholes-Architecture-Sweep' target=\"_blank\">Weights & Biases</a> (<a href='https://wandb.me/developer-guide' target=\"_blank\">docs</a>)<br>Sweep page: <a href='https://wandb.ai/tobiassafie-drexel-university/Black-Scholes-Architecture-Sweep/sweeps/ie5y2esn' target=\"_blank\">https://wandb.ai/tobiassafie-drexel-university/Black-Scholes-Architecture-Sweep/sweeps/ie5y2esn</a>"
      ],
      "text/plain": [
       "<IPython.core.display.HTML object>"
      ]
     },
     "metadata": {},
     "output_type": "display_data"
    },
    {
     "data": {
      "text/html": [
       " View project at <a href='https://wandb.ai/tobiassafie-drexel-university/Black-Scholes-Architecture-Sweep' target=\"_blank\">https://wandb.ai/tobiassafie-drexel-university/Black-Scholes-Architecture-Sweep</a>"
      ],
      "text/plain": [
       "<IPython.core.display.HTML object>"
      ]
     },
     "metadata": {},
     "output_type": "display_data"
    },
    {
     "data": {
      "text/html": [
       " View sweep at <a href='https://wandb.ai/tobiassafie-drexel-university/Black-Scholes-Architecture-Sweep/sweeps/ie5y2esn' target=\"_blank\">https://wandb.ai/tobiassafie-drexel-university/Black-Scholes-Architecture-Sweep/sweeps/ie5y2esn</a>"
      ],
      "text/plain": [
       "<IPython.core.display.HTML object>"
      ]
     },
     "metadata": {},
     "output_type": "display_data"
    },
    {
     "data": {
      "text/html": [
       " View run at <a href='https://wandb.ai/tobiassafie-drexel-university/Black-Scholes-Architecture-Sweep/runs/uh53hfg3' target=\"_blank\">https://wandb.ai/tobiassafie-drexel-university/Black-Scholes-Architecture-Sweep/runs/uh53hfg3</a>"
      ],
      "text/plain": [
       "<IPython.core.display.HTML object>"
      ]
     },
     "metadata": {},
     "output_type": "display_data"
    },
    {
     "name": "stdout",
     "output_type": "stream",
     "text": [
      "[0] Total: 43889.01172, PDE: 0.00002, BC: 26567.13281, IC: 5310.09570\n",
      "[500] Total: 51.68501, PDE: 0.00204, BC: 1.77761, IC: 922.62970\n",
      "[1000] Total: 24.13646, PDE: 0.00223, BC: 0.83442, IC: 430.50772\n",
      "[1500] Total: 5.55204, PDE: 0.00288, BC: 0.46862, IC: 90.02438\n",
      "[2000] Total: 2.86126, PDE: 0.00231, BC: 0.18794, IC: 47.91640\n",
      "[2500] Total: 0.70349, PDE: 0.00211, BC: 0.09003, IC: 10.15483\n",
      "[3000] Total: 1.38189, PDE: 0.00147, BC: 0.10287, IC: 22.70469\n",
      "[3500] Total: 0.18390, PDE: 0.00124, BC: 0.01189, IC: 2.89722\n",
      "[4000] Total: 0.14805, PDE: 0.00103, BC: 0.01214, IC: 2.24809\n",
      "[4500] Total: 0.65580, PDE: 0.00118, BC: 0.13019, IC: 8.16332\n",
      "[5000] Total: 0.14374, PDE: 0.00077, BC: 0.01260, IC: 2.19571\n",
      "[5500] Total: 0.14262, PDE: 0.00072, BC: 0.01257, IC: 2.18479\n",
      "[6000] Total: 0.14130, PDE: 0.00066, BC: 0.01249, IC: 2.17302\n",
      "[6500] Total: 0.13994, PDE: 0.00063, BC: 0.01249, IC: 2.15263\n",
      "[7000] Total: 0.13933, PDE: 0.00062, BC: 0.01235, IC: 2.14634\n"
     ]
    },
    {
     "data": {
      "text/html": [],
      "text/plain": [
       "<IPython.core.display.HTML object>"
      ]
     },
     "metadata": {},
     "output_type": "display_data"
    },
    {
     "data": {
      "text/html": [
       "<br>    <style><br>        .wandb-row {<br>            display: flex;<br>            flex-direction: row;<br>            flex-wrap: wrap;<br>            justify-content: flex-start;<br>            width: 100%;<br>        }<br>        .wandb-col {<br>            display: flex;<br>            flex-direction: column;<br>            flex-basis: 100%;<br>            flex: 1;<br>            padding: 10px;<br>        }<br>    </style><br><div class=\"wandb-row\"><div class=\"wandb-col\"><h3>Run history:</h3><br/><table class=\"wandb\"><tr><td>bc_loss</td><td>█▁▁▁▁▁▁▁▁▁▁▁▁▁▁▁▁▁▁▁▁▁▁▁▁▁▁▁▁▁▁▁▁▁▁▁▁▁▁▁</td></tr><tr><td>epoch</td><td>▁▁▁▁▁▂▂▂▂▃▃▃▃▃▄▄▄▄▄▄▄▅▅▅▅▅▅▅▆▆▇▇▇▇▇▇▇███</td></tr><tr><td>final_total_loss</td><td>▁</td></tr><tr><td>ic_loss</td><td>▇██▆▆▅▅▂▂▁▁▁▁▁▁▁▁▁▁▁▁▁▁▁▁▁▁▁▁▁▁▁▁▁▁▁▁▁▁▁</td></tr><tr><td>learning_rate</td><td>█████▄▄▄▄▄▄▄▄▄▄▃▃▃▃▃▂▂▂▂▂▂▁▁▁▁▁▁▁▁▁▁▁▁▁▁</td></tr><tr><td>pde_loss</td><td>▂▂▃▃▃▇▂▂█▂▇▇▆▄▄▃▂▂▄▂▂▂▁▁▁▁▂▂▁▁▁▁▁▁▁▁▁▁▁▁</td></tr><tr><td>total_loss</td><td>▄▄▄▄▃▃▃▂▂▇█▂▂▁▂▁▁▁▁▁▁▁▁▁▁▁▁▁▁▁▁▁▁▁▁▁▁▁▁▁</td></tr></table><br/></div><div class=\"wandb-col\"><h3>Run summary:</h3><br/><table class=\"wandb\"><tr><td>bc_loss</td><td>0.01218</td></tr><tr><td>epoch</td><td>7499</td></tr><tr><td>final_total_loss</td><td>0.13859</td></tr><tr><td>ic_loss</td><td>2.13873</td></tr><tr><td>learning_rate</td><td>0.00016</td></tr><tr><td>pde_loss</td><td>0.00061</td></tr><tr><td>total_loss</td><td>0.13859</td></tr></table><br/></div></div>"
      ],
      "text/plain": [
       "<IPython.core.display.HTML object>"
      ]
     },
     "metadata": {},
     "output_type": "display_data"
    },
    {
     "data": {
      "text/html": [
       " View run <strong style=\"color:#cdcd00\">sleek-sweep-5</strong> at: <a href='https://wandb.ai/tobiassafie-drexel-university/Black-Scholes-Architecture-Sweep/runs/uh53hfg3' target=\"_blank\">https://wandb.ai/tobiassafie-drexel-university/Black-Scholes-Architecture-Sweep/runs/uh53hfg3</a><br> View project at: <a href='https://wandb.ai/tobiassafie-drexel-university/Black-Scholes-Architecture-Sweep' target=\"_blank\">https://wandb.ai/tobiassafie-drexel-university/Black-Scholes-Architecture-Sweep</a><br>Synced 5 W&B file(s), 0 media file(s), 0 artifact file(s) and 0 other file(s)"
      ],
      "text/plain": [
       "<IPython.core.display.HTML object>"
      ]
     },
     "metadata": {},
     "output_type": "display_data"
    },
    {
     "data": {
      "text/html": [
       "Find logs at: <code>.\\wandb\\run-20250715_212753-uh53hfg3\\logs</code>"
      ],
      "text/plain": [
       "<IPython.core.display.HTML object>"
      ]
     },
     "metadata": {},
     "output_type": "display_data"
    },
    {
     "name": "stderr",
     "output_type": "stream",
     "text": [
      "wandb: Agent Starting Run: l83qt1mo with config:\n",
      "wandb: \tactivation: relu\n",
      "wandb: \tbc_weight_scale: 2.025041466816032\n",
      "wandb: \thidden_layers: 6\n",
      "wandb: \tic_weight_scale: 0.051688994878319745\n",
      "wandb: \tinit_method: xavier\n",
      "wandb: \tinitial_lr: 0.005\n",
      "wandb: \tneurons_per_layer: 32\n",
      "wandb: \tpde_weight_scale: 6.546218501408915\n"
     ]
    },
    {
     "data": {
      "text/html": [
       "Tracking run with wandb version 0.21.0"
      ],
      "text/plain": [
       "<IPython.core.display.HTML object>"
      ]
     },
     "metadata": {},
     "output_type": "display_data"
    },
    {
     "data": {
      "text/html": [
       "Run data is saved locally in <code>c:\\Users\\tobys\\Desktop\\STAR\\dev_notebooks\\black_scholes\\sweep\\wandb\\run-20250715_212850-l83qt1mo</code>"
      ],
      "text/plain": [
       "<IPython.core.display.HTML object>"
      ]
     },
     "metadata": {},
     "output_type": "display_data"
    },
    {
     "data": {
      "text/html": [
       "Syncing run <strong><a href='https://wandb.ai/tobiassafie-drexel-university/Black-Scholes-Architecture-Sweep/runs/l83qt1mo' target=\"_blank\">solar-sweep-6</a></strong> to <a href='https://wandb.ai/tobiassafie-drexel-university/Black-Scholes-Architecture-Sweep' target=\"_blank\">Weights & Biases</a> (<a href='https://wandb.me/developer-guide' target=\"_blank\">docs</a>)<br>Sweep page: <a href='https://wandb.ai/tobiassafie-drexel-university/Black-Scholes-Architecture-Sweep/sweeps/ie5y2esn' target=\"_blank\">https://wandb.ai/tobiassafie-drexel-university/Black-Scholes-Architecture-Sweep/sweeps/ie5y2esn</a>"
      ],
      "text/plain": [
       "<IPython.core.display.HTML object>"
      ]
     },
     "metadata": {},
     "output_type": "display_data"
    },
    {
     "data": {
      "text/html": [
       " View project at <a href='https://wandb.ai/tobiassafie-drexel-university/Black-Scholes-Architecture-Sweep' target=\"_blank\">https://wandb.ai/tobiassafie-drexel-university/Black-Scholes-Architecture-Sweep</a>"
      ],
      "text/plain": [
       "<IPython.core.display.HTML object>"
      ]
     },
     "metadata": {},
     "output_type": "display_data"
    },
    {
     "data": {
      "text/html": [
       " View sweep at <a href='https://wandb.ai/tobiassafie-drexel-university/Black-Scholes-Architecture-Sweep/sweeps/ie5y2esn' target=\"_blank\">https://wandb.ai/tobiassafie-drexel-university/Black-Scholes-Architecture-Sweep/sweeps/ie5y2esn</a>"
      ],
      "text/plain": [
       "<IPython.core.display.HTML object>"
      ]
     },
     "metadata": {},
     "output_type": "display_data"
    },
    {
     "data": {
      "text/html": [
       " View run at <a href='https://wandb.ai/tobiassafie-drexel-university/Black-Scholes-Architecture-Sweep/runs/l83qt1mo' target=\"_blank\">https://wandb.ai/tobiassafie-drexel-university/Black-Scholes-Architecture-Sweep/runs/l83qt1mo</a>"
      ],
      "text/plain": [
       "<IPython.core.display.HTML object>"
      ]
     },
     "metadata": {},
     "output_type": "display_data"
    },
    {
     "name": "stdout",
     "output_type": "stream",
     "text": [
      "[0] Total: 54966.69531, PDE: 0.00128, BC: 27005.18359, IC: 5418.31104\n",
      "[500] Total: 62.32901, PDE: 0.00389, BC: 1.85093, IC: 1132.83984\n",
      "[1000] Total: 55.22513, PDE: 0.00475, BC: 1.59703, IC: 1005.24292\n",
      "[1500] Total: 34.60305, PDE: 0.00330, BC: 1.08131, IC: 626.66547\n",
      "[2000] Total: 38.30982, PDE: 0.00493, BC: 1.57676, IC: 678.76300\n",
      "[2500] Total: 27.16259, PDE: 0.00272, BC: 0.85646, IC: 491.60175\n",
      "[3000] Total: 15.25962, PDE: 0.00204, BC: 0.45500, IC: 277.13538\n",
      "[3500] Total: 0.69061, PDE: 0.00208, BC: 0.06975, IC: 10.36506\n",
      "[4000] Total: 0.16470, PDE: 0.00156, BC: 0.02487, IC: 2.01471\n",
      "[4500] Total: 0.15612, PDE: 0.00161, BC: 0.02189, IC: 1.95820\n",
      "[5000] Total: 0.15046, PDE: 0.00150, BC: 0.02022, IC: 1.92816\n",
      "[5500] Total: 0.14432, PDE: 0.00144, BC: 0.01808, IC: 1.90131\n",
      "[6000] Total: 0.13752, PDE: 0.00140, BC: 0.01560, IC: 1.87187\n",
      "[6500] Total: 0.16202, PDE: 0.00141, BC: 0.02500, IC: 1.97593\n",
      "[7000] Total: 0.17835, PDE: 0.00144, BC: 0.04064, IC: 1.67638\n"
     ]
    },
    {
     "data": {
      "text/html": [],
      "text/plain": [
       "<IPython.core.display.HTML object>"
      ]
     },
     "metadata": {},
     "output_type": "display_data"
    },
    {
     "data": {
      "text/html": [
       "<br>    <style><br>        .wandb-row {<br>            display: flex;<br>            flex-direction: row;<br>            flex-wrap: wrap;<br>            justify-content: flex-start;<br>            width: 100%;<br>        }<br>        .wandb-col {<br>            display: flex;<br>            flex-direction: column;<br>            flex-basis: 100%;<br>            flex: 1;<br>            padding: 10px;<br>        }<br>    </style><br><div class=\"wandb-row\"><div class=\"wandb-col\"><h3>Run history:</h3><br/><table class=\"wandb\"><tr><td>bc_loss</td><td>█▇▆▆▅▅▄▄▄▃▃▂▂▂▂▁▁▁▁▁▁▁▁▁▁▁▁▁▁▁▁▁▁▁▁▁▁▁▁▁</td></tr><tr><td>epoch</td><td>▁▁▁▂▂▂▂▂▂▃▃▃▃▃▄▄▄▄▄▄▅▅▅▅▆▆▆▆▆▆▆▇▇▇▇▇▇▇██</td></tr><tr><td>final_total_loss</td><td>▁</td></tr><tr><td>ic_loss</td><td>███▇▇▆▆▅▄▅▅▄▄▄▄▁▁▁▁▁▁▁▁▁▁▁▁▁▁▁▁▁▁▁▁▁▁▁▁▁</td></tr><tr><td>learning_rate</td><td>█████▄▄▄▄▄▃▃▂▂▂▁▁▁▁▁▁▁▁▁▁▁▁▁▁▁▁▁▁▁▁▁▁▁▁▁</td></tr><tr><td>pde_loss</td><td>█▁▁▂▁▂▁▁▁▁▁▁▁▁▁▁▁▁▁▁▁▁▁▁▁▁▁▁▁▁▁▁▁▁▁▁▁▁▁▁</td></tr><tr><td>total_loss</td><td>█▇▇▇▆▆▆▆▅▄▅▄▄▄▄▃▃▃▃▂▁▁▁▁▁▁▁▁▁▁▁▁▁▁▁▁▁▁▁▁</td></tr></table><br/></div><div class=\"wandb-col\"><h3>Run summary:</h3><br/><table class=\"wandb\"><tr><td>bc_loss</td><td>0.00898</td></tr><tr><td>epoch</td><td>7499</td></tr><tr><td>final_total_loss</td><td>0.12995</td></tr><tr><td>ic_loss</td><td>1.97725</td></tr><tr><td>learning_rate</td><td>0.00016</td></tr><tr><td>pde_loss</td><td>0.00146</td></tr><tr><td>total_loss</td><td>0.12995</td></tr></table><br/></div></div>"
      ],
      "text/plain": [
       "<IPython.core.display.HTML object>"
      ]
     },
     "metadata": {},
     "output_type": "display_data"
    },
    {
     "data": {
      "text/html": [
       " View run <strong style=\"color:#cdcd00\">solar-sweep-6</strong> at: <a href='https://wandb.ai/tobiassafie-drexel-university/Black-Scholes-Architecture-Sweep/runs/l83qt1mo' target=\"_blank\">https://wandb.ai/tobiassafie-drexel-university/Black-Scholes-Architecture-Sweep/runs/l83qt1mo</a><br> View project at: <a href='https://wandb.ai/tobiassafie-drexel-university/Black-Scholes-Architecture-Sweep' target=\"_blank\">https://wandb.ai/tobiassafie-drexel-university/Black-Scholes-Architecture-Sweep</a><br>Synced 5 W&B file(s), 0 media file(s), 0 artifact file(s) and 0 other file(s)"
      ],
      "text/plain": [
       "<IPython.core.display.HTML object>"
      ]
     },
     "metadata": {},
     "output_type": "display_data"
    },
    {
     "data": {
      "text/html": [
       "Find logs at: <code>.\\wandb\\run-20250715_212850-l83qt1mo\\logs</code>"
      ],
      "text/plain": [
       "<IPython.core.display.HTML object>"
      ]
     },
     "metadata": {},
     "output_type": "display_data"
    },
    {
     "name": "stderr",
     "output_type": "stream",
     "text": [
      "wandb: Agent Starting Run: km4g14pj with config:\n",
      "wandb: \tactivation: relu\n",
      "wandb: \tbc_weight_scale: 0.24759482373855785\n",
      "wandb: \thidden_layers: 6\n",
      "wandb: \tic_weight_scale: 0.05378985846288301\n",
      "wandb: \tinit_method: xavier\n",
      "wandb: \tinitial_lr: 0.005\n",
      "wandb: \tneurons_per_layer: 32\n",
      "wandb: \tpde_weight_scale: 14.109555569471253\n"
     ]
    },
    {
     "data": {
      "text/html": [
       "Tracking run with wandb version 0.21.0"
      ],
      "text/plain": [
       "<IPython.core.display.HTML object>"
      ]
     },
     "metadata": {},
     "output_type": "display_data"
    },
    {
     "data": {
      "text/html": [
       "Run data is saved locally in <code>c:\\Users\\tobys\\Desktop\\STAR\\dev_notebooks\\black_scholes\\sweep\\wandb\\run-20250715_212946-km4g14pj</code>"
      ],
      "text/plain": [
       "<IPython.core.display.HTML object>"
      ]
     },
     "metadata": {},
     "output_type": "display_data"
    },
    {
     "data": {
      "text/html": [
       "Syncing run <strong><a href='https://wandb.ai/tobiassafie-drexel-university/Black-Scholes-Architecture-Sweep/runs/km4g14pj' target=\"_blank\">gallant-sweep-7</a></strong> to <a href='https://wandb.ai/tobiassafie-drexel-university/Black-Scholes-Architecture-Sweep' target=\"_blank\">Weights & Biases</a> (<a href='https://wandb.me/developer-guide' target=\"_blank\">docs</a>)<br>Sweep page: <a href='https://wandb.ai/tobiassafie-drexel-university/Black-Scholes-Architecture-Sweep/sweeps/ie5y2esn' target=\"_blank\">https://wandb.ai/tobiassafie-drexel-university/Black-Scholes-Architecture-Sweep/sweeps/ie5y2esn</a>"
      ],
      "text/plain": [
       "<IPython.core.display.HTML object>"
      ]
     },
     "metadata": {},
     "output_type": "display_data"
    },
    {
     "data": {
      "text/html": [
       " View project at <a href='https://wandb.ai/tobiassafie-drexel-university/Black-Scholes-Architecture-Sweep' target=\"_blank\">https://wandb.ai/tobiassafie-drexel-university/Black-Scholes-Architecture-Sweep</a>"
      ],
      "text/plain": [
       "<IPython.core.display.HTML object>"
      ]
     },
     "metadata": {},
     "output_type": "display_data"
    },
    {
     "data": {
      "text/html": [
       " View sweep at <a href='https://wandb.ai/tobiassafie-drexel-university/Black-Scholes-Architecture-Sweep/sweeps/ie5y2esn' target=\"_blank\">https://wandb.ai/tobiassafie-drexel-university/Black-Scholes-Architecture-Sweep/sweeps/ie5y2esn</a>"
      ],
      "text/plain": [
       "<IPython.core.display.HTML object>"
      ]
     },
     "metadata": {},
     "output_type": "display_data"
    },
    {
     "data": {
      "text/html": [
       " View run at <a href='https://wandb.ai/tobiassafie-drexel-university/Black-Scholes-Architecture-Sweep/runs/km4g14pj' target=\"_blank\">https://wandb.ai/tobiassafie-drexel-university/Black-Scholes-Architecture-Sweep/runs/km4g14pj</a>"
      ],
      "text/plain": [
       "<IPython.core.display.HTML object>"
      ]
     },
     "metadata": {},
     "output_type": "display_data"
    },
    {
     "name": "stdout",
     "output_type": "stream",
     "text": [
      "[0] Total: 5973.87646, PDE: 0.00001, BC: 23151.87109, IC: 4491.42920\n",
      "[500] Total: 51.26633, PDE: 0.00070, BC: 8.74231, IC: 912.66138\n",
      "[1000] Total: 2.85346, PDE: 0.00248, BC: 0.53464, IC: 49.93638\n",
      "[1500] Total: 4.01768, PDE: 0.00099, BC: 13.08850, IC: 14.18624\n",
      "[2000] Total: 0.20038, PDE: 0.00056, BC: 0.08276, IC: 3.19634\n",
      "[2500] Total: 0.19323, PDE: 0.00047, BC: 0.08693, IC: 3.06914\n",
      "[3000] Total: 0.20065, PDE: 0.00049, BC: 0.08839, IC: 3.19378\n",
      "[3500] Total: 0.21376, PDE: 0.00027, BC: 0.31927, IC: 2.43430\n",
      "[4000] Total: 0.16998, PDE: 0.00025, BC: 0.12286, IC: 2.52991\n",
      "[4500] Total: 0.16882, PDE: 0.00031, BC: 0.13520, IC: 2.43579\n",
      "[5000] Total: 0.17490, PDE: 0.00031, BC: 0.11639, IC: 2.63583\n",
      "[5500] Total: 0.16860, PDE: 0.00030, BC: 0.13370, IC: 2.43937\n",
      "[6000] Total: 0.16835, PDE: 0.00031, BC: 0.13751, IC: 2.41632\n",
      "[6500] Total: 0.16810, PDE: 0.00030, BC: 0.13984, IC: 2.40253\n",
      "[7000] Total: 0.16787, PDE: 0.00030, BC: 0.14146, IC: 2.39189\n"
     ]
    },
    {
     "data": {
      "text/html": [],
      "text/plain": [
       "<IPython.core.display.HTML object>"
      ]
     },
     "metadata": {},
     "output_type": "display_data"
    },
    {
     "data": {
      "text/html": [
       "<br>    <style><br>        .wandb-row {<br>            display: flex;<br>            flex-direction: row;<br>            flex-wrap: wrap;<br>            justify-content: flex-start;<br>            width: 100%;<br>        }<br>        .wandb-col {<br>            display: flex;<br>            flex-direction: column;<br>            flex-basis: 100%;<br>            flex: 1;<br>            padding: 10px;<br>        }<br>    </style><br><div class=\"wandb-row\"><div class=\"wandb-col\"><h3>Run history:</h3><br/><table class=\"wandb\"><tr><td>bc_loss</td><td>█▃▃▄▃▃▂▂▁▁▁▁▁▁▁▅▁▁▁▁▁▁▁▁▁▁▁▁▁▁▁▁▁▁▁▁▁▁▁▁</td></tr><tr><td>epoch</td><td>▁▁▁▁▁▁▂▂▂▂▂▂▃▄▄▄▄▄▄▄▄▄▅▅▅▅▅▆▆▆▆▆▆▆▇▇▇▇▇█</td></tr><tr><td>final_total_loss</td><td>▁</td></tr><tr><td>ic_loss</td><td>██▇▄▂▂▁▁▁▁▁▁▁▁▁▁▁▁▁▁▁▁▁▁▁▁▁▁▁▁▁▁▁▁▁▁▁▁▁▁</td></tr><tr><td>learning_rate</td><td>███▄▄▄▄▄▄▄▄▄▄▄▄▄▄▄▄▄▄▄▂▂▂▂▂▂▂▂▂▂▁▁▁▁▁▁▁▁</td></tr><tr><td>pde_loss</td><td>▂▁▂▂█▇▄▃▃▃▂▂▂▂▂▂▂▁▁▁▁▁▁▁▁▁▁▁▁▁▁▁▁▁▁▁▁▁▁▁</td></tr><tr><td>total_loss</td><td>█▆▅▄▃▃▃▃▂▁▁▁▁▁▁▁▁▁▁▁▁▁▁▁▁▁▁▁▁▁▁▁▁▁▁▁▁▁▁▁</td></tr></table><br/></div><div class=\"wandb-col\"><h3>Run summary:</h3><br/><table class=\"wandb\"><tr><td>bc_loss</td><td>0.14295</td></tr><tr><td>epoch</td><td>7499</td></tr><tr><td>final_total_loss</td><td>0.16753</td></tr><tr><td>ic_loss</td><td>2.38151</td></tr><tr><td>learning_rate</td><td>0.00031</td></tr><tr><td>pde_loss</td><td>0.00029</td></tr><tr><td>total_loss</td><td>0.16753</td></tr></table><br/></div></div>"
      ],
      "text/plain": [
       "<IPython.core.display.HTML object>"
      ]
     },
     "metadata": {},
     "output_type": "display_data"
    },
    {
     "data": {
      "text/html": [
       " View run <strong style=\"color:#cdcd00\">gallant-sweep-7</strong> at: <a href='https://wandb.ai/tobiassafie-drexel-university/Black-Scholes-Architecture-Sweep/runs/km4g14pj' target=\"_blank\">https://wandb.ai/tobiassafie-drexel-university/Black-Scholes-Architecture-Sweep/runs/km4g14pj</a><br> View project at: <a href='https://wandb.ai/tobiassafie-drexel-university/Black-Scholes-Architecture-Sweep' target=\"_blank\">https://wandb.ai/tobiassafie-drexel-university/Black-Scholes-Architecture-Sweep</a><br>Synced 5 W&B file(s), 0 media file(s), 0 artifact file(s) and 0 other file(s)"
      ],
      "text/plain": [
       "<IPython.core.display.HTML object>"
      ]
     },
     "metadata": {},
     "output_type": "display_data"
    },
    {
     "data": {
      "text/html": [
       "Find logs at: <code>.\\wandb\\run-20250715_212946-km4g14pj\\logs</code>"
      ],
      "text/plain": [
       "<IPython.core.display.HTML object>"
      ]
     },
     "metadata": {},
     "output_type": "display_data"
    },
    {
     "name": "stderr",
     "output_type": "stream",
     "text": [
      "wandb: Agent Starting Run: oqc39myj with config:\n",
      "wandb: \tactivation: relu\n",
      "wandb: \tbc_weight_scale: 0.1048648556093552\n",
      "wandb: \thidden_layers: 6\n",
      "wandb: \tic_weight_scale: 0.3558264823813217\n",
      "wandb: \tinit_method: xavier\n",
      "wandb: \tinitial_lr: 0.005\n",
      "wandb: \tneurons_per_layer: 32\n",
      "wandb: \tpde_weight_scale: 14.69061094820388\n"
     ]
    },
    {
     "data": {
      "text/html": [
       "Tracking run with wandb version 0.21.0"
      ],
      "text/plain": [
       "<IPython.core.display.HTML object>"
      ]
     },
     "metadata": {},
     "output_type": "display_data"
    },
    {
     "data": {
      "text/html": [
       "Run data is saved locally in <code>c:\\Users\\tobys\\Desktop\\STAR\\dev_notebooks\\black_scholes\\sweep\\wandb\\run-20250715_213042-oqc39myj</code>"
      ],
      "text/plain": [
       "<IPython.core.display.HTML object>"
      ]
     },
     "metadata": {},
     "output_type": "display_data"
    },
    {
     "data": {
      "text/html": [
       "Syncing run <strong><a href='https://wandb.ai/tobiassafie-drexel-university/Black-Scholes-Architecture-Sweep/runs/oqc39myj' target=\"_blank\">likely-sweep-8</a></strong> to <a href='https://wandb.ai/tobiassafie-drexel-university/Black-Scholes-Architecture-Sweep' target=\"_blank\">Weights & Biases</a> (<a href='https://wandb.me/developer-guide' target=\"_blank\">docs</a>)<br>Sweep page: <a href='https://wandb.ai/tobiassafie-drexel-university/Black-Scholes-Architecture-Sweep/sweeps/ie5y2esn' target=\"_blank\">https://wandb.ai/tobiassafie-drexel-university/Black-Scholes-Architecture-Sweep/sweeps/ie5y2esn</a>"
      ],
      "text/plain": [
       "<IPython.core.display.HTML object>"
      ]
     },
     "metadata": {},
     "output_type": "display_data"
    },
    {
     "data": {
      "text/html": [
       " View project at <a href='https://wandb.ai/tobiassafie-drexel-university/Black-Scholes-Architecture-Sweep' target=\"_blank\">https://wandb.ai/tobiassafie-drexel-university/Black-Scholes-Architecture-Sweep</a>"
      ],
      "text/plain": [
       "<IPython.core.display.HTML object>"
      ]
     },
     "metadata": {},
     "output_type": "display_data"
    },
    {
     "data": {
      "text/html": [
       " View sweep at <a href='https://wandb.ai/tobiassafie-drexel-university/Black-Scholes-Architecture-Sweep/sweeps/ie5y2esn' target=\"_blank\">https://wandb.ai/tobiassafie-drexel-university/Black-Scholes-Architecture-Sweep/sweeps/ie5y2esn</a>"
      ],
      "text/plain": [
       "<IPython.core.display.HTML object>"
      ]
     },
     "metadata": {},
     "output_type": "display_data"
    },
    {
     "data": {
      "text/html": [
       " View run at <a href='https://wandb.ai/tobiassafie-drexel-university/Black-Scholes-Architecture-Sweep/runs/oqc39myj' target=\"_blank\">https://wandb.ai/tobiassafie-drexel-university/Black-Scholes-Architecture-Sweep/runs/oqc39myj</a>"
      ],
      "text/plain": [
       "<IPython.core.display.HTML object>"
      ]
     },
     "metadata": {},
     "output_type": "display_data"
    },
    {
     "name": "stdout",
     "output_type": "stream",
     "text": [
      "[0] Total: 4445.44043, PDE: 0.00152, BC: 25364.90820, IC: 5017.97998\n",
      "[500] Total: 12.24300, PDE: 0.00121, BC: 14.42509, IC: 30.10614\n",
      "[1000] Total: 0.75381, PDE: 0.00262, BC: 1.76859, IC: 1.48908\n",
      "[1500] Total: 0.72818, PDE: 0.00068, BC: 2.41254, IC: 1.30755\n",
      "[2000] Total: 0.63689, PDE: 0.00062, BC: 1.90274, IC: 1.20366\n",
      "[2500] Total: 0.60168, PDE: 0.00066, BC: 1.71852, IC: 1.15731\n",
      "[3000] Total: 0.57779, PDE: 0.00073, BC: 1.58264, IC: 1.12707\n",
      "[3500] Total: 0.55742, PDE: 0.00072, BC: 1.48545, IC: 1.09910\n",
      "[4000] Total: 0.54879, PDE: 0.00063, BC: 1.05745, IC: 1.20464\n",
      "[4500] Total: 0.54759, PDE: 0.00060, BC: 0.85304, IC: 1.26287\n",
      "[5000] Total: 0.71742, PDE: 0.00054, BC: 4.42230, IC: 0.69062\n",
      "[5500] Total: 0.56052, PDE: 0.00051, BC: 2.46707, IC: 0.82726\n",
      "[6000] Total: 0.57642, PDE: 0.00056, BC: 2.76535, IC: 0.78179\n",
      "[6500] Total: 1.23093, PDE: 0.00056, BC: 8.88142, IC: 0.81883\n",
      "[7000] Total: 0.55626, PDE: 0.00052, BC: 1.51987, IC: 1.09395\n"
     ]
    },
    {
     "data": {
      "text/html": [],
      "text/plain": [
       "<IPython.core.display.HTML object>"
      ]
     },
     "metadata": {},
     "output_type": "display_data"
    },
    {
     "data": {
      "text/html": [
       "<br>    <style><br>        .wandb-row {<br>            display: flex;<br>            flex-direction: row;<br>            flex-wrap: wrap;<br>            justify-content: flex-start;<br>            width: 100%;<br>        }<br>        .wandb-col {<br>            display: flex;<br>            flex-direction: column;<br>            flex-basis: 100%;<br>            flex: 1;<br>            padding: 10px;<br>        }<br>    </style><br><div class=\"wandb-row\"><div class=\"wandb-col\"><h3>Run history:</h3><br/><table class=\"wandb\"><tr><td>bc_loss</td><td>█▃▂▁▁▁▁▁▁▁▁▁▁▁▁▁▁▁▁▁▁▁▁▁▁▁▁▁▁▁▁▁▁▁▁▁▁▁▁▁</td></tr><tr><td>epoch</td><td>▁▁▁▁▁▂▂▃▃▃▃▃▃▃▃▄▄▄▅▅▆▆▆▆▆▇▇▇▇▇▇▇▇▇▇█████</td></tr><tr><td>final_total_loss</td><td>▁</td></tr><tr><td>ic_loss</td><td>█▁▃▁▁▂▁▁▁▁▁▁▁▁▁▁▁▁▁▁▁▁▁▁▁▁▁▁▁▁▁▁▁▁▁▁▁▁▁▁</td></tr><tr><td>learning_rate</td><td>███████▂▂▂▂▂▂▂▂▂▂▂▂▂▂▂▂▂▂▂▂▂▂▂▂▂▂▂▂▂▂▂▂▁</td></tr><tr><td>pde_loss</td><td>▁▂▁█▁▁▁▁▁▁▁▁▁▁▁▁▁▁▁▁▁▁▁▁▁▁▁▁▁▁▁▁▁▁▁▁▁▁▁▁</td></tr><tr><td>total_loss</td><td>█▁▁▃▁▁▁▁▁▁▁▁▁▁▁▁▁▁▁▁▁▁▁▁▁▁▁▁▁▁▁▁▁▁▁▁▁▁▁▁</td></tr></table><br/></div><div class=\"wandb-col\"><h3>Run summary:</h3><br/><table class=\"wandb\"><tr><td>bc_loss</td><td>1.50074</td></tr><tr><td>epoch</td><td>7499</td></tr><tr><td>final_total_loss</td><td>0.55164</td></tr><tr><td>ic_loss</td><td>1.08728</td></tr><tr><td>learning_rate</td><td>0.00016</td></tr><tr><td>pde_loss</td><td>0.0005</td></tr><tr><td>total_loss</td><td>0.55164</td></tr></table><br/></div></div>"
      ],
      "text/plain": [
       "<IPython.core.display.HTML object>"
      ]
     },
     "metadata": {},
     "output_type": "display_data"
    },
    {
     "data": {
      "text/html": [
       " View run <strong style=\"color:#cdcd00\">likely-sweep-8</strong> at: <a href='https://wandb.ai/tobiassafie-drexel-university/Black-Scholes-Architecture-Sweep/runs/oqc39myj' target=\"_blank\">https://wandb.ai/tobiassafie-drexel-university/Black-Scholes-Architecture-Sweep/runs/oqc39myj</a><br> View project at: <a href='https://wandb.ai/tobiassafie-drexel-university/Black-Scholes-Architecture-Sweep' target=\"_blank\">https://wandb.ai/tobiassafie-drexel-university/Black-Scholes-Architecture-Sweep</a><br>Synced 5 W&B file(s), 0 media file(s), 0 artifact file(s) and 0 other file(s)"
      ],
      "text/plain": [
       "<IPython.core.display.HTML object>"
      ]
     },
     "metadata": {},
     "output_type": "display_data"
    },
    {
     "data": {
      "text/html": [
       "Find logs at: <code>.\\wandb\\run-20250715_213042-oqc39myj\\logs</code>"
      ],
      "text/plain": [
       "<IPython.core.display.HTML object>"
      ]
     },
     "metadata": {},
     "output_type": "display_data"
    },
    {
     "name": "stderr",
     "output_type": "stream",
     "text": [
      "wandb: Sweep Agent: Waiting for job.\n",
      "wandb: Job received.\n",
      "wandb: Agent Starting Run: ars2hv8e with config:\n",
      "wandb: \tactivation: relu\n",
      "wandb: \tbc_weight_scale: 0.8197054159679781\n",
      "wandb: \thidden_layers: 6\n",
      "wandb: \tic_weight_scale: 0.061005910040264934\n",
      "wandb: \tinit_method: xavier\n",
      "wandb: \tinitial_lr: 0.005\n",
      "wandb: \tneurons_per_layer: 32\n",
      "wandb: \tpde_weight_scale: 13.951551072349249\n"
     ]
    },
    {
     "data": {
      "text/html": [
       "Tracking run with wandb version 0.21.0"
      ],
      "text/plain": [
       "<IPython.core.display.HTML object>"
      ]
     },
     "metadata": {},
     "output_type": "display_data"
    },
    {
     "data": {
      "text/html": [
       "Run data is saved locally in <code>c:\\Users\\tobys\\Desktop\\STAR\\dev_notebooks\\black_scholes\\sweep\\wandb\\run-20250715_213138-ars2hv8e</code>"
      ],
      "text/plain": [
       "<IPython.core.display.HTML object>"
      ]
     },
     "metadata": {},
     "output_type": "display_data"
    },
    {
     "data": {
      "text/html": [
       "Syncing run <strong><a href='https://wandb.ai/tobiassafie-drexel-university/Black-Scholes-Architecture-Sweep/runs/ars2hv8e' target=\"_blank\">peach-sweep-9</a></strong> to <a href='https://wandb.ai/tobiassafie-drexel-university/Black-Scholes-Architecture-Sweep' target=\"_blank\">Weights & Biases</a> (<a href='https://wandb.me/developer-guide' target=\"_blank\">docs</a>)<br>Sweep page: <a href='https://wandb.ai/tobiassafie-drexel-university/Black-Scholes-Architecture-Sweep/sweeps/ie5y2esn' target=\"_blank\">https://wandb.ai/tobiassafie-drexel-university/Black-Scholes-Architecture-Sweep/sweeps/ie5y2esn</a>"
      ],
      "text/plain": [
       "<IPython.core.display.HTML object>"
      ]
     },
     "metadata": {},
     "output_type": "display_data"
    },
    {
     "data": {
      "text/html": [
       " View project at <a href='https://wandb.ai/tobiassafie-drexel-university/Black-Scholes-Architecture-Sweep' target=\"_blank\">https://wandb.ai/tobiassafie-drexel-university/Black-Scholes-Architecture-Sweep</a>"
      ],
      "text/plain": [
       "<IPython.core.display.HTML object>"
      ]
     },
     "metadata": {},
     "output_type": "display_data"
    },
    {
     "data": {
      "text/html": [
       " View sweep at <a href='https://wandb.ai/tobiassafie-drexel-university/Black-Scholes-Architecture-Sweep/sweeps/ie5y2esn' target=\"_blank\">https://wandb.ai/tobiassafie-drexel-university/Black-Scholes-Architecture-Sweep/sweeps/ie5y2esn</a>"
      ],
      "text/plain": [
       "<IPython.core.display.HTML object>"
      ]
     },
     "metadata": {},
     "output_type": "display_data"
    },
    {
     "data": {
      "text/html": [
       " View run at <a href='https://wandb.ai/tobiassafie-drexel-university/Black-Scholes-Architecture-Sweep/runs/ars2hv8e' target=\"_blank\">https://wandb.ai/tobiassafie-drexel-university/Black-Scholes-Architecture-Sweep/runs/ars2hv8e</a>"
      ],
      "text/plain": [
       "<IPython.core.display.HTML object>"
      ]
     },
     "metadata": {},
     "output_type": "display_data"
    },
    {
     "name": "stdout",
     "output_type": "stream",
     "text": [
      "[0] Total: 23337.38672, PDE: 0.00102, BC: 28048.25195, IC: 5672.70508\n",
      "[500] Total: 72.11955, PDE: 0.00012, BC: 2.93413, IC: 1142.72119\n",
      "[1000] Total: 43.66656, PDE: 0.00035, BC: 4.99458, IC: 648.58679\n",
      "[1500] Total: 13.63688, PDE: 0.00240, BC: 7.84886, IC: 117.52281\n",
      "[2000] Total: 1.23115, PDE: 0.00235, BC: 0.62956, IC: 11.18501\n",
      "[2500] Total: 5.73986, PDE: 0.00514, BC: 2.34905, IC: 61.34829\n",
      "[3000] Total: 0.26771, PDE: 0.00117, BC: 0.01745, IC: 3.88723\n",
      "[3500] Total: 0.25225, PDE: 0.00102, BC: 0.01955, IC: 3.63861\n",
      "[4000] Total: 0.23135, PDE: 0.00071, BC: 0.02341, IC: 3.31537\n",
      "[4500] Total: 0.21962, PDE: 0.00056, BC: 0.02874, IC: 3.08523\n",
      "[5000] Total: 0.21255, PDE: 0.00048, BC: 0.03291, IC: 2.93112\n",
      "[5500] Total: 0.30537, PDE: 0.00051, BC: 0.11543, IC: 3.33851\n",
      "[6000] Total: 0.20192, PDE: 0.00035, BC: 0.03817, IC: 2.71624\n",
      "[6500] Total: 0.19964, PDE: 0.00033, BC: 0.04070, IC: 2.65068\n",
      "[7000] Total: 0.19891, PDE: 0.00040, BC: 0.04185, IC: 2.60643\n"
     ]
    },
    {
     "data": {
      "text/html": [],
      "text/plain": [
       "<IPython.core.display.HTML object>"
      ]
     },
     "metadata": {},
     "output_type": "display_data"
    },
    {
     "data": {
      "text/html": [
       "<br>    <style><br>        .wandb-row {<br>            display: flex;<br>            flex-direction: row;<br>            flex-wrap: wrap;<br>            justify-content: flex-start;<br>            width: 100%;<br>        }<br>        .wandb-col {<br>            display: flex;<br>            flex-direction: column;<br>            flex-basis: 100%;<br>            flex: 1;<br>            padding: 10px;<br>        }<br>    </style><br><div class=\"wandb-row\"><div class=\"wandb-col\"><h3>Run history:</h3><br/><table class=\"wandb\"><tr><td>bc_loss</td><td>█▇▇▇▇▃▃▃▂▂▂▁▂▁▂▁▁▁▁▁▁▁▁▁▁▁▁▁▁▁▁▁▁▁▁▁▁▁▁▁</td></tr><tr><td>epoch</td><td>▁▁▁▁▁▂▂▂▂▃▃▃▃▃▄▄▄▄▅▅▅▅▅▅▅▆▆▆▆▇▇▇▇▇▇▇▇▇██</td></tr><tr><td>final_total_loss</td><td>▁</td></tr><tr><td>ic_loss</td><td>████▆▆▄▃▂▂▂▂▁▁▁▁▁▁▁▁▁▁▁▁▁▁▁▁▁▁▁▁▁▁▁▁▁▁▁▁</td></tr><tr><td>learning_rate</td><td>███████████▂▂▂▂▂▂▂▂▂▂▂▂▂▂▂▂▂▂▂▂▂▂▂▁▁▁▁▁▁</td></tr><tr><td>pde_loss</td><td>█▁▁▁▁▁▁▁▃▂▁▁▁▂▂▂▁▁▁▁▁▁▁▁▁▁▁▁▁▁▁▁▁▁▁▁▁▁▁▁</td></tr><tr><td>total_loss</td><td>████▆▆▅▆▃▂▁▁▁▁▁▁▁▁▁▁▁▁▁▁▁▁▁▁▁▁▁▁▁▁▁▁▁▁▁▁</td></tr></table><br/></div><div class=\"wandb-col\"><h3>Run summary:</h3><br/><table class=\"wandb\"><tr><td>bc_loss</td><td>0.04207</td></tr><tr><td>epoch</td><td>7499</td></tr><tr><td>final_total_loss</td><td>0.19732</td></tr><tr><td>ic_loss</td><td>2.5824</td></tr><tr><td>learning_rate</td><td>0.00031</td></tr><tr><td>pde_loss</td><td>0.00038</td></tr><tr><td>total_loss</td><td>0.19732</td></tr></table><br/></div></div>"
      ],
      "text/plain": [
       "<IPython.core.display.HTML object>"
      ]
     },
     "metadata": {},
     "output_type": "display_data"
    },
    {
     "data": {
      "text/html": [
       " View run <strong style=\"color:#cdcd00\">peach-sweep-9</strong> at: <a href='https://wandb.ai/tobiassafie-drexel-university/Black-Scholes-Architecture-Sweep/runs/ars2hv8e' target=\"_blank\">https://wandb.ai/tobiassafie-drexel-university/Black-Scholes-Architecture-Sweep/runs/ars2hv8e</a><br> View project at: <a href='https://wandb.ai/tobiassafie-drexel-university/Black-Scholes-Architecture-Sweep' target=\"_blank\">https://wandb.ai/tobiassafie-drexel-university/Black-Scholes-Architecture-Sweep</a><br>Synced 5 W&B file(s), 0 media file(s), 0 artifact file(s) and 0 other file(s)"
      ],
      "text/plain": [
       "<IPython.core.display.HTML object>"
      ]
     },
     "metadata": {},
     "output_type": "display_data"
    },
    {
     "data": {
      "text/html": [
       "Find logs at: <code>.\\wandb\\run-20250715_213138-ars2hv8e\\logs</code>"
      ],
      "text/plain": [
       "<IPython.core.display.HTML object>"
      ]
     },
     "metadata": {},
     "output_type": "display_data"
    },
    {
     "name": "stderr",
     "output_type": "stream",
     "text": [
      "wandb: Agent Starting Run: lz9hm5pk with config:\n",
      "wandb: \tactivation: relu\n",
      "wandb: \tbc_weight_scale: 0.13360581703301594\n",
      "wandb: \thidden_layers: 6\n",
      "wandb: \tic_weight_scale: 0.05485836902428156\n",
      "wandb: \tinit_method: xavier\n",
      "wandb: \tinitial_lr: 0.005\n",
      "wandb: \tneurons_per_layer: 32\n",
      "wandb: \tpde_weight_scale: 10.674860479298047\n"
     ]
    },
    {
     "data": {
      "text/html": [
       "Tracking run with wandb version 0.21.0"
      ],
      "text/plain": [
       "<IPython.core.display.HTML object>"
      ]
     },
     "metadata": {},
     "output_type": "display_data"
    },
    {
     "data": {
      "text/html": [
       "Run data is saved locally in <code>c:\\Users\\tobys\\Desktop\\STAR\\dev_notebooks\\black_scholes\\sweep\\wandb\\run-20250715_213225-lz9hm5pk</code>"
      ],
      "text/plain": [
       "<IPython.core.display.HTML object>"
      ]
     },
     "metadata": {},
     "output_type": "display_data"
    },
    {
     "data": {
      "text/html": [
       "Syncing run <strong><a href='https://wandb.ai/tobiassafie-drexel-university/Black-Scholes-Architecture-Sweep/runs/lz9hm5pk' target=\"_blank\">lilac-sweep-10</a></strong> to <a href='https://wandb.ai/tobiassafie-drexel-university/Black-Scholes-Architecture-Sweep' target=\"_blank\">Weights & Biases</a> (<a href='https://wandb.me/developer-guide' target=\"_blank\">docs</a>)<br>Sweep page: <a href='https://wandb.ai/tobiassafie-drexel-university/Black-Scholes-Architecture-Sweep/sweeps/ie5y2esn' target=\"_blank\">https://wandb.ai/tobiassafie-drexel-university/Black-Scholes-Architecture-Sweep/sweeps/ie5y2esn</a>"
      ],
      "text/plain": [
       "<IPython.core.display.HTML object>"
      ]
     },
     "metadata": {},
     "output_type": "display_data"
    },
    {
     "data": {
      "text/html": [
       " View project at <a href='https://wandb.ai/tobiassafie-drexel-university/Black-Scholes-Architecture-Sweep' target=\"_blank\">https://wandb.ai/tobiassafie-drexel-university/Black-Scholes-Architecture-Sweep</a>"
      ],
      "text/plain": [
       "<IPython.core.display.HTML object>"
      ]
     },
     "metadata": {},
     "output_type": "display_data"
    },
    {
     "data": {
      "text/html": [
       " View sweep at <a href='https://wandb.ai/tobiassafie-drexel-university/Black-Scholes-Architecture-Sweep/sweeps/ie5y2esn' target=\"_blank\">https://wandb.ai/tobiassafie-drexel-university/Black-Scholes-Architecture-Sweep/sweeps/ie5y2esn</a>"
      ],
      "text/plain": [
       "<IPython.core.display.HTML object>"
      ]
     },
     "metadata": {},
     "output_type": "display_data"
    },
    {
     "data": {
      "text/html": [
       " View run at <a href='https://wandb.ai/tobiassafie-drexel-university/Black-Scholes-Architecture-Sweep/runs/lz9hm5pk' target=\"_blank\">https://wandb.ai/tobiassafie-drexel-university/Black-Scholes-Architecture-Sweep/runs/lz9hm5pk</a>"
      ],
      "text/plain": [
       "<IPython.core.display.HTML object>"
      ]
     },
     "metadata": {},
     "output_type": "display_data"
    },
    {
     "name": "stdout",
     "output_type": "stream",
     "text": [
      "[0] Total: 3470.93408, PDE: 0.00001, BC: 24047.53906, IC: 4703.79443\n",
      "[500] Total: 56.97215, PDE: 0.01213, BC: 127.44814, IC: 725.77448\n",
      "[1000] Total: 0.21464, PDE: 0.00161, BC: 0.18548, IC: 3.14718\n",
      "[1500] Total: 4.49658, PDE: 0.00147, BC: 21.23071, IC: 29.97478\n",
      "[2000] Total: 0.13756, PDE: 0.00066, BC: 0.08947, IC: 2.16057\n",
      "[2500] Total: 0.10620, PDE: 0.00022, BC: 0.06253, IC: 1.74127\n",
      "[3000] Total: 0.17042, PDE: 0.00076, BC: 0.15446, IC: 2.58296\n",
      "[3500] Total: 0.15761, PDE: 0.00080, BC: 0.18042, IC: 2.27734\n",
      "[4000] Total: 0.15572, PDE: 0.00092, BC: 0.19097, IC: 2.19388\n",
      "[4500] Total: 0.15498, PDE: 0.00095, BC: 0.19527, IC: 2.16446\n",
      "[5000] Total: 0.15507, PDE: 0.00099, BC: 0.19680, IC: 2.15409\n",
      "[5500] Total: 0.15549, PDE: 0.00104, BC: 0.19768, IC: 2.14982\n",
      "[6000] Total: 0.15543, PDE: 0.00104, BC: 0.19779, IC: 2.14868\n",
      "[6500] Total: 0.15539, PDE: 0.00104, BC: 0.19783, IC: 2.14829\n",
      "[7000] Total: 0.15539, PDE: 0.00104, BC: 0.19784, IC: 2.14818\n"
     ]
    },
    {
     "data": {
      "text/html": [],
      "text/plain": [
       "<IPython.core.display.HTML object>"
      ]
     },
     "metadata": {},
     "output_type": "display_data"
    },
    {
     "data": {
      "text/html": [
       "<br>    <style><br>        .wandb-row {<br>            display: flex;<br>            flex-direction: row;<br>            flex-wrap: wrap;<br>            justify-content: flex-start;<br>            width: 100%;<br>        }<br>        .wandb-col {<br>            display: flex;<br>            flex-direction: column;<br>            flex-basis: 100%;<br>            flex: 1;<br>            padding: 10px;<br>        }<br>    </style><br><div class=\"wandb-row\"><div class=\"wandb-col\"><h3>Run history:</h3><br/><table class=\"wandb\"><tr><td>bc_loss</td><td>█▇▇▆▁▁▁▁▁▁▁▁▁▁▁▁▁▁▁▁▁▁▁▁▁▁▁▁▁▁▁▁▁▁▁▁▁▁▁▁</td></tr><tr><td>epoch</td><td>▁▁▁▁▁▂▂▂▂▂▂▃▃▃▃▃▃▃▃▄▄▄▅▅▅▅▅▅▅▆▆▆▆▆▆▇▇▇▇█</td></tr><tr><td>final_total_loss</td><td>▁</td></tr><tr><td>ic_loss</td><td>█▆▁▁▁▁▁▁▁▁▁▁▁▁▁▁▁▁▁▁▁▁▁▁▁▁▁▁▁▁▁▁▁▁▁▁▁▁▁▁</td></tr><tr><td>learning_rate</td><td>██████████████▄▄▄▄▄▄▂▁▁▁▁▁▁▁▁▁▁▁▁▁▁▁▁▁▁▁</td></tr><tr><td>pde_loss</td><td>▁▂▇█▇▂▂▁▁▁▁▃▁▁▁▁▁▁▁▁▁▁▁▁▁▁▁▁▁▁▁▁▁▁▁▁▁▁▁▁</td></tr><tr><td>total_loss</td><td>█▄▂▂▂▂▁▁▁▁▁▁▁▁▁▁▁▁▁▁▁▁▁▁▁▁▁▁▁▁▁▁▁▁▁▁▁▁▁▁</td></tr></table><br/></div><div class=\"wandb-col\"><h3>Run summary:</h3><br/><table class=\"wandb\"><tr><td>bc_loss</td><td>0.19783</td></tr><tr><td>epoch</td><td>7499</td></tr><tr><td>final_total_loss</td><td>0.15538</td></tr><tr><td>ic_loss</td><td>2.14819</td></tr><tr><td>learning_rate</td><td>0.0</td></tr><tr><td>pde_loss</td><td>0.00104</td></tr><tr><td>total_loss</td><td>0.15538</td></tr></table><br/></div></div>"
      ],
      "text/plain": [
       "<IPython.core.display.HTML object>"
      ]
     },
     "metadata": {},
     "output_type": "display_data"
    },
    {
     "data": {
      "text/html": [
       " View run <strong style=\"color:#cdcd00\">lilac-sweep-10</strong> at: <a href='https://wandb.ai/tobiassafie-drexel-university/Black-Scholes-Architecture-Sweep/runs/lz9hm5pk' target=\"_blank\">https://wandb.ai/tobiassafie-drexel-university/Black-Scholes-Architecture-Sweep/runs/lz9hm5pk</a><br> View project at: <a href='https://wandb.ai/tobiassafie-drexel-university/Black-Scholes-Architecture-Sweep' target=\"_blank\">https://wandb.ai/tobiassafie-drexel-university/Black-Scholes-Architecture-Sweep</a><br>Synced 5 W&B file(s), 0 media file(s), 0 artifact file(s) and 0 other file(s)"
      ],
      "text/plain": [
       "<IPython.core.display.HTML object>"
      ]
     },
     "metadata": {},
     "output_type": "display_data"
    },
    {
     "data": {
      "text/html": [
       "Find logs at: <code>.\\wandb\\run-20250715_213225-lz9hm5pk\\logs</code>"
      ],
      "text/plain": [
       "<IPython.core.display.HTML object>"
      ]
     },
     "metadata": {},
     "output_type": "display_data"
    },
    {
     "name": "stderr",
     "output_type": "stream",
     "text": [
      "wandb: Agent Starting Run: dtf51xad with config:\n",
      "wandb: \tactivation: relu\n",
      "wandb: \tbc_weight_scale: 1.3535451931530686\n",
      "wandb: \thidden_layers: 6\n",
      "wandb: \tic_weight_scale: 0.05080732815230281\n",
      "wandb: \tinit_method: xavier\n",
      "wandb: \tinitial_lr: 0.005\n",
      "wandb: \tneurons_per_layer: 32\n",
      "wandb: \tpde_weight_scale: 7.5633719492554095\n"
     ]
    },
    {
     "data": {
      "text/html": [
       "Tracking run with wandb version 0.21.0"
      ],
      "text/plain": [
       "<IPython.core.display.HTML object>"
      ]
     },
     "metadata": {},
     "output_type": "display_data"
    },
    {
     "data": {
      "text/html": [
       "Run data is saved locally in <code>c:\\Users\\tobys\\Desktop\\STAR\\dev_notebooks\\black_scholes\\sweep\\wandb\\run-20250715_213317-dtf51xad</code>"
      ],
      "text/plain": [
       "<IPython.core.display.HTML object>"
      ]
     },
     "metadata": {},
     "output_type": "display_data"
    },
    {
     "data": {
      "text/html": [
       "Syncing run <strong><a href='https://wandb.ai/tobiassafie-drexel-university/Black-Scholes-Architecture-Sweep/runs/dtf51xad' target=\"_blank\">major-sweep-11</a></strong> to <a href='https://wandb.ai/tobiassafie-drexel-university/Black-Scholes-Architecture-Sweep' target=\"_blank\">Weights & Biases</a> (<a href='https://wandb.me/developer-guide' target=\"_blank\">docs</a>)<br>Sweep page: <a href='https://wandb.ai/tobiassafie-drexel-university/Black-Scholes-Architecture-Sweep/sweeps/ie5y2esn' target=\"_blank\">https://wandb.ai/tobiassafie-drexel-university/Black-Scholes-Architecture-Sweep/sweeps/ie5y2esn</a>"
      ],
      "text/plain": [
       "<IPython.core.display.HTML object>"
      ]
     },
     "metadata": {},
     "output_type": "display_data"
    },
    {
     "data": {
      "text/html": [
       " View project at <a href='https://wandb.ai/tobiassafie-drexel-university/Black-Scholes-Architecture-Sweep' target=\"_blank\">https://wandb.ai/tobiassafie-drexel-university/Black-Scholes-Architecture-Sweep</a>"
      ],
      "text/plain": [
       "<IPython.core.display.HTML object>"
      ]
     },
     "metadata": {},
     "output_type": "display_data"
    },
    {
     "data": {
      "text/html": [
       " View sweep at <a href='https://wandb.ai/tobiassafie-drexel-university/Black-Scholes-Architecture-Sweep/sweeps/ie5y2esn' target=\"_blank\">https://wandb.ai/tobiassafie-drexel-university/Black-Scholes-Architecture-Sweep/sweeps/ie5y2esn</a>"
      ],
      "text/plain": [
       "<IPython.core.display.HTML object>"
      ]
     },
     "metadata": {},
     "output_type": "display_data"
    },
    {
     "data": {
      "text/html": [
       " View run at <a href='https://wandb.ai/tobiassafie-drexel-university/Black-Scholes-Architecture-Sweep/runs/dtf51xad' target=\"_blank\">https://wandb.ai/tobiassafie-drexel-university/Black-Scholes-Architecture-Sweep/runs/dtf51xad</a>"
      ],
      "text/plain": [
       "<IPython.core.display.HTML object>"
      ]
     },
     "metadata": {},
     "output_type": "display_data"
    },
    {
     "name": "stdout",
     "output_type": "stream",
     "text": [
      "[0] Total: 29761.33203, PDE: 0.00133, BC: 21830.77734, IC: 4180.07617\n",
      "[500] Total: 62.72474, PDE: 0.00003, BC: 2.25157, IC: 1174.57373\n",
      "[1000] Total: 60.97308, PDE: 0.00080, BC: 3.65686, IC: 1102.54370\n",
      "[1500] Total: 47.71414, PDE: 0.00362, BC: 1.64056, IC: 894.87482\n",
      "[2000] Total: 30.29810, PDE: 0.00476, BC: 1.08321, IC: 566.76776\n",
      "[2500] Total: 14.71090, PDE: 0.00318, BC: 0.92837, IC: 264.33713\n",
      "[3000] Total: 15.21680, PDE: 0.01010, BC: 0.49349, IC: 284.85010\n",
      "[3500] Total: 10.41435, PDE: 0.01047, BC: 0.31353, IC: 195.06693\n",
      "[4000] Total: 8.52616, PDE: 0.01064, BC: 0.24505, IC: 159.70103\n",
      "[4500] Total: 7.84457, PDE: 0.01067, BC: 0.22068, IC: 146.93062\n",
      "[5000] Total: 7.56673, PDE: 0.01076, BC: 0.21085, IC: 141.71144\n",
      "[5500] Total: 7.45044, PDE: 0.01064, BC: 0.20679, IC: 139.54781\n",
      "[6000] Total: 7.40734, PDE: 0.01068, BC: 0.20526, IC: 138.73419\n",
      "[6500] Total: 7.38904, PDE: 0.01068, BC: 0.20442, IC: 138.39679\n",
      "[7000] Total: 7.38167, PDE: 0.01067, BC: 0.20397, IC: 138.26474\n"
     ]
    },
    {
     "data": {
      "text/html": [],
      "text/plain": [
       "<IPython.core.display.HTML object>"
      ]
     },
     "metadata": {},
     "output_type": "display_data"
    },
    {
     "data": {
      "text/html": [
       "<br>    <style><br>        .wandb-row {<br>            display: flex;<br>            flex-direction: row;<br>            flex-wrap: wrap;<br>            justify-content: flex-start;<br>            width: 100%;<br>        }<br>        .wandb-col {<br>            display: flex;<br>            flex-direction: column;<br>            flex-basis: 100%;<br>            flex: 1;<br>            padding: 10px;<br>        }<br>    </style><br><div class=\"wandb-row\"><div class=\"wandb-col\"><h3>Run history:</h3><br/><table class=\"wandb\"><tr><td>bc_loss</td><td>▂▂▂▅▂▂▂▁▂▁▁▁▁▁▂▂▁▁▂█▁▁▁▁▁▁▁▁▁▁▁▁▁▁▁▁▁▁▁▁</td></tr><tr><td>epoch</td><td>▁▁▁▁▁▂▂▂▂▂▂▃▃▃▃▃▄▄▄▄▄▄▄▅▅▅▆▆▆▆▇▇▇▇▇▇▇▇██</td></tr><tr><td>final_total_loss</td><td>▁</td></tr><tr><td>ic_loss</td><td>█▇▇▇▇▆▆▆▅▅▅▅▃▂▁▂▂▂▂▂▂▁▁▁▁▁▁▁▁▁▁▁▁▁▁▁▁▁▁▁</td></tr><tr><td>learning_rate</td><td>██████████▄▃▃▃▃▃▃▃▁▁▁▁▁▁▁▁▁▁▁▁▁▁▁▁▁▁▁▁▁▁</td></tr><tr><td>pde_loss</td><td>▄▁▁▂▁▁▂▃▃▃▃▃▄▄▃▂▇███████████████████████</td></tr><tr><td>total_loss</td><td>▄▄▄▄▃▃▃▃▃▃▂▁█▂▁▁▁▁▁▁▁▁▁▁▁▁▁▁▁▁▁▁▁▁▁▁▁▁▁▁</td></tr></table><br/></div><div class=\"wandb-col\"><h3>Run summary:</h3><br/><table class=\"wandb\"><tr><td>bc_loss</td><td>0.20386</td></tr><tr><td>epoch</td><td>7499</td></tr><tr><td>final_total_loss</td><td>7.38002</td></tr><tr><td>ic_loss</td><td>138.23534</td></tr><tr><td>learning_rate</td><td>0.0</td></tr><tr><td>pde_loss</td><td>0.01067</td></tr><tr><td>total_loss</td><td>7.38002</td></tr></table><br/></div></div>"
      ],
      "text/plain": [
       "<IPython.core.display.HTML object>"
      ]
     },
     "metadata": {},
     "output_type": "display_data"
    },
    {
     "data": {
      "text/html": [
       " View run <strong style=\"color:#cdcd00\">major-sweep-11</strong> at: <a href='https://wandb.ai/tobiassafie-drexel-university/Black-Scholes-Architecture-Sweep/runs/dtf51xad' target=\"_blank\">https://wandb.ai/tobiassafie-drexel-university/Black-Scholes-Architecture-Sweep/runs/dtf51xad</a><br> View project at: <a href='https://wandb.ai/tobiassafie-drexel-university/Black-Scholes-Architecture-Sweep' target=\"_blank\">https://wandb.ai/tobiassafie-drexel-university/Black-Scholes-Architecture-Sweep</a><br>Synced 5 W&B file(s), 0 media file(s), 0 artifact file(s) and 0 other file(s)"
      ],
      "text/plain": [
       "<IPython.core.display.HTML object>"
      ]
     },
     "metadata": {},
     "output_type": "display_data"
    },
    {
     "data": {
      "text/html": [
       "Find logs at: <code>.\\wandb\\run-20250715_213317-dtf51xad\\logs</code>"
      ],
      "text/plain": [
       "<IPython.core.display.HTML object>"
      ]
     },
     "metadata": {},
     "output_type": "display_data"
    },
    {
     "name": "stderr",
     "output_type": "stream",
     "text": [
      "wandb: Agent Starting Run: w66bpt05 with config:\n",
      "wandb: \tactivation: relu\n",
      "wandb: \tbc_weight_scale: 1.4759895665860787\n",
      "wandb: \thidden_layers: 6\n",
      "wandb: \tic_weight_scale: 0.14863473150036602\n",
      "wandb: \tinit_method: xavier\n",
      "wandb: \tinitial_lr: 0.005\n",
      "wandb: \tneurons_per_layer: 32\n",
      "wandb: \tpde_weight_scale: 6.082756757859612\n"
     ]
    },
    {
     "data": {
      "text/html": [
       "Tracking run with wandb version 0.21.0"
      ],
      "text/plain": [
       "<IPython.core.display.HTML object>"
      ]
     },
     "metadata": {},
     "output_type": "display_data"
    },
    {
     "data": {
      "text/html": [
       "Run data is saved locally in <code>c:\\Users\\tobys\\Desktop\\STAR\\dev_notebooks\\black_scholes\\sweep\\wandb\\run-20250715_213403-w66bpt05</code>"
      ],
      "text/plain": [
       "<IPython.core.display.HTML object>"
      ]
     },
     "metadata": {},
     "output_type": "display_data"
    },
    {
     "data": {
      "text/html": [
       "Syncing run <strong><a href='https://wandb.ai/tobiassafie-drexel-university/Black-Scholes-Architecture-Sweep/runs/w66bpt05' target=\"_blank\">wandering-sweep-12</a></strong> to <a href='https://wandb.ai/tobiassafie-drexel-university/Black-Scholes-Architecture-Sweep' target=\"_blank\">Weights & Biases</a> (<a href='https://wandb.me/developer-guide' target=\"_blank\">docs</a>)<br>Sweep page: <a href='https://wandb.ai/tobiassafie-drexel-university/Black-Scholes-Architecture-Sweep/sweeps/ie5y2esn' target=\"_blank\">https://wandb.ai/tobiassafie-drexel-university/Black-Scholes-Architecture-Sweep/sweeps/ie5y2esn</a>"
      ],
      "text/plain": [
       "<IPython.core.display.HTML object>"
      ]
     },
     "metadata": {},
     "output_type": "display_data"
    },
    {
     "data": {
      "text/html": [
       " View project at <a href='https://wandb.ai/tobiassafie-drexel-university/Black-Scholes-Architecture-Sweep' target=\"_blank\">https://wandb.ai/tobiassafie-drexel-university/Black-Scholes-Architecture-Sweep</a>"
      ],
      "text/plain": [
       "<IPython.core.display.HTML object>"
      ]
     },
     "metadata": {},
     "output_type": "display_data"
    },
    {
     "data": {
      "text/html": [
       " View sweep at <a href='https://wandb.ai/tobiassafie-drexel-university/Black-Scholes-Architecture-Sweep/sweeps/ie5y2esn' target=\"_blank\">https://wandb.ai/tobiassafie-drexel-university/Black-Scholes-Architecture-Sweep/sweeps/ie5y2esn</a>"
      ],
      "text/plain": [
       "<IPython.core.display.HTML object>"
      ]
     },
     "metadata": {},
     "output_type": "display_data"
    },
    {
     "data": {
      "text/html": [
       " View run at <a href='https://wandb.ai/tobiassafie-drexel-university/Black-Scholes-Architecture-Sweep/runs/w66bpt05' target=\"_blank\">https://wandb.ai/tobiassafie-drexel-university/Black-Scholes-Architecture-Sweep/runs/w66bpt05</a>"
      ],
      "text/plain": [
       "<IPython.core.display.HTML object>"
      ]
     },
     "metadata": {},
     "output_type": "display_data"
    },
    {
     "name": "stdout",
     "output_type": "stream",
     "text": [
      "[0] Total: 30406.23242, PDE: 0.00158, BC: 20217.31445, IC: 3805.82495\n",
      "[500] Total: 100.95731, PDE: 0.00603, BC: 2.17059, IC: 657.42963\n",
      "[1000] Total: 2.57432, PDE: 0.00187, BC: 0.31911, IC: 14.07446\n",
      "[1500] Total: 0.53232, PDE: 0.00142, BC: 0.12577, IC: 2.27425\n",
      "[2000] Total: 0.28912, PDE: 0.00236, BC: 0.00544, IC: 1.79460\n",
      "[2500] Total: 0.27496, PDE: 0.00145, BC: 0.00498, IC: 1.74107\n",
      "[3000] Total: 0.85986, PDE: 0.00089, BC: 0.01390, IC: 5.61048\n",
      "[3500] Total: 0.26514, PDE: 0.00090, BC: 0.00424, IC: 1.70476\n",
      "[4000] Total: 0.26151, PDE: 0.00077, BC: 0.00415, IC: 1.68685\n",
      "[4500] Total: 0.29397, PDE: 0.00077, BC: 0.03992, IC: 1.54993\n",
      "[5000] Total: 0.25691, PDE: 0.00073, BC: 0.00426, IC: 1.65614\n",
      "[5500] Total: 0.25517, PDE: 0.00067, BC: 0.00423, IC: 1.64736\n",
      "[6000] Total: 0.25363, PDE: 0.00064, BC: 0.00309, IC: 1.64962\n",
      "[6500] Total: 0.25135, PDE: 0.00055, BC: 0.00358, IC: 1.63282\n",
      "[7000] Total: 0.25383, PDE: 0.00046, BC: 0.00749, IC: 1.61464\n"
     ]
    },
    {
     "data": {
      "text/html": [],
      "text/plain": [
       "<IPython.core.display.HTML object>"
      ]
     },
     "metadata": {},
     "output_type": "display_data"
    },
    {
     "data": {
      "text/html": [
       "<br>    <style><br>        .wandb-row {<br>            display: flex;<br>            flex-direction: row;<br>            flex-wrap: wrap;<br>            justify-content: flex-start;<br>            width: 100%;<br>        }<br>        .wandb-col {<br>            display: flex;<br>            flex-direction: column;<br>            flex-basis: 100%;<br>            flex: 1;<br>            padding: 10px;<br>        }<br>    </style><br><div class=\"wandb-row\"><div class=\"wandb-col\"><h3>Run history:</h3><br/><table class=\"wandb\"><tr><td>bc_loss</td><td>█▁▁▂▁▁▁▁▁▁▁▁▁▁▁▁▁▁▁▁▁▁▁▁▁▁▁▁▁▁▁▁▁▁▁▁▁▁▁▁</td></tr><tr><td>epoch</td><td>▁▁▁▁▁▁▂▂▂▂▂▂▃▃▃▄▄▄▄▅▅▅▅▅▅▆▆▆▆▆▆▇▇▇██████</td></tr><tr><td>final_total_loss</td><td>▁</td></tr><tr><td>ic_loss</td><td>██▇▅▅▄▂▁▁▁▁▁▁▁▁▁▁▁▁▁▁▁▁▁▁▁▁▁▁▁▁▁▁▁▁▁▁▁▁▁</td></tr><tr><td>learning_rate</td><td>███▄▄▄▄▄▄▄▃▃▃▃▃▃▂▂▂▂▂▂▂▂▁▁▁▁▁▁▁▁▁▁▁▁▁▁▁▁</td></tr><tr><td>pde_loss</td><td>▂▇▂▂█▂▁▁▁▁▁▁▁▁▁▁▁▁▁▁▁▁▁▁▁▁▁▁▁▁▁▁▁▁▁▁▁▁▁▁</td></tr><tr><td>total_loss</td><td>██▇▆▆▄▂▁▄▁▁▁▁▁▁▁▁▁▁▁▁▁▁▁▁▁▁▁▁▁▁▁▁▁▁▁▁▁▁▁</td></tr></table><br/></div><div class=\"wandb-col\"><h3>Run summary:</h3><br/><table class=\"wandb\"><tr><td>bc_loss</td><td>0.00689</td></tr><tr><td>epoch</td><td>7499</td></tr><tr><td>final_total_loss</td><td>0.25201</td></tr><tr><td>ic_loss</td><td>1.60842</td></tr><tr><td>learning_rate</td><td>8e-05</td></tr><tr><td>pde_loss</td><td>0.00046</td></tr><tr><td>total_loss</td><td>0.25201</td></tr></table><br/></div></div>"
      ],
      "text/plain": [
       "<IPython.core.display.HTML object>"
      ]
     },
     "metadata": {},
     "output_type": "display_data"
    },
    {
     "data": {
      "text/html": [
       " View run <strong style=\"color:#cdcd00\">wandering-sweep-12</strong> at: <a href='https://wandb.ai/tobiassafie-drexel-university/Black-Scholes-Architecture-Sweep/runs/w66bpt05' target=\"_blank\">https://wandb.ai/tobiassafie-drexel-university/Black-Scholes-Architecture-Sweep/runs/w66bpt05</a><br> View project at: <a href='https://wandb.ai/tobiassafie-drexel-university/Black-Scholes-Architecture-Sweep' target=\"_blank\">https://wandb.ai/tobiassafie-drexel-university/Black-Scholes-Architecture-Sweep</a><br>Synced 5 W&B file(s), 0 media file(s), 0 artifact file(s) and 0 other file(s)"
      ],
      "text/plain": [
       "<IPython.core.display.HTML object>"
      ]
     },
     "metadata": {},
     "output_type": "display_data"
    },
    {
     "data": {
      "text/html": [
       "Find logs at: <code>.\\wandb\\run-20250715_213403-w66bpt05\\logs</code>"
      ],
      "text/plain": [
       "<IPython.core.display.HTML object>"
      ]
     },
     "metadata": {},
     "output_type": "display_data"
    },
    {
     "name": "stderr",
     "output_type": "stream",
     "text": [
      "wandb: Agent Starting Run: zcls8ysv with config:\n",
      "wandb: \tactivation: relu\n",
      "wandb: \tbc_weight_scale: 1.757579349775196\n",
      "wandb: \thidden_layers: 6\n",
      "wandb: \tic_weight_scale: 0.4509568589751368\n",
      "wandb: \tinit_method: xavier\n",
      "wandb: \tinitial_lr: 0.005\n",
      "wandb: \tneurons_per_layer: 32\n",
      "wandb: \tpde_weight_scale: 5.01492765318148\n"
     ]
    },
    {
     "data": {
      "text/html": [
       "Tracking run with wandb version 0.21.0"
      ],
      "text/plain": [
       "<IPython.core.display.HTML object>"
      ]
     },
     "metadata": {},
     "output_type": "display_data"
    },
    {
     "data": {
      "text/html": [
       "Run data is saved locally in <code>c:\\Users\\tobys\\Desktop\\STAR\\dev_notebooks\\black_scholes\\sweep\\wandb\\run-20250715_213450-zcls8ysv</code>"
      ],
      "text/plain": [
       "<IPython.core.display.HTML object>"
      ]
     },
     "metadata": {},
     "output_type": "display_data"
    },
    {
     "data": {
      "text/html": [
       "Syncing run <strong><a href='https://wandb.ai/tobiassafie-drexel-university/Black-Scholes-Architecture-Sweep/runs/zcls8ysv' target=\"_blank\">fanciful-sweep-13</a></strong> to <a href='https://wandb.ai/tobiassafie-drexel-university/Black-Scholes-Architecture-Sweep' target=\"_blank\">Weights & Biases</a> (<a href='https://wandb.me/developer-guide' target=\"_blank\">docs</a>)<br>Sweep page: <a href='https://wandb.ai/tobiassafie-drexel-university/Black-Scholes-Architecture-Sweep/sweeps/ie5y2esn' target=\"_blank\">https://wandb.ai/tobiassafie-drexel-university/Black-Scholes-Architecture-Sweep/sweeps/ie5y2esn</a>"
      ],
      "text/plain": [
       "<IPython.core.display.HTML object>"
      ]
     },
     "metadata": {},
     "output_type": "display_data"
    },
    {
     "data": {
      "text/html": [
       " View project at <a href='https://wandb.ai/tobiassafie-drexel-university/Black-Scholes-Architecture-Sweep' target=\"_blank\">https://wandb.ai/tobiassafie-drexel-university/Black-Scholes-Architecture-Sweep</a>"
      ],
      "text/plain": [
       "<IPython.core.display.HTML object>"
      ]
     },
     "metadata": {},
     "output_type": "display_data"
    },
    {
     "data": {
      "text/html": [
       " View sweep at <a href='https://wandb.ai/tobiassafie-drexel-university/Black-Scholes-Architecture-Sweep/sweeps/ie5y2esn' target=\"_blank\">https://wandb.ai/tobiassafie-drexel-university/Black-Scholes-Architecture-Sweep/sweeps/ie5y2esn</a>"
      ],
      "text/plain": [
       "<IPython.core.display.HTML object>"
      ]
     },
     "metadata": {},
     "output_type": "display_data"
    },
    {
     "data": {
      "text/html": [
       " View run at <a href='https://wandb.ai/tobiassafie-drexel-university/Black-Scholes-Architecture-Sweep/runs/zcls8ysv' target=\"_blank\">https://wandb.ai/tobiassafie-drexel-university/Black-Scholes-Architecture-Sweep/runs/zcls8ysv</a>"
      ],
      "text/plain": [
       "<IPython.core.display.HTML object>"
      ]
     },
     "metadata": {},
     "output_type": "display_data"
    },
    {
     "name": "stdout",
     "output_type": "stream",
     "text": [
      "[0] Total: 46230.72656, PDE: 0.00001, BC: 25036.05469, IC: 4940.32520\n",
      "[500] Total: 317.53625, PDE: 0.37764, BC: 8.82481, IC: 665.54510\n",
      "[1000] Total: 3.19084, PDE: 0.04184, BC: 0.09986, IC: 6.22124\n",
      "[1500] Total: 730.76404, PDE: 0.01018, BC: 396.99588, IC: 73.09183\n",
      "[2000] Total: 1.36938, PDE: 0.01889, BC: 0.05448, IC: 2.61419\n",
      "[2500] Total: 1.28726, PDE: 0.01797, BC: 0.05505, IC: 2.44008\n",
      "[3000] Total: 1.25583, PDE: 0.01857, BC: 0.05633, IC: 2.35870\n",
      "[3500] Total: 1.24130, PDE: 0.01880, BC: 0.05720, IC: 2.32055\n",
      "[4000] Total: 1.23451, PDE: 0.01883, BC: 0.05755, IC: 2.30385\n",
      "[4500] Total: 1.23206, PDE: 0.01887, BC: 0.05770, IC: 2.29736\n",
      "[5000] Total: 1.23147, PDE: 0.01892, BC: 0.05774, IC: 2.29531\n",
      "[5500] Total: 1.23118, PDE: 0.01892, BC: 0.05775, IC: 2.29460\n",
      "[6000] Total: 1.23108, PDE: 0.01892, BC: 0.05772, IC: 2.29451\n",
      "[6500] Total: 1.23105, PDE: 0.01893, BC: 0.05771, IC: 2.29450\n",
      "[7000] Total: 1.23104, PDE: 0.01892, BC: 0.05770, IC: 2.29450\n"
     ]
    },
    {
     "data": {
      "text/html": [],
      "text/plain": [
       "<IPython.core.display.HTML object>"
      ]
     },
     "metadata": {},
     "output_type": "display_data"
    },
    {
     "data": {
      "text/html": [
       "<br>    <style><br>        .wandb-row {<br>            display: flex;<br>            flex-direction: row;<br>            flex-wrap: wrap;<br>            justify-content: flex-start;<br>            width: 100%;<br>        }<br>        .wandb-col {<br>            display: flex;<br>            flex-direction: column;<br>            flex-basis: 100%;<br>            flex: 1;<br>            padding: 10px;<br>        }<br>    </style><br><div class=\"wandb-row\"><div class=\"wandb-col\"><h3>Run history:</h3><br/><table class=\"wandb\"><tr><td>bc_loss</td><td>█▁▁▁▁▁▁▁▁▁▁▁▁▁▁▁▁▁▁▁▁▁▁▁▁▁▁▁▁▁▁▁▁▁▁▁▁▁▁▁</td></tr><tr><td>epoch</td><td>▁▁▁▁▁▂▂▂▂▃▃▃▃▃▃▄▄▄▄▅▅▅▅▅▅▆▆▆▆▆▇▇▇▇▇▇▇▇██</td></tr><tr><td>final_total_loss</td><td>▁</td></tr><tr><td>ic_loss</td><td>█▇▅▃▂▁▁▁▁▁▁▁▁▁▁▁▁▁▁▁▁▁▁▁▁▁▁▁▁▁▁▁▁▁▁▁▁▁▁▁</td></tr><tr><td>learning_rate</td><td>█████████████████▃▃▂▁▁▁▁▁▁▁▁▁▁▁▁▁▁▁▁▁▁▁▁</td></tr><tr><td>pde_loss</td><td>▁▄▇▇█▃▂▃▂▂▁▁▁▁▁▁▁▁▁▁▁▁▁▁▁▁▁▁▁▁▁▁▁▁▁▁▁▁▁▁</td></tr><tr><td>total_loss</td><td>█▅▆▂▁▁▁▁▁▁▁▁▁▁▁▁▁▁▁▁▁▁▁▁▁▁▁▁▁▁▁▁▁▁▁▁▁▁▁▁</td></tr></table><br/></div><div class=\"wandb-col\"><h3>Run summary:</h3><br/><table class=\"wandb\"><tr><td>bc_loss</td><td>0.0577</td></tr><tr><td>epoch</td><td>7499</td></tr><tr><td>final_total_loss</td><td>1.23104</td></tr><tr><td>ic_loss</td><td>2.2945</td></tr><tr><td>learning_rate</td><td>0.0</td></tr><tr><td>pde_loss</td><td>0.01893</td></tr><tr><td>total_loss</td><td>1.23104</td></tr></table><br/></div></div>"
      ],
      "text/plain": [
       "<IPython.core.display.HTML object>"
      ]
     },
     "metadata": {},
     "output_type": "display_data"
    },
    {
     "data": {
      "text/html": [
       " View run <strong style=\"color:#cdcd00\">fanciful-sweep-13</strong> at: <a href='https://wandb.ai/tobiassafie-drexel-university/Black-Scholes-Architecture-Sweep/runs/zcls8ysv' target=\"_blank\">https://wandb.ai/tobiassafie-drexel-university/Black-Scholes-Architecture-Sweep/runs/zcls8ysv</a><br> View project at: <a href='https://wandb.ai/tobiassafie-drexel-university/Black-Scholes-Architecture-Sweep' target=\"_blank\">https://wandb.ai/tobiassafie-drexel-university/Black-Scholes-Architecture-Sweep</a><br>Synced 5 W&B file(s), 0 media file(s), 0 artifact file(s) and 0 other file(s)"
      ],
      "text/plain": [
       "<IPython.core.display.HTML object>"
      ]
     },
     "metadata": {},
     "output_type": "display_data"
    },
    {
     "data": {
      "text/html": [
       "Find logs at: <code>.\\wandb\\run-20250715_213450-zcls8ysv\\logs</code>"
      ],
      "text/plain": [
       "<IPython.core.display.HTML object>"
      ]
     },
     "metadata": {},
     "output_type": "display_data"
    },
    {
     "name": "stderr",
     "output_type": "stream",
     "text": [
      "wandb: Agent Starting Run: jctvo1xa with config:\n",
      "wandb: \tactivation: relu\n",
      "wandb: \tbc_weight_scale: 0.9773598889079382\n",
      "wandb: \thidden_layers: 6\n",
      "wandb: \tic_weight_scale: 0.36822735151508496\n",
      "wandb: \tinit_method: xavier\n",
      "wandb: \tinitial_lr: 0.005\n",
      "wandb: \tneurons_per_layer: 32\n",
      "wandb: \tpde_weight_scale: 7.801056134046477\n"
     ]
    },
    {
     "data": {
      "text/html": [
       "Tracking run with wandb version 0.21.0"
      ],
      "text/plain": [
       "<IPython.core.display.HTML object>"
      ]
     },
     "metadata": {},
     "output_type": "display_data"
    },
    {
     "data": {
      "text/html": [
       "Run data is saved locally in <code>c:\\Users\\tobys\\Desktop\\STAR\\dev_notebooks\\black_scholes\\sweep\\wandb\\run-20250715_213536-jctvo1xa</code>"
      ],
      "text/plain": [
       "<IPython.core.display.HTML object>"
      ]
     },
     "metadata": {},
     "output_type": "display_data"
    },
    {
     "data": {
      "text/html": [
       "Syncing run <strong><a href='https://wandb.ai/tobiassafie-drexel-university/Black-Scholes-Architecture-Sweep/runs/jctvo1xa' target=\"_blank\">azure-sweep-14</a></strong> to <a href='https://wandb.ai/tobiassafie-drexel-university/Black-Scholes-Architecture-Sweep' target=\"_blank\">Weights & Biases</a> (<a href='https://wandb.me/developer-guide' target=\"_blank\">docs</a>)<br>Sweep page: <a href='https://wandb.ai/tobiassafie-drexel-university/Black-Scholes-Architecture-Sweep/sweeps/ie5y2esn' target=\"_blank\">https://wandb.ai/tobiassafie-drexel-university/Black-Scholes-Architecture-Sweep/sweeps/ie5y2esn</a>"
      ],
      "text/plain": [
       "<IPython.core.display.HTML object>"
      ]
     },
     "metadata": {},
     "output_type": "display_data"
    },
    {
     "data": {
      "text/html": [
       " View project at <a href='https://wandb.ai/tobiassafie-drexel-university/Black-Scholes-Architecture-Sweep' target=\"_blank\">https://wandb.ai/tobiassafie-drexel-university/Black-Scholes-Architecture-Sweep</a>"
      ],
      "text/plain": [
       "<IPython.core.display.HTML object>"
      ]
     },
     "metadata": {},
     "output_type": "display_data"
    },
    {
     "data": {
      "text/html": [
       " View sweep at <a href='https://wandb.ai/tobiassafie-drexel-university/Black-Scholes-Architecture-Sweep/sweeps/ie5y2esn' target=\"_blank\">https://wandb.ai/tobiassafie-drexel-university/Black-Scholes-Architecture-Sweep/sweeps/ie5y2esn</a>"
      ],
      "text/plain": [
       "<IPython.core.display.HTML object>"
      ]
     },
     "metadata": {},
     "output_type": "display_data"
    },
    {
     "data": {
      "text/html": [
       " View run at <a href='https://wandb.ai/tobiassafie-drexel-university/Black-Scholes-Architecture-Sweep/runs/jctvo1xa' target=\"_blank\">https://wandb.ai/tobiassafie-drexel-university/Black-Scholes-Architecture-Sweep/runs/jctvo1xa</a>"
      ],
      "text/plain": [
       "<IPython.core.display.HTML object>"
      ]
     },
     "metadata": {},
     "output_type": "display_data"
    },
    {
     "name": "stdout",
     "output_type": "stream",
     "text": [
      "[0] Total: 24184.54883, PDE: 0.00003, BC: 23060.67969, IC: 4469.96729\n",
      "[500] Total: 354.08661, PDE: 0.08944, BC: 10.58727, IC: 931.60199\n",
      "[1000] Total: 35.48841, PDE: 0.00322, BC: 29.92314, IC: 16.88533\n",
      "[1500] Total: 11.31803, PDE: 0.00691, BC: 2.27819, IC: 24.54326\n",
      "[2000] Total: 0.79484, PDE: 0.00600, BC: 0.13278, IC: 1.67913\n",
      "[2500] Total: 0.78212, PDE: 0.00455, BC: 0.13402, IC: 1.67198\n",
      "[3000] Total: 0.77579, PDE: 0.00385, BC: 0.13451, IC: 1.66817\n",
      "[3500] Total: 0.77012, PDE: 0.00329, BC: 0.13467, IC: 1.66420\n",
      "[4000] Total: 0.76433, PDE: 0.00278, BC: 0.12920, IC: 1.67393\n",
      "[4500] Total: 0.76694, PDE: 0.00363, BC: 0.13401, IC: 1.65022\n",
      "[5000] Total: 0.75575, PDE: 0.00252, BC: 0.13306, IC: 1.64584\n",
      "[5500] Total: 0.76086, PDE: 0.00336, BC: 0.13297, IC: 1.64209\n",
      "[6000] Total: 0.74793, PDE: 0.00207, BC: 0.13203, IC: 1.63689\n",
      "[6500] Total: 0.75328, PDE: 0.00311, BC: 0.13190, IC: 1.62964\n",
      "[7000] Total: 0.74335, PDE: 0.00207, BC: 0.13183, IC: 1.62492\n"
     ]
    },
    {
     "data": {
      "text/html": [],
      "text/plain": [
       "<IPython.core.display.HTML object>"
      ]
     },
     "metadata": {},
     "output_type": "display_data"
    },
    {
     "data": {
      "text/html": [
       "<br>    <style><br>        .wandb-row {<br>            display: flex;<br>            flex-direction: row;<br>            flex-wrap: wrap;<br>            justify-content: flex-start;<br>            width: 100%;<br>        }<br>        .wandb-col {<br>            display: flex;<br>            flex-direction: column;<br>            flex-basis: 100%;<br>            flex: 1;<br>            padding: 10px;<br>        }<br>    </style><br><div class=\"wandb-row\"><div class=\"wandb-col\"><h3>Run history:</h3><br/><table class=\"wandb\"><tr><td>bc_loss</td><td>▂▄██▁▁▁▁▁▁▁▁▁▁▁▁▁▁▁▁▁▁▁▁▁▁▁▁▁▁▁▁▁▁▁▁▁▁▁▁</td></tr><tr><td>epoch</td><td>▁▁▁▁▁▂▂▂▂▂▃▃▃▃▄▄▄▄▄▄▅▅▅▅▅▅▆▆▆▆▆▆▆▆▇▇▇███</td></tr><tr><td>final_total_loss</td><td>▁</td></tr><tr><td>ic_loss</td><td>▄█▆▆▅▁▁▁▁▁▁▁▁▁▁▁▁▁▁▁▁▁▁▁▁▁▁▁▁▁▁▁▁▁▁▁▁▁▁▁</td></tr><tr><td>learning_rate</td><td>████▄▄▄▄▄▃▃▃▃▂▂▂▂▂▂▂▂▂▂▁▁▁▁▁▁▁▁▁▁▁▁▁▁▁▁▁</td></tr><tr><td>pde_loss</td><td>▁███▂▂▂▂▂▂▂▂▁▁▁▁▁▁▁▁▁▁▁▁▁▁▁▁▁▁▁▁▁▁▁▁▁▁▁▁</td></tr><tr><td>total_loss</td><td>██▆▇▇▆▆▅▁▁▁▁▁▁▁▁▁▁▁▁▁▁▁▁▁▁▁▁▁▁▁▁▁▁▁▁▁▁▁▁</td></tr></table><br/></div><div class=\"wandb-col\"><h3>Run summary:</h3><br/><table class=\"wandb\"><tr><td>bc_loss</td><td>0.13182</td></tr><tr><td>epoch</td><td>7499</td></tr><tr><td>final_total_loss</td><td>0.75052</td></tr><tr><td>ic_loss</td><td>1.62265</td></tr><tr><td>learning_rate</td><td>8e-05</td></tr><tr><td>pde_loss</td><td>0.0031</td></tr><tr><td>total_loss</td><td>0.75052</td></tr></table><br/></div></div>"
      ],
      "text/plain": [
       "<IPython.core.display.HTML object>"
      ]
     },
     "metadata": {},
     "output_type": "display_data"
    },
    {
     "data": {
      "text/html": [
       " View run <strong style=\"color:#cdcd00\">azure-sweep-14</strong> at: <a href='https://wandb.ai/tobiassafie-drexel-university/Black-Scholes-Architecture-Sweep/runs/jctvo1xa' target=\"_blank\">https://wandb.ai/tobiassafie-drexel-university/Black-Scholes-Architecture-Sweep/runs/jctvo1xa</a><br> View project at: <a href='https://wandb.ai/tobiassafie-drexel-university/Black-Scholes-Architecture-Sweep' target=\"_blank\">https://wandb.ai/tobiassafie-drexel-university/Black-Scholes-Architecture-Sweep</a><br>Synced 5 W&B file(s), 0 media file(s), 0 artifact file(s) and 0 other file(s)"
      ],
      "text/plain": [
       "<IPython.core.display.HTML object>"
      ]
     },
     "metadata": {},
     "output_type": "display_data"
    },
    {
     "data": {
      "text/html": [
       "Find logs at: <code>.\\wandb\\run-20250715_213536-jctvo1xa\\logs</code>"
      ],
      "text/plain": [
       "<IPython.core.display.HTML object>"
      ]
     },
     "metadata": {},
     "output_type": "display_data"
    },
    {
     "name": "stderr",
     "output_type": "stream",
     "text": [
      "wandb: Agent Starting Run: fe174zqg with config:\n",
      "wandb: \tactivation: relu\n",
      "wandb: \tbc_weight_scale: 0.1020870231624886\n",
      "wandb: \thidden_layers: 6\n",
      "wandb: \tic_weight_scale: 0.98289115054011\n",
      "wandb: \tinit_method: xavier\n",
      "wandb: \tinitial_lr: 0.005\n",
      "wandb: \tneurons_per_layer: 32\n",
      "wandb: \tpde_weight_scale: 5.5030013708687076\n"
     ]
    },
    {
     "data": {
      "text/html": [
       "Tracking run with wandb version 0.21.0"
      ],
      "text/plain": [
       "<IPython.core.display.HTML object>"
      ]
     },
     "metadata": {},
     "output_type": "display_data"
    },
    {
     "data": {
      "text/html": [
       "Run data is saved locally in <code>c:\\Users\\tobys\\Desktop\\STAR\\dev_notebooks\\black_scholes\\sweep\\wandb\\run-20250715_213622-fe174zqg</code>"
      ],
      "text/plain": [
       "<IPython.core.display.HTML object>"
      ]
     },
     "metadata": {},
     "output_type": "display_data"
    },
    {
     "data": {
      "text/html": [
       "Syncing run <strong><a href='https://wandb.ai/tobiassafie-drexel-university/Black-Scholes-Architecture-Sweep/runs/fe174zqg' target=\"_blank\">noble-sweep-15</a></strong> to <a href='https://wandb.ai/tobiassafie-drexel-university/Black-Scholes-Architecture-Sweep' target=\"_blank\">Weights & Biases</a> (<a href='https://wandb.me/developer-guide' target=\"_blank\">docs</a>)<br>Sweep page: <a href='https://wandb.ai/tobiassafie-drexel-university/Black-Scholes-Architecture-Sweep/sweeps/ie5y2esn' target=\"_blank\">https://wandb.ai/tobiassafie-drexel-university/Black-Scholes-Architecture-Sweep/sweeps/ie5y2esn</a>"
      ],
      "text/plain": [
       "<IPython.core.display.HTML object>"
      ]
     },
     "metadata": {},
     "output_type": "display_data"
    },
    {
     "data": {
      "text/html": [
       " View project at <a href='https://wandb.ai/tobiassafie-drexel-university/Black-Scholes-Architecture-Sweep' target=\"_blank\">https://wandb.ai/tobiassafie-drexel-university/Black-Scholes-Architecture-Sweep</a>"
      ],
      "text/plain": [
       "<IPython.core.display.HTML object>"
      ]
     },
     "metadata": {},
     "output_type": "display_data"
    },
    {
     "data": {
      "text/html": [
       " View sweep at <a href='https://wandb.ai/tobiassafie-drexel-university/Black-Scholes-Architecture-Sweep/sweeps/ie5y2esn' target=\"_blank\">https://wandb.ai/tobiassafie-drexel-university/Black-Scholes-Architecture-Sweep/sweeps/ie5y2esn</a>"
      ],
      "text/plain": [
       "<IPython.core.display.HTML object>"
      ]
     },
     "metadata": {},
     "output_type": "display_data"
    },
    {
     "data": {
      "text/html": [
       " View run at <a href='https://wandb.ai/tobiassafie-drexel-university/Black-Scholes-Architecture-Sweep/runs/fe174zqg' target=\"_blank\">https://wandb.ai/tobiassafie-drexel-university/Black-Scholes-Architecture-Sweep/runs/fe174zqg</a>"
      ],
      "text/plain": [
       "<IPython.core.display.HTML object>"
      ]
     },
     "metadata": {},
     "output_type": "display_data"
    },
    {
     "name": "stdout",
     "output_type": "stream",
     "text": [
      "[0] Total: 5968.43750, PDE: 0.00006, BC: 20712.97461, IC: 3920.99512\n",
      "[500] Total: 15.72355, PDE: 0.00239, BC: 80.55499, IC: 7.61711\n",
      "[1000] Total: 4.10103, PDE: 0.00220, BC: 0.05504, IC: 4.15438\n",
      "[1500] Total: 1.21695, PDE: 0.00194, BC: 6.57475, IC: 0.54438\n",
      "[2000] Total: 1.12916, PDE: 0.00209, BC: 5.06634, IC: 0.61091\n",
      "[2500] Total: 2.35705, PDE: 0.00277, BC: 0.31902, IC: 2.34941\n",
      "[3000] Total: 1.07980, PDE: 0.00332, BC: 5.23017, IC: 0.53681\n",
      "[3500] Total: 1.05271, PDE: 0.00431, BC: 4.92379, IC: 0.53550\n",
      "[4000] Total: 1.10476, PDE: 0.00512, BC: 6.36611, IC: 0.43412\n",
      "[4500] Total: 1.29597, PDE: 0.00515, BC: 9.13674, IC: 0.34069\n",
      "[5000] Total: 1.61209, PDE: 0.00487, BC: 11.78920, IC: 0.38840\n",
      "[5500] Total: 1.24938, PDE: 0.00545, BC: 3.04810, IC: 0.92401\n",
      "[6000] Total: 2.16886, PDE: 0.00503, BC: 14.53680, IC: 0.66860\n",
      "[6500] Total: 1.92090, PDE: 0.00397, BC: 13.72289, IC: 0.50681\n",
      "[7000] Total: 0.99597, PDE: 0.00286, BC: 4.30187, IC: 0.55047\n"
     ]
    },
    {
     "data": {
      "text/html": [],
      "text/plain": [
       "<IPython.core.display.HTML object>"
      ]
     },
     "metadata": {},
     "output_type": "display_data"
    },
    {
     "data": {
      "text/html": [
       "<br>    <style><br>        .wandb-row {<br>            display: flex;<br>            flex-direction: row;<br>            flex-wrap: wrap;<br>            justify-content: flex-start;<br>            width: 100%;<br>        }<br>        .wandb-col {<br>            display: flex;<br>            flex-direction: column;<br>            flex-basis: 100%;<br>            flex: 1;<br>            padding: 10px;<br>        }<br>    </style><br><div class=\"wandb-row\"><div class=\"wandb-col\"><h3>Run history:</h3><br/><table class=\"wandb\"><tr><td>bc_loss</td><td>▁▁▁▂▂█▁▁▁▁▁▁▂▁▂▁▁▁▁▁▁▁▂▁▂▁▁▁▂▁▁▁▂▁▁▁▁▁▁▁</td></tr><tr><td>epoch</td><td>▁▁▂▂▂▂▂▂▃▃▃▄▄▄▄▄▄▄▄▅▅▅▅▅▆▆▆▆▆▆▆▇▇▇▇▇████</td></tr><tr><td>final_total_loss</td><td>▁</td></tr><tr><td>ic_loss</td><td>█▂▂▃▂▁▁▁▁▁▁▁▁▁▁▁▁▁▁▁▁▁▁▁▁▁▁▁▁▁▁▁▁▁▁▁▁▁▁▁</td></tr><tr><td>learning_rate</td><td>████▄▄▄▄▄▄▄▄▄▄▄▂▂▂▂▂▂▂▂▂▂▂▂▂▂▂▂▂▂▂▂▂▂▂▂▁</td></tr><tr><td>pde_loss</td><td>▂█▂▃▂▁▁▁▁▁▁▁▁▁▂▂▂▂▂▂▂▂▃▃▂▂▃▃▃▃▃▃▃▃▃▁▁▂▂▂</td></tr><tr><td>total_loss</td><td>█▁▁▁▁▁▁▁▁▁▁▁▁▁▁▁▁▁▁▁▁▁▁▁▁▁▁▁▁▁▁▁▁▁▁▁▁▁▁▁</td></tr></table><br/></div><div class=\"wandb-col\"><h3>Run summary:</h3><br/><table class=\"wandb\"><tr><td>bc_loss</td><td>4.187</td></tr><tr><td>epoch</td><td>7499</td></tr><tr><td>final_total_loss</td><td>0.9857</td></tr><tr><td>ic_loss</td><td>0.54352</td></tr><tr><td>learning_rate</td><td>0.00031</td></tr><tr><td>pde_loss</td><td>0.00437</td></tr><tr><td>total_loss</td><td>0.9857</td></tr></table><br/></div></div>"
      ],
      "text/plain": [
       "<IPython.core.display.HTML object>"
      ]
     },
     "metadata": {},
     "output_type": "display_data"
    },
    {
     "data": {
      "text/html": [
       " View run <strong style=\"color:#cdcd00\">noble-sweep-15</strong> at: <a href='https://wandb.ai/tobiassafie-drexel-university/Black-Scholes-Architecture-Sweep/runs/fe174zqg' target=\"_blank\">https://wandb.ai/tobiassafie-drexel-university/Black-Scholes-Architecture-Sweep/runs/fe174zqg</a><br> View project at: <a href='https://wandb.ai/tobiassafie-drexel-university/Black-Scholes-Architecture-Sweep' target=\"_blank\">https://wandb.ai/tobiassafie-drexel-university/Black-Scholes-Architecture-Sweep</a><br>Synced 5 W&B file(s), 0 media file(s), 0 artifact file(s) and 0 other file(s)"
      ],
      "text/plain": [
       "<IPython.core.display.HTML object>"
      ]
     },
     "metadata": {},
     "output_type": "display_data"
    },
    {
     "data": {
      "text/html": [
       "Find logs at: <code>.\\wandb\\run-20250715_213622-fe174zqg\\logs</code>"
      ],
      "text/plain": [
       "<IPython.core.display.HTML object>"
      ]
     },
     "metadata": {},
     "output_type": "display_data"
    },
    {
     "name": "stderr",
     "output_type": "stream",
     "text": [
      "wandb: Agent Starting Run: 6nh121p0 with config:\n",
      "wandb: \tactivation: relu\n",
      "wandb: \tbc_weight_scale: 0.39136658788189266\n",
      "wandb: \thidden_layers: 6\n",
      "wandb: \tic_weight_scale: 0.33998365190562285\n",
      "wandb: \tinit_method: xavier\n",
      "wandb: \tinitial_lr: 0.005\n",
      "wandb: \tneurons_per_layer: 32\n",
      "wandb: \tpde_weight_scale: 7.367408401980235\n"
     ]
    },
    {
     "data": {
      "text/html": [
       "Tracking run with wandb version 0.21.0"
      ],
      "text/plain": [
       "<IPython.core.display.HTML object>"
      ]
     },
     "metadata": {},
     "output_type": "display_data"
    },
    {
     "data": {
      "text/html": [
       "Run data is saved locally in <code>c:\\Users\\tobys\\Desktop\\STAR\\dev_notebooks\\black_scholes\\sweep\\wandb\\run-20250715_213714-6nh121p0</code>"
      ],
      "text/plain": [
       "<IPython.core.display.HTML object>"
      ]
     },
     "metadata": {},
     "output_type": "display_data"
    },
    {
     "data": {
      "text/html": [
       "Syncing run <strong><a href='https://wandb.ai/tobiassafie-drexel-university/Black-Scholes-Architecture-Sweep/runs/6nh121p0' target=\"_blank\">earnest-sweep-16</a></strong> to <a href='https://wandb.ai/tobiassafie-drexel-university/Black-Scholes-Architecture-Sweep' target=\"_blank\">Weights & Biases</a> (<a href='https://wandb.me/developer-guide' target=\"_blank\">docs</a>)<br>Sweep page: <a href='https://wandb.ai/tobiassafie-drexel-university/Black-Scholes-Architecture-Sweep/sweeps/ie5y2esn' target=\"_blank\">https://wandb.ai/tobiassafie-drexel-university/Black-Scholes-Architecture-Sweep/sweeps/ie5y2esn</a>"
      ],
      "text/plain": [
       "<IPython.core.display.HTML object>"
      ]
     },
     "metadata": {},
     "output_type": "display_data"
    },
    {
     "data": {
      "text/html": [
       " View project at <a href='https://wandb.ai/tobiassafie-drexel-university/Black-Scholes-Architecture-Sweep' target=\"_blank\">https://wandb.ai/tobiassafie-drexel-university/Black-Scholes-Architecture-Sweep</a>"
      ],
      "text/plain": [
       "<IPython.core.display.HTML object>"
      ]
     },
     "metadata": {},
     "output_type": "display_data"
    },
    {
     "data": {
      "text/html": [
       " View sweep at <a href='https://wandb.ai/tobiassafie-drexel-university/Black-Scholes-Architecture-Sweep/sweeps/ie5y2esn' target=\"_blank\">https://wandb.ai/tobiassafie-drexel-university/Black-Scholes-Architecture-Sweep/sweeps/ie5y2esn</a>"
      ],
      "text/plain": [
       "<IPython.core.display.HTML object>"
      ]
     },
     "metadata": {},
     "output_type": "display_data"
    },
    {
     "data": {
      "text/html": [
       " View run at <a href='https://wandb.ai/tobiassafie-drexel-university/Black-Scholes-Architecture-Sweep/runs/6nh121p0' target=\"_blank\">https://wandb.ai/tobiassafie-drexel-university/Black-Scholes-Architecture-Sweep/runs/6nh121p0</a>"
      ],
      "text/plain": [
       "<IPython.core.display.HTML object>"
      ]
     },
     "metadata": {},
     "output_type": "display_data"
    },
    {
     "name": "stdout",
     "output_type": "stream",
     "text": [
      "[0] Total: 12373.18945, PDE: 0.00040, BC: 26926.93359, IC: 5396.97510\n",
      "[500] Total: 148.59944, PDE: 0.11015, BC: 9.55641, IC: 423.69064\n",
      "[1000] Total: 6.30852, PDE: 0.00325, BC: 14.47623, IC: 1.82081\n",
      "[1500] Total: 0.60643, PDE: 0.00286, BC: 0.20445, IC: 1.48633\n",
      "[2000] Total: 0.58535, PDE: 0.00214, BC: 0.18885, IC: 1.45785\n",
      "[2500] Total: 1.34836, PDE: 0.00185, BC: 2.43171, IC: 1.12667\n",
      "[3000] Total: 0.57151, PDE: 0.00168, BC: 0.19666, IC: 1.41825\n",
      "[3500] Total: 0.56504, PDE: 0.00166, BC: 0.19470, IC: 1.40178\n",
      "[4000] Total: 9.12242, PDE: 0.00142, BC: 5.73513, IC: 20.19935\n",
      "[4500] Total: 1.92178, PDE: 0.00155, BC: 3.22859, IC: 1.90238\n",
      "[5000] Total: 0.55268, PDE: 0.00149, BC: 0.18754, IC: 1.37751\n",
      "[5500] Total: 0.54928, PDE: 0.00149, BC: 0.18667, IC: 1.36838\n",
      "[6000] Total: 0.54509, PDE: 0.00146, BC: 0.18016, IC: 1.36434\n",
      "[6500] Total: 0.54215, PDE: 0.00147, BC: 0.17898, IC: 1.35680\n",
      "[7000] Total: 0.68390, PDE: 0.00130, BC: 0.79455, IC: 1.06884\n"
     ]
    },
    {
     "data": {
      "text/html": [],
      "text/plain": [
       "<IPython.core.display.HTML object>"
      ]
     },
     "metadata": {},
     "output_type": "display_data"
    },
    {
     "data": {
      "text/html": [
       "<br>    <style><br>        .wandb-row {<br>            display: flex;<br>            flex-direction: row;<br>            flex-wrap: wrap;<br>            justify-content: flex-start;<br>            width: 100%;<br>        }<br>        .wandb-col {<br>            display: flex;<br>            flex-direction: column;<br>            flex-basis: 100%;<br>            flex: 1;<br>            padding: 10px;<br>        }<br>    </style><br><div class=\"wandb-row\"><div class=\"wandb-col\"><h3>Run history:</h3><br/><table class=\"wandb\"><tr><td>bc_loss</td><td>▄█▂▂▁▁▁▁▁▁▁▁▁▁▁▁▁▁▁▁▁▁▁▁▁▁▁▁▁▁▁▁▁▁▁▁▁▁▁▁</td></tr><tr><td>epoch</td><td>▁▁▁▂▂▂▂▂▂▃▃▃▃▃▃▃▃▄▄▄▄▄▄▅▅▅▅▅▅▆▆▆▆▆▆▇▇▇▇█</td></tr><tr><td>final_total_loss</td><td>▁</td></tr><tr><td>ic_loss</td><td>▆█▃▃▃▁▁▁▁▁▁▁▁▁▁▁▁▁▁▁▁▁▁▁▁▁▁▁▁▁▁▁▁▁▁▁▁▁▁▁</td></tr><tr><td>learning_rate</td><td>██████▄▄▄▄▄▄▄▄▄▂▂▂▂▂▁▁▁▁▁▁▁▁▁▁▁▁▁▁▁▁▁▁▁▁</td></tr><tr><td>pde_loss</td><td>▄▇█▁▁▁▁▁▁▁▁▁▁▁▁▁▁▁▁▁▁▁▁▁▁▁▁▁▁▁▁▁▁▁▁▁▁▁▁▁</td></tr><tr><td>total_loss</td><td>█▇▆▆▂▁▁▁▁▁▁▁▁▁▁▁▁▁▁▁▁▁▁▁▁▁▁▁▁▁▁▁▁▁▁▁▁▁▁▁</td></tr></table><br/></div><div class=\"wandb-col\"><h3>Run summary:</h3><br/><table class=\"wandb\"><tr><td>bc_loss</td><td>0.20563</td></tr><tr><td>epoch</td><td>7499</td></tr><tr><td>final_total_loss</td><td>0.52645</td></tr><tr><td>ic_loss</td><td>1.28291</td></tr><tr><td>learning_rate</td><td>0.00063</td></tr><tr><td>pde_loss</td><td>0.00133</td></tr><tr><td>total_loss</td><td>0.52645</td></tr></table><br/></div></div>"
      ],
      "text/plain": [
       "<IPython.core.display.HTML object>"
      ]
     },
     "metadata": {},
     "output_type": "display_data"
    },
    {
     "data": {
      "text/html": [
       " View run <strong style=\"color:#cdcd00\">earnest-sweep-16</strong> at: <a href='https://wandb.ai/tobiassafie-drexel-university/Black-Scholes-Architecture-Sweep/runs/6nh121p0' target=\"_blank\">https://wandb.ai/tobiassafie-drexel-university/Black-Scholes-Architecture-Sweep/runs/6nh121p0</a><br> View project at: <a href='https://wandb.ai/tobiassafie-drexel-university/Black-Scholes-Architecture-Sweep' target=\"_blank\">https://wandb.ai/tobiassafie-drexel-university/Black-Scholes-Architecture-Sweep</a><br>Synced 5 W&B file(s), 0 media file(s), 0 artifact file(s) and 0 other file(s)"
      ],
      "text/plain": [
       "<IPython.core.display.HTML object>"
      ]
     },
     "metadata": {},
     "output_type": "display_data"
    },
    {
     "data": {
      "text/html": [
       "Find logs at: <code>.\\wandb\\run-20250715_213714-6nh121p0\\logs</code>"
      ],
      "text/plain": [
       "<IPython.core.display.HTML object>"
      ]
     },
     "metadata": {},
     "output_type": "display_data"
    },
    {
     "name": "stderr",
     "output_type": "stream",
     "text": [
      "wandb: Agent Starting Run: w8nuw2y2 with config:\n",
      "wandb: \tactivation: relu\n",
      "wandb: \tbc_weight_scale: 0.150759304013193\n",
      "wandb: \thidden_layers: 6\n",
      "wandb: \tic_weight_scale: 1.9660196528449565\n",
      "wandb: \tinit_method: xavier\n",
      "wandb: \tinitial_lr: 0.005\n",
      "wandb: \tneurons_per_layer: 32\n",
      "wandb: \tpde_weight_scale: 14.357546609418982\n"
     ]
    },
    {
     "data": {
      "text/html": [
       "Tracking run with wandb version 0.21.0"
      ],
      "text/plain": [
       "<IPython.core.display.HTML object>"
      ]
     },
     "metadata": {},
     "output_type": "display_data"
    },
    {
     "data": {
      "text/html": [
       "Run data is saved locally in <code>c:\\Users\\tobys\\Desktop\\STAR\\dev_notebooks\\black_scholes\\sweep\\wandb\\run-20250715_213806-w8nuw2y2</code>"
      ],
      "text/plain": [
       "<IPython.core.display.HTML object>"
      ]
     },
     "metadata": {},
     "output_type": "display_data"
    },
    {
     "data": {
      "text/html": [
       "Syncing run <strong><a href='https://wandb.ai/tobiassafie-drexel-university/Black-Scholes-Architecture-Sweep/runs/w8nuw2y2' target=\"_blank\">dry-sweep-17</a></strong> to <a href='https://wandb.ai/tobiassafie-drexel-university/Black-Scholes-Architecture-Sweep' target=\"_blank\">Weights & Biases</a> (<a href='https://wandb.me/developer-guide' target=\"_blank\">docs</a>)<br>Sweep page: <a href='https://wandb.ai/tobiassafie-drexel-university/Black-Scholes-Architecture-Sweep/sweeps/ie5y2esn' target=\"_blank\">https://wandb.ai/tobiassafie-drexel-university/Black-Scholes-Architecture-Sweep/sweeps/ie5y2esn</a>"
      ],
      "text/plain": [
       "<IPython.core.display.HTML object>"
      ]
     },
     "metadata": {},
     "output_type": "display_data"
    },
    {
     "data": {
      "text/html": [
       " View project at <a href='https://wandb.ai/tobiassafie-drexel-university/Black-Scholes-Architecture-Sweep' target=\"_blank\">https://wandb.ai/tobiassafie-drexel-university/Black-Scholes-Architecture-Sweep</a>"
      ],
      "text/plain": [
       "<IPython.core.display.HTML object>"
      ]
     },
     "metadata": {},
     "output_type": "display_data"
    },
    {
     "data": {
      "text/html": [
       " View sweep at <a href='https://wandb.ai/tobiassafie-drexel-university/Black-Scholes-Architecture-Sweep/sweeps/ie5y2esn' target=\"_blank\">https://wandb.ai/tobiassafie-drexel-university/Black-Scholes-Architecture-Sweep/sweeps/ie5y2esn</a>"
      ],
      "text/plain": [
       "<IPython.core.display.HTML object>"
      ]
     },
     "metadata": {},
     "output_type": "display_data"
    },
    {
     "data": {
      "text/html": [
       " View run at <a href='https://wandb.ai/tobiassafie-drexel-university/Black-Scholes-Architecture-Sweep/runs/w8nuw2y2' target=\"_blank\">https://wandb.ai/tobiassafie-drexel-university/Black-Scholes-Architecture-Sweep/runs/w8nuw2y2</a>"
      ],
      "text/plain": [
       "<IPython.core.display.HTML object>"
      ]
     },
     "metadata": {},
     "output_type": "display_data"
    },
    {
     "name": "stdout",
     "output_type": "stream",
     "text": [
      "[0] Total: 11589.88379, PDE: 0.00000, BC: 21960.10547, IC: 4211.14502\n",
      "[500] Total: 2.49700, PDE: 0.00213, BC: 10.84626, IC: 0.42277\n",
      "[1000] Total: 2.04470, PDE: 0.00237, BC: 8.13518, IC: 0.39888\n",
      "[1500] Total: 2.07002, PDE: 0.00232, BC: 8.48388, IC: 0.38542\n",
      "[2000] Total: 2.01166, PDE: 0.00274, BC: 7.96652, IC: 0.39233\n",
      "[2500] Total: 1.98352, PDE: 0.00267, BC: 7.74735, IC: 0.39532\n",
      "[3000] Total: 1.94599, PDE: 0.00273, BC: 7.48157, IC: 0.39615\n",
      "[3500] Total: 1.88069, PDE: 0.00293, BC: 6.96854, IC: 0.40082\n",
      "[4000] Total: 1.87031, PDE: 0.00334, BC: 7.60631, IC: 0.34364\n",
      "[4500] Total: 1.91483, PDE: 0.00360, BC: 7.18404, IC: 0.39677\n",
      "[5000] Total: 1.87624, PDE: 0.00345, BC: 6.86734, IC: 0.40250\n",
      "[5500] Total: 1.86230, PDE: 0.00342, BC: 6.76203, IC: 0.40375\n",
      "[6000] Total: 1.85724, PDE: 0.00339, BC: 6.72063, IC: 0.40457\n",
      "[6500] Total: 1.85548, PDE: 0.00343, BC: 6.70447, IC: 0.40464\n",
      "[7000] Total: 1.85479, PDE: 0.00343, BC: 6.69912, IC: 0.40466\n"
     ]
    },
    {
     "data": {
      "text/html": [],
      "text/plain": [
       "<IPython.core.display.HTML object>"
      ]
     },
     "metadata": {},
     "output_type": "display_data"
    },
    {
     "data": {
      "text/html": [
       "<br>    <style><br>        .wandb-row {<br>            display: flex;<br>            flex-direction: row;<br>            flex-wrap: wrap;<br>            justify-content: flex-start;<br>            width: 100%;<br>        }<br>        .wandb-col {<br>            display: flex;<br>            flex-direction: column;<br>            flex-basis: 100%;<br>            flex: 1;<br>            padding: 10px;<br>        }<br>    </style><br><div class=\"wandb-row\"><div class=\"wandb-col\"><h3>Run history:</h3><br/><table class=\"wandb\"><tr><td>bc_loss</td><td>▇▇▇▆▆█▇▆▆▆▅▅▅▅▅▄▄▄▁▃▄▄▄▄▄▄▄▄▄▄▄▄▄▄▄▄▄▄▄▄</td></tr><tr><td>epoch</td><td>▁▁▁▂▂▂▂▂▂▂▃▃▃▃▃▃▃▄▄▄▄▄▅▅▅▅▆▆▇▇▇▇▇▇▇▇▇▇██</td></tr><tr><td>final_total_loss</td><td>▁</td></tr><tr><td>ic_loss</td><td>█▄▂▁▁▁▁▁▁▁▁▁▁▁▁▁▁▁▁▁▁▁▁▁▁▁▁▁▁▁▁▁▁▁▁▁▁▁▁▁</td></tr><tr><td>learning_rate</td><td>███████▄▄▃▃▃▃▃▃▃▃▃▃▃▃▃▃▃▃▂▂▂▁▁▁▁▁▁▁▁▁▁▁▁</td></tr><tr><td>pde_loss</td><td>█▂▂▁▁▁▁▁▁▁▁▁▁▁▁▁▁▁▁▁▁▁▁▁▁▁▁▁▁▁▁▁▁▁▁▁▁▁▁▁</td></tr><tr><td>total_loss</td><td>█▃▃▂▂▁▁▁▁▁▁▁▁▁▁▁▁▁▁▁▁▁▁▁▁▁▁▁▁▁▁▁▁▁▁▁▁▁▁▁</td></tr></table><br/></div><div class=\"wandb-col\"><h3>Run summary:</h3><br/><table class=\"wandb\"><tr><td>bc_loss</td><td>6.69761</td></tr><tr><td>epoch</td><td>7499</td></tr><tr><td>final_total_loss</td><td>1.85454</td></tr><tr><td>ic_loss</td><td>0.40466</td></tr><tr><td>learning_rate</td><td>0.0</td></tr><tr><td>pde_loss</td><td>0.00343</td></tr><tr><td>total_loss</td><td>1.85454</td></tr></table><br/></div></div>"
      ],
      "text/plain": [
       "<IPython.core.display.HTML object>"
      ]
     },
     "metadata": {},
     "output_type": "display_data"
    },
    {
     "data": {
      "text/html": [
       " View run <strong style=\"color:#cdcd00\">dry-sweep-17</strong> at: <a href='https://wandb.ai/tobiassafie-drexel-university/Black-Scholes-Architecture-Sweep/runs/w8nuw2y2' target=\"_blank\">https://wandb.ai/tobiassafie-drexel-university/Black-Scholes-Architecture-Sweep/runs/w8nuw2y2</a><br> View project at: <a href='https://wandb.ai/tobiassafie-drexel-university/Black-Scholes-Architecture-Sweep' target=\"_blank\">https://wandb.ai/tobiassafie-drexel-university/Black-Scholes-Architecture-Sweep</a><br>Synced 5 W&B file(s), 0 media file(s), 0 artifact file(s) and 0 other file(s)"
      ],
      "text/plain": [
       "<IPython.core.display.HTML object>"
      ]
     },
     "metadata": {},
     "output_type": "display_data"
    },
    {
     "data": {
      "text/html": [
       "Find logs at: <code>.\\wandb\\run-20250715_213806-w8nuw2y2\\logs</code>"
      ],
      "text/plain": [
       "<IPython.core.display.HTML object>"
      ]
     },
     "metadata": {},
     "output_type": "display_data"
    },
    {
     "name": "stderr",
     "output_type": "stream",
     "text": [
      "wandb: Agent Starting Run: h0458i98 with config:\n",
      "wandb: \tactivation: relu\n",
      "wandb: \tbc_weight_scale: 0.3952525470223016\n",
      "wandb: \thidden_layers: 6\n",
      "wandb: \tic_weight_scale: 0.10791977894169189\n",
      "wandb: \tinit_method: xavier\n",
      "wandb: \tinitial_lr: 0.005\n",
      "wandb: \tneurons_per_layer: 32\n",
      "wandb: \tpde_weight_scale: 5.49461101513194\n"
     ]
    },
    {
     "data": {
      "text/html": [
       "Tracking run with wandb version 0.21.0"
      ],
      "text/plain": [
       "<IPython.core.display.HTML object>"
      ]
     },
     "metadata": {},
     "output_type": "display_data"
    },
    {
     "data": {
      "text/html": [
       "Run data is saved locally in <code>c:\\Users\\tobys\\Desktop\\STAR\\dev_notebooks\\black_scholes\\sweep\\wandb\\run-20250715_213858-h0458i98</code>"
      ],
      "text/plain": [
       "<IPython.core.display.HTML object>"
      ]
     },
     "metadata": {},
     "output_type": "display_data"
    },
    {
     "data": {
      "text/html": [
       "Syncing run <strong><a href='https://wandb.ai/tobiassafie-drexel-university/Black-Scholes-Architecture-Sweep/runs/h0458i98' target=\"_blank\">eternal-sweep-18</a></strong> to <a href='https://wandb.ai/tobiassafie-drexel-university/Black-Scholes-Architecture-Sweep' target=\"_blank\">Weights & Biases</a> (<a href='https://wandb.me/developer-guide' target=\"_blank\">docs</a>)<br>Sweep page: <a href='https://wandb.ai/tobiassafie-drexel-university/Black-Scholes-Architecture-Sweep/sweeps/ie5y2esn' target=\"_blank\">https://wandb.ai/tobiassafie-drexel-university/Black-Scholes-Architecture-Sweep/sweeps/ie5y2esn</a>"
      ],
      "text/plain": [
       "<IPython.core.display.HTML object>"
      ]
     },
     "metadata": {},
     "output_type": "display_data"
    },
    {
     "data": {
      "text/html": [
       " View project at <a href='https://wandb.ai/tobiassafie-drexel-university/Black-Scholes-Architecture-Sweep' target=\"_blank\">https://wandb.ai/tobiassafie-drexel-university/Black-Scholes-Architecture-Sweep</a>"
      ],
      "text/plain": [
       "<IPython.core.display.HTML object>"
      ]
     },
     "metadata": {},
     "output_type": "display_data"
    },
    {
     "data": {
      "text/html": [
       " View sweep at <a href='https://wandb.ai/tobiassafie-drexel-university/Black-Scholes-Architecture-Sweep/sweeps/ie5y2esn' target=\"_blank\">https://wandb.ai/tobiassafie-drexel-university/Black-Scholes-Architecture-Sweep/sweeps/ie5y2esn</a>"
      ],
      "text/plain": [
       "<IPython.core.display.HTML object>"
      ]
     },
     "metadata": {},
     "output_type": "display_data"
    },
    {
     "data": {
      "text/html": [
       " View run at <a href='https://wandb.ai/tobiassafie-drexel-university/Black-Scholes-Architecture-Sweep/runs/h0458i98' target=\"_blank\">https://wandb.ai/tobiassafie-drexel-university/Black-Scholes-Architecture-Sweep/runs/h0458i98</a>"
      ],
      "text/plain": [
       "<IPython.core.display.HTML object>"
      ]
     },
     "metadata": {},
     "output_type": "display_data"
    },
    {
     "name": "stdout",
     "output_type": "stream",
     "text": [
      "[0] Total: 10115.32422, PDE: 0.00107, BC: 24291.45117, IC: 4763.35889\n",
      "[500] Total: 109.31451, PDE: 0.01516, BC: 13.86550, IC: 961.36993\n",
      "[1000] Total: 69.28013, PDE: 0.00825, BC: 7.01738, IC: 615.83844\n",
      "[1500] Total: 0.70457, PDE: 0.00426, BC: 0.43071, IC: 4.73407\n",
      "[2000] Total: 1.31960, PDE: 0.00320, BC: 0.86309, IC: 8.90375\n",
      "[2500] Total: 11.35692, PDE: 0.00593, BC: 2.20242, IC: 96.86686\n",
      "[3000] Total: 0.41725, PDE: 0.00375, BC: 0.06038, IC: 3.45444\n",
      "[3500] Total: 0.41166, PDE: 0.00344, BC: 0.05798, IC: 3.42714\n",
      "[4000] Total: 0.40990, PDE: 0.00334, BC: 0.05760, IC: 3.41720\n",
      "[4500] Total: 0.40912, PDE: 0.00329, BC: 0.05740, IC: 3.41315\n",
      "[5000] Total: 0.40884, PDE: 0.00328, BC: 0.05738, IC: 3.41145\n",
      "[5500] Total: 0.40875, PDE: 0.00327, BC: 0.05739, IC: 3.41078\n",
      "[6000] Total: 0.40872, PDE: 0.00327, BC: 0.05738, IC: 3.41058\n",
      "[6500] Total: 0.40871, PDE: 0.00327, BC: 0.05736, IC: 3.41059\n",
      "[7000] Total: 0.40871, PDE: 0.00327, BC: 0.05735, IC: 3.41062\n"
     ]
    },
    {
     "data": {
      "text/html": [],
      "text/plain": [
       "<IPython.core.display.HTML object>"
      ]
     },
     "metadata": {},
     "output_type": "display_data"
    },
    {
     "data": {
      "text/html": [
       "<br>    <style><br>        .wandb-row {<br>            display: flex;<br>            flex-direction: row;<br>            flex-wrap: wrap;<br>            justify-content: flex-start;<br>            width: 100%;<br>        }<br>        .wandb-col {<br>            display: flex;<br>            flex-direction: column;<br>            flex-basis: 100%;<br>            flex: 1;<br>            padding: 10px;<br>        }<br>    </style><br><div class=\"wandb-row\"><div class=\"wandb-col\"><h3>Run history:</h3><br/><table class=\"wandb\"><tr><td>bc_loss</td><td>▂▅▃▂▂▁▁▁▁▁▁▁█▄▃▁▁▁▁▁▁▁▁▁▁▁▁▁▁▁▁▁▁▁▁▁▁▁▁▁</td></tr><tr><td>epoch</td><td>▁▁▁▁▁▁▂▂▂▂▂▃▃▃▃▃▃▄▄▄▄▅▅▅▅▆▆▆▆▆▆▆▆▇▇▇▇███</td></tr><tr><td>final_total_loss</td><td>▁</td></tr><tr><td>ic_loss</td><td>█▆▃▃▂▃▃▂▂▂▁▁▁▂▂▁▁▁▁▁▁▁▁▁▁▁▁▁▁▁▁▁▁▁▁▁▁▁▁▁</td></tr><tr><td>learning_rate</td><td>█████▄▄▄▃▃▃▃▃▃▂▁▁▁▁▁▁▁▁▁▁▁▁▁▁▁▁▁▁▁▁▁▁▁▁▁</td></tr><tr><td>pde_loss</td><td>▁█▄▄▄▅▅▁▁▁▇▁▁▁▁▁▁▁▁▁▁▁▁▁▁▁▁▁▁▁▁▁▁▁▁▁▁▁▁▁</td></tr><tr><td>total_loss</td><td>████▅▁▁▁▁▁▁▁▁▁▆▂▁▁▁▁▁▁▁▁▁▁▁▁▁▁▁▁▁▁▁▁▁▁▁▁</td></tr></table><br/></div><div class=\"wandb-col\"><h3>Run summary:</h3><br/><table class=\"wandb\"><tr><td>bc_loss</td><td>0.05734</td></tr><tr><td>epoch</td><td>7499</td></tr><tr><td>final_total_loss</td><td>0.4087</td></tr><tr><td>ic_loss</td><td>3.41063</td></tr><tr><td>learning_rate</td><td>0.0</td></tr><tr><td>pde_loss</td><td>0.00327</td></tr><tr><td>total_loss</td><td>0.4087</td></tr></table><br/></div></div>"
      ],
      "text/plain": [
       "<IPython.core.display.HTML object>"
      ]
     },
     "metadata": {},
     "output_type": "display_data"
    },
    {
     "data": {
      "text/html": [
       " View run <strong style=\"color:#cdcd00\">eternal-sweep-18</strong> at: <a href='https://wandb.ai/tobiassafie-drexel-university/Black-Scholes-Architecture-Sweep/runs/h0458i98' target=\"_blank\">https://wandb.ai/tobiassafie-drexel-university/Black-Scholes-Architecture-Sweep/runs/h0458i98</a><br> View project at: <a href='https://wandb.ai/tobiassafie-drexel-university/Black-Scholes-Architecture-Sweep' target=\"_blank\">https://wandb.ai/tobiassafie-drexel-university/Black-Scholes-Architecture-Sweep</a><br>Synced 5 W&B file(s), 0 media file(s), 0 artifact file(s) and 0 other file(s)"
      ],
      "text/plain": [
       "<IPython.core.display.HTML object>"
      ]
     },
     "metadata": {},
     "output_type": "display_data"
    },
    {
     "data": {
      "text/html": [
       "Find logs at: <code>.\\wandb\\run-20250715_213858-h0458i98\\logs</code>"
      ],
      "text/plain": [
       "<IPython.core.display.HTML object>"
      ]
     },
     "metadata": {},
     "output_type": "display_data"
    },
    {
     "name": "stderr",
     "output_type": "stream",
     "text": [
      "wandb: Agent Starting Run: ct7hgin1 with config:\n",
      "wandb: \tactivation: relu\n",
      "wandb: \tbc_weight_scale: 0.41123118132923264\n",
      "wandb: \thidden_layers: 6\n",
      "wandb: \tic_weight_scale: 0.08592053877083604\n",
      "wandb: \tinit_method: xavier\n",
      "wandb: \tinitial_lr: 0.005\n",
      "wandb: \tneurons_per_layer: 32\n",
      "wandb: \tpde_weight_scale: 14.459434734080595\n"
     ]
    },
    {
     "data": {
      "text/html": [
       "Tracking run with wandb version 0.21.0"
      ],
      "text/plain": [
       "<IPython.core.display.HTML object>"
      ]
     },
     "metadata": {},
     "output_type": "display_data"
    },
    {
     "data": {
      "text/html": [
       "Run data is saved locally in <code>c:\\Users\\tobys\\Desktop\\STAR\\dev_notebooks\\black_scholes\\sweep\\wandb\\run-20250715_213949-ct7hgin1</code>"
      ],
      "text/plain": [
       "<IPython.core.display.HTML object>"
      ]
     },
     "metadata": {},
     "output_type": "display_data"
    },
    {
     "data": {
      "text/html": [
       "Syncing run <strong><a href='https://wandb.ai/tobiassafie-drexel-university/Black-Scholes-Architecture-Sweep/runs/ct7hgin1' target=\"_blank\">avid-sweep-19</a></strong> to <a href='https://wandb.ai/tobiassafie-drexel-university/Black-Scholes-Architecture-Sweep' target=\"_blank\">Weights & Biases</a> (<a href='https://wandb.me/developer-guide' target=\"_blank\">docs</a>)<br>Sweep page: <a href='https://wandb.ai/tobiassafie-drexel-university/Black-Scholes-Architecture-Sweep/sweeps/ie5y2esn' target=\"_blank\">https://wandb.ai/tobiassafie-drexel-university/Black-Scholes-Architecture-Sweep/sweeps/ie5y2esn</a>"
      ],
      "text/plain": [
       "<IPython.core.display.HTML object>"
      ]
     },
     "metadata": {},
     "output_type": "display_data"
    },
    {
     "data": {
      "text/html": [
       " View project at <a href='https://wandb.ai/tobiassafie-drexel-university/Black-Scholes-Architecture-Sweep' target=\"_blank\">https://wandb.ai/tobiassafie-drexel-university/Black-Scholes-Architecture-Sweep</a>"
      ],
      "text/plain": [
       "<IPython.core.display.HTML object>"
      ]
     },
     "metadata": {},
     "output_type": "display_data"
    },
    {
     "data": {
      "text/html": [
       " View sweep at <a href='https://wandb.ai/tobiassafie-drexel-university/Black-Scholes-Architecture-Sweep/sweeps/ie5y2esn' target=\"_blank\">https://wandb.ai/tobiassafie-drexel-university/Black-Scholes-Architecture-Sweep/sweeps/ie5y2esn</a>"
      ],
      "text/plain": [
       "<IPython.core.display.HTML object>"
      ]
     },
     "metadata": {},
     "output_type": "display_data"
    },
    {
     "data": {
      "text/html": [
       " View run at <a href='https://wandb.ai/tobiassafie-drexel-university/Black-Scholes-Architecture-Sweep/runs/ct7hgin1' target=\"_blank\">https://wandb.ai/tobiassafie-drexel-university/Black-Scholes-Architecture-Sweep/runs/ct7hgin1</a>"
      ],
      "text/plain": [
       "<IPython.core.display.HTML object>"
      ]
     },
     "metadata": {},
     "output_type": "display_data"
    },
    {
     "name": "stdout",
     "output_type": "stream",
     "text": [
      "[0] Total: 7179.45801, PDE: 0.00360, BC: 16822.02148, IC: 3045.44824\n",
      "[500] Total: 44.27391, PDE: 0.03910, BC: 28.45803, IC: 372.50339\n",
      "[1000] Total: 1.11510, PDE: 0.00261, BC: 0.26250, IC: 11.28290\n",
      "[1500] Total: 0.90459, PDE: 0.00042, BC: 1.24959, IC: 4.47646\n",
      "[2000] Total: 0.21104, PDE: 0.00038, BC: 0.03120, IC: 2.24353\n",
      "[2500] Total: 0.57095, PDE: 0.00022, BC: 1.07908, IC: 1.44365\n",
      "[3000] Total: 0.17133, PDE: 0.00022, BC: 0.01892, IC: 1.86673\n",
      "[3500] Total: 0.16287, PDE: 0.00021, BC: 0.01672, IC: 1.78061\n",
      "[4000] Total: 0.41930, PDE: 0.00021, BC: 0.73537, IC: 1.32502\n",
      "[4500] Total: 0.17640, PDE: 0.00211, BC: 0.01303, IC: 1.63560\n",
      "[5000] Total: 0.14747, PDE: 0.00015, BC: 0.01320, IC: 1.62722\n",
      "[5500] Total: 0.23928, PDE: 0.00013, BC: 0.29995, IC: 1.32740\n",
      "[6000] Total: 0.14020, PDE: 0.00014, BC: 0.01159, IC: 1.55208\n",
      "[6500] Total: 0.13679, PDE: 0.00013, BC: 0.01115, IC: 1.51758\n",
      "[7000] Total: 0.17944, PDE: 0.00051, BC: 0.04549, IC: 1.78473\n"
     ]
    },
    {
     "data": {
      "text/html": [],
      "text/plain": [
       "<IPython.core.display.HTML object>"
      ]
     },
     "metadata": {},
     "output_type": "display_data"
    },
    {
     "data": {
      "text/html": [
       "<br>    <style><br>        .wandb-row {<br>            display: flex;<br>            flex-direction: row;<br>            flex-wrap: wrap;<br>            justify-content: flex-start;<br>            width: 100%;<br>        }<br>        .wandb-col {<br>            display: flex;<br>            flex-direction: column;<br>            flex-basis: 100%;<br>            flex: 1;<br>            padding: 10px;<br>        }<br>    </style><br><div class=\"wandb-row\"><div class=\"wandb-col\"><h3>Run history:</h3><br/><table class=\"wandb\"><tr><td>bc_loss</td><td>▆█▃▁▁▁▁▁▁▁▁▁▁▁▁▁▁▁▁▁▁▁▁▁▁▁▁▁▁▁▁▁▁▁▁▁▁▁▁▁</td></tr><tr><td>epoch</td><td>▁▁▁▁▂▂▂▃▃▃▃▄▄▄▄▄▄▅▅▅▅▅▅▅▅▅▆▆▆▇▇▇▇▇▇▇████</td></tr><tr><td>final_total_loss</td><td>▁</td></tr><tr><td>ic_loss</td><td>▆█▆▁▁▁▁▁▁▁▁▁▁▁▁▁▁▁▁▁▁▁▁▁▁▁▁▁▁▁▁▁▁▁▁▁▁▁▁▁</td></tr><tr><td>learning_rate</td><td>█████▄▄▄▄▄▄▃▃▃▃▃▂▂▂▂▂▂▂▂▂▂▁▁▁▁▁▁▁▁▁▁▁▁▁▁</td></tr><tr><td>pde_loss</td><td>▃▂▄▂█▂▁▁▁▁▁▁▁▁▁▁▁▁▁▁▁▁▁▁▁▁▁▁▁▁▁▁▁▁▁▁▁▁▁▁</td></tr><tr><td>total_loss</td><td>█▇▇▆▆▁▁▁▁▁▁▁▁▁▁▁▁▁▁▁▁▁▁▁▁▁▁▁▁▁▁▁▁▁▁▁▁▁▁▁</td></tr></table><br/></div><div class=\"wandb-col\"><h3>Run summary:</h3><br/><table class=\"wandb\"><tr><td>bc_loss</td><td>0.01819</td></tr><tr><td>epoch</td><td>7499</td></tr><tr><td>final_total_loss</td><td>0.13702</td></tr><tr><td>ic_loss</td><td>1.49146</td></tr><tr><td>learning_rate</td><td>0.00016</td></tr><tr><td>pde_loss</td><td>0.0001</td></tr><tr><td>total_loss</td><td>0.13702</td></tr></table><br/></div></div>"
      ],
      "text/plain": [
       "<IPython.core.display.HTML object>"
      ]
     },
     "metadata": {},
     "output_type": "display_data"
    },
    {
     "data": {
      "text/html": [
       " View run <strong style=\"color:#cdcd00\">avid-sweep-19</strong> at: <a href='https://wandb.ai/tobiassafie-drexel-university/Black-Scholes-Architecture-Sweep/runs/ct7hgin1' target=\"_blank\">https://wandb.ai/tobiassafie-drexel-university/Black-Scholes-Architecture-Sweep/runs/ct7hgin1</a><br> View project at: <a href='https://wandb.ai/tobiassafie-drexel-university/Black-Scholes-Architecture-Sweep' target=\"_blank\">https://wandb.ai/tobiassafie-drexel-university/Black-Scholes-Architecture-Sweep</a><br>Synced 5 W&B file(s), 0 media file(s), 0 artifact file(s) and 0 other file(s)"
      ],
      "text/plain": [
       "<IPython.core.display.HTML object>"
      ]
     },
     "metadata": {},
     "output_type": "display_data"
    },
    {
     "data": {
      "text/html": [
       "Find logs at: <code>.\\wandb\\run-20250715_213949-ct7hgin1\\logs</code>"
      ],
      "text/plain": [
       "<IPython.core.display.HTML object>"
      ]
     },
     "metadata": {},
     "output_type": "display_data"
    },
    {
     "name": "stderr",
     "output_type": "stream",
     "text": [
      "wandb: Agent Starting Run: r2gn8dyv with config:\n",
      "wandb: \tactivation: relu\n",
      "wandb: \tbc_weight_scale: 0.10626312945567588\n",
      "wandb: \thidden_layers: 6\n",
      "wandb: \tic_weight_scale: 1.1514937653144417\n",
      "wandb: \tinit_method: xavier\n",
      "wandb: \tinitial_lr: 0.005\n",
      "wandb: \tneurons_per_layer: 32\n",
      "wandb: \tpde_weight_scale: 8.485220514084965\n"
     ]
    },
    {
     "data": {
      "text/html": [
       "Tracking run with wandb version 0.21.0"
      ],
      "text/plain": [
       "<IPython.core.display.HTML object>"
      ]
     },
     "metadata": {},
     "output_type": "display_data"
    },
    {
     "data": {
      "text/html": [
       "Run data is saved locally in <code>c:\\Users\\tobys\\Desktop\\STAR\\dev_notebooks\\black_scholes\\sweep\\wandb\\run-20250715_214047-r2gn8dyv</code>"
      ],
      "text/plain": [
       "<IPython.core.display.HTML object>"
      ]
     },
     "metadata": {},
     "output_type": "display_data"
    },
    {
     "data": {
      "text/html": [
       "Syncing run <strong><a href='https://wandb.ai/tobiassafie-drexel-university/Black-Scholes-Architecture-Sweep/runs/r2gn8dyv' target=\"_blank\">bright-sweep-20</a></strong> to <a href='https://wandb.ai/tobiassafie-drexel-university/Black-Scholes-Architecture-Sweep' target=\"_blank\">Weights & Biases</a> (<a href='https://wandb.me/developer-guide' target=\"_blank\">docs</a>)<br>Sweep page: <a href='https://wandb.ai/tobiassafie-drexel-university/Black-Scholes-Architecture-Sweep/sweeps/ie5y2esn' target=\"_blank\">https://wandb.ai/tobiassafie-drexel-university/Black-Scholes-Architecture-Sweep/sweeps/ie5y2esn</a>"
      ],
      "text/plain": [
       "<IPython.core.display.HTML object>"
      ]
     },
     "metadata": {},
     "output_type": "display_data"
    },
    {
     "data": {
      "text/html": [
       " View project at <a href='https://wandb.ai/tobiassafie-drexel-university/Black-Scholes-Architecture-Sweep' target=\"_blank\">https://wandb.ai/tobiassafie-drexel-university/Black-Scholes-Architecture-Sweep</a>"
      ],
      "text/plain": [
       "<IPython.core.display.HTML object>"
      ]
     },
     "metadata": {},
     "output_type": "display_data"
    },
    {
     "data": {
      "text/html": [
       " View sweep at <a href='https://wandb.ai/tobiassafie-drexel-university/Black-Scholes-Architecture-Sweep/sweeps/ie5y2esn' target=\"_blank\">https://wandb.ai/tobiassafie-drexel-university/Black-Scholes-Architecture-Sweep/sweeps/ie5y2esn</a>"
      ],
      "text/plain": [
       "<IPython.core.display.HTML object>"
      ]
     },
     "metadata": {},
     "output_type": "display_data"
    },
    {
     "data": {
      "text/html": [
       " View run at <a href='https://wandb.ai/tobiassafie-drexel-university/Black-Scholes-Architecture-Sweep/runs/r2gn8dyv' target=\"_blank\">https://wandb.ai/tobiassafie-drexel-university/Black-Scholes-Architecture-Sweep/runs/r2gn8dyv</a>"
      ],
      "text/plain": [
       "<IPython.core.display.HTML object>"
      ]
     },
     "metadata": {},
     "output_type": "display_data"
    },
    {
     "name": "stdout",
     "output_type": "stream",
     "text": [
      "[0] Total: 8730.85547, PDE: 0.00005, BC: 26030.88672, IC: 5179.99463\n",
      "[500] Total: 3.72725, PDE: 0.00435, BC: 27.77281, IC: 0.64189\n",
      "[1000] Total: 1.49914, PDE: 0.00156, BC: 8.66118, IC: 0.49111\n",
      "[1500] Total: 1.31220, PDE: 0.00134, BC: 6.81860, IC: 0.50047\n",
      "[2000] Total: 1.27369, PDE: 0.00144, BC: 6.58171, IC: 0.48815\n",
      "[2500] Total: 1.22669, PDE: 0.00140, BC: 6.06977, IC: 0.49486\n",
      "[3000] Total: 1.19128, PDE: 0.00140, BC: 5.68782, IC: 0.49933\n",
      "[3500] Total: 1.20151, PDE: 0.00141, BC: 6.07365, IC: 0.47252\n",
      "[4000] Total: 7.25894, PDE: 0.00128, BC: 39.58966, IC: 2.64109\n",
      "[4500] Total: 1.27379, PDE: 0.00124, BC: 6.49821, IC: 0.49736\n",
      "[5000] Total: 1.25040, PDE: 0.00126, BC: 6.24858, IC: 0.49997\n",
      "[5500] Total: 1.24261, PDE: 0.00131, BC: 6.16323, IC: 0.50074\n",
      "[6000] Total: 1.23973, PDE: 0.00128, BC: 6.12872, IC: 0.50162\n",
      "[6500] Total: 1.23851, PDE: 0.00128, BC: 6.11632, IC: 0.50169\n",
      "[7000] Total: 1.23800, PDE: 0.00128, BC: 6.11155, IC: 0.50171\n"
     ]
    },
    {
     "data": {
      "text/html": [],
      "text/plain": [
       "<IPython.core.display.HTML object>"
      ]
     },
     "metadata": {},
     "output_type": "display_data"
    },
    {
     "data": {
      "text/html": [
       "<br>    <style><br>        .wandb-row {<br>            display: flex;<br>            flex-direction: row;<br>            flex-wrap: wrap;<br>            justify-content: flex-start;<br>            width: 100%;<br>        }<br>        .wandb-col {<br>            display: flex;<br>            flex-direction: column;<br>            flex-basis: 100%;<br>            flex: 1;<br>            padding: 10px;<br>        }<br>    </style><br><div class=\"wandb-row\"><div class=\"wandb-col\"><h3>Run history:</h3><br/><table class=\"wandb\"><tr><td>bc_loss</td><td>▇█▁▁▁▁▁▁▁▁▁▁▁▁▁▁▁▁▁▁▁▁▁▁▁▁▁▁▁▁▁▁▁▁▁▁▁▁▁▁</td></tr><tr><td>epoch</td><td>▁▁▁▂▂▂▂▂▂▂▃▃▃▃▄▄▄▄▄▅▅▅▅▅▅▆▆▆▆▆▇▇▇▇▇▇████</td></tr><tr><td>final_total_loss</td><td>▁</td></tr><tr><td>ic_loss</td><td>█▁▁▁▁▁▁▁▁▁▁▁▁▁▁▁▁▁▁▁▁▁▁▁▁▁▁▁▁▁▁▁▁▁▁▁▁▁▁▁</td></tr><tr><td>learning_rate</td><td>███████▄▄▄▄▄▄▄▄▃▃▃▃▃▃▃▃▃▃▃▃▁▁▁▁▁▁▁▁▁▁▁▁▁</td></tr><tr><td>pde_loss</td><td>█▂▁▁▁▁▁▁▁▁▁▁▁▁▁▁▁▁▁▁▁▁▁▁▁▁▁▁▁▁▁▁▁▁▁▁▁▁▁▁</td></tr><tr><td>total_loss</td><td>▂▅▁▁▁▁▁▁▁▁▁█▁▁▄▁▁▁▁▁▁▁▁▁▁▁▁▁▁▁▁▁▁▁▁▁▁▁▁▁</td></tr></table><br/></div><div class=\"wandb-col\"><h3>Run summary:</h3><br/><table class=\"wandb\"><tr><td>bc_loss</td><td>6.11052</td></tr><tr><td>epoch</td><td>7499</td></tr><tr><td>final_total_loss</td><td>1.23787</td></tr><tr><td>ic_loss</td><td>0.50167</td></tr><tr><td>learning_rate</td><td>0.0</td></tr><tr><td>pde_loss</td><td>0.00128</td></tr><tr><td>total_loss</td><td>1.23787</td></tr></table><br/></div></div>"
      ],
      "text/plain": [
       "<IPython.core.display.HTML object>"
      ]
     },
     "metadata": {},
     "output_type": "display_data"
    },
    {
     "data": {
      "text/html": [
       " View run <strong style=\"color:#cdcd00\">bright-sweep-20</strong> at: <a href='https://wandb.ai/tobiassafie-drexel-university/Black-Scholes-Architecture-Sweep/runs/r2gn8dyv' target=\"_blank\">https://wandb.ai/tobiassafie-drexel-university/Black-Scholes-Architecture-Sweep/runs/r2gn8dyv</a><br> View project at: <a href='https://wandb.ai/tobiassafie-drexel-university/Black-Scholes-Architecture-Sweep' target=\"_blank\">https://wandb.ai/tobiassafie-drexel-university/Black-Scholes-Architecture-Sweep</a><br>Synced 5 W&B file(s), 0 media file(s), 0 artifact file(s) and 0 other file(s)"
      ],
      "text/plain": [
       "<IPython.core.display.HTML object>"
      ]
     },
     "metadata": {},
     "output_type": "display_data"
    },
    {
     "data": {
      "text/html": [
       "Find logs at: <code>.\\wandb\\run-20250715_214047-r2gn8dyv\\logs</code>"
      ],
      "text/plain": [
       "<IPython.core.display.HTML object>"
      ]
     },
     "metadata": {},
     "output_type": "display_data"
    }
   ],
   "source": [
    "wandb.agent('ie5y2esn', function=train_pinn_sweep, count=20)"
   ]
  },
  {
   "cell_type": "code",
   "execution_count": null,
   "id": "3035fcaa",
   "metadata": {},
   "outputs": [],
   "source": []
  }
 ],
 "metadata": {
  "kernelspec": {
   "display_name": "star-pinn",
   "language": "python",
   "name": "python3"
  },
  "language_info": {
   "codemirror_mode": {
    "name": "ipython",
    "version": 3
   },
   "file_extension": ".py",
   "mimetype": "text/x-python",
   "name": "python",
   "nbconvert_exporter": "python",
   "pygments_lexer": "ipython3",
   "version": "3.10.18"
  }
 },
 "nbformat": 4,
 "nbformat_minor": 5
}
