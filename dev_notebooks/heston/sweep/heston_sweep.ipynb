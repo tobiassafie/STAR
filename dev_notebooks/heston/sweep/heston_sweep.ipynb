{
 "cells": [
  {
   "cell_type": "markdown",
   "id": "2cfbd214",
   "metadata": {},
   "source": [
    "# **Heston PINN**\n",
    "---\n",
    "\n",
    "\n",
    "$$\n",
    "\\frac{\\partial V}{\\partial t} + rS \\frac{\\partial V}{\\partial S} + \\rho\\sigma v S \\frac{\\partial^2 V}{\\partial S \\partial v} + \\frac{1}{2}S^2 v \\frac{\\partial^2 V}{\\partial S^2} + \\frac{1}{2}\\sigma^2 v \\frac{\\partial^2 V}{\\partial v^2} + \\kappa(\\theta - v) \\frac{\\partial V}{\\partial v} - rV = 0\n",
    "$$\n",
    "<center>\n",
    "\n",
    "**Heston PDE**\n",
    "</center>\n",
    "\n",
    "Where:\n",
    "* $V$: Option price (a function of $S$, $v$, and $t$)\n",
    "* $t$: Time\n",
    "* $S$: Price of the underlying asset\n",
    "* $v$: Instantaneous variance of the underlying asset (volatility squared)\n",
    "* $r$: Risk-free interest rate\n",
    "* $\\rho$: Correlation between the Brownian motion of the asset price and its variance\n",
    "* $\\sigma$: Volatility of the variance (volatility of volatility)\n",
    "* $\\kappa$: Rate at which the variance $v$ reverts to its long-term mean $\\theta$\n",
    "* $\\theta$: Long-term mean variance\n",
    "\n",
    "---"
   ]
  },
  {
   "cell_type": "code",
   "execution_count": 1,
   "id": "c46e0709",
   "metadata": {},
   "outputs": [
    {
     "name": "stderr",
     "output_type": "stream",
     "text": [
      "wandb: WARNING If you're specifying your api key in code, ensure this code is not shared publicly.\n",
      "wandb: WARNING Consider setting the WANDB_API_KEY environment variable, or running `wandb login` from the command line.\n",
      "wandb: Appending key for api.wandb.ai to your netrc file: C:\\Users\\tobys\\_netrc\n",
      "wandb: Currently logged in as: tobiassafie (tobiassafie-drexel-university) to https://api.wandb.ai. Use `wandb login --relogin` to force relogin\n"
     ]
    },
    {
     "name": "stdout",
     "output_type": "stream",
     "text": [
      "Create sweep with ID: ljlwhom6\n",
      "Sweep URL: https://wandb.ai/tobiassafie-drexel-university/Heston-Weight-Sweeps-3/sweeps/ljlwhom6\n"
     ]
    },
    {
     "name": "stderr",
     "output_type": "stream",
     "text": [
      "wandb: Agent Starting Run: muzpjojv with config:\n",
      "wandb: \tN_boundary: 500\n",
      "wandb: \tN_pde: 2500\n",
      "wandb: \tN_terminal: 500\n",
      "wandb: \thidden_layers: 2\n",
      "wandb: \tlearning_rate: 0.0024\n",
      "wandb: \tneurons_per_layer: 256\n",
      "wandb: \tnum_epochs: 5000\n",
      "wandb: \tw_boundary: 0.09222819063533796\n",
      "wandb: \tw_pde: 9.188053761149046\n",
      "wandb: \tw_terminal: 0.05254829359331053\n"
     ]
    },
    {
     "data": {
      "text/html": [
       "Tracking run with wandb version 0.21.0"
      ],
      "text/plain": [
       "<IPython.core.display.HTML object>"
      ]
     },
     "metadata": {},
     "output_type": "display_data"
    },
    {
     "data": {
      "text/html": [
       "Run data is saved locally in <code>c:\\Users\\tobys\\Desktop\\STAR\\dev_notebooks\\heston\\sweep\\wandb\\run-20250813_192806-muzpjojv</code>"
      ],
      "text/plain": [
       "<IPython.core.display.HTML object>"
      ]
     },
     "metadata": {},
     "output_type": "display_data"
    },
    {
     "data": {
      "text/html": [
       "Syncing run <strong><a href='https://wandb.ai/tobiassafie-drexel-university/Heston-Weight-Sweeps-3/runs/muzpjojv' target=\"_blank\">celestial-sweep-1</a></strong> to <a href='https://wandb.ai/tobiassafie-drexel-university/Heston-Weight-Sweeps-3' target=\"_blank\">Weights & Biases</a> (<a href='https://wandb.me/developer-guide' target=\"_blank\">docs</a>)<br>Sweep page: <a href='https://wandb.ai/tobiassafie-drexel-university/Heston-Weight-Sweeps-3/sweeps/ljlwhom6' target=\"_blank\">https://wandb.ai/tobiassafie-drexel-university/Heston-Weight-Sweeps-3/sweeps/ljlwhom6</a>"
      ],
      "text/plain": [
       "<IPython.core.display.HTML object>"
      ]
     },
     "metadata": {},
     "output_type": "display_data"
    },
    {
     "data": {
      "text/html": [
       " View project at <a href='https://wandb.ai/tobiassafie-drexel-university/Heston-Weight-Sweeps-3' target=\"_blank\">https://wandb.ai/tobiassafie-drexel-university/Heston-Weight-Sweeps-3</a>"
      ],
      "text/plain": [
       "<IPython.core.display.HTML object>"
      ]
     },
     "metadata": {},
     "output_type": "display_data"
    },
    {
     "data": {
      "text/html": [
       " View sweep at <a href='https://wandb.ai/tobiassafie-drexel-university/Heston-Weight-Sweeps-3/sweeps/ljlwhom6' target=\"_blank\">https://wandb.ai/tobiassafie-drexel-university/Heston-Weight-Sweeps-3/sweeps/ljlwhom6</a>"
      ],
      "text/plain": [
       "<IPython.core.display.HTML object>"
      ]
     },
     "metadata": {},
     "output_type": "display_data"
    },
    {
     "data": {
      "text/html": [
       " View run at <a href='https://wandb.ai/tobiassafie-drexel-university/Heston-Weight-Sweeps-3/runs/muzpjojv' target=\"_blank\">https://wandb.ai/tobiassafie-drexel-university/Heston-Weight-Sweeps-3/runs/muzpjojv</a>"
      ],
      "text/plain": [
       "<IPython.core.display.HTML object>"
      ]
     },
     "metadata": {},
     "output_type": "display_data"
    },
    {
     "data": {
      "text/html": [],
      "text/plain": [
       "<IPython.core.display.HTML object>"
      ]
     },
     "metadata": {},
     "output_type": "display_data"
    },
    {
     "data": {
      "text/html": [
       "<br>    <style><br>        .wandb-row {<br>            display: flex;<br>            flex-direction: row;<br>            flex-wrap: wrap;<br>            justify-content: flex-start;<br>            width: 100%;<br>        }<br>        .wandb-col {<br>            display: flex;<br>            flex-direction: column;<br>            flex-basis: 100%;<br>            flex: 1;<br>            padding: 10px;<br>        }<br>    </style><br><div class=\"wandb-row\"><div class=\"wandb-col\"><h3>Run history:</h3><br/><table class=\"wandb\"><tr><td>boundary_loss</td><td>█▂▁▁▁▁▁▁▁▁▁▁▁▁▁▁▁▁▁▁▁▁▁▁▁▁▁▁▁▁▁▁▁▁▁▁▁▁▁▁</td></tr><tr><td>epoch</td><td>▁▁▁▁▁▁▂▂▂▂▂▂▂▂▂▂▂▃▃▃▃▃▄▄▄▅▅▆▆▆▆▇▇▇▇█████</td></tr><tr><td>learning_rate</td><td>██████████▇▇▇▇▇▆▆▅▅▄▄▄▄▄▄▃▃▃▃▂▂▂▂▂▂▁▁▁▁▁</td></tr><tr><td>pde_loss</td><td>▂▂▁▁▁▂▂▂▁▁▁▁▂▁▂▂▁▁▂█▂▂▁▁▁▁▁▁▁▁▁▁▁▁▁▁▁▁▁▁</td></tr><tr><td>terminal_loss</td><td>▆▆▄▃▃▄█▃▃▃▂▂▁▂▂▃▂▁▁▁▁▁▁▁▁▁▁▁▁▁▁▁▁▁▁▁▁▁▁▁</td></tr><tr><td>total_loss</td><td>█▆▄▃▃▃▂▁▁▃▁▁▁▁▁▁▁▁▁▁▁▁▁▁▁▁▁▁▁▁▁▁▁▁▁▁▁▁▁▁</td></tr></table><br/></div><div class=\"wandb-col\"><h3>Run summary:</h3><br/><table class=\"wandb\"><tr><td>boundary_loss</td><td>2.7011</td></tr><tr><td>epoch</td><td>4999</td></tr><tr><td>learning_rate</td><td>0.0</td></tr><tr><td>pde_loss</td><td>0.06664</td></tr><tr><td>terminal_loss</td><td>26.99649</td></tr><tr><td>total_loss</td><td>2.28003</td></tr></table><br/></div></div>"
      ],
      "text/plain": [
       "<IPython.core.display.HTML object>"
      ]
     },
     "metadata": {},
     "output_type": "display_data"
    },
    {
     "data": {
      "text/html": [
       " View run <strong style=\"color:#cdcd00\">celestial-sweep-1</strong> at: <a href='https://wandb.ai/tobiassafie-drexel-university/Heston-Weight-Sweeps-3/runs/muzpjojv' target=\"_blank\">https://wandb.ai/tobiassafie-drexel-university/Heston-Weight-Sweeps-3/runs/muzpjojv</a><br> View project at: <a href='https://wandb.ai/tobiassafie-drexel-university/Heston-Weight-Sweeps-3' target=\"_blank\">https://wandb.ai/tobiassafie-drexel-university/Heston-Weight-Sweeps-3</a><br>Synced 5 W&B file(s), 0 media file(s), 0 artifact file(s) and 0 other file(s)"
      ],
      "text/plain": [
       "<IPython.core.display.HTML object>"
      ]
     },
     "metadata": {},
     "output_type": "display_data"
    },
    {
     "data": {
      "text/html": [
       "Find logs at: <code>.\\wandb\\run-20250813_192806-muzpjojv\\logs</code>"
      ],
      "text/plain": [
       "<IPython.core.display.HTML object>"
      ]
     },
     "metadata": {},
     "output_type": "display_data"
    },
    {
     "name": "stderr",
     "output_type": "stream",
     "text": [
      "wandb: Agent Starting Run: 4krcqptb with config:\n",
      "wandb: \tN_boundary: 500\n",
      "wandb: \tN_pde: 2500\n",
      "wandb: \tN_terminal: 500\n",
      "wandb: \thidden_layers: 2\n",
      "wandb: \tlearning_rate: 0.0024\n",
      "wandb: \tneurons_per_layer: 256\n",
      "wandb: \tnum_epochs: 5000\n",
      "wandb: \tw_boundary: 0.7664476786750976\n",
      "wandb: \tw_pde: 4.40085015526702\n",
      "wandb: \tw_terminal: 1.977122002987308\n"
     ]
    },
    {
     "data": {
      "text/html": [],
      "text/plain": [
       "<IPython.core.display.HTML object>"
      ]
     },
     "metadata": {},
     "output_type": "display_data"
    },
    {
     "data": {
      "text/html": [
       "Tracking run with wandb version 0.21.0"
      ],
      "text/plain": [
       "<IPython.core.display.HTML object>"
      ]
     },
     "metadata": {},
     "output_type": "display_data"
    },
    {
     "data": {
      "text/html": [
       "Run data is saved locally in <code>c:\\Users\\tobys\\Desktop\\STAR\\dev_notebooks\\heston\\sweep\\wandb\\run-20250813_193214-4krcqptb</code>"
      ],
      "text/plain": [
       "<IPython.core.display.HTML object>"
      ]
     },
     "metadata": {},
     "output_type": "display_data"
    },
    {
     "data": {
      "text/html": [
       "Syncing run <strong><a href='https://wandb.ai/tobiassafie-drexel-university/Heston-Weight-Sweeps-3/runs/4krcqptb' target=\"_blank\">icy-sweep-2</a></strong> to <a href='https://wandb.ai/tobiassafie-drexel-university/Heston-Weight-Sweeps-3' target=\"_blank\">Weights & Biases</a> (<a href='https://wandb.me/developer-guide' target=\"_blank\">docs</a>)<br>Sweep page: <a href='https://wandb.ai/tobiassafie-drexel-university/Heston-Weight-Sweeps-3/sweeps/ljlwhom6' target=\"_blank\">https://wandb.ai/tobiassafie-drexel-university/Heston-Weight-Sweeps-3/sweeps/ljlwhom6</a>"
      ],
      "text/plain": [
       "<IPython.core.display.HTML object>"
      ]
     },
     "metadata": {},
     "output_type": "display_data"
    },
    {
     "data": {
      "text/html": [
       " View project at <a href='https://wandb.ai/tobiassafie-drexel-university/Heston-Weight-Sweeps-3' target=\"_blank\">https://wandb.ai/tobiassafie-drexel-university/Heston-Weight-Sweeps-3</a>"
      ],
      "text/plain": [
       "<IPython.core.display.HTML object>"
      ]
     },
     "metadata": {},
     "output_type": "display_data"
    },
    {
     "data": {
      "text/html": [
       " View sweep at <a href='https://wandb.ai/tobiassafie-drexel-university/Heston-Weight-Sweeps-3/sweeps/ljlwhom6' target=\"_blank\">https://wandb.ai/tobiassafie-drexel-university/Heston-Weight-Sweeps-3/sweeps/ljlwhom6</a>"
      ],
      "text/plain": [
       "<IPython.core.display.HTML object>"
      ]
     },
     "metadata": {},
     "output_type": "display_data"
    },
    {
     "data": {
      "text/html": [
       " View run at <a href='https://wandb.ai/tobiassafie-drexel-university/Heston-Weight-Sweeps-3/runs/4krcqptb' target=\"_blank\">https://wandb.ai/tobiassafie-drexel-university/Heston-Weight-Sweeps-3/runs/4krcqptb</a>"
      ],
      "text/plain": [
       "<IPython.core.display.HTML object>"
      ]
     },
     "metadata": {},
     "output_type": "display_data"
    },
    {
     "data": {
      "text/html": [],
      "text/plain": [
       "<IPython.core.display.HTML object>"
      ]
     },
     "metadata": {},
     "output_type": "display_data"
    },
    {
     "data": {
      "text/html": [
       "<br>    <style><br>        .wandb-row {<br>            display: flex;<br>            flex-direction: row;<br>            flex-wrap: wrap;<br>            justify-content: flex-start;<br>            width: 100%;<br>        }<br>        .wandb-col {<br>            display: flex;<br>            flex-direction: column;<br>            flex-basis: 100%;<br>            flex: 1;<br>            padding: 10px;<br>        }<br>    </style><br><div class=\"wandb-row\"><div class=\"wandb-col\"><h3>Run history:</h3><br/><table class=\"wandb\"><tr><td>boundary_loss</td><td>█▆▂▂▂▂▁▁▁▁▁▁▁▁▁▁▁▁▁▁▁▁▁▁▁▁▁▁▁▁▁▁▁▁▁▁▁▁▁▁</td></tr><tr><td>epoch</td><td>▁▁▁▁▂▂▂▂▂▃▃▃▄▄▄▄▄▄▅▅▅▅▅▅▅▆▆▆▆▆▆▆▇▇▇▇████</td></tr><tr><td>learning_rate</td><td>█████▇▇▇▇▇▇▆▆▆▆▅▄▄▄▄▄▃▃▃▃▂▂▂▂▂▂▂▂▁▁▁▁▁▁▁</td></tr><tr><td>pde_loss</td><td>▂▂▂▃▂▂█▂▂▁▁▁▂▁▁▁▁▁▁▁▁▁▁▁▁▁▁▁▁▁▁▁▁▁▁▁▁▁▁▁</td></tr><tr><td>terminal_loss</td><td>██▂▂▁▁▁▁▁▁▁▁▁▁▁▁▁▁▁▁▁▁▁▁▁▁▁▁▁▁▁▁▁▁▁▁▁▁▁▁</td></tr><tr><td>total_loss</td><td>█▆▆▆▂▂▂▁▁▁▁▁▁▁▁▁▁▁▁▁▁▁▁▁▁▁▁▁▁▁▁▁▁▁▁▁▁▁▁▁</td></tr></table><br/></div><div class=\"wandb-col\"><h3>Run summary:</h3><br/><table class=\"wandb\"><tr><td>boundary_loss</td><td>0.22435</td></tr><tr><td>epoch</td><td>4999</td></tr><tr><td>learning_rate</td><td>0.0</td></tr><tr><td>pde_loss</td><td>0.41852</td></tr><tr><td>terminal_loss</td><td>2.35886</td></tr><tr><td>total_loss</td><td>6.67756</td></tr></table><br/></div></div>"
      ],
      "text/plain": [
       "<IPython.core.display.HTML object>"
      ]
     },
     "metadata": {},
     "output_type": "display_data"
    },
    {
     "data": {
      "text/html": [
       " View run <strong style=\"color:#cdcd00\">icy-sweep-2</strong> at: <a href='https://wandb.ai/tobiassafie-drexel-university/Heston-Weight-Sweeps-3/runs/4krcqptb' target=\"_blank\">https://wandb.ai/tobiassafie-drexel-university/Heston-Weight-Sweeps-3/runs/4krcqptb</a><br> View project at: <a href='https://wandb.ai/tobiassafie-drexel-university/Heston-Weight-Sweeps-3' target=\"_blank\">https://wandb.ai/tobiassafie-drexel-university/Heston-Weight-Sweeps-3</a><br>Synced 5 W&B file(s), 0 media file(s), 0 artifact file(s) and 0 other file(s)"
      ],
      "text/plain": [
       "<IPython.core.display.HTML object>"
      ]
     },
     "metadata": {},
     "output_type": "display_data"
    },
    {
     "data": {
      "text/html": [
       "Find logs at: <code>.\\wandb\\run-20250813_193214-4krcqptb\\logs</code>"
      ],
      "text/plain": [
       "<IPython.core.display.HTML object>"
      ]
     },
     "metadata": {},
     "output_type": "display_data"
    },
    {
     "name": "stderr",
     "output_type": "stream",
     "text": [
      "wandb: Agent Starting Run: zula8yha with config:\n",
      "wandb: \tN_boundary: 500\n",
      "wandb: \tN_pde: 2500\n",
      "wandb: \tN_terminal: 500\n",
      "wandb: \thidden_layers: 2\n",
      "wandb: \tlearning_rate: 0.0024\n",
      "wandb: \tneurons_per_layer: 256\n",
      "wandb: \tnum_epochs: 5000\n",
      "wandb: \tw_boundary: 0.0038997081312667097\n",
      "wandb: \tw_pde: 8.225871110531573\n",
      "wandb: \tw_terminal: 0.1042016238497036\n"
     ]
    },
    {
     "data": {
      "text/html": [
       "Tracking run with wandb version 0.21.0"
      ],
      "text/plain": [
       "<IPython.core.display.HTML object>"
      ]
     },
     "metadata": {},
     "output_type": "display_data"
    },
    {
     "data": {
      "text/html": [
       "Run data is saved locally in <code>c:\\Users\\tobys\\Desktop\\STAR\\dev_notebooks\\heston\\sweep\\wandb\\run-20250813_193620-zula8yha</code>"
      ],
      "text/plain": [
       "<IPython.core.display.HTML object>"
      ]
     },
     "metadata": {},
     "output_type": "display_data"
    },
    {
     "data": {
      "text/html": [
       "Syncing run <strong><a href='https://wandb.ai/tobiassafie-drexel-university/Heston-Weight-Sweeps-3/runs/zula8yha' target=\"_blank\">visionary-sweep-3</a></strong> to <a href='https://wandb.ai/tobiassafie-drexel-university/Heston-Weight-Sweeps-3' target=\"_blank\">Weights & Biases</a> (<a href='https://wandb.me/developer-guide' target=\"_blank\">docs</a>)<br>Sweep page: <a href='https://wandb.ai/tobiassafie-drexel-university/Heston-Weight-Sweeps-3/sweeps/ljlwhom6' target=\"_blank\">https://wandb.ai/tobiassafie-drexel-university/Heston-Weight-Sweeps-3/sweeps/ljlwhom6</a>"
      ],
      "text/plain": [
       "<IPython.core.display.HTML object>"
      ]
     },
     "metadata": {},
     "output_type": "display_data"
    },
    {
     "data": {
      "text/html": [
       " View project at <a href='https://wandb.ai/tobiassafie-drexel-university/Heston-Weight-Sweeps-3' target=\"_blank\">https://wandb.ai/tobiassafie-drexel-university/Heston-Weight-Sweeps-3</a>"
      ],
      "text/plain": [
       "<IPython.core.display.HTML object>"
      ]
     },
     "metadata": {},
     "output_type": "display_data"
    },
    {
     "data": {
      "text/html": [
       " View sweep at <a href='https://wandb.ai/tobiassafie-drexel-university/Heston-Weight-Sweeps-3/sweeps/ljlwhom6' target=\"_blank\">https://wandb.ai/tobiassafie-drexel-university/Heston-Weight-Sweeps-3/sweeps/ljlwhom6</a>"
      ],
      "text/plain": [
       "<IPython.core.display.HTML object>"
      ]
     },
     "metadata": {},
     "output_type": "display_data"
    },
    {
     "data": {
      "text/html": [
       " View run at <a href='https://wandb.ai/tobiassafie-drexel-university/Heston-Weight-Sweeps-3/runs/zula8yha' target=\"_blank\">https://wandb.ai/tobiassafie-drexel-university/Heston-Weight-Sweeps-3/runs/zula8yha</a>"
      ],
      "text/plain": [
       "<IPython.core.display.HTML object>"
      ]
     },
     "metadata": {},
     "output_type": "display_data"
    },
    {
     "data": {
      "text/html": [],
      "text/plain": [
       "<IPython.core.display.HTML object>"
      ]
     },
     "metadata": {},
     "output_type": "display_data"
    },
    {
     "data": {
      "text/html": [
       "<br>    <style><br>        .wandb-row {<br>            display: flex;<br>            flex-direction: row;<br>            flex-wrap: wrap;<br>            justify-content: flex-start;<br>            width: 100%;<br>        }<br>        .wandb-col {<br>            display: flex;<br>            flex-direction: column;<br>            flex-basis: 100%;<br>            flex: 1;<br>            padding: 10px;<br>        }<br>    </style><br><div class=\"wandb-row\"><div class=\"wandb-col\"><h3>Run history:</h3><br/><table class=\"wandb\"><tr><td>boundary_loss</td><td>█▆▄▃▄▂▅▂▂▂▁▁▁▁▁▁▁▁▁▁▁▁▁▁▁▁▁▁▁▁▁▁▁▁▁▁▁▁▁▁</td></tr><tr><td>epoch</td><td>▁▁▁▁▁▂▂▂▃▃▃▃▃▃▃▄▄▄▄▄▄▅▅▅▆▆▆▆▆▇▇▇▇▇▇▇████</td></tr><tr><td>learning_rate</td><td>███████▇▇▇▇▇▇▇▇▆▆▆▆▅▅▅▅▅▄▄▄▄▄▃▂▂▂▂▂▁▁▁▁▁</td></tr><tr><td>pde_loss</td><td>▂▁▂▂▂▂▂▂█▄▁▃▂▁▁▁▁▁▂▁▁▁▁▁▅▁▁▁▁▁▁▁▁▁▁▁▁▁▁▁</td></tr><tr><td>terminal_loss</td><td>█▄▄▄▃▃▄▂▃▂▂▂▂▂▁▁▁▁▁▁▁▁▁▁▁▁▁▁▁▁▁▁▁▁▁▁▁▁▁▁</td></tr><tr><td>total_loss</td><td>█▇▆▅██▃▃▃▃▃▃▃▂▂▂▂▂▂▂▁▁▁▁▁▁▁▁▁▁▁▁▁▁▁▁▁▁▁▁</td></tr></table><br/></div><div class=\"wandb-col\"><h3>Run summary:</h3><br/><table class=\"wandb\"><tr><td>boundary_loss</td><td>162.83669</td></tr><tr><td>epoch</td><td>4999</td></tr><tr><td>learning_rate</td><td>0.0</td></tr><tr><td>pde_loss</td><td>0.09938</td></tr><tr><td>terminal_loss</td><td>31.44562</td></tr><tr><td>total_loss</td><td>4.72918</td></tr></table><br/></div></div>"
      ],
      "text/plain": [
       "<IPython.core.display.HTML object>"
      ]
     },
     "metadata": {},
     "output_type": "display_data"
    },
    {
     "data": {
      "text/html": [
       " View run <strong style=\"color:#cdcd00\">visionary-sweep-3</strong> at: <a href='https://wandb.ai/tobiassafie-drexel-university/Heston-Weight-Sweeps-3/runs/zula8yha' target=\"_blank\">https://wandb.ai/tobiassafie-drexel-university/Heston-Weight-Sweeps-3/runs/zula8yha</a><br> View project at: <a href='https://wandb.ai/tobiassafie-drexel-university/Heston-Weight-Sweeps-3' target=\"_blank\">https://wandb.ai/tobiassafie-drexel-university/Heston-Weight-Sweeps-3</a><br>Synced 5 W&B file(s), 0 media file(s), 0 artifact file(s) and 0 other file(s)"
      ],
      "text/plain": [
       "<IPython.core.display.HTML object>"
      ]
     },
     "metadata": {},
     "output_type": "display_data"
    },
    {
     "data": {
      "text/html": [
       "Find logs at: <code>.\\wandb\\run-20250813_193620-zula8yha\\logs</code>"
      ],
      "text/plain": [
       "<IPython.core.display.HTML object>"
      ]
     },
     "metadata": {},
     "output_type": "display_data"
    },
    {
     "name": "stderr",
     "output_type": "stream",
     "text": [
      "wandb: Agent Starting Run: cbto9agt with config:\n",
      "wandb: \tN_boundary: 500\n",
      "wandb: \tN_pde: 2500\n",
      "wandb: \tN_terminal: 500\n",
      "wandb: \thidden_layers: 2\n",
      "wandb: \tlearning_rate: 0.0024\n",
      "wandb: \tneurons_per_layer: 256\n",
      "wandb: \tnum_epochs: 5000\n",
      "wandb: \tw_boundary: 1.0392183673013278\n",
      "wandb: \tw_pde: 3.416839724238214\n",
      "wandb: \tw_terminal: 1.8878546256498767\n"
     ]
    },
    {
     "data": {
      "text/html": [
       "Tracking run with wandb version 0.21.0"
      ],
      "text/plain": [
       "<IPython.core.display.HTML object>"
      ]
     },
     "metadata": {},
     "output_type": "display_data"
    },
    {
     "data": {
      "text/html": [
       "Run data is saved locally in <code>c:\\Users\\tobys\\Desktop\\STAR\\dev_notebooks\\heston\\sweep\\wandb\\run-20250813_194042-cbto9agt</code>"
      ],
      "text/plain": [
       "<IPython.core.display.HTML object>"
      ]
     },
     "metadata": {},
     "output_type": "display_data"
    },
    {
     "data": {
      "text/html": [
       "Syncing run <strong><a href='https://wandb.ai/tobiassafie-drexel-university/Heston-Weight-Sweeps-3/runs/cbto9agt' target=\"_blank\">generous-sweep-4</a></strong> to <a href='https://wandb.ai/tobiassafie-drexel-university/Heston-Weight-Sweeps-3' target=\"_blank\">Weights & Biases</a> (<a href='https://wandb.me/developer-guide' target=\"_blank\">docs</a>)<br>Sweep page: <a href='https://wandb.ai/tobiassafie-drexel-university/Heston-Weight-Sweeps-3/sweeps/ljlwhom6' target=\"_blank\">https://wandb.ai/tobiassafie-drexel-university/Heston-Weight-Sweeps-3/sweeps/ljlwhom6</a>"
      ],
      "text/plain": [
       "<IPython.core.display.HTML object>"
      ]
     },
     "metadata": {},
     "output_type": "display_data"
    },
    {
     "data": {
      "text/html": [
       " View project at <a href='https://wandb.ai/tobiassafie-drexel-university/Heston-Weight-Sweeps-3' target=\"_blank\">https://wandb.ai/tobiassafie-drexel-university/Heston-Weight-Sweeps-3</a>"
      ],
      "text/plain": [
       "<IPython.core.display.HTML object>"
      ]
     },
     "metadata": {},
     "output_type": "display_data"
    },
    {
     "data": {
      "text/html": [
       " View sweep at <a href='https://wandb.ai/tobiassafie-drexel-university/Heston-Weight-Sweeps-3/sweeps/ljlwhom6' target=\"_blank\">https://wandb.ai/tobiassafie-drexel-university/Heston-Weight-Sweeps-3/sweeps/ljlwhom6</a>"
      ],
      "text/plain": [
       "<IPython.core.display.HTML object>"
      ]
     },
     "metadata": {},
     "output_type": "display_data"
    },
    {
     "data": {
      "text/html": [
       " View run at <a href='https://wandb.ai/tobiassafie-drexel-university/Heston-Weight-Sweeps-3/runs/cbto9agt' target=\"_blank\">https://wandb.ai/tobiassafie-drexel-university/Heston-Weight-Sweeps-3/runs/cbto9agt</a>"
      ],
      "text/plain": [
       "<IPython.core.display.HTML object>"
      ]
     },
     "metadata": {},
     "output_type": "display_data"
    },
    {
     "data": {
      "text/html": [],
      "text/plain": [
       "<IPython.core.display.HTML object>"
      ]
     },
     "metadata": {},
     "output_type": "display_data"
    },
    {
     "data": {
      "text/html": [
       "<br>    <style><br>        .wandb-row {<br>            display: flex;<br>            flex-direction: row;<br>            flex-wrap: wrap;<br>            justify-content: flex-start;<br>            width: 100%;<br>        }<br>        .wandb-col {<br>            display: flex;<br>            flex-direction: column;<br>            flex-basis: 100%;<br>            flex: 1;<br>            padding: 10px;<br>        }<br>    </style><br><div class=\"wandb-row\"><div class=\"wandb-col\"><h3>Run history:</h3><br/><table class=\"wandb\"><tr><td>boundary_loss</td><td>█▃▂▂▂▂▁▁▁▁▁▁▁▁▁▁▁▁▁▁▁▁▁▁▁▁▁▁▁▁▁▁▁▁▁▁▁▁▁▁</td></tr><tr><td>epoch</td><td>▁▁▁▁▂▂▂▃▃▃▃▃▄▄▄▄▄▄▅▅▆▆▆▆▆▆▆▇▇▇▇▇▇▇██████</td></tr><tr><td>learning_rate</td><td>██████▇▇▇▇▇▆▆▆▆▆▆▅▅▅▅▄▄▄▄▃▃▃▃▂▂▂▂▂▂▁▁▁▁▁</td></tr><tr><td>pde_loss</td><td>▁▁█▇▆▃▃▃▇▆▁▁▁▁▁▁▁▁▁▁▁▁▁▁▁▁▁▁▁▁▁▁▁▁▁▁▁▁▁▁</td></tr><tr><td>terminal_loss</td><td>█▆▆▃▂▁▂▁▁▁▁▁▁▁▁▁▁▁▁▁▁▁▁▁▁▁▁▁▁▁▁▁▁▁▁▁▁▁▁▁</td></tr><tr><td>total_loss</td><td>█▅▃▂▁▁▂▁▂▃▁▁▁▁▁▁▁▁▁▁▁▁▁▁▁▁▁▁▁▁▁▁▁▁▁▁▁▁▁▁</td></tr></table><br/></div><div class=\"wandb-col\"><h3>Run summary:</h3><br/><table class=\"wandb\"><tr><td>boundary_loss</td><td>0.23281</td></tr><tr><td>epoch</td><td>4999</td></tr><tr><td>learning_rate</td><td>0.0</td></tr><tr><td>pde_loss</td><td>0.6385</td></tr><tr><td>terminal_loss</td><td>2.5985</td></tr><tr><td>total_loss</td><td>7.32918</td></tr></table><br/></div></div>"
      ],
      "text/plain": [
       "<IPython.core.display.HTML object>"
      ]
     },
     "metadata": {},
     "output_type": "display_data"
    },
    {
     "data": {
      "text/html": [
       " View run <strong style=\"color:#cdcd00\">generous-sweep-4</strong> at: <a href='https://wandb.ai/tobiassafie-drexel-university/Heston-Weight-Sweeps-3/runs/cbto9agt' target=\"_blank\">https://wandb.ai/tobiassafie-drexel-university/Heston-Weight-Sweeps-3/runs/cbto9agt</a><br> View project at: <a href='https://wandb.ai/tobiassafie-drexel-university/Heston-Weight-Sweeps-3' target=\"_blank\">https://wandb.ai/tobiassafie-drexel-university/Heston-Weight-Sweeps-3</a><br>Synced 5 W&B file(s), 0 media file(s), 0 artifact file(s) and 0 other file(s)"
      ],
      "text/plain": [
       "<IPython.core.display.HTML object>"
      ]
     },
     "metadata": {},
     "output_type": "display_data"
    },
    {
     "data": {
      "text/html": [
       "Find logs at: <code>.\\wandb\\run-20250813_194042-cbto9agt\\logs</code>"
      ],
      "text/plain": [
       "<IPython.core.display.HTML object>"
      ]
     },
     "metadata": {},
     "output_type": "display_data"
    },
    {
     "name": "stderr",
     "output_type": "stream",
     "text": [
      "wandb: Agent Starting Run: ir0sqf7p with config:\n",
      "wandb: \tN_boundary: 500\n",
      "wandb: \tN_pde: 2500\n",
      "wandb: \tN_terminal: 500\n",
      "wandb: \thidden_layers: 2\n",
      "wandb: \tlearning_rate: 0.0024\n",
      "wandb: \tneurons_per_layer: 256\n",
      "wandb: \tnum_epochs: 5000\n",
      "wandb: \tw_boundary: 1.3524967521777835\n",
      "wandb: \tw_pde: 6.277299460953316\n",
      "wandb: \tw_terminal: 1.9959611367218923\n"
     ]
    },
    {
     "data": {
      "text/html": [
       "Tracking run with wandb version 0.21.0"
      ],
      "text/plain": [
       "<IPython.core.display.HTML object>"
      ]
     },
     "metadata": {},
     "output_type": "display_data"
    },
    {
     "data": {
      "text/html": [
       "Run data is saved locally in <code>c:\\Users\\tobys\\Desktop\\STAR\\dev_notebooks\\heston\\sweep\\wandb\\run-20250813_194437-ir0sqf7p</code>"
      ],
      "text/plain": [
       "<IPython.core.display.HTML object>"
      ]
     },
     "metadata": {},
     "output_type": "display_data"
    },
    {
     "data": {
      "text/html": [
       "Syncing run <strong><a href='https://wandb.ai/tobiassafie-drexel-university/Heston-Weight-Sweeps-3/runs/ir0sqf7p' target=\"_blank\">swift-sweep-5</a></strong> to <a href='https://wandb.ai/tobiassafie-drexel-university/Heston-Weight-Sweeps-3' target=\"_blank\">Weights & Biases</a> (<a href='https://wandb.me/developer-guide' target=\"_blank\">docs</a>)<br>Sweep page: <a href='https://wandb.ai/tobiassafie-drexel-university/Heston-Weight-Sweeps-3/sweeps/ljlwhom6' target=\"_blank\">https://wandb.ai/tobiassafie-drexel-university/Heston-Weight-Sweeps-3/sweeps/ljlwhom6</a>"
      ],
      "text/plain": [
       "<IPython.core.display.HTML object>"
      ]
     },
     "metadata": {},
     "output_type": "display_data"
    },
    {
     "data": {
      "text/html": [
       " View project at <a href='https://wandb.ai/tobiassafie-drexel-university/Heston-Weight-Sweeps-3' target=\"_blank\">https://wandb.ai/tobiassafie-drexel-university/Heston-Weight-Sweeps-3</a>"
      ],
      "text/plain": [
       "<IPython.core.display.HTML object>"
      ]
     },
     "metadata": {},
     "output_type": "display_data"
    },
    {
     "data": {
      "text/html": [
       " View sweep at <a href='https://wandb.ai/tobiassafie-drexel-university/Heston-Weight-Sweeps-3/sweeps/ljlwhom6' target=\"_blank\">https://wandb.ai/tobiassafie-drexel-university/Heston-Weight-Sweeps-3/sweeps/ljlwhom6</a>"
      ],
      "text/plain": [
       "<IPython.core.display.HTML object>"
      ]
     },
     "metadata": {},
     "output_type": "display_data"
    },
    {
     "data": {
      "text/html": [
       " View run at <a href='https://wandb.ai/tobiassafie-drexel-university/Heston-Weight-Sweeps-3/runs/ir0sqf7p' target=\"_blank\">https://wandb.ai/tobiassafie-drexel-university/Heston-Weight-Sweeps-3/runs/ir0sqf7p</a>"
      ],
      "text/plain": [
       "<IPython.core.display.HTML object>"
      ]
     },
     "metadata": {},
     "output_type": "display_data"
    },
    {
     "data": {
      "text/html": [],
      "text/plain": [
       "<IPython.core.display.HTML object>"
      ]
     },
     "metadata": {},
     "output_type": "display_data"
    },
    {
     "data": {
      "text/html": [
       "<br>    <style><br>        .wandb-row {<br>            display: flex;<br>            flex-direction: row;<br>            flex-wrap: wrap;<br>            justify-content: flex-start;<br>            width: 100%;<br>        }<br>        .wandb-col {<br>            display: flex;<br>            flex-direction: column;<br>            flex-basis: 100%;<br>            flex: 1;<br>            padding: 10px;<br>        }<br>    </style><br><div class=\"wandb-row\"><div class=\"wandb-col\"><h3>Run history:</h3><br/><table class=\"wandb\"><tr><td>boundary_loss</td><td>█▂▁▁▁▁▁▁▁▁▁▁▁▁▁▁▁▁▁▁▁▁▁▁▁▁▁▁▁▁▁▁▁▁▁▁▁▁▁▁</td></tr><tr><td>epoch</td><td>▁▁▁▁▁▂▂▂▂▃▄▄▄▄▄▅▅▅▅▅▅▆▆▆▆▆▆▆▆▆▇▇▇▇▇▇▇███</td></tr><tr><td>learning_rate</td><td>█████▇▇▇▇▇▆▆▆▆▆▆▆▅▄▄▄▄▄▄▄▃▃▃▃▃▂▂▂▂▁▁▁▁▁▁</td></tr><tr><td>pde_loss</td><td>▁▄▅█▃▅▇▄▂▁▂▁▁▁▁▁▁▁▁▁▁▁▁▁▁▁▁▁▁▁▁▁▁▁▁▁▁▁▁▁</td></tr><tr><td>terminal_loss</td><td>█▂▂▂▁▁▁▁▁▁▁▁▁▁▁▁▁▁▁▁▁▁▁▁▁▁▁▁▁▁▁▁▁▁▁▁▁▁▁▁</td></tr><tr><td>total_loss</td><td>█▄▂▁▁▁▁▁▁▁▁▁▁▁▁▁▁▁▁▁▁▁▁▁▁▁▁▁▁▁▁▁▁▁▁▁▁▁▁▁</td></tr></table><br/></div><div class=\"wandb-col\"><h3>Run summary:</h3><br/><table class=\"wandb\"><tr><td>boundary_loss</td><td>0.11856</td></tr><tr><td>epoch</td><td>4999</td></tr><tr><td>learning_rate</td><td>0.0</td></tr><tr><td>pde_loss</td><td>0.42183</td></tr><tr><td>terminal_loss</td><td>3.60593</td></tr><tr><td>total_loss</td><td>10.0056</td></tr></table><br/></div></div>"
      ],
      "text/plain": [
       "<IPython.core.display.HTML object>"
      ]
     },
     "metadata": {},
     "output_type": "display_data"
    },
    {
     "data": {
      "text/html": [
       " View run <strong style=\"color:#cdcd00\">swift-sweep-5</strong> at: <a href='https://wandb.ai/tobiassafie-drexel-university/Heston-Weight-Sweeps-3/runs/ir0sqf7p' target=\"_blank\">https://wandb.ai/tobiassafie-drexel-university/Heston-Weight-Sweeps-3/runs/ir0sqf7p</a><br> View project at: <a href='https://wandb.ai/tobiassafie-drexel-university/Heston-Weight-Sweeps-3' target=\"_blank\">https://wandb.ai/tobiassafie-drexel-university/Heston-Weight-Sweeps-3</a><br>Synced 5 W&B file(s), 0 media file(s), 0 artifact file(s) and 0 other file(s)"
      ],
      "text/plain": [
       "<IPython.core.display.HTML object>"
      ]
     },
     "metadata": {},
     "output_type": "display_data"
    },
    {
     "data": {
      "text/html": [
       "Find logs at: <code>.\\wandb\\run-20250813_194437-ir0sqf7p\\logs</code>"
      ],
      "text/plain": [
       "<IPython.core.display.HTML object>"
      ]
     },
     "metadata": {},
     "output_type": "display_data"
    },
    {
     "name": "stderr",
     "output_type": "stream",
     "text": [
      "wandb: Agent Starting Run: wa9t7tkp with config:\n",
      "wandb: \tN_boundary: 500\n",
      "wandb: \tN_pde: 2500\n",
      "wandb: \tN_terminal: 500\n",
      "wandb: \thidden_layers: 2\n",
      "wandb: \tlearning_rate: 0.0024\n",
      "wandb: \tneurons_per_layer: 256\n",
      "wandb: \tnum_epochs: 5000\n",
      "wandb: \tw_boundary: 1.7930351382548144\n",
      "wandb: \tw_pde: 1.0156485791994654\n",
      "wandb: \tw_terminal: 1.6845370121233711\n"
     ]
    },
    {
     "data": {
      "text/html": [
       "Tracking run with wandb version 0.21.0"
      ],
      "text/plain": [
       "<IPython.core.display.HTML object>"
      ]
     },
     "metadata": {},
     "output_type": "display_data"
    },
    {
     "data": {
      "text/html": [
       "Run data is saved locally in <code>c:\\Users\\tobys\\Desktop\\STAR\\dev_notebooks\\heston\\sweep\\wandb\\run-20250813_194856-wa9t7tkp</code>"
      ],
      "text/plain": [
       "<IPython.core.display.HTML object>"
      ]
     },
     "metadata": {},
     "output_type": "display_data"
    },
    {
     "data": {
      "text/html": [
       "Syncing run <strong><a href='https://wandb.ai/tobiassafie-drexel-university/Heston-Weight-Sweeps-3/runs/wa9t7tkp' target=\"_blank\">major-sweep-6</a></strong> to <a href='https://wandb.ai/tobiassafie-drexel-university/Heston-Weight-Sweeps-3' target=\"_blank\">Weights & Biases</a> (<a href='https://wandb.me/developer-guide' target=\"_blank\">docs</a>)<br>Sweep page: <a href='https://wandb.ai/tobiassafie-drexel-university/Heston-Weight-Sweeps-3/sweeps/ljlwhom6' target=\"_blank\">https://wandb.ai/tobiassafie-drexel-university/Heston-Weight-Sweeps-3/sweeps/ljlwhom6</a>"
      ],
      "text/plain": [
       "<IPython.core.display.HTML object>"
      ]
     },
     "metadata": {},
     "output_type": "display_data"
    },
    {
     "data": {
      "text/html": [
       " View project at <a href='https://wandb.ai/tobiassafie-drexel-university/Heston-Weight-Sweeps-3' target=\"_blank\">https://wandb.ai/tobiassafie-drexel-university/Heston-Weight-Sweeps-3</a>"
      ],
      "text/plain": [
       "<IPython.core.display.HTML object>"
      ]
     },
     "metadata": {},
     "output_type": "display_data"
    },
    {
     "data": {
      "text/html": [
       " View sweep at <a href='https://wandb.ai/tobiassafie-drexel-university/Heston-Weight-Sweeps-3/sweeps/ljlwhom6' target=\"_blank\">https://wandb.ai/tobiassafie-drexel-university/Heston-Weight-Sweeps-3/sweeps/ljlwhom6</a>"
      ],
      "text/plain": [
       "<IPython.core.display.HTML object>"
      ]
     },
     "metadata": {},
     "output_type": "display_data"
    },
    {
     "data": {
      "text/html": [
       " View run at <a href='https://wandb.ai/tobiassafie-drexel-university/Heston-Weight-Sweeps-3/runs/wa9t7tkp' target=\"_blank\">https://wandb.ai/tobiassafie-drexel-university/Heston-Weight-Sweeps-3/runs/wa9t7tkp</a>"
      ],
      "text/plain": [
       "<IPython.core.display.HTML object>"
      ]
     },
     "metadata": {},
     "output_type": "display_data"
    },
    {
     "data": {
      "text/html": [],
      "text/plain": [
       "<IPython.core.display.HTML object>"
      ]
     },
     "metadata": {},
     "output_type": "display_data"
    },
    {
     "data": {
      "text/html": [
       "<br>    <style><br>        .wandb-row {<br>            display: flex;<br>            flex-direction: row;<br>            flex-wrap: wrap;<br>            justify-content: flex-start;<br>            width: 100%;<br>        }<br>        .wandb-col {<br>            display: flex;<br>            flex-direction: column;<br>            flex-basis: 100%;<br>            flex: 1;<br>            padding: 10px;<br>        }<br>    </style><br><div class=\"wandb-row\"><div class=\"wandb-col\"><h3>Run history:</h3><br/><table class=\"wandb\"><tr><td>boundary_loss</td><td>█▅▃▃▁▁▁▁▁▁▁▁▁▁▁▁▁▁▁▁▁▁▁▁▁▁▁▁▁▁▁▁▁▁▁▁▁▁▁▁</td></tr><tr><td>epoch</td><td>▁▁▂▂▂▂▂▂▃▃▃▃▃▃▃▄▄▄▄▄▄▅▅▅▅▅▅▅▆▆▆▇▇▇▇▇▇▇▇█</td></tr><tr><td>learning_rate</td><td>████▇▇▆▆▆▆▆▆▆▅▅▅▅▅▄▄▃▃▃▃▃▃▂▂▂▂▂▁▁▁▁▁▁▁▁▁</td></tr><tr><td>pde_loss</td><td>▅▆▅█▅▁▂▁▁▁▁▁▁▁▁▁▁▁▁▁▁▁▁▁▁▁▁▁▁▁▁▁▁▁▁▁▁▁▁▁</td></tr><tr><td>terminal_loss</td><td>█▄▂▂▂▂▁▁▁▁▁▁▁▁▁▁▁▁▁▁▁▁▁▁▁▁▁▁▁▁▁▁▁▁▁▁▁▁▁▁</td></tr><tr><td>total_loss</td><td>█▄▃▁▁▁▁▁▁▁▁▁▁▁▁▁▁▁▁▁▁▁▁▁▁▁▁▁▁▁▁▁▁▁▁▁▁▁▁▁</td></tr></table><br/></div><div class=\"wandb-col\"><h3>Run summary:</h3><br/><table class=\"wandb\"><tr><td>boundary_loss</td><td>0.14916</td></tr><tr><td>epoch</td><td>4999</td></tr><tr><td>learning_rate</td><td>0.0</td></tr><tr><td>pde_loss</td><td>1.06816</td></tr><tr><td>terminal_loss</td><td>1.25119</td></tr><tr><td>total_loss</td><td>3.46</td></tr></table><br/></div></div>"
      ],
      "text/plain": [
       "<IPython.core.display.HTML object>"
      ]
     },
     "metadata": {},
     "output_type": "display_data"
    },
    {
     "data": {
      "text/html": [
       " View run <strong style=\"color:#cdcd00\">major-sweep-6</strong> at: <a href='https://wandb.ai/tobiassafie-drexel-university/Heston-Weight-Sweeps-3/runs/wa9t7tkp' target=\"_blank\">https://wandb.ai/tobiassafie-drexel-university/Heston-Weight-Sweeps-3/runs/wa9t7tkp</a><br> View project at: <a href='https://wandb.ai/tobiassafie-drexel-university/Heston-Weight-Sweeps-3' target=\"_blank\">https://wandb.ai/tobiassafie-drexel-university/Heston-Weight-Sweeps-3</a><br>Synced 5 W&B file(s), 0 media file(s), 0 artifact file(s) and 0 other file(s)"
      ],
      "text/plain": [
       "<IPython.core.display.HTML object>"
      ]
     },
     "metadata": {},
     "output_type": "display_data"
    },
    {
     "data": {
      "text/html": [
       "Find logs at: <code>.\\wandb\\run-20250813_194856-wa9t7tkp\\logs</code>"
      ],
      "text/plain": [
       "<IPython.core.display.HTML object>"
      ]
     },
     "metadata": {},
     "output_type": "display_data"
    },
    {
     "name": "stderr",
     "output_type": "stream",
     "text": [
      "wandb: Agent Starting Run: lw53xvaf with config:\n",
      "wandb: \tN_boundary: 500\n",
      "wandb: \tN_pde: 2500\n",
      "wandb: \tN_terminal: 500\n",
      "wandb: \thidden_layers: 2\n",
      "wandb: \tlearning_rate: 0.0024\n",
      "wandb: \tneurons_per_layer: 256\n",
      "wandb: \tnum_epochs: 5000\n",
      "wandb: \tw_boundary: 1.9840384131790392\n",
      "wandb: \tw_pde: 3.99686365910614\n",
      "wandb: \tw_terminal: 1.918748418893281\n"
     ]
    },
    {
     "data": {
      "text/html": [
       "Waiting for wandb.init()..."
      ],
      "text/plain": [
       "<IPython.core.display.HTML object>"
      ]
     },
     "metadata": {},
     "output_type": "display_data"
    },
    {
     "data": {
      "text/html": [
       "Tracking run with wandb version 0.21.0"
      ],
      "text/plain": [
       "<IPython.core.display.HTML object>"
      ]
     },
     "metadata": {},
     "output_type": "display_data"
    },
    {
     "data": {
      "text/html": [
       "Run data is saved locally in <code>c:\\Users\\tobys\\Desktop\\STAR\\dev_notebooks\\heston\\sweep\\wandb\\run-20250813_195313-lw53xvaf</code>"
      ],
      "text/plain": [
       "<IPython.core.display.HTML object>"
      ]
     },
     "metadata": {},
     "output_type": "display_data"
    },
    {
     "data": {
      "text/html": [
       "Syncing run <strong><a href='https://wandb.ai/tobiassafie-drexel-university/Heston-Weight-Sweeps-3/runs/lw53xvaf' target=\"_blank\">glad-sweep-7</a></strong> to <a href='https://wandb.ai/tobiassafie-drexel-university/Heston-Weight-Sweeps-3' target=\"_blank\">Weights & Biases</a> (<a href='https://wandb.me/developer-guide' target=\"_blank\">docs</a>)<br>Sweep page: <a href='https://wandb.ai/tobiassafie-drexel-university/Heston-Weight-Sweeps-3/sweeps/ljlwhom6' target=\"_blank\">https://wandb.ai/tobiassafie-drexel-university/Heston-Weight-Sweeps-3/sweeps/ljlwhom6</a>"
      ],
      "text/plain": [
       "<IPython.core.display.HTML object>"
      ]
     },
     "metadata": {},
     "output_type": "display_data"
    },
    {
     "data": {
      "text/html": [
       " View project at <a href='https://wandb.ai/tobiassafie-drexel-university/Heston-Weight-Sweeps-3' target=\"_blank\">https://wandb.ai/tobiassafie-drexel-university/Heston-Weight-Sweeps-3</a>"
      ],
      "text/plain": [
       "<IPython.core.display.HTML object>"
      ]
     },
     "metadata": {},
     "output_type": "display_data"
    },
    {
     "data": {
      "text/html": [
       " View sweep at <a href='https://wandb.ai/tobiassafie-drexel-university/Heston-Weight-Sweeps-3/sweeps/ljlwhom6' target=\"_blank\">https://wandb.ai/tobiassafie-drexel-university/Heston-Weight-Sweeps-3/sweeps/ljlwhom6</a>"
      ],
      "text/plain": [
       "<IPython.core.display.HTML object>"
      ]
     },
     "metadata": {},
     "output_type": "display_data"
    },
    {
     "data": {
      "text/html": [
       " View run at <a href='https://wandb.ai/tobiassafie-drexel-university/Heston-Weight-Sweeps-3/runs/lw53xvaf' target=\"_blank\">https://wandb.ai/tobiassafie-drexel-university/Heston-Weight-Sweeps-3/runs/lw53xvaf</a>"
      ],
      "text/plain": [
       "<IPython.core.display.HTML object>"
      ]
     },
     "metadata": {},
     "output_type": "display_data"
    },
    {
     "data": {
      "text/html": [],
      "text/plain": [
       "<IPython.core.display.HTML object>"
      ]
     },
     "metadata": {},
     "output_type": "display_data"
    },
    {
     "data": {
      "text/html": [
       "<br>    <style><br>        .wandb-row {<br>            display: flex;<br>            flex-direction: row;<br>            flex-wrap: wrap;<br>            justify-content: flex-start;<br>            width: 100%;<br>        }<br>        .wandb-col {<br>            display: flex;<br>            flex-direction: column;<br>            flex-basis: 100%;<br>            flex: 1;<br>            padding: 10px;<br>        }<br>    </style><br><div class=\"wandb-row\"><div class=\"wandb-col\"><h3>Run history:</h3><br/><table class=\"wandb\"><tr><td>boundary_loss</td><td>█▂▂▁▁▁▁▁▁▁▁▁▁▁▁▁▁▁▁▁▁▁▁▁▁▁▁▁▁▁▁▁▁▁▁▁▁▁▁▁</td></tr><tr><td>epoch</td><td>▁▁▁▁▂▃▃▃▃▄▄▄▄▅▅▅▅▅▅▅▆▆▆▆▆▆▆▆▇▇▇▇▇▇▇█████</td></tr><tr><td>learning_rate</td><td>█████████████████▆▆▆▅▅▅▅▄▃▃▃▃▃▂▂▂▂▂▂▁▁▁▁</td></tr><tr><td>pde_loss</td><td>▁▁▇▇▃▄▇█▆▅▂▁▁▁▁▁▁▁▁▁▁▁▁▁▁▁▁▁▁▁▁▁▁▁▁▁▁▁▁▁</td></tr><tr><td>terminal_loss</td><td>█▇▇▆▃▁▁▁▁▁▁▁▁▁▁▁▁▁▁▁▁▁▁▁▁▁▁▁▁▁▁▁▁▁▁▁▁▁▁▁</td></tr><tr><td>total_loss</td><td>█▇▂▂▁▁▁▁▁▁▁▁▁▁▁▁▁▁▁▁▁▁▁▁▁▁▁▁▁▁▁▁▁▁▁▁▁▁▁▁</td></tr></table><br/></div><div class=\"wandb-col\"><h3>Run summary:</h3><br/><table class=\"wandb\"><tr><td>boundary_loss</td><td>0.12474</td></tr><tr><td>epoch</td><td>4999</td></tr><tr><td>learning_rate</td><td>0.0</td></tr><tr><td>pde_loss</td><td>0.47006</td></tr><tr><td>terminal_loss</td><td>2.45795</td></tr><tr><td>total_loss</td><td>6.84244</td></tr></table><br/></div></div>"
      ],
      "text/plain": [
       "<IPython.core.display.HTML object>"
      ]
     },
     "metadata": {},
     "output_type": "display_data"
    },
    {
     "data": {
      "text/html": [
       " View run <strong style=\"color:#cdcd00\">glad-sweep-7</strong> at: <a href='https://wandb.ai/tobiassafie-drexel-university/Heston-Weight-Sweeps-3/runs/lw53xvaf' target=\"_blank\">https://wandb.ai/tobiassafie-drexel-university/Heston-Weight-Sweeps-3/runs/lw53xvaf</a><br> View project at: <a href='https://wandb.ai/tobiassafie-drexel-university/Heston-Weight-Sweeps-3' target=\"_blank\">https://wandb.ai/tobiassafie-drexel-university/Heston-Weight-Sweeps-3</a><br>Synced 5 W&B file(s), 0 media file(s), 0 artifact file(s) and 0 other file(s)"
      ],
      "text/plain": [
       "<IPython.core.display.HTML object>"
      ]
     },
     "metadata": {},
     "output_type": "display_data"
    },
    {
     "data": {
      "text/html": [
       "Find logs at: <code>.\\wandb\\run-20250813_195313-lw53xvaf\\logs</code>"
      ],
      "text/plain": [
       "<IPython.core.display.HTML object>"
      ]
     },
     "metadata": {},
     "output_type": "display_data"
    },
    {
     "name": "stderr",
     "output_type": "stream",
     "text": [
      "wandb: Agent Starting Run: 989tyejg with config:\n",
      "wandb: \tN_boundary: 500\n",
      "wandb: \tN_pde: 2500\n",
      "wandb: \tN_terminal: 500\n",
      "wandb: \thidden_layers: 2\n",
      "wandb: \tlearning_rate: 0.0024\n",
      "wandb: \tneurons_per_layer: 256\n",
      "wandb: \tnum_epochs: 5000\n",
      "wandb: \tw_boundary: 1.987350967490037\n",
      "wandb: \tw_pde: 1.0092601861391348\n",
      "wandb: \tw_terminal: 1.901575330612465\n"
     ]
    },
    {
     "data": {
      "text/html": [
       "Tracking run with wandb version 0.21.0"
      ],
      "text/plain": [
       "<IPython.core.display.HTML object>"
      ]
     },
     "metadata": {},
     "output_type": "display_data"
    },
    {
     "data": {
      "text/html": [
       "Run data is saved locally in <code>c:\\Users\\tobys\\Desktop\\STAR\\dev_notebooks\\heston\\sweep\\wandb\\run-20250813_195733-989tyejg</code>"
      ],
      "text/plain": [
       "<IPython.core.display.HTML object>"
      ]
     },
     "metadata": {},
     "output_type": "display_data"
    },
    {
     "data": {
      "text/html": [
       "Syncing run <strong><a href='https://wandb.ai/tobiassafie-drexel-university/Heston-Weight-Sweeps-3/runs/989tyejg' target=\"_blank\">polished-sweep-8</a></strong> to <a href='https://wandb.ai/tobiassafie-drexel-university/Heston-Weight-Sweeps-3' target=\"_blank\">Weights & Biases</a> (<a href='https://wandb.me/developer-guide' target=\"_blank\">docs</a>)<br>Sweep page: <a href='https://wandb.ai/tobiassafie-drexel-university/Heston-Weight-Sweeps-3/sweeps/ljlwhom6' target=\"_blank\">https://wandb.ai/tobiassafie-drexel-university/Heston-Weight-Sweeps-3/sweeps/ljlwhom6</a>"
      ],
      "text/plain": [
       "<IPython.core.display.HTML object>"
      ]
     },
     "metadata": {},
     "output_type": "display_data"
    },
    {
     "data": {
      "text/html": [
       " View project at <a href='https://wandb.ai/tobiassafie-drexel-university/Heston-Weight-Sweeps-3' target=\"_blank\">https://wandb.ai/tobiassafie-drexel-university/Heston-Weight-Sweeps-3</a>"
      ],
      "text/plain": [
       "<IPython.core.display.HTML object>"
      ]
     },
     "metadata": {},
     "output_type": "display_data"
    },
    {
     "data": {
      "text/html": [
       " View sweep at <a href='https://wandb.ai/tobiassafie-drexel-university/Heston-Weight-Sweeps-3/sweeps/ljlwhom6' target=\"_blank\">https://wandb.ai/tobiassafie-drexel-university/Heston-Weight-Sweeps-3/sweeps/ljlwhom6</a>"
      ],
      "text/plain": [
       "<IPython.core.display.HTML object>"
      ]
     },
     "metadata": {},
     "output_type": "display_data"
    },
    {
     "data": {
      "text/html": [
       " View run at <a href='https://wandb.ai/tobiassafie-drexel-university/Heston-Weight-Sweeps-3/runs/989tyejg' target=\"_blank\">https://wandb.ai/tobiassafie-drexel-university/Heston-Weight-Sweeps-3/runs/989tyejg</a>"
      ],
      "text/plain": [
       "<IPython.core.display.HTML object>"
      ]
     },
     "metadata": {},
     "output_type": "display_data"
    },
    {
     "data": {
      "text/html": [],
      "text/plain": [
       "<IPython.core.display.HTML object>"
      ]
     },
     "metadata": {},
     "output_type": "display_data"
    },
    {
     "data": {
      "text/html": [
       "<br>    <style><br>        .wandb-row {<br>            display: flex;<br>            flex-direction: row;<br>            flex-wrap: wrap;<br>            justify-content: flex-start;<br>            width: 100%;<br>        }<br>        .wandb-col {<br>            display: flex;<br>            flex-direction: column;<br>            flex-basis: 100%;<br>            flex: 1;<br>            padding: 10px;<br>        }<br>    </style><br><div class=\"wandb-row\"><div class=\"wandb-col\"><h3>Run history:</h3><br/><table class=\"wandb\"><tr><td>boundary_loss</td><td>█▁▁▁▁▁▁▁▁▁▁▁▁▁▁▁▁▁▁▁▁▁▁▁▁▁▁▁▁▁▁▁▁▁▁▁▁▁▁▁</td></tr><tr><td>epoch</td><td>▁▁▁▁▁▁▂▂▂▂▃▃▃▃▃▃▃▄▅▅▅▅▅▅▅▆▆▆▆▆▆▇▇▇▇▇▇▇▇█</td></tr><tr><td>learning_rate</td><td>█████▇▇▇▇▇▆▆▆▆▆▅▅▅▅▅▅▅▅▅▅▄▄▄▃▃▂▂▂▂▂▁▁▁▁▁</td></tr><tr><td>pde_loss</td><td>▁▁▁▃▃▂█▂▂▂▁▁▁▁▁▁▁▁▁▁▁▁▁▁▁▁▁▁▁▁▁▁▁▁▁▁▁▁▁▁</td></tr><tr><td>terminal_loss</td><td>█▃▁▁▂▁▁▁▁▁▁▁▁▁▁▁▁▁▁▁▁▁▁▁▁▁▁▁▁▁▁▁▁▁▁▁▁▁▁▁</td></tr><tr><td>total_loss</td><td>█▃▃▁▁▁▁▁▁▁▁▁▁▁▁▁▁▁▁▁▁▁▁▁▁▁▁▁▁▁▁▁▁▁▁▁▁▁▁▁</td></tr></table><br/></div><div class=\"wandb-col\"><h3>Run summary:</h3><br/><table class=\"wandb\"><tr><td>boundary_loss</td><td>0.08053</td></tr><tr><td>epoch</td><td>4999</td></tr><tr><td>learning_rate</td><td>0.0</td></tr><tr><td>pde_loss</td><td>1.33099</td></tr><tr><td>terminal_loss</td><td>1.18833</td></tr><tr><td>total_loss</td><td>3.76306</td></tr></table><br/></div></div>"
      ],
      "text/plain": [
       "<IPython.core.display.HTML object>"
      ]
     },
     "metadata": {},
     "output_type": "display_data"
    },
    {
     "data": {
      "text/html": [
       " View run <strong style=\"color:#cdcd00\">polished-sweep-8</strong> at: <a href='https://wandb.ai/tobiassafie-drexel-university/Heston-Weight-Sweeps-3/runs/989tyejg' target=\"_blank\">https://wandb.ai/tobiassafie-drexel-university/Heston-Weight-Sweeps-3/runs/989tyejg</a><br> View project at: <a href='https://wandb.ai/tobiassafie-drexel-university/Heston-Weight-Sweeps-3' target=\"_blank\">https://wandb.ai/tobiassafie-drexel-university/Heston-Weight-Sweeps-3</a><br>Synced 5 W&B file(s), 0 media file(s), 0 artifact file(s) and 0 other file(s)"
      ],
      "text/plain": [
       "<IPython.core.display.HTML object>"
      ]
     },
     "metadata": {},
     "output_type": "display_data"
    },
    {
     "data": {
      "text/html": [
       "Find logs at: <code>.\\wandb\\run-20250813_195733-989tyejg\\logs</code>"
      ],
      "text/plain": [
       "<IPython.core.display.HTML object>"
      ]
     },
     "metadata": {},
     "output_type": "display_data"
    },
    {
     "name": "stderr",
     "output_type": "stream",
     "text": [
      "wandb: Agent Starting Run: wpu0efem with config:\n",
      "wandb: \tN_boundary: 500\n",
      "wandb: \tN_pde: 2500\n",
      "wandb: \tN_terminal: 500\n",
      "wandb: \thidden_layers: 2\n",
      "wandb: \tlearning_rate: 0.0024\n",
      "wandb: \tneurons_per_layer: 256\n",
      "wandb: \tnum_epochs: 5000\n",
      "wandb: \tw_boundary: 0.21355144815407817\n",
      "wandb: \tw_pde: 1.018121619993576\n",
      "wandb: \tw_terminal: 1.9797373561172305\n"
     ]
    },
    {
     "data": {
      "text/html": [
       "Tracking run with wandb version 0.21.0"
      ],
      "text/plain": [
       "<IPython.core.display.HTML object>"
      ]
     },
     "metadata": {},
     "output_type": "display_data"
    },
    {
     "data": {
      "text/html": [
       "Run data is saved locally in <code>c:\\Users\\tobys\\Desktop\\STAR\\dev_notebooks\\heston\\sweep\\wandb\\run-20250813_200154-wpu0efem</code>"
      ],
      "text/plain": [
       "<IPython.core.display.HTML object>"
      ]
     },
     "metadata": {},
     "output_type": "display_data"
    },
    {
     "data": {
      "text/html": [
       "Syncing run <strong><a href='https://wandb.ai/tobiassafie-drexel-university/Heston-Weight-Sweeps-3/runs/wpu0efem' target=\"_blank\">dulcet-sweep-9</a></strong> to <a href='https://wandb.ai/tobiassafie-drexel-university/Heston-Weight-Sweeps-3' target=\"_blank\">Weights & Biases</a> (<a href='https://wandb.me/developer-guide' target=\"_blank\">docs</a>)<br>Sweep page: <a href='https://wandb.ai/tobiassafie-drexel-university/Heston-Weight-Sweeps-3/sweeps/ljlwhom6' target=\"_blank\">https://wandb.ai/tobiassafie-drexel-university/Heston-Weight-Sweeps-3/sweeps/ljlwhom6</a>"
      ],
      "text/plain": [
       "<IPython.core.display.HTML object>"
      ]
     },
     "metadata": {},
     "output_type": "display_data"
    },
    {
     "data": {
      "text/html": [
       " View project at <a href='https://wandb.ai/tobiassafie-drexel-university/Heston-Weight-Sweeps-3' target=\"_blank\">https://wandb.ai/tobiassafie-drexel-university/Heston-Weight-Sweeps-3</a>"
      ],
      "text/plain": [
       "<IPython.core.display.HTML object>"
      ]
     },
     "metadata": {},
     "output_type": "display_data"
    },
    {
     "data": {
      "text/html": [
       " View sweep at <a href='https://wandb.ai/tobiassafie-drexel-university/Heston-Weight-Sweeps-3/sweeps/ljlwhom6' target=\"_blank\">https://wandb.ai/tobiassafie-drexel-university/Heston-Weight-Sweeps-3/sweeps/ljlwhom6</a>"
      ],
      "text/plain": [
       "<IPython.core.display.HTML object>"
      ]
     },
     "metadata": {},
     "output_type": "display_data"
    },
    {
     "data": {
      "text/html": [
       " View run at <a href='https://wandb.ai/tobiassafie-drexel-university/Heston-Weight-Sweeps-3/runs/wpu0efem' target=\"_blank\">https://wandb.ai/tobiassafie-drexel-university/Heston-Weight-Sweeps-3/runs/wpu0efem</a>"
      ],
      "text/plain": [
       "<IPython.core.display.HTML object>"
      ]
     },
     "metadata": {},
     "output_type": "display_data"
    },
    {
     "data": {
      "text/html": [],
      "text/plain": [
       "<IPython.core.display.HTML object>"
      ]
     },
     "metadata": {},
     "output_type": "display_data"
    },
    {
     "data": {
      "text/html": [
       "<br>    <style><br>        .wandb-row {<br>            display: flex;<br>            flex-direction: row;<br>            flex-wrap: wrap;<br>            justify-content: flex-start;<br>            width: 100%;<br>        }<br>        .wandb-col {<br>            display: flex;<br>            flex-direction: column;<br>            flex-basis: 100%;<br>            flex: 1;<br>            padding: 10px;<br>        }<br>    </style><br><div class=\"wandb-row\"><div class=\"wandb-col\"><h3>Run history:</h3><br/><table class=\"wandb\"><tr><td>boundary_loss</td><td>█▅▄▅▄▁▁▂▁▁▁▁▁▁▁▁▁▁▁▁▁▁▁▁▁▁▁▁▁▁▁▁▁▁▁▁▁▁▁▁</td></tr><tr><td>epoch</td><td>▁▁▁▁▂▂▂▃▃▃▃▃▃▃▄▄▄▄▄▄▅▅▅▅▅▅▅▆▆▆▆▆▆▇▇▇▇▇██</td></tr><tr><td>learning_rate</td><td>██████████▇▆▆▆▆▆▆▅▅▅▅▅▅▅▄▄▃▃▃▃▃▂▂▂▂▁▁▁▁▁</td></tr><tr><td>pde_loss</td><td>▇█▅▅▇▃▂▂▃▁▁▁▁▂▂▁▁▁▁▁▁▁▁▁▁▁▁▁▁▁▁▁▁▁▁▁▁▁▁▁</td></tr><tr><td>terminal_loss</td><td>█▁▁▁▁▁▁▁▁▁▁▁▁▁▁▁▁▁▁▁▁▁▁▁▁▁▁▁▁▁▁▁▁▁▁▁▁▁▁▁</td></tr><tr><td>total_loss</td><td>▃▃▂▂▅▁█▂▁▁▁▁▁▁▁▁▁▁▁▁▁▁▁▁▁▁▁▁▁▁▁▁▁▁▁▁▁▁▁▁</td></tr></table><br/></div><div class=\"wandb-col\"><h3>Run summary:</h3><br/><table class=\"wandb\"><tr><td>boundary_loss</td><td>0.28602</td></tr><tr><td>epoch</td><td>4999</td></tr><tr><td>learning_rate</td><td>0.0</td></tr><tr><td>pde_loss</td><td>1.04835</td></tr><tr><td>terminal_loss</td><td>1.21909</td></tr><tr><td>total_loss</td><td>3.54191</td></tr></table><br/></div></div>"
      ],
      "text/plain": [
       "<IPython.core.display.HTML object>"
      ]
     },
     "metadata": {},
     "output_type": "display_data"
    },
    {
     "data": {
      "text/html": [
       " View run <strong style=\"color:#cdcd00\">dulcet-sweep-9</strong> at: <a href='https://wandb.ai/tobiassafie-drexel-university/Heston-Weight-Sweeps-3/runs/wpu0efem' target=\"_blank\">https://wandb.ai/tobiassafie-drexel-university/Heston-Weight-Sweeps-3/runs/wpu0efem</a><br> View project at: <a href='https://wandb.ai/tobiassafie-drexel-university/Heston-Weight-Sweeps-3' target=\"_blank\">https://wandb.ai/tobiassafie-drexel-university/Heston-Weight-Sweeps-3</a><br>Synced 5 W&B file(s), 0 media file(s), 0 artifact file(s) and 0 other file(s)"
      ],
      "text/plain": [
       "<IPython.core.display.HTML object>"
      ]
     },
     "metadata": {},
     "output_type": "display_data"
    },
    {
     "data": {
      "text/html": [
       "Find logs at: <code>.\\wandb\\run-20250813_200154-wpu0efem\\logs</code>"
      ],
      "text/plain": [
       "<IPython.core.display.HTML object>"
      ]
     },
     "metadata": {},
     "output_type": "display_data"
    },
    {
     "name": "stderr",
     "output_type": "stream",
     "text": [
      "wandb: Agent Starting Run: j5inp464 with config:\n",
      "wandb: \tN_boundary: 500\n",
      "wandb: \tN_pde: 2500\n",
      "wandb: \tN_terminal: 500\n",
      "wandb: \thidden_layers: 2\n",
      "wandb: \tlearning_rate: 0.0024\n",
      "wandb: \tneurons_per_layer: 256\n",
      "wandb: \tnum_epochs: 5000\n",
      "wandb: \tw_boundary: 1.225136855971334\n",
      "wandb: \tw_pde: 1.2995821257306976\n",
      "wandb: \tw_terminal: 1.8209839791499425\n"
     ]
    },
    {
     "data": {
      "text/html": [
       "Tracking run with wandb version 0.21.0"
      ],
      "text/plain": [
       "<IPython.core.display.HTML object>"
      ]
     },
     "metadata": {},
     "output_type": "display_data"
    },
    {
     "data": {
      "text/html": [
       "Run data is saved locally in <code>c:\\Users\\tobys\\Desktop\\STAR\\dev_notebooks\\heston\\sweep\\wandb\\run-20250813_200610-j5inp464</code>"
      ],
      "text/plain": [
       "<IPython.core.display.HTML object>"
      ]
     },
     "metadata": {},
     "output_type": "display_data"
    },
    {
     "data": {
      "text/html": [
       "Syncing run <strong><a href='https://wandb.ai/tobiassafie-drexel-university/Heston-Weight-Sweeps-3/runs/j5inp464' target=\"_blank\">earthy-sweep-10</a></strong> to <a href='https://wandb.ai/tobiassafie-drexel-university/Heston-Weight-Sweeps-3' target=\"_blank\">Weights & Biases</a> (<a href='https://wandb.me/developer-guide' target=\"_blank\">docs</a>)<br>Sweep page: <a href='https://wandb.ai/tobiassafie-drexel-university/Heston-Weight-Sweeps-3/sweeps/ljlwhom6' target=\"_blank\">https://wandb.ai/tobiassafie-drexel-university/Heston-Weight-Sweeps-3/sweeps/ljlwhom6</a>"
      ],
      "text/plain": [
       "<IPython.core.display.HTML object>"
      ]
     },
     "metadata": {},
     "output_type": "display_data"
    },
    {
     "data": {
      "text/html": [
       " View project at <a href='https://wandb.ai/tobiassafie-drexel-university/Heston-Weight-Sweeps-3' target=\"_blank\">https://wandb.ai/tobiassafie-drexel-university/Heston-Weight-Sweeps-3</a>"
      ],
      "text/plain": [
       "<IPython.core.display.HTML object>"
      ]
     },
     "metadata": {},
     "output_type": "display_data"
    },
    {
     "data": {
      "text/html": [
       " View sweep at <a href='https://wandb.ai/tobiassafie-drexel-university/Heston-Weight-Sweeps-3/sweeps/ljlwhom6' target=\"_blank\">https://wandb.ai/tobiassafie-drexel-university/Heston-Weight-Sweeps-3/sweeps/ljlwhom6</a>"
      ],
      "text/plain": [
       "<IPython.core.display.HTML object>"
      ]
     },
     "metadata": {},
     "output_type": "display_data"
    },
    {
     "data": {
      "text/html": [
       " View run at <a href='https://wandb.ai/tobiassafie-drexel-university/Heston-Weight-Sweeps-3/runs/j5inp464' target=\"_blank\">https://wandb.ai/tobiassafie-drexel-university/Heston-Weight-Sweeps-3/runs/j5inp464</a>"
      ],
      "text/plain": [
       "<IPython.core.display.HTML object>"
      ]
     },
     "metadata": {},
     "output_type": "display_data"
    },
    {
     "data": {
      "text/html": [],
      "text/plain": [
       "<IPython.core.display.HTML object>"
      ]
     },
     "metadata": {},
     "output_type": "display_data"
    },
    {
     "data": {
      "text/html": [
       "<br>    <style><br>        .wandb-row {<br>            display: flex;<br>            flex-direction: row;<br>            flex-wrap: wrap;<br>            justify-content: flex-start;<br>            width: 100%;<br>        }<br>        .wandb-col {<br>            display: flex;<br>            flex-direction: column;<br>            flex-basis: 100%;<br>            flex: 1;<br>            padding: 10px;<br>        }<br>    </style><br><div class=\"wandb-row\"><div class=\"wandb-col\"><h3>Run history:</h3><br/><table class=\"wandb\"><tr><td>boundary_loss</td><td>██▄▄▄▂▂▂▁▁▁▁▁▁▁▁▁▁▁▁▁▁▁▁▁▁▁▁▁▁▁▁▁▁▁▁▁▁▁▁</td></tr><tr><td>epoch</td><td>▁▁▁▂▂▂▂▂▂▂▃▃▃▃▃▄▄▅▅▅▅▅▅▅▆▆▆▆▆▆▆▆▆▇▇▇████</td></tr><tr><td>learning_rate</td><td>█████████▇▇▇▇▇▇▇▆▆▆▅▅▅▄▄▄▄▃▃▃▃▂▂▂▂▂▁▁▁▁▁</td></tr><tr><td>pde_loss</td><td>▁▁█▆▆▄▃▅█▄▁▁▁▁▁▁▁▁▁▁▁▁▁▁▁▁▁▁▁▁▁▁▁▁▁▁▁▁▁▁</td></tr><tr><td>terminal_loss</td><td>▇▄▃▄█▁▁▁▁▁▁▁▁▁▁▁▁▁▁▁▁▁▁▁▁▁▁▁▁▁▁▁▁▁▁▁▁▁▁▁</td></tr><tr><td>total_loss</td><td>█▆▅▄▂▂▁▁▁▁▁▁▁▁▁▁▁▁▁▁▁▁▁▁▁▁▁▁▁▁▁▁▁▁▁▁▁▁▁▁</td></tr></table><br/></div><div class=\"wandb-col\"><h3>Run summary:</h3><br/><table class=\"wandb\"><tr><td>boundary_loss</td><td>0.10969</td></tr><tr><td>epoch</td><td>4999</td></tr><tr><td>learning_rate</td><td>0.0</td></tr><tr><td>pde_loss</td><td>0.89827</td></tr><tr><td>terminal_loss</td><td>1.3803</td></tr><tr><td>total_loss</td><td>3.81526</td></tr></table><br/></div></div>"
      ],
      "text/plain": [
       "<IPython.core.display.HTML object>"
      ]
     },
     "metadata": {},
     "output_type": "display_data"
    },
    {
     "data": {
      "text/html": [
       " View run <strong style=\"color:#cdcd00\">earthy-sweep-10</strong> at: <a href='https://wandb.ai/tobiassafie-drexel-university/Heston-Weight-Sweeps-3/runs/j5inp464' target=\"_blank\">https://wandb.ai/tobiassafie-drexel-university/Heston-Weight-Sweeps-3/runs/j5inp464</a><br> View project at: <a href='https://wandb.ai/tobiassafie-drexel-university/Heston-Weight-Sweeps-3' target=\"_blank\">https://wandb.ai/tobiassafie-drexel-university/Heston-Weight-Sweeps-3</a><br>Synced 5 W&B file(s), 0 media file(s), 0 artifact file(s) and 0 other file(s)"
      ],
      "text/plain": [
       "<IPython.core.display.HTML object>"
      ]
     },
     "metadata": {},
     "output_type": "display_data"
    },
    {
     "data": {
      "text/html": [
       "Find logs at: <code>.\\wandb\\run-20250813_200610-j5inp464\\logs</code>"
      ],
      "text/plain": [
       "<IPython.core.display.HTML object>"
      ]
     },
     "metadata": {},
     "output_type": "display_data"
    },
    {
     "name": "stderr",
     "output_type": "stream",
     "text": [
      "wandb: Agent Starting Run: 9qab7wf8 with config:\n",
      "wandb: \tN_boundary: 500\n",
      "wandb: \tN_pde: 2500\n",
      "wandb: \tN_terminal: 500\n",
      "wandb: \thidden_layers: 2\n",
      "wandb: \tlearning_rate: 0.0024\n",
      "wandb: \tneurons_per_layer: 256\n",
      "wandb: \tnum_epochs: 5000\n",
      "wandb: \tw_boundary: 1.952886502839006\n",
      "wandb: \tw_pde: 9.889744829570978\n",
      "wandb: \tw_terminal: 1.9879655325140768\n"
     ]
    },
    {
     "data": {
      "text/html": [
       "Tracking run with wandb version 0.21.0"
      ],
      "text/plain": [
       "<IPython.core.display.HTML object>"
      ]
     },
     "metadata": {},
     "output_type": "display_data"
    },
    {
     "data": {
      "text/html": [
       "Run data is saved locally in <code>c:\\Users\\tobys\\Desktop\\STAR\\dev_notebooks\\heston\\sweep\\wandb\\run-20250813_201026-9qab7wf8</code>"
      ],
      "text/plain": [
       "<IPython.core.display.HTML object>"
      ]
     },
     "metadata": {},
     "output_type": "display_data"
    },
    {
     "data": {
      "text/html": [
       "Syncing run <strong><a href='https://wandb.ai/tobiassafie-drexel-university/Heston-Weight-Sweeps-3/runs/9qab7wf8' target=\"_blank\">solar-sweep-11</a></strong> to <a href='https://wandb.ai/tobiassafie-drexel-university/Heston-Weight-Sweeps-3' target=\"_blank\">Weights & Biases</a> (<a href='https://wandb.me/developer-guide' target=\"_blank\">docs</a>)<br>Sweep page: <a href='https://wandb.ai/tobiassafie-drexel-university/Heston-Weight-Sweeps-3/sweeps/ljlwhom6' target=\"_blank\">https://wandb.ai/tobiassafie-drexel-university/Heston-Weight-Sweeps-3/sweeps/ljlwhom6</a>"
      ],
      "text/plain": [
       "<IPython.core.display.HTML object>"
      ]
     },
     "metadata": {},
     "output_type": "display_data"
    },
    {
     "data": {
      "text/html": [
       " View project at <a href='https://wandb.ai/tobiassafie-drexel-university/Heston-Weight-Sweeps-3' target=\"_blank\">https://wandb.ai/tobiassafie-drexel-university/Heston-Weight-Sweeps-3</a>"
      ],
      "text/plain": [
       "<IPython.core.display.HTML object>"
      ]
     },
     "metadata": {},
     "output_type": "display_data"
    },
    {
     "data": {
      "text/html": [
       " View sweep at <a href='https://wandb.ai/tobiassafie-drexel-university/Heston-Weight-Sweeps-3/sweeps/ljlwhom6' target=\"_blank\">https://wandb.ai/tobiassafie-drexel-university/Heston-Weight-Sweeps-3/sweeps/ljlwhom6</a>"
      ],
      "text/plain": [
       "<IPython.core.display.HTML object>"
      ]
     },
     "metadata": {},
     "output_type": "display_data"
    },
    {
     "data": {
      "text/html": [
       " View run at <a href='https://wandb.ai/tobiassafie-drexel-university/Heston-Weight-Sweeps-3/runs/9qab7wf8' target=\"_blank\">https://wandb.ai/tobiassafie-drexel-university/Heston-Weight-Sweeps-3/runs/9qab7wf8</a>"
      ],
      "text/plain": [
       "<IPython.core.display.HTML object>"
      ]
     },
     "metadata": {},
     "output_type": "display_data"
    },
    {
     "data": {
      "text/html": [],
      "text/plain": [
       "<IPython.core.display.HTML object>"
      ]
     },
     "metadata": {},
     "output_type": "display_data"
    },
    {
     "data": {
      "text/html": [
       "<br>    <style><br>        .wandb-row {<br>            display: flex;<br>            flex-direction: row;<br>            flex-wrap: wrap;<br>            justify-content: flex-start;<br>            width: 100%;<br>        }<br>        .wandb-col {<br>            display: flex;<br>            flex-direction: column;<br>            flex-basis: 100%;<br>            flex: 1;<br>            padding: 10px;<br>        }<br>    </style><br><div class=\"wandb-row\"><div class=\"wandb-col\"><h3>Run history:</h3><br/><table class=\"wandb\"><tr><td>boundary_loss</td><td>█▇▅▃▂▁▁▁▁▁▁▁▁▁▁▁▁▁▁▁▁▁▁▁▁▁▁▁▁▁▁▁▁▁▁▁▁▁▁▁</td></tr><tr><td>epoch</td><td>▁▁▁▁▁▁▂▂▂▂▂▂▂▂▂▃▃▃▃▃▃▄▄▄▄▅▅▅▆▆▆▆▆▆▇▇▇▇▇█</td></tr><tr><td>learning_rate</td><td>████████▇▇▇▇▆▆▅▅▅▅▅▄▄▄▃▃▃▃▃▂▂▂▂▂▂▁▁▁▁▁▁▁</td></tr><tr><td>pde_loss</td><td>▂▂▃▂▅▅█▄▂▂▂▁▁▁▁▁▁▁▁▁▁▁▁▁▁▁▁▁▁▁▁▁▁▁▁▁▁▁▁▁</td></tr><tr><td>terminal_loss</td><td>█▂▂▁▂▁▁▁▁▁▁▁▁▁▁▁▁▁▁▁▁▁▁▁▁▁▁▁▁▁▁▁▁▁▁▁▁▁▁▁</td></tr><tr><td>total_loss</td><td>█▇▆▃▃▂▂▂▁▂▁▁▁▁▁▁▁▁▁▁▁▁▁▁▁▁▁▁▁▁▁▁▁▁▁▁▁▁▁▁</td></tr></table><br/></div><div class=\"wandb-col\"><h3>Run summary:</h3><br/><table class=\"wandb\"><tr><td>boundary_loss</td><td>0.15385</td></tr><tr><td>epoch</td><td>4999</td></tr><tr><td>learning_rate</td><td>0.0</td></tr><tr><td>pde_loss</td><td>0.38532</td></tr><tr><td>terminal_loss</td><td>5.56659</td></tr><tr><td>total_loss</td><td>15.17739</td></tr></table><br/></div></div>"
      ],
      "text/plain": [
       "<IPython.core.display.HTML object>"
      ]
     },
     "metadata": {},
     "output_type": "display_data"
    },
    {
     "data": {
      "text/html": [
       " View run <strong style=\"color:#cdcd00\">solar-sweep-11</strong> at: <a href='https://wandb.ai/tobiassafie-drexel-university/Heston-Weight-Sweeps-3/runs/9qab7wf8' target=\"_blank\">https://wandb.ai/tobiassafie-drexel-university/Heston-Weight-Sweeps-3/runs/9qab7wf8</a><br> View project at: <a href='https://wandb.ai/tobiassafie-drexel-university/Heston-Weight-Sweeps-3' target=\"_blank\">https://wandb.ai/tobiassafie-drexel-university/Heston-Weight-Sweeps-3</a><br>Synced 5 W&B file(s), 0 media file(s), 0 artifact file(s) and 0 other file(s)"
      ],
      "text/plain": [
       "<IPython.core.display.HTML object>"
      ]
     },
     "metadata": {},
     "output_type": "display_data"
    },
    {
     "data": {
      "text/html": [
       "Find logs at: <code>.\\wandb\\run-20250813_201026-9qab7wf8\\logs</code>"
      ],
      "text/plain": [
       "<IPython.core.display.HTML object>"
      ]
     },
     "metadata": {},
     "output_type": "display_data"
    },
    {
     "name": "stderr",
     "output_type": "stream",
     "text": [
      "wandb: Agent Starting Run: 2jzvxcwy with config:\n",
      "wandb: \tN_boundary: 500\n",
      "wandb: \tN_pde: 2500\n",
      "wandb: \tN_terminal: 500\n",
      "wandb: \thidden_layers: 2\n",
      "wandb: \tlearning_rate: 0.0024\n",
      "wandb: \tneurons_per_layer: 256\n",
      "wandb: \tnum_epochs: 5000\n",
      "wandb: \tw_boundary: 0.6440371645711906\n",
      "wandb: \tw_pde: 1.2195402492634924\n",
      "wandb: \tw_terminal: 1.9284015975863456\n"
     ]
    },
    {
     "data": {
      "text/html": [
       "Tracking run with wandb version 0.21.0"
      ],
      "text/plain": [
       "<IPython.core.display.HTML object>"
      ]
     },
     "metadata": {},
     "output_type": "display_data"
    },
    {
     "data": {
      "text/html": [
       "Run data is saved locally in <code>c:\\Users\\tobys\\Desktop\\STAR\\dev_notebooks\\heston\\sweep\\wandb\\run-20250813_201450-2jzvxcwy</code>"
      ],
      "text/plain": [
       "<IPython.core.display.HTML object>"
      ]
     },
     "metadata": {},
     "output_type": "display_data"
    },
    {
     "data": {
      "text/html": [
       "Syncing run <strong><a href='https://wandb.ai/tobiassafie-drexel-university/Heston-Weight-Sweeps-3/runs/2jzvxcwy' target=\"_blank\">driven-sweep-12</a></strong> to <a href='https://wandb.ai/tobiassafie-drexel-university/Heston-Weight-Sweeps-3' target=\"_blank\">Weights & Biases</a> (<a href='https://wandb.me/developer-guide' target=\"_blank\">docs</a>)<br>Sweep page: <a href='https://wandb.ai/tobiassafie-drexel-university/Heston-Weight-Sweeps-3/sweeps/ljlwhom6' target=\"_blank\">https://wandb.ai/tobiassafie-drexel-university/Heston-Weight-Sweeps-3/sweeps/ljlwhom6</a>"
      ],
      "text/plain": [
       "<IPython.core.display.HTML object>"
      ]
     },
     "metadata": {},
     "output_type": "display_data"
    },
    {
     "data": {
      "text/html": [
       " View project at <a href='https://wandb.ai/tobiassafie-drexel-university/Heston-Weight-Sweeps-3' target=\"_blank\">https://wandb.ai/tobiassafie-drexel-university/Heston-Weight-Sweeps-3</a>"
      ],
      "text/plain": [
       "<IPython.core.display.HTML object>"
      ]
     },
     "metadata": {},
     "output_type": "display_data"
    },
    {
     "data": {
      "text/html": [
       " View sweep at <a href='https://wandb.ai/tobiassafie-drexel-university/Heston-Weight-Sweeps-3/sweeps/ljlwhom6' target=\"_blank\">https://wandb.ai/tobiassafie-drexel-university/Heston-Weight-Sweeps-3/sweeps/ljlwhom6</a>"
      ],
      "text/plain": [
       "<IPython.core.display.HTML object>"
      ]
     },
     "metadata": {},
     "output_type": "display_data"
    },
    {
     "data": {
      "text/html": [
       " View run at <a href='https://wandb.ai/tobiassafie-drexel-university/Heston-Weight-Sweeps-3/runs/2jzvxcwy' target=\"_blank\">https://wandb.ai/tobiassafie-drexel-university/Heston-Weight-Sweeps-3/runs/2jzvxcwy</a>"
      ],
      "text/plain": [
       "<IPython.core.display.HTML object>"
      ]
     },
     "metadata": {},
     "output_type": "display_data"
    },
    {
     "data": {
      "text/html": [],
      "text/plain": [
       "<IPython.core.display.HTML object>"
      ]
     },
     "metadata": {},
     "output_type": "display_data"
    },
    {
     "data": {
      "text/html": [
       "<br>    <style><br>        .wandb-row {<br>            display: flex;<br>            flex-direction: row;<br>            flex-wrap: wrap;<br>            justify-content: flex-start;<br>            width: 100%;<br>        }<br>        .wandb-col {<br>            display: flex;<br>            flex-direction: column;<br>            flex-basis: 100%;<br>            flex: 1;<br>            padding: 10px;<br>        }<br>    </style><br><div class=\"wandb-row\"><div class=\"wandb-col\"><h3>Run history:</h3><br/><table class=\"wandb\"><tr><td>boundary_loss</td><td>█▃▃▁▁▁▁▁▁▁▁▁▁▁▁▁▁▁▁▁▁▁▁▁▁▁▁▁▁▁▁▁▁▁▁▁▁▁▁▁</td></tr><tr><td>epoch</td><td>▁▁▁▂▂▂▂▂▂▂▃▃▃▃▃▄▄▄▄▄▄▅▅▅▅▆▆▆▆▆▆▆▆▇▇▇▇▇██</td></tr><tr><td>learning_rate</td><td>██████▇▇▇▇▇▆▆▆▆▆▆▆▅▅▅▄▄▄▄▃▃▃▃▃▃▂▂▂▂▁▁▁▁▁</td></tr><tr><td>pde_loss</td><td>▁▁█▅▅▅▂▂▇▃▁▁▁▁▁▁▁▁▁▁▁▁▁▁▁▁▁▁▁▁▁▁▁▁▁▁▁▁▁▁</td></tr><tr><td>terminal_loss</td><td>█▃▂▁▂▁▁▂▁▁▁▁▁▁▁▁▁▁▁▁▁▁▁▁▁▁▁▁▁▁▁▁▁▁▁▁▁▁▁▁</td></tr><tr><td>total_loss</td><td>█▅▅▄▃▂▂▂▂▂▁▁▁▁▁▁▁▁▁▁▁▁▁▁▁▁▁▁▁▁▁▁▁▁▁▁▁▁▁▁</td></tr></table><br/></div><div class=\"wandb-col\"><h3>Run summary:</h3><br/><table class=\"wandb\"><tr><td>boundary_loss</td><td>0.2586</td></tr><tr><td>epoch</td><td>4999</td></tr><tr><td>learning_rate</td><td>0.0</td></tr><tr><td>pde_loss</td><td>1.35322</td></tr><tr><td>terminal_loss</td><td>1.4151</td></tr><tr><td>total_loss</td><td>4.54574</td></tr></table><br/></div></div>"
      ],
      "text/plain": [
       "<IPython.core.display.HTML object>"
      ]
     },
     "metadata": {},
     "output_type": "display_data"
    },
    {
     "data": {
      "text/html": [
       " View run <strong style=\"color:#cdcd00\">driven-sweep-12</strong> at: <a href='https://wandb.ai/tobiassafie-drexel-university/Heston-Weight-Sweeps-3/runs/2jzvxcwy' target=\"_blank\">https://wandb.ai/tobiassafie-drexel-university/Heston-Weight-Sweeps-3/runs/2jzvxcwy</a><br> View project at: <a href='https://wandb.ai/tobiassafie-drexel-university/Heston-Weight-Sweeps-3' target=\"_blank\">https://wandb.ai/tobiassafie-drexel-university/Heston-Weight-Sweeps-3</a><br>Synced 5 W&B file(s), 0 media file(s), 0 artifact file(s) and 0 other file(s)"
      ],
      "text/plain": [
       "<IPython.core.display.HTML object>"
      ]
     },
     "metadata": {},
     "output_type": "display_data"
    },
    {
     "data": {
      "text/html": [
       "Find logs at: <code>.\\wandb\\run-20250813_201450-2jzvxcwy\\logs</code>"
      ],
      "text/plain": [
       "<IPython.core.display.HTML object>"
      ]
     },
     "metadata": {},
     "output_type": "display_data"
    },
    {
     "name": "stderr",
     "output_type": "stream",
     "text": [
      "wandb: Agent Starting Run: 800p7mmg with config:\n",
      "wandb: \tN_boundary: 500\n",
      "wandb: \tN_pde: 2500\n",
      "wandb: \tN_terminal: 500\n",
      "wandb: \thidden_layers: 2\n",
      "wandb: \tlearning_rate: 0.0024\n",
      "wandb: \tneurons_per_layer: 256\n",
      "wandb: \tnum_epochs: 5000\n",
      "wandb: \tw_boundary: 1.7891576237033724\n",
      "wandb: \tw_pde: 1.227910240322955\n",
      "wandb: \tw_terminal: 1.9104704883768344\n"
     ]
    },
    {
     "data": {
      "text/html": [
       "Tracking run with wandb version 0.21.0"
      ],
      "text/plain": [
       "<IPython.core.display.HTML object>"
      ]
     },
     "metadata": {},
     "output_type": "display_data"
    },
    {
     "data": {
      "text/html": [
       "Run data is saved locally in <code>c:\\Users\\tobys\\Desktop\\STAR\\dev_notebooks\\heston\\sweep\\wandb\\run-20250813_201851-800p7mmg</code>"
      ],
      "text/plain": [
       "<IPython.core.display.HTML object>"
      ]
     },
     "metadata": {},
     "output_type": "display_data"
    },
    {
     "data": {
      "text/html": [
       "Syncing run <strong><a href='https://wandb.ai/tobiassafie-drexel-university/Heston-Weight-Sweeps-3/runs/800p7mmg' target=\"_blank\">silver-sweep-13</a></strong> to <a href='https://wandb.ai/tobiassafie-drexel-university/Heston-Weight-Sweeps-3' target=\"_blank\">Weights & Biases</a> (<a href='https://wandb.me/developer-guide' target=\"_blank\">docs</a>)<br>Sweep page: <a href='https://wandb.ai/tobiassafie-drexel-university/Heston-Weight-Sweeps-3/sweeps/ljlwhom6' target=\"_blank\">https://wandb.ai/tobiassafie-drexel-university/Heston-Weight-Sweeps-3/sweeps/ljlwhom6</a>"
      ],
      "text/plain": [
       "<IPython.core.display.HTML object>"
      ]
     },
     "metadata": {},
     "output_type": "display_data"
    },
    {
     "data": {
      "text/html": [
       " View project at <a href='https://wandb.ai/tobiassafie-drexel-university/Heston-Weight-Sweeps-3' target=\"_blank\">https://wandb.ai/tobiassafie-drexel-university/Heston-Weight-Sweeps-3</a>"
      ],
      "text/plain": [
       "<IPython.core.display.HTML object>"
      ]
     },
     "metadata": {},
     "output_type": "display_data"
    },
    {
     "data": {
      "text/html": [
       " View sweep at <a href='https://wandb.ai/tobiassafie-drexel-university/Heston-Weight-Sweeps-3/sweeps/ljlwhom6' target=\"_blank\">https://wandb.ai/tobiassafie-drexel-university/Heston-Weight-Sweeps-3/sweeps/ljlwhom6</a>"
      ],
      "text/plain": [
       "<IPython.core.display.HTML object>"
      ]
     },
     "metadata": {},
     "output_type": "display_data"
    },
    {
     "data": {
      "text/html": [
       " View run at <a href='https://wandb.ai/tobiassafie-drexel-university/Heston-Weight-Sweeps-3/runs/800p7mmg' target=\"_blank\">https://wandb.ai/tobiassafie-drexel-university/Heston-Weight-Sweeps-3/runs/800p7mmg</a>"
      ],
      "text/plain": [
       "<IPython.core.display.HTML object>"
      ]
     },
     "metadata": {},
     "output_type": "display_data"
    },
    {
     "data": {
      "text/html": [],
      "text/plain": [
       "<IPython.core.display.HTML object>"
      ]
     },
     "metadata": {},
     "output_type": "display_data"
    },
    {
     "data": {
      "text/html": [
       "<br>    <style><br>        .wandb-row {<br>            display: flex;<br>            flex-direction: row;<br>            flex-wrap: wrap;<br>            justify-content: flex-start;<br>            width: 100%;<br>        }<br>        .wandb-col {<br>            display: flex;<br>            flex-direction: column;<br>            flex-basis: 100%;<br>            flex: 1;<br>            padding: 10px;<br>        }<br>    </style><br><div class=\"wandb-row\"><div class=\"wandb-col\"><h3>Run history:</h3><br/><table class=\"wandb\"><tr><td>boundary_loss</td><td>█▃▁▁▁▁▁▁▁▁▁▁▁▁▁▁▁▁▁▁▁▁▁▁▁▁▁▁▁▁▁▁▁▁▁▁▁▁▁▁</td></tr><tr><td>epoch</td><td>▁▁▁▁▂▂▂▂▂▂▂▂▃▃▃▃▃▃▃▃▄▄▄▄▅▅▅▅▅▆▆▆▆▇▇▇████</td></tr><tr><td>learning_rate</td><td>█████▇▇▇▆▆▆▆▆▆▆▆▅▅▅▅▄▄▄▄▄▄▃▃▃▃▂▂▂▂▂▂▁▁▁▁</td></tr><tr><td>pde_loss</td><td>▁▁▁▆▇▄█▃▁▁▁▁▁▁▁▁▁▁▁▁▁▂▁▁▁▁▁▁▁▁▁▁▁▁▁▁▁▁▁▁</td></tr><tr><td>terminal_loss</td><td>█▇▅▅▄▃▃▁▁▁▁▁▁▁▁▁▁▁▁▁▁▁▁▁▁▁▁▁▁▁▁▁▁▁▁▁▁▁▁▁</td></tr><tr><td>total_loss</td><td>█▄▂▂▁▁▁▁▁▁▁▁▁▁▁▁▁▁▁▁▁▁▁▁▁▁▁▁▁▁▁▁▁▁▁▁▁▁▁▁</td></tr></table><br/></div><div class=\"wandb-col\"><h3>Run summary:</h3><br/><table class=\"wandb\"><tr><td>boundary_loss</td><td>0.20204</td></tr><tr><td>epoch</td><td>4999</td></tr><tr><td>learning_rate</td><td>0.0</td></tr><tr><td>pde_loss</td><td>1.4762</td></tr><tr><td>terminal_loss</td><td>1.44874</td></tr><tr><td>total_loss</td><td>4.9419</td></tr></table><br/></div></div>"
      ],
      "text/plain": [
       "<IPython.core.display.HTML object>"
      ]
     },
     "metadata": {},
     "output_type": "display_data"
    },
    {
     "data": {
      "text/html": [
       " View run <strong style=\"color:#cdcd00\">silver-sweep-13</strong> at: <a href='https://wandb.ai/tobiassafie-drexel-university/Heston-Weight-Sweeps-3/runs/800p7mmg' target=\"_blank\">https://wandb.ai/tobiassafie-drexel-university/Heston-Weight-Sweeps-3/runs/800p7mmg</a><br> View project at: <a href='https://wandb.ai/tobiassafie-drexel-university/Heston-Weight-Sweeps-3' target=\"_blank\">https://wandb.ai/tobiassafie-drexel-university/Heston-Weight-Sweeps-3</a><br>Synced 5 W&B file(s), 0 media file(s), 0 artifact file(s) and 0 other file(s)"
      ],
      "text/plain": [
       "<IPython.core.display.HTML object>"
      ]
     },
     "metadata": {},
     "output_type": "display_data"
    },
    {
     "data": {
      "text/html": [
       "Find logs at: <code>.\\wandb\\run-20250813_201851-800p7mmg\\logs</code>"
      ],
      "text/plain": [
       "<IPython.core.display.HTML object>"
      ]
     },
     "metadata": {},
     "output_type": "display_data"
    },
    {
     "name": "stderr",
     "output_type": "stream",
     "text": [
      "wandb: Agent Starting Run: tq2y23qs with config:\n",
      "wandb: \tN_boundary: 500\n",
      "wandb: \tN_pde: 2500\n",
      "wandb: \tN_terminal: 500\n",
      "wandb: \thidden_layers: 2\n",
      "wandb: \tlearning_rate: 0.0024\n",
      "wandb: \tneurons_per_layer: 256\n",
      "wandb: \tnum_epochs: 5000\n",
      "wandb: \tw_boundary: 1.9955690867082172\n",
      "wandb: \tw_pde: 1.0562494095428168\n",
      "wandb: \tw_terminal: 1.1386429450437383\n"
     ]
    },
    {
     "data": {
      "text/html": [
       "Tracking run with wandb version 0.21.0"
      ],
      "text/plain": [
       "<IPython.core.display.HTML object>"
      ]
     },
     "metadata": {},
     "output_type": "display_data"
    },
    {
     "data": {
      "text/html": [
       "Run data is saved locally in <code>c:\\Users\\tobys\\Desktop\\STAR\\dev_notebooks\\heston\\sweep\\wandb\\run-20250813_202251-tq2y23qs</code>"
      ],
      "text/plain": [
       "<IPython.core.display.HTML object>"
      ]
     },
     "metadata": {},
     "output_type": "display_data"
    },
    {
     "data": {
      "text/html": [
       "Syncing run <strong><a href='https://wandb.ai/tobiassafie-drexel-university/Heston-Weight-Sweeps-3/runs/tq2y23qs' target=\"_blank\">solar-sweep-14</a></strong> to <a href='https://wandb.ai/tobiassafie-drexel-university/Heston-Weight-Sweeps-3' target=\"_blank\">Weights & Biases</a> (<a href='https://wandb.me/developer-guide' target=\"_blank\">docs</a>)<br>Sweep page: <a href='https://wandb.ai/tobiassafie-drexel-university/Heston-Weight-Sweeps-3/sweeps/ljlwhom6' target=\"_blank\">https://wandb.ai/tobiassafie-drexel-university/Heston-Weight-Sweeps-3/sweeps/ljlwhom6</a>"
      ],
      "text/plain": [
       "<IPython.core.display.HTML object>"
      ]
     },
     "metadata": {},
     "output_type": "display_data"
    },
    {
     "data": {
      "text/html": [
       " View project at <a href='https://wandb.ai/tobiassafie-drexel-university/Heston-Weight-Sweeps-3' target=\"_blank\">https://wandb.ai/tobiassafie-drexel-university/Heston-Weight-Sweeps-3</a>"
      ],
      "text/plain": [
       "<IPython.core.display.HTML object>"
      ]
     },
     "metadata": {},
     "output_type": "display_data"
    },
    {
     "data": {
      "text/html": [
       " View sweep at <a href='https://wandb.ai/tobiassafie-drexel-university/Heston-Weight-Sweeps-3/sweeps/ljlwhom6' target=\"_blank\">https://wandb.ai/tobiassafie-drexel-university/Heston-Weight-Sweeps-3/sweeps/ljlwhom6</a>"
      ],
      "text/plain": [
       "<IPython.core.display.HTML object>"
      ]
     },
     "metadata": {},
     "output_type": "display_data"
    },
    {
     "data": {
      "text/html": [
       " View run at <a href='https://wandb.ai/tobiassafie-drexel-university/Heston-Weight-Sweeps-3/runs/tq2y23qs' target=\"_blank\">https://wandb.ai/tobiassafie-drexel-university/Heston-Weight-Sweeps-3/runs/tq2y23qs</a>"
      ],
      "text/plain": [
       "<IPython.core.display.HTML object>"
      ]
     },
     "metadata": {},
     "output_type": "display_data"
    },
    {
     "data": {
      "text/html": [],
      "text/plain": [
       "<IPython.core.display.HTML object>"
      ]
     },
     "metadata": {},
     "output_type": "display_data"
    },
    {
     "data": {
      "text/html": [
       "<br>    <style><br>        .wandb-row {<br>            display: flex;<br>            flex-direction: row;<br>            flex-wrap: wrap;<br>            justify-content: flex-start;<br>            width: 100%;<br>        }<br>        .wandb-col {<br>            display: flex;<br>            flex-direction: column;<br>            flex-basis: 100%;<br>            flex: 1;<br>            padding: 10px;<br>        }<br>    </style><br><div class=\"wandb-row\"><div class=\"wandb-col\"><h3>Run history:</h3><br/><table class=\"wandb\"><tr><td>boundary_loss</td><td>█▆▄▂▂▂▁▁▁▁▁▁▁▁▁▁▁▁▁▁▁▁▁▁▁▁▁▁▁▁▁▁▁▁▁▁▁▁▁▁</td></tr><tr><td>epoch</td><td>▁▁▁▂▂▂▂▂▂▂▂▃▃▃▃▄▄▄▄▄▅▅▅▅▅▆▆▆▆▆▇▇▇▇▇█████</td></tr><tr><td>learning_rate</td><td>█████████▇▇▇▆▆▆▆▆▆▅▅▅▅▄▄▄▄▃▃▃▃▂▂▂▁▁▁▁▁▁▁</td></tr><tr><td>pde_loss</td><td>▁▇▇▇▅█▆▃▁▁▁▁▁▁▁▁▁▁▁▁▁▁▁▁▁▁▁▁▁▁▁▁▁▁▁▁▁▁▁▁</td></tr><tr><td>terminal_loss</td><td>█▂▁▁▁▁▁▁▁▁▁▁▁▁▁▁▁▁▁▁▁▁▁▁▁▁▁▁▁▁▁▁▁▁▁▁▁▁▁▁</td></tr><tr><td>total_loss</td><td>█▆▂▁▁▁▁▁▁▁▁▁▁▁▁▁▁▁▁▁▁▁▁▁▁▁▁▁▁▁▁▁▁▁▁▁▁▁▁▁</td></tr></table><br/></div><div class=\"wandb-col\"><h3>Run summary:</h3><br/><table class=\"wandb\"><tr><td>boundary_loss</td><td>0.14502</td></tr><tr><td>epoch</td><td>4999</td></tr><tr><td>learning_rate</td><td>0.0</td></tr><tr><td>pde_loss</td><td>1.40196</td></tr><tr><td>terminal_loss</td><td>2.6225</td></tr><tr><td>total_loss</td><td>4.75629</td></tr></table><br/></div></div>"
      ],
      "text/plain": [
       "<IPython.core.display.HTML object>"
      ]
     },
     "metadata": {},
     "output_type": "display_data"
    },
    {
     "data": {
      "text/html": [
       " View run <strong style=\"color:#cdcd00\">solar-sweep-14</strong> at: <a href='https://wandb.ai/tobiassafie-drexel-university/Heston-Weight-Sweeps-3/runs/tq2y23qs' target=\"_blank\">https://wandb.ai/tobiassafie-drexel-university/Heston-Weight-Sweeps-3/runs/tq2y23qs</a><br> View project at: <a href='https://wandb.ai/tobiassafie-drexel-university/Heston-Weight-Sweeps-3' target=\"_blank\">https://wandb.ai/tobiassafie-drexel-university/Heston-Weight-Sweeps-3</a><br>Synced 5 W&B file(s), 0 media file(s), 0 artifact file(s) and 0 other file(s)"
      ],
      "text/plain": [
       "<IPython.core.display.HTML object>"
      ]
     },
     "metadata": {},
     "output_type": "display_data"
    },
    {
     "data": {
      "text/html": [
       "Find logs at: <code>.\\wandb\\run-20250813_202251-tq2y23qs\\logs</code>"
      ],
      "text/plain": [
       "<IPython.core.display.HTML object>"
      ]
     },
     "metadata": {},
     "output_type": "display_data"
    },
    {
     "name": "stderr",
     "output_type": "stream",
     "text": [
      "wandb: Agent Starting Run: frtkuvuj with config:\n",
      "wandb: \tN_boundary: 500\n",
      "wandb: \tN_pde: 2500\n",
      "wandb: \tN_terminal: 500\n",
      "wandb: \thidden_layers: 2\n",
      "wandb: \tlearning_rate: 0.0024\n",
      "wandb: \tneurons_per_layer: 256\n",
      "wandb: \tnum_epochs: 5000\n",
      "wandb: \tw_boundary: 0.3212818046838672\n",
      "wandb: \tw_pde: 2.727428482006701\n",
      "wandb: \tw_terminal: 1.993395736684835\n"
     ]
    },
    {
     "data": {
      "text/html": [
       "Tracking run with wandb version 0.21.0"
      ],
      "text/plain": [
       "<IPython.core.display.HTML object>"
      ]
     },
     "metadata": {},
     "output_type": "display_data"
    },
    {
     "data": {
      "text/html": [
       "Run data is saved locally in <code>c:\\Users\\tobys\\Desktop\\STAR\\dev_notebooks\\heston\\sweep\\wandb\\run-20250813_202642-frtkuvuj</code>"
      ],
      "text/plain": [
       "<IPython.core.display.HTML object>"
      ]
     },
     "metadata": {},
     "output_type": "display_data"
    },
    {
     "data": {
      "text/html": [
       "Syncing run <strong><a href='https://wandb.ai/tobiassafie-drexel-university/Heston-Weight-Sweeps-3/runs/frtkuvuj' target=\"_blank\">logical-sweep-15</a></strong> to <a href='https://wandb.ai/tobiassafie-drexel-university/Heston-Weight-Sweeps-3' target=\"_blank\">Weights & Biases</a> (<a href='https://wandb.me/developer-guide' target=\"_blank\">docs</a>)<br>Sweep page: <a href='https://wandb.ai/tobiassafie-drexel-university/Heston-Weight-Sweeps-3/sweeps/ljlwhom6' target=\"_blank\">https://wandb.ai/tobiassafie-drexel-university/Heston-Weight-Sweeps-3/sweeps/ljlwhom6</a>"
      ],
      "text/plain": [
       "<IPython.core.display.HTML object>"
      ]
     },
     "metadata": {},
     "output_type": "display_data"
    },
    {
     "data": {
      "text/html": [
       " View project at <a href='https://wandb.ai/tobiassafie-drexel-university/Heston-Weight-Sweeps-3' target=\"_blank\">https://wandb.ai/tobiassafie-drexel-university/Heston-Weight-Sweeps-3</a>"
      ],
      "text/plain": [
       "<IPython.core.display.HTML object>"
      ]
     },
     "metadata": {},
     "output_type": "display_data"
    },
    {
     "data": {
      "text/html": [
       " View sweep at <a href='https://wandb.ai/tobiassafie-drexel-university/Heston-Weight-Sweeps-3/sweeps/ljlwhom6' target=\"_blank\">https://wandb.ai/tobiassafie-drexel-university/Heston-Weight-Sweeps-3/sweeps/ljlwhom6</a>"
      ],
      "text/plain": [
       "<IPython.core.display.HTML object>"
      ]
     },
     "metadata": {},
     "output_type": "display_data"
    },
    {
     "data": {
      "text/html": [
       " View run at <a href='https://wandb.ai/tobiassafie-drexel-university/Heston-Weight-Sweeps-3/runs/frtkuvuj' target=\"_blank\">https://wandb.ai/tobiassafie-drexel-university/Heston-Weight-Sweeps-3/runs/frtkuvuj</a>"
      ],
      "text/plain": [
       "<IPython.core.display.HTML object>"
      ]
     },
     "metadata": {},
     "output_type": "display_data"
    },
    {
     "data": {
      "text/html": [],
      "text/plain": [
       "<IPython.core.display.HTML object>"
      ]
     },
     "metadata": {},
     "output_type": "display_data"
    },
    {
     "data": {
      "text/html": [
       "<br>    <style><br>        .wandb-row {<br>            display: flex;<br>            flex-direction: row;<br>            flex-wrap: wrap;<br>            justify-content: flex-start;<br>            width: 100%;<br>        }<br>        .wandb-col {<br>            display: flex;<br>            flex-direction: column;<br>            flex-basis: 100%;<br>            flex: 1;<br>            padding: 10px;<br>        }<br>    </style><br><div class=\"wandb-row\"><div class=\"wandb-col\"><h3>Run history:</h3><br/><table class=\"wandb\"><tr><td>boundary_loss</td><td>█▃▃▂▂▂▁▁▁▁▁▁▁▁▁▁▁▁▁▁▁▁▁▁▁▁▁▁▁▁▁▁▁▁▁▁▁▁▁▁</td></tr><tr><td>epoch</td><td>▁▁▁▂▂▂▂▂▂▂▃▃▃▃▃▄▄▄▄▄▄▄▄▅▅▅▅▅▆▆▆▆▇▇▇▇████</td></tr><tr><td>learning_rate</td><td>█████▇▇▇▇▇▆▆▆▆▆▅▅▅▅▅▄▄▄▄▃▃▃▃▃▃▂▁▁▁▁▁▁▁▁▁</td></tr><tr><td>pde_loss</td><td>▅█▃▅▇▂▅▂▂▂▂▁▂▁▁▁▁▁▁▁▁▁▁▁▁▁▁▁▁▁▁▁▁▁▁▁▁▁▁▁</td></tr><tr><td>terminal_loss</td><td>█▂▂▁▁▁▁▁▁▁▁▁▁▁▁▁▁▁▁▁▁▁▁▁▁▁▁▁▁▁▁▁▁▁▁▁▁▁▁▁</td></tr><tr><td>total_loss</td><td>█▄▃▂▂▂▁▁▁▁▁▁▁▁▁▁▁▁▁▁▁▁▁▁▁▁▁▁▁▁▁▁▁▁▁▁▁▁▁▁</td></tr></table><br/></div><div class=\"wandb-col\"><h3>Run summary:</h3><br/><table class=\"wandb\"><tr><td>boundary_loss</td><td>0.28634</td></tr><tr><td>epoch</td><td>4999</td></tr><tr><td>learning_rate</td><td>0.0</td></tr><tr><td>pde_loss</td><td>0.61669</td></tr><tr><td>terminal_loss</td><td>1.46105</td></tr><tr><td>total_loss</td><td>4.68641</td></tr></table><br/></div></div>"
      ],
      "text/plain": [
       "<IPython.core.display.HTML object>"
      ]
     },
     "metadata": {},
     "output_type": "display_data"
    },
    {
     "data": {
      "text/html": [
       " View run <strong style=\"color:#cdcd00\">logical-sweep-15</strong> at: <a href='https://wandb.ai/tobiassafie-drexel-university/Heston-Weight-Sweeps-3/runs/frtkuvuj' target=\"_blank\">https://wandb.ai/tobiassafie-drexel-university/Heston-Weight-Sweeps-3/runs/frtkuvuj</a><br> View project at: <a href='https://wandb.ai/tobiassafie-drexel-university/Heston-Weight-Sweeps-3' target=\"_blank\">https://wandb.ai/tobiassafie-drexel-university/Heston-Weight-Sweeps-3</a><br>Synced 5 W&B file(s), 0 media file(s), 0 artifact file(s) and 0 other file(s)"
      ],
      "text/plain": [
       "<IPython.core.display.HTML object>"
      ]
     },
     "metadata": {},
     "output_type": "display_data"
    },
    {
     "data": {
      "text/html": [
       "Find logs at: <code>.\\wandb\\run-20250813_202642-frtkuvuj\\logs</code>"
      ],
      "text/plain": [
       "<IPython.core.display.HTML object>"
      ]
     },
     "metadata": {},
     "output_type": "display_data"
    },
    {
     "name": "stderr",
     "output_type": "stream",
     "text": [
      "wandb: Agent Starting Run: bh6rg0lp with config:\n",
      "wandb: \tN_boundary: 500\n",
      "wandb: \tN_pde: 2500\n",
      "wandb: \tN_terminal: 500\n",
      "wandb: \thidden_layers: 2\n",
      "wandb: \tlearning_rate: 0.0024\n",
      "wandb: \tneurons_per_layer: 256\n",
      "wandb: \tnum_epochs: 5000\n",
      "wandb: \tw_boundary: 0.72671145317544\n",
      "wandb: \tw_pde: 1.7138219412107545\n",
      "wandb: \tw_terminal: 1.9985236227748877\n"
     ]
    },
    {
     "data": {
      "text/html": [
       "Tracking run with wandb version 0.21.0"
      ],
      "text/plain": [
       "<IPython.core.display.HTML object>"
      ]
     },
     "metadata": {},
     "output_type": "display_data"
    },
    {
     "data": {
      "text/html": [
       "Run data is saved locally in <code>c:\\Users\\tobys\\Desktop\\STAR\\dev_notebooks\\heston\\sweep\\wandb\\run-20250813_203033-bh6rg0lp</code>"
      ],
      "text/plain": [
       "<IPython.core.display.HTML object>"
      ]
     },
     "metadata": {},
     "output_type": "display_data"
    },
    {
     "data": {
      "text/html": [
       "Syncing run <strong><a href='https://wandb.ai/tobiassafie-drexel-university/Heston-Weight-Sweeps-3/runs/bh6rg0lp' target=\"_blank\">playful-sweep-16</a></strong> to <a href='https://wandb.ai/tobiassafie-drexel-university/Heston-Weight-Sweeps-3' target=\"_blank\">Weights & Biases</a> (<a href='https://wandb.me/developer-guide' target=\"_blank\">docs</a>)<br>Sweep page: <a href='https://wandb.ai/tobiassafie-drexel-university/Heston-Weight-Sweeps-3/sweeps/ljlwhom6' target=\"_blank\">https://wandb.ai/tobiassafie-drexel-university/Heston-Weight-Sweeps-3/sweeps/ljlwhom6</a>"
      ],
      "text/plain": [
       "<IPython.core.display.HTML object>"
      ]
     },
     "metadata": {},
     "output_type": "display_data"
    },
    {
     "data": {
      "text/html": [
       " View project at <a href='https://wandb.ai/tobiassafie-drexel-university/Heston-Weight-Sweeps-3' target=\"_blank\">https://wandb.ai/tobiassafie-drexel-university/Heston-Weight-Sweeps-3</a>"
      ],
      "text/plain": [
       "<IPython.core.display.HTML object>"
      ]
     },
     "metadata": {},
     "output_type": "display_data"
    },
    {
     "data": {
      "text/html": [
       " View sweep at <a href='https://wandb.ai/tobiassafie-drexel-university/Heston-Weight-Sweeps-3/sweeps/ljlwhom6' target=\"_blank\">https://wandb.ai/tobiassafie-drexel-university/Heston-Weight-Sweeps-3/sweeps/ljlwhom6</a>"
      ],
      "text/plain": [
       "<IPython.core.display.HTML object>"
      ]
     },
     "metadata": {},
     "output_type": "display_data"
    },
    {
     "data": {
      "text/html": [
       " View run at <a href='https://wandb.ai/tobiassafie-drexel-university/Heston-Weight-Sweeps-3/runs/bh6rg0lp' target=\"_blank\">https://wandb.ai/tobiassafie-drexel-university/Heston-Weight-Sweeps-3/runs/bh6rg0lp</a>"
      ],
      "text/plain": [
       "<IPython.core.display.HTML object>"
      ]
     },
     "metadata": {},
     "output_type": "display_data"
    },
    {
     "name": "stderr",
     "output_type": "stream",
     "text": [
      "wandb: Network error (ConnectionError), entering retry loop.\n"
     ]
    },
    {
     "data": {
      "text/html": [],
      "text/plain": [
       "<IPython.core.display.HTML object>"
      ]
     },
     "metadata": {},
     "output_type": "display_data"
    },
    {
     "data": {
      "text/html": [
       "<br>    <style><br>        .wandb-row {<br>            display: flex;<br>            flex-direction: row;<br>            flex-wrap: wrap;<br>            justify-content: flex-start;<br>            width: 100%;<br>        }<br>        .wandb-col {<br>            display: flex;<br>            flex-direction: column;<br>            flex-basis: 100%;<br>            flex: 1;<br>            padding: 10px;<br>        }<br>    </style><br><div class=\"wandb-row\"><div class=\"wandb-col\"><h3>Run history:</h3><br/><table class=\"wandb\"><tr><td>boundary_loss</td><td>█▇▇▅▂▁▁▁▁▁▁▁▁▁▁▁▁▁▁▁▁▁▁▁▁▁▁▁▁▁▁▁▁▁▁▁▁▁▁▁</td></tr><tr><td>epoch</td><td>▁▁▁▁▁▁▂▂▂▂▂▂▂▃▃▃▃▃▄▄▄▄▄▅▅▆▆▆▆▆▇▇▇▇▇▇▇███</td></tr><tr><td>learning_rate</td><td>████████▇▇▇▇▇▇▇▆▆▆▆▆▅▅▅▅▄▄▄▄▃▃▂▂▁▁▁▁▁▁▁▁</td></tr><tr><td>pde_loss</td><td>▁▅▇█▅▂▁▁▁▁▁▁▁▁▁▁▁▁▁▁▁▁▁▁▁▁▁▁▁▁▁▁▁▁▁▁▁▁▁▁</td></tr><tr><td>terminal_loss</td><td>█▄▂▂▁▁▁▁▁▁▁▁▁▁▁▁▁▁▁▁▁▁▁▁▁▁▁▁▁▁▁▁▁▁▁▁▁▁▁▁</td></tr><tr><td>total_loss</td><td>█▇▅▃▃▂▂▂▁▂▂▁▁▁▁▁▁▁▁▁▁▁▁▁▁▁▁▁▁▁▁▁▁▁▁▁▁▁▁▁</td></tr></table><br/></div><div class=\"wandb-col\"><h3>Run summary:</h3><br/><table class=\"wandb\"><tr><td>boundary_loss</td><td>0.27072</td></tr><tr><td>epoch</td><td>4999</td></tr><tr><td>learning_rate</td><td>0.0</td></tr><tr><td>pde_loss</td><td>0.76309</td></tr><tr><td>terminal_loss</td><td>1.17187</td></tr><tr><td>total_loss</td><td>3.84655</td></tr></table><br/></div></div>"
      ],
      "text/plain": [
       "<IPython.core.display.HTML object>"
      ]
     },
     "metadata": {},
     "output_type": "display_data"
    },
    {
     "data": {
      "text/html": [
       " View run <strong style=\"color:#cdcd00\">playful-sweep-16</strong> at: <a href='https://wandb.ai/tobiassafie-drexel-university/Heston-Weight-Sweeps-3/runs/bh6rg0lp' target=\"_blank\">https://wandb.ai/tobiassafie-drexel-university/Heston-Weight-Sweeps-3/runs/bh6rg0lp</a><br> View project at: <a href='https://wandb.ai/tobiassafie-drexel-university/Heston-Weight-Sweeps-3' target=\"_blank\">https://wandb.ai/tobiassafie-drexel-university/Heston-Weight-Sweeps-3</a><br>Synced 3 W&B file(s), 0 media file(s), 0 artifact file(s) and 0 other file(s)"
      ],
      "text/plain": [
       "<IPython.core.display.HTML object>"
      ]
     },
     "metadata": {},
     "output_type": "display_data"
    },
    {
     "data": {
      "text/html": [
       "Find logs at: <code>.\\wandb\\run-20250813_203033-bh6rg0lp\\logs</code>"
      ],
      "text/plain": [
       "<IPython.core.display.HTML object>"
      ]
     },
     "metadata": {},
     "output_type": "display_data"
    },
    {
     "name": "stderr",
     "output_type": "stream",
     "text": [
      "wandb: Sweep Agent: Waiting for job.\n",
      "wandb: Job received.\n",
      "wandb: Agent Starting Run: u18k5nyv with config:\n",
      "wandb: \tN_boundary: 500\n",
      "wandb: \tN_pde: 2500\n",
      "wandb: \tN_terminal: 500\n",
      "wandb: \thidden_layers: 2\n",
      "wandb: \tlearning_rate: 0.0024\n",
      "wandb: \tneurons_per_layer: 256\n",
      "wandb: \tnum_epochs: 5000\n",
      "wandb: \tw_boundary: 1.2138479701027711\n",
      "wandb: \tw_pde: 1.0544055749482295\n",
      "wandb: \tw_terminal: 1.9191745021092992\n"
     ]
    },
    {
     "data": {
      "text/html": [
       "Tracking run with wandb version 0.21.0"
      ],
      "text/plain": [
       "<IPython.core.display.HTML object>"
      ]
     },
     "metadata": {},
     "output_type": "display_data"
    },
    {
     "data": {
      "text/html": [
       "Run data is saved locally in <code>c:\\Users\\tobys\\Desktop\\STAR\\dev_notebooks\\heston\\sweep\\wandb\\run-20250813_213230-u18k5nyv</code>"
      ],
      "text/plain": [
       "<IPython.core.display.HTML object>"
      ]
     },
     "metadata": {},
     "output_type": "display_data"
    },
    {
     "data": {
      "text/html": [
       "Syncing run <strong><a href='https://wandb.ai/tobiassafie-drexel-university/Heston-Weight-Sweeps-3/runs/u18k5nyv' target=\"_blank\">toasty-sweep-17</a></strong> to <a href='https://wandb.ai/tobiassafie-drexel-university/Heston-Weight-Sweeps-3' target=\"_blank\">Weights & Biases</a> (<a href='https://wandb.me/developer-guide' target=\"_blank\">docs</a>)<br>Sweep page: <a href='https://wandb.ai/tobiassafie-drexel-university/Heston-Weight-Sweeps-3/sweeps/ljlwhom6' target=\"_blank\">https://wandb.ai/tobiassafie-drexel-university/Heston-Weight-Sweeps-3/sweeps/ljlwhom6</a>"
      ],
      "text/plain": [
       "<IPython.core.display.HTML object>"
      ]
     },
     "metadata": {},
     "output_type": "display_data"
    },
    {
     "data": {
      "text/html": [
       " View project at <a href='https://wandb.ai/tobiassafie-drexel-university/Heston-Weight-Sweeps-3' target=\"_blank\">https://wandb.ai/tobiassafie-drexel-university/Heston-Weight-Sweeps-3</a>"
      ],
      "text/plain": [
       "<IPython.core.display.HTML object>"
      ]
     },
     "metadata": {},
     "output_type": "display_data"
    },
    {
     "data": {
      "text/html": [
       " View sweep at <a href='https://wandb.ai/tobiassafie-drexel-university/Heston-Weight-Sweeps-3/sweeps/ljlwhom6' target=\"_blank\">https://wandb.ai/tobiassafie-drexel-university/Heston-Weight-Sweeps-3/sweeps/ljlwhom6</a>"
      ],
      "text/plain": [
       "<IPython.core.display.HTML object>"
      ]
     },
     "metadata": {},
     "output_type": "display_data"
    },
    {
     "data": {
      "text/html": [
       " View run at <a href='https://wandb.ai/tobiassafie-drexel-university/Heston-Weight-Sweeps-3/runs/u18k5nyv' target=\"_blank\">https://wandb.ai/tobiassafie-drexel-university/Heston-Weight-Sweeps-3/runs/u18k5nyv</a>"
      ],
      "text/plain": [
       "<IPython.core.display.HTML object>"
      ]
     },
     "metadata": {},
     "output_type": "display_data"
    },
    {
     "data": {
      "text/html": [],
      "text/plain": [
       "<IPython.core.display.HTML object>"
      ]
     },
     "metadata": {},
     "output_type": "display_data"
    },
    {
     "data": {
      "text/html": [
       "<br>    <style><br>        .wandb-row {<br>            display: flex;<br>            flex-direction: row;<br>            flex-wrap: wrap;<br>            justify-content: flex-start;<br>            width: 100%;<br>        }<br>        .wandb-col {<br>            display: flex;<br>            flex-direction: column;<br>            flex-basis: 100%;<br>            flex: 1;<br>            padding: 10px;<br>        }<br>    </style><br><div class=\"wandb-row\"><div class=\"wandb-col\"><h3>Run history:</h3><br/><table class=\"wandb\"><tr><td>boundary_loss</td><td>█▆▂▂▂▁▁▁▁▁▁▁▁▁▁▁▁▁▁▁▁▁▁▁▁▁▁▁▁▁▁▁▁▁▁▁▁▁▁▁</td></tr><tr><td>epoch</td><td>▁▁▁▂▂▂▂▂▂▂▃▃▃▃▃▄▄▅▅▆▆▆▆▆▆▆▆▆▆▇▇▇▇███████</td></tr><tr><td>learning_rate</td><td>███████▇▇▇▇▇▇▇▆▆▅▅▅▅▄▄▄▄▄▃▃▃▃▂▂▂▂▁▁▁▁▁▁▁</td></tr><tr><td>pde_loss</td><td>█▄▂▂▁▂▁▁▁▁▁▁▁▁▁▁▁▁▁▁▁▁▁▁▁▁▁▁▁▁▁▁▁▁▁▁▁▁▁▁</td></tr><tr><td>terminal_loss</td><td>█▇▂▆▁▁▁▁▁▁▁▁▁▁▁▁▁▁▁▁▁▁▁▁▁▁▁▁▁▁▁▁▁▁▁▁▁▁▁▁</td></tr><tr><td>total_loss</td><td>█▆▅▄▃▂▂▂▂▁▁▁▁▁▁▁▁▁▁▁▁▁▁▁▁▁▁▁▁▁▁▁▁▁▁▁▁▁▁▁</td></tr></table><br/></div><div class=\"wandb-col\"><h3>Run summary:</h3><br/><table class=\"wandb\"><tr><td>boundary_loss</td><td>0.10483</td></tr><tr><td>epoch</td><td>4999</td></tr><tr><td>learning_rate</td><td>0.0</td></tr><tr><td>pde_loss</td><td>1.52215</td></tr><tr><td>terminal_loss</td><td>1.62059</td></tr><tr><td>total_loss</td><td>4.84241</td></tr></table><br/></div></div>"
      ],
      "text/plain": [
       "<IPython.core.display.HTML object>"
      ]
     },
     "metadata": {},
     "output_type": "display_data"
    },
    {
     "data": {
      "text/html": [
       " View run <strong style=\"color:#cdcd00\">toasty-sweep-17</strong> at: <a href='https://wandb.ai/tobiassafie-drexel-university/Heston-Weight-Sweeps-3/runs/u18k5nyv' target=\"_blank\">https://wandb.ai/tobiassafie-drexel-university/Heston-Weight-Sweeps-3/runs/u18k5nyv</a><br> View project at: <a href='https://wandb.ai/tobiassafie-drexel-university/Heston-Weight-Sweeps-3' target=\"_blank\">https://wandb.ai/tobiassafie-drexel-university/Heston-Weight-Sweeps-3</a><br>Synced 5 W&B file(s), 0 media file(s), 0 artifact file(s) and 0 other file(s)"
      ],
      "text/plain": [
       "<IPython.core.display.HTML object>"
      ]
     },
     "metadata": {},
     "output_type": "display_data"
    },
    {
     "data": {
      "text/html": [
       "Find logs at: <code>.\\wandb\\run-20250813_213230-u18k5nyv\\logs</code>"
      ],
      "text/plain": [
       "<IPython.core.display.HTML object>"
      ]
     },
     "metadata": {},
     "output_type": "display_data"
    },
    {
     "name": "stderr",
     "output_type": "stream",
     "text": [
      "wandb: Sweep Agent: Waiting for job.\n",
      "wandb: Job received.\n",
      "wandb: Agent Starting Run: 5myrxl98 with config:\n",
      "wandb: \tN_boundary: 500\n",
      "wandb: \tN_pde: 2500\n",
      "wandb: \tN_terminal: 500\n",
      "wandb: \thidden_layers: 2\n",
      "wandb: \tlearning_rate: 0.0024\n",
      "wandb: \tneurons_per_layer: 256\n",
      "wandb: \tnum_epochs: 5000\n",
      "wandb: \tw_boundary: 1.479193487361275\n",
      "wandb: \tw_pde: 1.079942804918245\n",
      "wandb: \tw_terminal: 1.4917688589019298\n"
     ]
    },
    {
     "data": {
      "text/html": [
       "creating run (0.0s)"
      ],
      "text/plain": [
       "<IPython.core.display.HTML object>"
      ]
     },
     "metadata": {},
     "output_type": "display_data"
    },
    {
     "data": {
      "text/html": [
       "Tracking run with wandb version 0.21.0"
      ],
      "text/plain": [
       "<IPython.core.display.HTML object>"
      ]
     },
     "metadata": {},
     "output_type": "display_data"
    },
    {
     "data": {
      "text/html": [
       "Run data is saved locally in <code>c:\\Users\\tobys\\Desktop\\STAR\\dev_notebooks\\heston\\sweep\\wandb\\run-20250813_213619-5myrxl98</code>"
      ],
      "text/plain": [
       "<IPython.core.display.HTML object>"
      ]
     },
     "metadata": {},
     "output_type": "display_data"
    },
    {
     "data": {
      "text/html": [
       "Syncing run <strong><a href='https://wandb.ai/tobiassafie-drexel-university/Heston-Weight-Sweeps-3/runs/5myrxl98' target=\"_blank\">avid-sweep-18</a></strong> to <a href='https://wandb.ai/tobiassafie-drexel-university/Heston-Weight-Sweeps-3' target=\"_blank\">Weights & Biases</a> (<a href='https://wandb.me/developer-guide' target=\"_blank\">docs</a>)<br>Sweep page: <a href='https://wandb.ai/tobiassafie-drexel-university/Heston-Weight-Sweeps-3/sweeps/ljlwhom6' target=\"_blank\">https://wandb.ai/tobiassafie-drexel-university/Heston-Weight-Sweeps-3/sweeps/ljlwhom6</a>"
      ],
      "text/plain": [
       "<IPython.core.display.HTML object>"
      ]
     },
     "metadata": {},
     "output_type": "display_data"
    },
    {
     "data": {
      "text/html": [
       " View project at <a href='https://wandb.ai/tobiassafie-drexel-university/Heston-Weight-Sweeps-3' target=\"_blank\">https://wandb.ai/tobiassafie-drexel-university/Heston-Weight-Sweeps-3</a>"
      ],
      "text/plain": [
       "<IPython.core.display.HTML object>"
      ]
     },
     "metadata": {},
     "output_type": "display_data"
    },
    {
     "data": {
      "text/html": [
       " View sweep at <a href='https://wandb.ai/tobiassafie-drexel-university/Heston-Weight-Sweeps-3/sweeps/ljlwhom6' target=\"_blank\">https://wandb.ai/tobiassafie-drexel-university/Heston-Weight-Sweeps-3/sweeps/ljlwhom6</a>"
      ],
      "text/plain": [
       "<IPython.core.display.HTML object>"
      ]
     },
     "metadata": {},
     "output_type": "display_data"
    },
    {
     "data": {
      "text/html": [
       " View run at <a href='https://wandb.ai/tobiassafie-drexel-university/Heston-Weight-Sweeps-3/runs/5myrxl98' target=\"_blank\">https://wandb.ai/tobiassafie-drexel-university/Heston-Weight-Sweeps-3/runs/5myrxl98</a>"
      ],
      "text/plain": [
       "<IPython.core.display.HTML object>"
      ]
     },
     "metadata": {},
     "output_type": "display_data"
    },
    {
     "data": {
      "text/html": [],
      "text/plain": [
       "<IPython.core.display.HTML object>"
      ]
     },
     "metadata": {},
     "output_type": "display_data"
    },
    {
     "data": {
      "text/html": [
       "<br>    <style><br>        .wandb-row {<br>            display: flex;<br>            flex-direction: row;<br>            flex-wrap: wrap;<br>            justify-content: flex-start;<br>            width: 100%;<br>        }<br>        .wandb-col {<br>            display: flex;<br>            flex-direction: column;<br>            flex-basis: 100%;<br>            flex: 1;<br>            padding: 10px;<br>        }<br>    </style><br><div class=\"wandb-row\"><div class=\"wandb-col\"><h3>Run history:</h3><br/><table class=\"wandb\"><tr><td>boundary_loss</td><td>█▃▂▁▁▁▁▁▁▁▁▁▁▁▁▁▁▁▁▁▁▁▁▁▁▁▁▁▁▁▁▁▁▁▁▁▁▁▁▁</td></tr><tr><td>epoch</td><td>▁▁▁▁▂▂▂▂▂▂▃▃▃▃▃▃▃▄▄▄▄▅▅▅▅▆▆▆▆▇▇▇▇▇▇█████</td></tr><tr><td>learning_rate</td><td>███████▇▇▇▇▇▆▆▆▆▅▅▅▅▄▃▃▃▃▃▃▃▂▂▁▁▁▁▁▁▁▁▁▁</td></tr><tr><td>pde_loss</td><td>▄▇▇▇▄█▄▅▃▂▁▁▁▁▁▁▁▁▁▁▁▁▁▁▁▁▁▁▁▁▁▁▁▁▁▁▁▁▁▁</td></tr><tr><td>terminal_loss</td><td>███▄▃▂▁▁▁▁▁▁▁▁▁▁▁▁▁▁▁▁▁▁▁▁▁▁▁▁▁▁▁▁▁▁▁▁▁▁</td></tr><tr><td>total_loss</td><td>█▃▂▂▁▁▁▁▁▁▁▁▁▁▁▁▁▁▁▁▁▁▁▁▁▁▁▁▁▁▁▁▁▁▁▁▁▁▁▁</td></tr></table><br/></div><div class=\"wandb-col\"><h3>Run summary:</h3><br/><table class=\"wandb\"><tr><td>boundary_loss</td><td>0.07319</td></tr><tr><td>epoch</td><td>4999</td></tr><tr><td>learning_rate</td><td>0.0</td></tr><tr><td>pde_loss</td><td>1.13481</td></tr><tr><td>terminal_loss</td><td>1.42196</td></tr><tr><td>total_loss</td><td>3.45503</td></tr></table><br/></div></div>"
      ],
      "text/plain": [
       "<IPython.core.display.HTML object>"
      ]
     },
     "metadata": {},
     "output_type": "display_data"
    },
    {
     "data": {
      "text/html": [
       " View run <strong style=\"color:#cdcd00\">avid-sweep-18</strong> at: <a href='https://wandb.ai/tobiassafie-drexel-university/Heston-Weight-Sweeps-3/runs/5myrxl98' target=\"_blank\">https://wandb.ai/tobiassafie-drexel-university/Heston-Weight-Sweeps-3/runs/5myrxl98</a><br> View project at: <a href='https://wandb.ai/tobiassafie-drexel-university/Heston-Weight-Sweeps-3' target=\"_blank\">https://wandb.ai/tobiassafie-drexel-university/Heston-Weight-Sweeps-3</a><br>Synced 5 W&B file(s), 0 media file(s), 0 artifact file(s) and 0 other file(s)"
      ],
      "text/plain": [
       "<IPython.core.display.HTML object>"
      ]
     },
     "metadata": {},
     "output_type": "display_data"
    },
    {
     "data": {
      "text/html": [
       "Find logs at: <code>.\\wandb\\run-20250813_213619-5myrxl98\\logs</code>"
      ],
      "text/plain": [
       "<IPython.core.display.HTML object>"
      ]
     },
     "metadata": {},
     "output_type": "display_data"
    },
    {
     "name": "stderr",
     "output_type": "stream",
     "text": [
      "wandb: Sweep Agent: Waiting for job.\n",
      "wandb: Job received.\n",
      "wandb: Agent Starting Run: t9uv1gsn with config:\n",
      "wandb: \tN_boundary: 500\n",
      "wandb: \tN_pde: 2500\n",
      "wandb: \tN_terminal: 500\n",
      "wandb: \thidden_layers: 2\n",
      "wandb: \tlearning_rate: 0.0024\n",
      "wandb: \tneurons_per_layer: 256\n",
      "wandb: \tnum_epochs: 5000\n",
      "wandb: \tw_boundary: 1.932668164064746\n",
      "wandb: \tw_pde: 2.526673508429685\n",
      "wandb: \tw_terminal: 1.6143148787004211\n"
     ]
    },
    {
     "data": {
      "text/html": [
       "Tracking run with wandb version 0.21.0"
      ],
      "text/plain": [
       "<IPython.core.display.HTML object>"
      ]
     },
     "metadata": {},
     "output_type": "display_data"
    },
    {
     "data": {
      "text/html": [
       "Run data is saved locally in <code>c:\\Users\\tobys\\Desktop\\STAR\\dev_notebooks\\heston\\sweep\\wandb\\run-20250813_214004-t9uv1gsn</code>"
      ],
      "text/plain": [
       "<IPython.core.display.HTML object>"
      ]
     },
     "metadata": {},
     "output_type": "display_data"
    },
    {
     "data": {
      "text/html": [
       "Syncing run <strong><a href='https://wandb.ai/tobiassafie-drexel-university/Heston-Weight-Sweeps-3/runs/t9uv1gsn' target=\"_blank\">hearty-sweep-19</a></strong> to <a href='https://wandb.ai/tobiassafie-drexel-university/Heston-Weight-Sweeps-3' target=\"_blank\">Weights & Biases</a> (<a href='https://wandb.me/developer-guide' target=\"_blank\">docs</a>)<br>Sweep page: <a href='https://wandb.ai/tobiassafie-drexel-university/Heston-Weight-Sweeps-3/sweeps/ljlwhom6' target=\"_blank\">https://wandb.ai/tobiassafie-drexel-university/Heston-Weight-Sweeps-3/sweeps/ljlwhom6</a>"
      ],
      "text/plain": [
       "<IPython.core.display.HTML object>"
      ]
     },
     "metadata": {},
     "output_type": "display_data"
    },
    {
     "data": {
      "text/html": [
       " View project at <a href='https://wandb.ai/tobiassafie-drexel-university/Heston-Weight-Sweeps-3' target=\"_blank\">https://wandb.ai/tobiassafie-drexel-university/Heston-Weight-Sweeps-3</a>"
      ],
      "text/plain": [
       "<IPython.core.display.HTML object>"
      ]
     },
     "metadata": {},
     "output_type": "display_data"
    },
    {
     "data": {
      "text/html": [
       " View sweep at <a href='https://wandb.ai/tobiassafie-drexel-university/Heston-Weight-Sweeps-3/sweeps/ljlwhom6' target=\"_blank\">https://wandb.ai/tobiassafie-drexel-university/Heston-Weight-Sweeps-3/sweeps/ljlwhom6</a>"
      ],
      "text/plain": [
       "<IPython.core.display.HTML object>"
      ]
     },
     "metadata": {},
     "output_type": "display_data"
    },
    {
     "data": {
      "text/html": [
       " View run at <a href='https://wandb.ai/tobiassafie-drexel-university/Heston-Weight-Sweeps-3/runs/t9uv1gsn' target=\"_blank\">https://wandb.ai/tobiassafie-drexel-university/Heston-Weight-Sweeps-3/runs/t9uv1gsn</a>"
      ],
      "text/plain": [
       "<IPython.core.display.HTML object>"
      ]
     },
     "metadata": {},
     "output_type": "display_data"
    },
    {
     "name": "stderr",
     "output_type": "stream",
     "text": [
      "wandb: Network error (ConnectionError), entering retry loop.\n"
     ]
    },
    {
     "data": {
      "text/html": [],
      "text/plain": [
       "<IPython.core.display.HTML object>"
      ]
     },
     "metadata": {},
     "output_type": "display_data"
    },
    {
     "data": {
      "text/html": [
       "<br>    <style><br>        .wandb-row {<br>            display: flex;<br>            flex-direction: row;<br>            flex-wrap: wrap;<br>            justify-content: flex-start;<br>            width: 100%;<br>        }<br>        .wandb-col {<br>            display: flex;<br>            flex-direction: column;<br>            flex-basis: 100%;<br>            flex: 1;<br>            padding: 10px;<br>        }<br>    </style><br><div class=\"wandb-row\"><div class=\"wandb-col\"><h3>Run history:</h3><br/><table class=\"wandb\"><tr><td>boundary_loss</td><td>█▂▁▁▁▁▁▁▁▁▁▁▁▁▁▁▁▁▁▁▁▁▁▁▁▁▁▁▁▁▁▁▁▁▁▁▁▁▁▁</td></tr><tr><td>epoch</td><td>▁▁▁▁▁▂▂▂▂▃▃▃▃▃▃▄▄▄▅▅▅▅▅▅▆▆▆▆▆▆▇▇▇▇▇▇████</td></tr><tr><td>learning_rate</td><td>█████▇▇▇▇▇▆▆▆▆▆▅▅▅▅▅▄▄▃▃▃▃▃▃▃▂▂▂▂▂▂▂▁▁▁▁</td></tr><tr><td>pde_loss</td><td>▁▁▁▆▆▄▇█▆▃▅▄▃▂▁▁▁▁▁▁▁▁▁▁▁▁▁▁▁▁▁▁▁▁▁▁▁▁▁▁</td></tr><tr><td>terminal_loss</td><td>█▇▅▂▄▃▂▃▂▂▁▁▁▁▁▁▁▁▁▁▁▁▁▁▁▁▁▁▁▁▁▁▁▁▁▁▁▁▁▁</td></tr><tr><td>total_loss</td><td>█▅▅▄▂▁▁▁▁▁▁▁▁▁▁▁▁▁▁▁▁▁▁▁▁▁▁▁▁▁▁▁▁▁▁▁▁▁▁▁</td></tr></table><br/></div><div class=\"wandb-col\"><h3>Run summary:</h3><br/><table class=\"wandb\"><tr><td>boundary_loss</td><td>0.07272</td></tr><tr><td>epoch</td><td>4999</td></tr><tr><td>learning_rate</td><td>0.0</td></tr><tr><td>pde_loss</td><td>0.72458</td></tr><tr><td>terminal_loss</td><td>1.85513</td></tr><tr><td>total_loss</td><td>4.96608</td></tr></table><br/></div></div>"
      ],
      "text/plain": [
       "<IPython.core.display.HTML object>"
      ]
     },
     "metadata": {},
     "output_type": "display_data"
    },
    {
     "data": {
      "text/html": [
       " View run <strong style=\"color:#cdcd00\">hearty-sweep-19</strong> at: <a href='https://wandb.ai/tobiassafie-drexel-university/Heston-Weight-Sweeps-3/runs/t9uv1gsn' target=\"_blank\">https://wandb.ai/tobiassafie-drexel-university/Heston-Weight-Sweeps-3/runs/t9uv1gsn</a><br> View project at: <a href='https://wandb.ai/tobiassafie-drexel-university/Heston-Weight-Sweeps-3' target=\"_blank\">https://wandb.ai/tobiassafie-drexel-university/Heston-Weight-Sweeps-3</a><br>Synced 5 W&B file(s), 0 media file(s), 0 artifact file(s) and 0 other file(s)"
      ],
      "text/plain": [
       "<IPython.core.display.HTML object>"
      ]
     },
     "metadata": {},
     "output_type": "display_data"
    },
    {
     "data": {
      "text/html": [
       "Find logs at: <code>.\\wandb\\run-20250813_214004-t9uv1gsn\\logs</code>"
      ],
      "text/plain": [
       "<IPython.core.display.HTML object>"
      ]
     },
     "metadata": {},
     "output_type": "display_data"
    },
    {
     "name": "stderr",
     "output_type": "stream",
     "text": [
      "wandb: Sweep Agent: Waiting for job.\n",
      "wandb: Job received.\n",
      "wandb: Agent Starting Run: b4ao4fr0 with config:\n",
      "wandb: \tN_boundary: 500\n",
      "wandb: \tN_pde: 2500\n",
      "wandb: \tN_terminal: 500\n",
      "wandb: \thidden_layers: 2\n",
      "wandb: \tlearning_rate: 0.0024\n",
      "wandb: \tneurons_per_layer: 256\n",
      "wandb: \tnum_epochs: 5000\n",
      "wandb: \tw_boundary: 0.4129828510390283\n",
      "wandb: \tw_pde: 1.3967186058204022\n",
      "wandb: \tw_terminal: 1.971643562555389\n"
     ]
    },
    {
     "data": {
      "text/html": [
       "Tracking run with wandb version 0.21.0"
      ],
      "text/plain": [
       "<IPython.core.display.HTML object>"
      ]
     },
     "metadata": {},
     "output_type": "display_data"
    },
    {
     "data": {
      "text/html": [
       "Run data is saved locally in <code>c:\\Users\\tobys\\Desktop\\STAR\\dev_notebooks\\heston\\sweep\\wandb\\run-20250813_221127-b4ao4fr0</code>"
      ],
      "text/plain": [
       "<IPython.core.display.HTML object>"
      ]
     },
     "metadata": {},
     "output_type": "display_data"
    },
    {
     "data": {
      "text/html": [
       "Syncing run <strong><a href='https://wandb.ai/tobiassafie-drexel-university/Heston-Weight-Sweeps-3/runs/b4ao4fr0' target=\"_blank\">easy-sweep-20</a></strong> to <a href='https://wandb.ai/tobiassafie-drexel-university/Heston-Weight-Sweeps-3' target=\"_blank\">Weights & Biases</a> (<a href='https://wandb.me/developer-guide' target=\"_blank\">docs</a>)<br>Sweep page: <a href='https://wandb.ai/tobiassafie-drexel-university/Heston-Weight-Sweeps-3/sweeps/ljlwhom6' target=\"_blank\">https://wandb.ai/tobiassafie-drexel-university/Heston-Weight-Sweeps-3/sweeps/ljlwhom6</a>"
      ],
      "text/plain": [
       "<IPython.core.display.HTML object>"
      ]
     },
     "metadata": {},
     "output_type": "display_data"
    },
    {
     "data": {
      "text/html": [
       " View project at <a href='https://wandb.ai/tobiassafie-drexel-university/Heston-Weight-Sweeps-3' target=\"_blank\">https://wandb.ai/tobiassafie-drexel-university/Heston-Weight-Sweeps-3</a>"
      ],
      "text/plain": [
       "<IPython.core.display.HTML object>"
      ]
     },
     "metadata": {},
     "output_type": "display_data"
    },
    {
     "data": {
      "text/html": [
       " View sweep at <a href='https://wandb.ai/tobiassafie-drexel-university/Heston-Weight-Sweeps-3/sweeps/ljlwhom6' target=\"_blank\">https://wandb.ai/tobiassafie-drexel-university/Heston-Weight-Sweeps-3/sweeps/ljlwhom6</a>"
      ],
      "text/plain": [
       "<IPython.core.display.HTML object>"
      ]
     },
     "metadata": {},
     "output_type": "display_data"
    },
    {
     "data": {
      "text/html": [
       " View run at <a href='https://wandb.ai/tobiassafie-drexel-university/Heston-Weight-Sweeps-3/runs/b4ao4fr0' target=\"_blank\">https://wandb.ai/tobiassafie-drexel-university/Heston-Weight-Sweeps-3/runs/b4ao4fr0</a>"
      ],
      "text/plain": [
       "<IPython.core.display.HTML object>"
      ]
     },
     "metadata": {},
     "output_type": "display_data"
    },
    {
     "data": {
      "text/html": [],
      "text/plain": [
       "<IPython.core.display.HTML object>"
      ]
     },
     "metadata": {},
     "output_type": "display_data"
    },
    {
     "data": {
      "text/html": [
       "<br>    <style><br>        .wandb-row {<br>            display: flex;<br>            flex-direction: row;<br>            flex-wrap: wrap;<br>            justify-content: flex-start;<br>            width: 100%;<br>        }<br>        .wandb-col {<br>            display: flex;<br>            flex-direction: column;<br>            flex-basis: 100%;<br>            flex: 1;<br>            padding: 10px;<br>        }<br>    </style><br><div class=\"wandb-row\"><div class=\"wandb-col\"><h3>Run history:</h3><br/><table class=\"wandb\"><tr><td>boundary_loss</td><td>███▇▃▁▁▂▁▁▁▁▁▁▁▁▁▁▁▁▁▁▁▁▁▁▁▁▁▁▁▁▁▁▁▁▁▁▁▁</td></tr><tr><td>epoch</td><td>▁▁▁▁▁▁▁▂▂▂▂▃▃▄▄▄▄▄▄▄▅▅▅▅▅▆▆▆▆▆▆▇▇▇▇▇▇▇▇█</td></tr><tr><td>learning_rate</td><td>███████▇▇▇▇▇▇▆▆▅▅▅▅▅▅▄▄▄▄▃▃▃▃▂▂▂▂▁▁▁▁▁▁▁</td></tr><tr><td>pde_loss</td><td>█▄█▃▃▄▅▂▁▁▁▁▁▁▁▁▁▁▁▁▁▁▁▁▁▁▁▁▁▁▁▁▁▁▁▁▁▁▁▁</td></tr><tr><td>terminal_loss</td><td>██▂▁▁▁▁▁▁▁▁▁▁▁▁▁▁▁▁▁▁▁▁▁▁▁▁▁▁▁▁▁▁▁▁▁▁▁▁▁</td></tr><tr><td>total_loss</td><td>█▃▂▂▂▁▁▁▁▁▁▁▁▁▁▁▁▁▁▁▁▁▁▁▁▁▁▁▁▁▁▁▁▁▁▁▁▁▁▁</td></tr></table><br/></div><div class=\"wandb-col\"><h3>Run summary:</h3><br/><table class=\"wandb\"><tr><td>boundary_loss</td><td>0.28315</td></tr><tr><td>epoch</td><td>4999</td></tr><tr><td>learning_rate</td><td>0.0</td></tr><tr><td>pde_loss</td><td>0.84474</td></tr><tr><td>terminal_loss</td><td>1.12534</td></tr><tr><td>total_loss</td><td>3.51559</td></tr></table><br/></div></div>"
      ],
      "text/plain": [
       "<IPython.core.display.HTML object>"
      ]
     },
     "metadata": {},
     "output_type": "display_data"
    },
    {
     "data": {
      "text/html": [
       " View run <strong style=\"color:#cdcd00\">easy-sweep-20</strong> at: <a href='https://wandb.ai/tobiassafie-drexel-university/Heston-Weight-Sweeps-3/runs/b4ao4fr0' target=\"_blank\">https://wandb.ai/tobiassafie-drexel-university/Heston-Weight-Sweeps-3/runs/b4ao4fr0</a><br> View project at: <a href='https://wandb.ai/tobiassafie-drexel-university/Heston-Weight-Sweeps-3' target=\"_blank\">https://wandb.ai/tobiassafie-drexel-university/Heston-Weight-Sweeps-3</a><br>Synced 5 W&B file(s), 0 media file(s), 0 artifact file(s) and 0 other file(s)"
      ],
      "text/plain": [
       "<IPython.core.display.HTML object>"
      ]
     },
     "metadata": {},
     "output_type": "display_data"
    },
    {
     "data": {
      "text/html": [
       "Find logs at: <code>.\\wandb\\run-20250813_221127-b4ao4fr0\\logs</code>"
      ],
      "text/plain": [
       "<IPython.core.display.HTML object>"
      ]
     },
     "metadata": {},
     "output_type": "display_data"
    },
    {
     "name": "stderr",
     "output_type": "stream",
     "text": [
      "wandb: Agent Starting Run: 7hr81nl8 with config:\n",
      "wandb: \tN_boundary: 500\n",
      "wandb: \tN_pde: 2500\n",
      "wandb: \tN_terminal: 500\n",
      "wandb: \thidden_layers: 2\n",
      "wandb: \tlearning_rate: 0.0024\n",
      "wandb: \tneurons_per_layer: 256\n",
      "wandb: \tnum_epochs: 5000\n",
      "wandb: \tw_boundary: 1.952394014670685\n",
      "wandb: \tw_pde: 9.237343520967306\n",
      "wandb: \tw_terminal: 0.07061576459391067\n"
     ]
    },
    {
     "data": {
      "text/html": [
       "Tracking run with wandb version 0.21.0"
      ],
      "text/plain": [
       "<IPython.core.display.HTML object>"
      ]
     },
     "metadata": {},
     "output_type": "display_data"
    },
    {
     "data": {
      "text/html": [
       "Run data is saved locally in <code>c:\\Users\\tobys\\Desktop\\STAR\\dev_notebooks\\heston\\sweep\\wandb\\run-20250813_221502-7hr81nl8</code>"
      ],
      "text/plain": [
       "<IPython.core.display.HTML object>"
      ]
     },
     "metadata": {},
     "output_type": "display_data"
    },
    {
     "data": {
      "text/html": [
       "Syncing run <strong><a href='https://wandb.ai/tobiassafie-drexel-university/Heston-Weight-Sweeps-3/runs/7hr81nl8' target=\"_blank\">gallant-sweep-21</a></strong> to <a href='https://wandb.ai/tobiassafie-drexel-university/Heston-Weight-Sweeps-3' target=\"_blank\">Weights & Biases</a> (<a href='https://wandb.me/developer-guide' target=\"_blank\">docs</a>)<br>Sweep page: <a href='https://wandb.ai/tobiassafie-drexel-university/Heston-Weight-Sweeps-3/sweeps/ljlwhom6' target=\"_blank\">https://wandb.ai/tobiassafie-drexel-university/Heston-Weight-Sweeps-3/sweeps/ljlwhom6</a>"
      ],
      "text/plain": [
       "<IPython.core.display.HTML object>"
      ]
     },
     "metadata": {},
     "output_type": "display_data"
    },
    {
     "data": {
      "text/html": [
       " View project at <a href='https://wandb.ai/tobiassafie-drexel-university/Heston-Weight-Sweeps-3' target=\"_blank\">https://wandb.ai/tobiassafie-drexel-university/Heston-Weight-Sweeps-3</a>"
      ],
      "text/plain": [
       "<IPython.core.display.HTML object>"
      ]
     },
     "metadata": {},
     "output_type": "display_data"
    },
    {
     "data": {
      "text/html": [
       " View sweep at <a href='https://wandb.ai/tobiassafie-drexel-university/Heston-Weight-Sweeps-3/sweeps/ljlwhom6' target=\"_blank\">https://wandb.ai/tobiassafie-drexel-university/Heston-Weight-Sweeps-3/sweeps/ljlwhom6</a>"
      ],
      "text/plain": [
       "<IPython.core.display.HTML object>"
      ]
     },
     "metadata": {},
     "output_type": "display_data"
    },
    {
     "data": {
      "text/html": [
       " View run at <a href='https://wandb.ai/tobiassafie-drexel-university/Heston-Weight-Sweeps-3/runs/7hr81nl8' target=\"_blank\">https://wandb.ai/tobiassafie-drexel-university/Heston-Weight-Sweeps-3/runs/7hr81nl8</a>"
      ],
      "text/plain": [
       "<IPython.core.display.HTML object>"
      ]
     },
     "metadata": {},
     "output_type": "display_data"
    },
    {
     "data": {
      "text/html": [],
      "text/plain": [
       "<IPython.core.display.HTML object>"
      ]
     },
     "metadata": {},
     "output_type": "display_data"
    },
    {
     "data": {
      "text/html": [
       "<br>    <style><br>        .wandb-row {<br>            display: flex;<br>            flex-direction: row;<br>            flex-wrap: wrap;<br>            justify-content: flex-start;<br>            width: 100%;<br>        }<br>        .wandb-col {<br>            display: flex;<br>            flex-direction: column;<br>            flex-basis: 100%;<br>            flex: 1;<br>            padding: 10px;<br>        }<br>    </style><br><div class=\"wandb-row\"><div class=\"wandb-col\"><h3>Run history:</h3><br/><table class=\"wandb\"><tr><td>boundary_loss</td><td>█▇▄▂▁▁▁▁▁▁▁▁▁▁▁▁▁▁▁▁▁▁▁▁▁▁▁▁▁▁▁▁▁▁▁▁▁▁▁▁</td></tr><tr><td>epoch</td><td>▁▁▁▁▁▂▂▂▂▂▂▃▃▃▃▃▃▄▄▄▄▄▄▅▅▅▅▅▅▆▆▆▆▆▆▇▇▇▇█</td></tr><tr><td>learning_rate</td><td>████████▇▇▆▆▆▆▆▅▅▅▅▅▄▄▄▄▄▄▄▃▃▃▃▂▂▂▂▁▁▁▁▁</td></tr><tr><td>pde_loss</td><td>▁▅▆▄▃▂█▂▄▁▆▂▂▃▅▂▂▂▇▁▁▁▁▁▁▁▁▁▁▁▁▁▁▁▁▁▁▁▁▁</td></tr><tr><td>terminal_loss</td><td>▃▃█▅▅▄▄▄▃▄▃▄▃▃▄▄▃▂▂▃▂▂▂▂▃▁▁▁▁▁▁▁▁▁▁▁▁▁▁▁</td></tr><tr><td>total_loss</td><td>█▃▂▂▂▁▁▁▁▁▁▁▁▁▁▁▁▁▁▁▁▁▁▁▁▁▁▁▁▁▁▁▁▁▁▁▁▁▁▁</td></tr></table><br/></div><div class=\"wandb-col\"><h3>Run summary:</h3><br/><table class=\"wandb\"><tr><td>boundary_loss</td><td>0.22919</td></tr><tr><td>epoch</td><td>4999</td></tr><tr><td>learning_rate</td><td>0.0</td></tr><tr><td>pde_loss</td><td>0.24285</td></tr><tr><td>terminal_loss</td><td>68.89744</td></tr><tr><td>total_loss</td><td>7.556</td></tr></table><br/></div></div>"
      ],
      "text/plain": [
       "<IPython.core.display.HTML object>"
      ]
     },
     "metadata": {},
     "output_type": "display_data"
    },
    {
     "data": {
      "text/html": [
       " View run <strong style=\"color:#cdcd00\">gallant-sweep-21</strong> at: <a href='https://wandb.ai/tobiassafie-drexel-university/Heston-Weight-Sweeps-3/runs/7hr81nl8' target=\"_blank\">https://wandb.ai/tobiassafie-drexel-university/Heston-Weight-Sweeps-3/runs/7hr81nl8</a><br> View project at: <a href='https://wandb.ai/tobiassafie-drexel-university/Heston-Weight-Sweeps-3' target=\"_blank\">https://wandb.ai/tobiassafie-drexel-university/Heston-Weight-Sweeps-3</a><br>Synced 5 W&B file(s), 0 media file(s), 0 artifact file(s) and 0 other file(s)"
      ],
      "text/plain": [
       "<IPython.core.display.HTML object>"
      ]
     },
     "metadata": {},
     "output_type": "display_data"
    },
    {
     "data": {
      "text/html": [
       "Find logs at: <code>.\\wandb\\run-20250813_221502-7hr81nl8\\logs</code>"
      ],
      "text/plain": [
       "<IPython.core.display.HTML object>"
      ]
     },
     "metadata": {},
     "output_type": "display_data"
    },
    {
     "name": "stderr",
     "output_type": "stream",
     "text": [
      "wandb: Sweep Agent: Waiting for job.\n",
      "wandb: Job received.\n",
      "wandb: Agent Starting Run: zpdwvnfg with config:\n",
      "wandb: \tN_boundary: 500\n",
      "wandb: \tN_pde: 2500\n",
      "wandb: \tN_terminal: 500\n",
      "wandb: \thidden_layers: 2\n",
      "wandb: \tlearning_rate: 0.0024\n",
      "wandb: \tneurons_per_layer: 256\n",
      "wandb: \tnum_epochs: 5000\n",
      "wandb: \tw_boundary: 0.03460323089295216\n",
      "wandb: \tw_pde: 9.183656295627934\n",
      "wandb: \tw_terminal: 1.9680988928217624\n"
     ]
    },
    {
     "data": {
      "text/html": [
       "Tracking run with wandb version 0.21.0"
      ],
      "text/plain": [
       "<IPython.core.display.HTML object>"
      ]
     },
     "metadata": {},
     "output_type": "display_data"
    },
    {
     "data": {
      "text/html": [
       "Run data is saved locally in <code>c:\\Users\\tobys\\Desktop\\STAR\\dev_notebooks\\heston\\sweep\\wandb\\run-20250813_221847-zpdwvnfg</code>"
      ],
      "text/plain": [
       "<IPython.core.display.HTML object>"
      ]
     },
     "metadata": {},
     "output_type": "display_data"
    },
    {
     "data": {
      "text/html": [
       "Syncing run <strong><a href='https://wandb.ai/tobiassafie-drexel-university/Heston-Weight-Sweeps-3/runs/zpdwvnfg' target=\"_blank\">rosy-sweep-22</a></strong> to <a href='https://wandb.ai/tobiassafie-drexel-university/Heston-Weight-Sweeps-3' target=\"_blank\">Weights & Biases</a> (<a href='https://wandb.me/developer-guide' target=\"_blank\">docs</a>)<br>Sweep page: <a href='https://wandb.ai/tobiassafie-drexel-university/Heston-Weight-Sweeps-3/sweeps/ljlwhom6' target=\"_blank\">https://wandb.ai/tobiassafie-drexel-university/Heston-Weight-Sweeps-3/sweeps/ljlwhom6</a>"
      ],
      "text/plain": [
       "<IPython.core.display.HTML object>"
      ]
     },
     "metadata": {},
     "output_type": "display_data"
    },
    {
     "data": {
      "text/html": [
       " View project at <a href='https://wandb.ai/tobiassafie-drexel-university/Heston-Weight-Sweeps-3' target=\"_blank\">https://wandb.ai/tobiassafie-drexel-university/Heston-Weight-Sweeps-3</a>"
      ],
      "text/plain": [
       "<IPython.core.display.HTML object>"
      ]
     },
     "metadata": {},
     "output_type": "display_data"
    },
    {
     "data": {
      "text/html": [
       " View sweep at <a href='https://wandb.ai/tobiassafie-drexel-university/Heston-Weight-Sweeps-3/sweeps/ljlwhom6' target=\"_blank\">https://wandb.ai/tobiassafie-drexel-university/Heston-Weight-Sweeps-3/sweeps/ljlwhom6</a>"
      ],
      "text/plain": [
       "<IPython.core.display.HTML object>"
      ]
     },
     "metadata": {},
     "output_type": "display_data"
    },
    {
     "data": {
      "text/html": [
       " View run at <a href='https://wandb.ai/tobiassafie-drexel-university/Heston-Weight-Sweeps-3/runs/zpdwvnfg' target=\"_blank\">https://wandb.ai/tobiassafie-drexel-university/Heston-Weight-Sweeps-3/runs/zpdwvnfg</a>"
      ],
      "text/plain": [
       "<IPython.core.display.HTML object>"
      ]
     },
     "metadata": {},
     "output_type": "display_data"
    },
    {
     "name": "stderr",
     "output_type": "stream",
     "text": [
      "wandb: Network error (ConnectionError), entering retry loop.\n"
     ]
    },
    {
     "data": {
      "text/html": [],
      "text/plain": [
       "<IPython.core.display.HTML object>"
      ]
     },
     "metadata": {},
     "output_type": "display_data"
    },
    {
     "data": {
      "text/html": [
       "<br>    <style><br>        .wandb-row {<br>            display: flex;<br>            flex-direction: row;<br>            flex-wrap: wrap;<br>            justify-content: flex-start;<br>            width: 100%;<br>        }<br>        .wandb-col {<br>            display: flex;<br>            flex-direction: column;<br>            flex-basis: 100%;<br>            flex: 1;<br>            padding: 10px;<br>        }<br>    </style><br><div class=\"wandb-row\"><div class=\"wandb-col\"><h3>Run history:</h3><br/><table class=\"wandb\"><tr><td>boundary_loss</td><td>▇█▅▅▄▆▃▃▂▃▂▂▂▂▁▁▁▁▁▁▁▁▁▁▁▁▁▁▁▁▁▁▁▁▁▁▁▁▁▁</td></tr><tr><td>epoch</td><td>▁▁▁▁▁▂▂▂▂▂▂▂▂▃▃▃▃▃▃▃▄▄▄▄▅▅▅▅▅▆▆▆▆▇▇▇████</td></tr><tr><td>learning_rate</td><td>█████▇▇▇▇▇▇▇▇▇▇▆▆▆▆▆▅▅▄▄▄▃▃▃▂▂▂▂▂▂▂▁▁▁▁▁</td></tr><tr><td>pde_loss</td><td>▁▁▂█▅▄▆▃▆▃▂▇▃▄▂▂▂▂▁▂▁▁▁▁▁▁▁▁▁▁▁▁▁▁▁▁▁▁▁▁</td></tr><tr><td>terminal_loss</td><td>█▂▁▁▁▁▁▁▁▁▁▁▁▁▁▁▁▁▁▁▁▁▁▁▁▁▁▁▁▁▁▁▁▁▁▁▁▁▁▁</td></tr><tr><td>total_loss</td><td>█▇▆▄▃▃▃▂▂▃▁▂▃▁▁▁▁▁▁▁▁▁▁▁▁▁▁▁▁▁▁▁▁▁▁▁▁▁▁▁</td></tr></table><br/></div><div class=\"wandb-col\"><h3>Run summary:</h3><br/><table class=\"wandb\"><tr><td>boundary_loss</td><td>22.9268</td></tr><tr><td>epoch</td><td>4999</td></tr><tr><td>learning_rate</td><td>0.0</td></tr><tr><td>pde_loss</td><td>0.14602</td></tr><tr><td>terminal_loss</td><td>2.08425</td></tr><tr><td>total_loss</td><td>6.23637</td></tr></table><br/></div></div>"
      ],
      "text/plain": [
       "<IPython.core.display.HTML object>"
      ]
     },
     "metadata": {},
     "output_type": "display_data"
    },
    {
     "data": {
      "text/html": [
       " View run <strong style=\"color:#cdcd00\">rosy-sweep-22</strong> at: <a href='https://wandb.ai/tobiassafie-drexel-university/Heston-Weight-Sweeps-3/runs/zpdwvnfg' target=\"_blank\">https://wandb.ai/tobiassafie-drexel-university/Heston-Weight-Sweeps-3/runs/zpdwvnfg</a><br> View project at: <a href='https://wandb.ai/tobiassafie-drexel-university/Heston-Weight-Sweeps-3' target=\"_blank\">https://wandb.ai/tobiassafie-drexel-university/Heston-Weight-Sweeps-3</a><br>Synced 2 W&B file(s), 0 media file(s), 0 artifact file(s) and 0 other file(s)"
      ],
      "text/plain": [
       "<IPython.core.display.HTML object>"
      ]
     },
     "metadata": {},
     "output_type": "display_data"
    },
    {
     "data": {
      "text/html": [
       "Find logs at: <code>.\\wandb\\run-20250813_221847-zpdwvnfg\\logs</code>"
      ],
      "text/plain": [
       "<IPython.core.display.HTML object>"
      ]
     },
     "metadata": {},
     "output_type": "display_data"
    },
    {
     "name": "stderr",
     "output_type": "stream",
     "text": [
      "wandb: Sweep Agent: Waiting for job.\n",
      "wandb: Job received.\n",
      "wandb: Agent Starting Run: 0xnkzmuw with config:\n",
      "wandb: \tN_boundary: 500\n",
      "wandb: \tN_pde: 2500\n",
      "wandb: \tN_terminal: 500\n",
      "wandb: \thidden_layers: 2\n",
      "wandb: \tlearning_rate: 0.0024\n",
      "wandb: \tneurons_per_layer: 256\n",
      "wandb: \tnum_epochs: 5000\n",
      "wandb: \tw_boundary: 1.1126806334553625\n",
      "wandb: \tw_pde: 9.887023636917682\n",
      "wandb: \tw_terminal: 1.9978887316243263\n"
     ]
    },
    {
     "data": {
      "text/html": [
       "Tracking run with wandb version 0.21.0"
      ],
      "text/plain": [
       "<IPython.core.display.HTML object>"
      ]
     },
     "metadata": {},
     "output_type": "display_data"
    },
    {
     "data": {
      "text/html": [
       "Run data is saved locally in <code>c:\\Users\\tobys\\Desktop\\STAR\\dev_notebooks\\heston\\sweep\\wandb\\run-20250813_232319-0xnkzmuw</code>"
      ],
      "text/plain": [
       "<IPython.core.display.HTML object>"
      ]
     },
     "metadata": {},
     "output_type": "display_data"
    },
    {
     "data": {
      "text/html": [
       "Syncing run <strong><a href='https://wandb.ai/tobiassafie-drexel-university/Heston-Weight-Sweeps-3/runs/0xnkzmuw' target=\"_blank\">celestial-sweep-23</a></strong> to <a href='https://wandb.ai/tobiassafie-drexel-university/Heston-Weight-Sweeps-3' target=\"_blank\">Weights & Biases</a> (<a href='https://wandb.me/developer-guide' target=\"_blank\">docs</a>)<br>Sweep page: <a href='https://wandb.ai/tobiassafie-drexel-university/Heston-Weight-Sweeps-3/sweeps/ljlwhom6' target=\"_blank\">https://wandb.ai/tobiassafie-drexel-university/Heston-Weight-Sweeps-3/sweeps/ljlwhom6</a>"
      ],
      "text/plain": [
       "<IPython.core.display.HTML object>"
      ]
     },
     "metadata": {},
     "output_type": "display_data"
    },
    {
     "data": {
      "text/html": [
       " View project at <a href='https://wandb.ai/tobiassafie-drexel-university/Heston-Weight-Sweeps-3' target=\"_blank\">https://wandb.ai/tobiassafie-drexel-university/Heston-Weight-Sweeps-3</a>"
      ],
      "text/plain": [
       "<IPython.core.display.HTML object>"
      ]
     },
     "metadata": {},
     "output_type": "display_data"
    },
    {
     "data": {
      "text/html": [
       " View sweep at <a href='https://wandb.ai/tobiassafie-drexel-university/Heston-Weight-Sweeps-3/sweeps/ljlwhom6' target=\"_blank\">https://wandb.ai/tobiassafie-drexel-university/Heston-Weight-Sweeps-3/sweeps/ljlwhom6</a>"
      ],
      "text/plain": [
       "<IPython.core.display.HTML object>"
      ]
     },
     "metadata": {},
     "output_type": "display_data"
    },
    {
     "data": {
      "text/html": [
       " View run at <a href='https://wandb.ai/tobiassafie-drexel-university/Heston-Weight-Sweeps-3/runs/0xnkzmuw' target=\"_blank\">https://wandb.ai/tobiassafie-drexel-university/Heston-Weight-Sweeps-3/runs/0xnkzmuw</a>"
      ],
      "text/plain": [
       "<IPython.core.display.HTML object>"
      ]
     },
     "metadata": {},
     "output_type": "display_data"
    },
    {
     "data": {
      "text/html": [],
      "text/plain": [
       "<IPython.core.display.HTML object>"
      ]
     },
     "metadata": {},
     "output_type": "display_data"
    },
    {
     "data": {
      "text/html": [
       "<br>    <style><br>        .wandb-row {<br>            display: flex;<br>            flex-direction: row;<br>            flex-wrap: wrap;<br>            justify-content: flex-start;<br>            width: 100%;<br>        }<br>        .wandb-col {<br>            display: flex;<br>            flex-direction: column;<br>            flex-basis: 100%;<br>            flex: 1;<br>            padding: 10px;<br>        }<br>    </style><br><div class=\"wandb-row\"><div class=\"wandb-col\"><h3>Run history:</h3><br/><table class=\"wandb\"><tr><td>boundary_loss</td><td>██▃▂▂▁▁▁▁▁▁▁▁▁▁▂▁▁▁▁▁▁▁▁▁▁▁▁▁▁▁▁▁▁▁▁▁▁▁▁</td></tr><tr><td>epoch</td><td>▁▁▂▂▂▂▂▂▂▂▃▄▄▄▄▄▄▅▅▅▅▅▅▅▆▆▆▆▆▆▆▆▆▇▇▇▇▇██</td></tr><tr><td>learning_rate</td><td>████▇▇▇▆▆▆▆▆▅▅▅▅▅▅▅▄▃▃▃▃▃▂▂▂▂▂▂▂▂▁▁▁▁▁▁▁</td></tr><tr><td>pde_loss</td><td>▅█▃▂▅▂▂▁▃█▂▂▂▁▁▁▁▁▁▁▁▁▁▁▁▁▁▁▁▁▁▁▁▁▁▁▁▁▁▁</td></tr><tr><td>terminal_loss</td><td>█▃▁▂▁▁▁▁▁▁▂▁▁▁▁▁▁▁▁▁▁▁▁▁▁▁▁▁▁▁▁▁▁▁▁▁▁▁▁▁</td></tr><tr><td>total_loss</td><td>█▅▃▂▂▁▂▁▁▁▁▁▁▁▁▁▁▁▁▁▁▁▁▁▁▁▁▁▁▁▁▁▁▁▁▁▁▁▁▁</td></tr></table><br/></div><div class=\"wandb-col\"><h3>Run summary:</h3><br/><table class=\"wandb\"><tr><td>boundary_loss</td><td>0.28722</td></tr><tr><td>epoch</td><td>4999</td></tr><tr><td>learning_rate</td><td>0.0</td></tr><tr><td>pde_loss</td><td>0.39163</td></tr><tr><td>terminal_loss</td><td>5.46029</td></tr><tr><td>total_loss</td><td>15.10075</td></tr></table><br/></div></div>"
      ],
      "text/plain": [
       "<IPython.core.display.HTML object>"
      ]
     },
     "metadata": {},
     "output_type": "display_data"
    },
    {
     "data": {
      "text/html": [
       " View run <strong style=\"color:#cdcd00\">celestial-sweep-23</strong> at: <a href='https://wandb.ai/tobiassafie-drexel-university/Heston-Weight-Sweeps-3/runs/0xnkzmuw' target=\"_blank\">https://wandb.ai/tobiassafie-drexel-university/Heston-Weight-Sweeps-3/runs/0xnkzmuw</a><br> View project at: <a href='https://wandb.ai/tobiassafie-drexel-university/Heston-Weight-Sweeps-3' target=\"_blank\">https://wandb.ai/tobiassafie-drexel-university/Heston-Weight-Sweeps-3</a><br>Synced 5 W&B file(s), 0 media file(s), 0 artifact file(s) and 0 other file(s)"
      ],
      "text/plain": [
       "<IPython.core.display.HTML object>"
      ]
     },
     "metadata": {},
     "output_type": "display_data"
    },
    {
     "data": {
      "text/html": [
       "Find logs at: <code>.\\wandb\\run-20250813_232319-0xnkzmuw\\logs</code>"
      ],
      "text/plain": [
       "<IPython.core.display.HTML object>"
      ]
     },
     "metadata": {},
     "output_type": "display_data"
    },
    {
     "name": "stderr",
     "output_type": "stream",
     "text": [
      "wandb: Agent Starting Run: d0gpvopi with config:\n",
      "wandb: \tN_boundary: 500\n",
      "wandb: \tN_pde: 2500\n",
      "wandb: \tN_terminal: 500\n",
      "wandb: \thidden_layers: 2\n",
      "wandb: \tlearning_rate: 0.0024\n",
      "wandb: \tneurons_per_layer: 256\n",
      "wandb: \tnum_epochs: 5000\n",
      "wandb: \tw_boundary: 0.12188438740932256\n",
      "wandb: \tw_pde: 6.350144404752142\n",
      "wandb: \tw_terminal: 1.9726061137019917\n"
     ]
    },
    {
     "data": {
      "text/html": [
       "Tracking run with wandb version 0.21.0"
      ],
      "text/plain": [
       "<IPython.core.display.HTML object>"
      ]
     },
     "metadata": {},
     "output_type": "display_data"
    },
    {
     "data": {
      "text/html": [
       "Run data is saved locally in <code>c:\\Users\\tobys\\Desktop\\STAR\\dev_notebooks\\heston\\sweep\\wandb\\run-20250813_232655-d0gpvopi</code>"
      ],
      "text/plain": [
       "<IPython.core.display.HTML object>"
      ]
     },
     "metadata": {},
     "output_type": "display_data"
    },
    {
     "data": {
      "text/html": [
       "Syncing run <strong><a href='https://wandb.ai/tobiassafie-drexel-university/Heston-Weight-Sweeps-3/runs/d0gpvopi' target=\"_blank\">peachy-sweep-24</a></strong> to <a href='https://wandb.ai/tobiassafie-drexel-university/Heston-Weight-Sweeps-3' target=\"_blank\">Weights & Biases</a> (<a href='https://wandb.me/developer-guide' target=\"_blank\">docs</a>)<br>Sweep page: <a href='https://wandb.ai/tobiassafie-drexel-university/Heston-Weight-Sweeps-3/sweeps/ljlwhom6' target=\"_blank\">https://wandb.ai/tobiassafie-drexel-university/Heston-Weight-Sweeps-3/sweeps/ljlwhom6</a>"
      ],
      "text/plain": [
       "<IPython.core.display.HTML object>"
      ]
     },
     "metadata": {},
     "output_type": "display_data"
    },
    {
     "data": {
      "text/html": [
       " View project at <a href='https://wandb.ai/tobiassafie-drexel-university/Heston-Weight-Sweeps-3' target=\"_blank\">https://wandb.ai/tobiassafie-drexel-university/Heston-Weight-Sweeps-3</a>"
      ],
      "text/plain": [
       "<IPython.core.display.HTML object>"
      ]
     },
     "metadata": {},
     "output_type": "display_data"
    },
    {
     "data": {
      "text/html": [
       " View sweep at <a href='https://wandb.ai/tobiassafie-drexel-university/Heston-Weight-Sweeps-3/sweeps/ljlwhom6' target=\"_blank\">https://wandb.ai/tobiassafie-drexel-university/Heston-Weight-Sweeps-3/sweeps/ljlwhom6</a>"
      ],
      "text/plain": [
       "<IPython.core.display.HTML object>"
      ]
     },
     "metadata": {},
     "output_type": "display_data"
    },
    {
     "data": {
      "text/html": [
       " View run at <a href='https://wandb.ai/tobiassafie-drexel-university/Heston-Weight-Sweeps-3/runs/d0gpvopi' target=\"_blank\">https://wandb.ai/tobiassafie-drexel-university/Heston-Weight-Sweeps-3/runs/d0gpvopi</a>"
      ],
      "text/plain": [
       "<IPython.core.display.HTML object>"
      ]
     },
     "metadata": {},
     "output_type": "display_data"
    },
    {
     "name": "stderr",
     "output_type": "stream",
     "text": [
      "wandb: Network error (ConnectionError), entering retry loop.\n"
     ]
    },
    {
     "data": {
      "text/html": [],
      "text/plain": [
       "<IPython.core.display.HTML object>"
      ]
     },
     "metadata": {},
     "output_type": "display_data"
    },
    {
     "data": {
      "text/html": [
       "<br>    <style><br>        .wandb-row {<br>            display: flex;<br>            flex-direction: row;<br>            flex-wrap: wrap;<br>            justify-content: flex-start;<br>            width: 100%;<br>        }<br>        .wandb-col {<br>            display: flex;<br>            flex-direction: column;<br>            flex-basis: 100%;<br>            flex: 1;<br>            padding: 10px;<br>        }<br>    </style><br><div class=\"wandb-row\"><div class=\"wandb-col\"><h3>Run history:</h3><br/><table class=\"wandb\"><tr><td>boundary_loss</td><td>█▃▂▂▂▁▁▁▁▁▁▁▁▁▁▁▁▁▁▁▁▁▁▁▁▁▁▁▁▁▁▁▁▁▁▁▁▁▁▁</td></tr><tr><td>epoch</td><td>▁▁▁▂▂▂▂▂▂▂▃▃▃▄▄▄▄▄▄▄▄▄▅▅▅▆▆▆▆▆▇▇▇▇▇▇████</td></tr><tr><td>learning_rate</td><td>█████▇▇▇▇▇▇▇▆▆▆▆▆▆▆▅▅▄▄▄▃▃▂▂▂▂▂▁▁▁▁▁▁▁▁▁</td></tr><tr><td>pde_loss</td><td>█▄▄▃▆▅▂▂▃▁▂▃▂▁▁▁▁▂▁▁▁▁▁▁▁▁▁▁▁▁▁▁▁▁▁▁▁▁▁▁</td></tr><tr><td>terminal_loss</td><td>█▇▆▁▁▁▁▁▁▁▁▁▁▁▁▁▁▁▁▁▁▁▁▁▁▁▁▁▁▁▁▁▁▁▁▁▁▁▁▁</td></tr><tr><td>total_loss</td><td>█▂▂▁▁▁▁▁▁▁▁▁▁▁▁▁▁▁▁▁▁▁▁▁▁▁▁▁▁▁▁▁▁▁▁▁▁▁▁▁</td></tr></table><br/></div><div class=\"wandb-col\"><h3>Run summary:</h3><br/><table class=\"wandb\"><tr><td>boundary_loss</td><td>1.37711</td></tr><tr><td>epoch</td><td>4999</td></tr><tr><td>learning_rate</td><td>0.0</td></tr><tr><td>pde_loss</td><td>0.22054</td></tr><tr><td>terminal_loss</td><td>1.77631</td></tr><tr><td>total_loss</td><td>5.07225</td></tr></table><br/></div></div>"
      ],
      "text/plain": [
       "<IPython.core.display.HTML object>"
      ]
     },
     "metadata": {},
     "output_type": "display_data"
    },
    {
     "data": {
      "text/html": [
       " View run <strong style=\"color:#cdcd00\">peachy-sweep-24</strong> at: <a href='https://wandb.ai/tobiassafie-drexel-university/Heston-Weight-Sweeps-3/runs/d0gpvopi' target=\"_blank\">https://wandb.ai/tobiassafie-drexel-university/Heston-Weight-Sweeps-3/runs/d0gpvopi</a><br> View project at: <a href='https://wandb.ai/tobiassafie-drexel-university/Heston-Weight-Sweeps-3' target=\"_blank\">https://wandb.ai/tobiassafie-drexel-university/Heston-Weight-Sweeps-3</a><br>Synced 3 W&B file(s), 0 media file(s), 0 artifact file(s) and 0 other file(s)"
      ],
      "text/plain": [
       "<IPython.core.display.HTML object>"
      ]
     },
     "metadata": {},
     "output_type": "display_data"
    },
    {
     "data": {
      "text/html": [
       "Find logs at: <code>.\\wandb\\run-20250813_232655-d0gpvopi\\logs</code>"
      ],
      "text/plain": [
       "<IPython.core.display.HTML object>"
      ]
     },
     "metadata": {},
     "output_type": "display_data"
    },
    {
     "name": "stderr",
     "output_type": "stream",
     "text": [
      "wandb: Sweep Agent: Waiting for job.\n",
      "wandb: Job received.\n",
      "wandb: Agent Starting Run: 0ft9uyvz with config:\n",
      "wandb: \tN_boundary: 500\n",
      "wandb: \tN_pde: 2500\n",
      "wandb: \tN_terminal: 500\n",
      "wandb: \thidden_layers: 2\n",
      "wandb: \tlearning_rate: 0.0024\n",
      "wandb: \tneurons_per_layer: 256\n",
      "wandb: \tnum_epochs: 5000\n",
      "wandb: \tw_boundary: 1.6478612778487238\n",
      "wandb: \tw_pde: 2.825227630988385\n",
      "wandb: \tw_terminal: 1.8985511967026192\n"
     ]
    },
    {
     "data": {
      "text/html": [
       "Tracking run with wandb version 0.21.0"
      ],
      "text/plain": [
       "<IPython.core.display.HTML object>"
      ]
     },
     "metadata": {},
     "output_type": "display_data"
    },
    {
     "data": {
      "text/html": [
       "Run data is saved locally in <code>c:\\Users\\tobys\\Desktop\\STAR\\dev_notebooks\\heston\\sweep\\wandb\\run-20250814_001115-0ft9uyvz</code>"
      ],
      "text/plain": [
       "<IPython.core.display.HTML object>"
      ]
     },
     "metadata": {},
     "output_type": "display_data"
    },
    {
     "data": {
      "text/html": [
       "Syncing run <strong><a href='https://wandb.ai/tobiassafie-drexel-university/Heston-Weight-Sweeps-3/runs/0ft9uyvz' target=\"_blank\">ethereal-sweep-25</a></strong> to <a href='https://wandb.ai/tobiassafie-drexel-university/Heston-Weight-Sweeps-3' target=\"_blank\">Weights & Biases</a> (<a href='https://wandb.me/developer-guide' target=\"_blank\">docs</a>)<br>Sweep page: <a href='https://wandb.ai/tobiassafie-drexel-university/Heston-Weight-Sweeps-3/sweeps/ljlwhom6' target=\"_blank\">https://wandb.ai/tobiassafie-drexel-university/Heston-Weight-Sweeps-3/sweeps/ljlwhom6</a>"
      ],
      "text/plain": [
       "<IPython.core.display.HTML object>"
      ]
     },
     "metadata": {},
     "output_type": "display_data"
    },
    {
     "data": {
      "text/html": [
       " View project at <a href='https://wandb.ai/tobiassafie-drexel-university/Heston-Weight-Sweeps-3' target=\"_blank\">https://wandb.ai/tobiassafie-drexel-university/Heston-Weight-Sweeps-3</a>"
      ],
      "text/plain": [
       "<IPython.core.display.HTML object>"
      ]
     },
     "metadata": {},
     "output_type": "display_data"
    },
    {
     "data": {
      "text/html": [
       " View sweep at <a href='https://wandb.ai/tobiassafie-drexel-university/Heston-Weight-Sweeps-3/sweeps/ljlwhom6' target=\"_blank\">https://wandb.ai/tobiassafie-drexel-university/Heston-Weight-Sweeps-3/sweeps/ljlwhom6</a>"
      ],
      "text/plain": [
       "<IPython.core.display.HTML object>"
      ]
     },
     "metadata": {},
     "output_type": "display_data"
    },
    {
     "data": {
      "text/html": [
       " View run at <a href='https://wandb.ai/tobiassafie-drexel-university/Heston-Weight-Sweeps-3/runs/0ft9uyvz' target=\"_blank\">https://wandb.ai/tobiassafie-drexel-university/Heston-Weight-Sweeps-3/runs/0ft9uyvz</a>"
      ],
      "text/plain": [
       "<IPython.core.display.HTML object>"
      ]
     },
     "metadata": {},
     "output_type": "display_data"
    },
    {
     "data": {
      "text/html": [],
      "text/plain": [
       "<IPython.core.display.HTML object>"
      ]
     },
     "metadata": {},
     "output_type": "display_data"
    },
    {
     "data": {
      "text/html": [
       "<br>    <style><br>        .wandb-row {<br>            display: flex;<br>            flex-direction: row;<br>            flex-wrap: wrap;<br>            justify-content: flex-start;<br>            width: 100%;<br>        }<br>        .wandb-col {<br>            display: flex;<br>            flex-direction: column;<br>            flex-basis: 100%;<br>            flex: 1;<br>            padding: 10px;<br>        }<br>    </style><br><div class=\"wandb-row\"><div class=\"wandb-col\"><h3>Run history:</h3><br/><table class=\"wandb\"><tr><td>boundary_loss</td><td>█▆▅▂▂▁▁▁▁▁▁▁▁▁▁▁▁▁▁▁▁▁▁▁▁▁▁▁▁▁▁▁▁▁▁▁▁▁▁▁</td></tr><tr><td>epoch</td><td>▁▂▂▂▂▂▂▂▃▃▃▃▃▃▄▄▄▄▄▄▅▅▅▅▅▅▆▆▆▆▆▆▆▇▇▇▇███</td></tr><tr><td>learning_rate</td><td>████████▇▇▇▇▇▇▇▆▆▅▅▅▄▄▄▄▃▂▂▂▂▁▁▁▁▁▁▁▁▁▁▁</td></tr><tr><td>pde_loss</td><td>▁▃▂▂▂▂▂▂█▁▁▁▁▁▁▁▁▁▁▁▁▁▁▁▁▁▁▁▁▁▁▁▁▁▁▁▁▁▁▁</td></tr><tr><td>terminal_loss</td><td>█▃▂▂▂▁▁▁▁▁▁▁▁▁▁▁▁▁▁▁▁▁▁▁▁▁▁▁▁▁▁▁▁▁▁▁▁▁▁▁</td></tr><tr><td>total_loss</td><td>█▆▆▂▂▁▁▁▁▁▁▁▁▁▁▁▁▁▁▁▁▁▁▁▁▁▁▁▁▁▁▁▁▁▁▁▁▁▁▁</td></tr></table><br/></div><div class=\"wandb-col\"><h3>Run summary:</h3><br/><table class=\"wandb\"><tr><td>boundary_loss</td><td>0.09973</td></tr><tr><td>epoch</td><td>4999</td></tr><tr><td>learning_rate</td><td>0.0</td></tr><tr><td>pde_loss</td><td>0.60999</td></tr><tr><td>terminal_loss</td><td>1.73011</td></tr><tr><td>total_loss</td><td>5.17242</td></tr></table><br/></div></div>"
      ],
      "text/plain": [
       "<IPython.core.display.HTML object>"
      ]
     },
     "metadata": {},
     "output_type": "display_data"
    },
    {
     "data": {
      "text/html": [
       " View run <strong style=\"color:#cdcd00\">ethereal-sweep-25</strong> at: <a href='https://wandb.ai/tobiassafie-drexel-university/Heston-Weight-Sweeps-3/runs/0ft9uyvz' target=\"_blank\">https://wandb.ai/tobiassafie-drexel-university/Heston-Weight-Sweeps-3/runs/0ft9uyvz</a><br> View project at: <a href='https://wandb.ai/tobiassafie-drexel-university/Heston-Weight-Sweeps-3' target=\"_blank\">https://wandb.ai/tobiassafie-drexel-university/Heston-Weight-Sweeps-3</a><br>Synced 5 W&B file(s), 0 media file(s), 0 artifact file(s) and 0 other file(s)"
      ],
      "text/plain": [
       "<IPython.core.display.HTML object>"
      ]
     },
     "metadata": {},
     "output_type": "display_data"
    },
    {
     "data": {
      "text/html": [
       "Find logs at: <code>.\\wandb\\run-20250814_001115-0ft9uyvz\\logs</code>"
      ],
      "text/plain": [
       "<IPython.core.display.HTML object>"
      ]
     },
     "metadata": {},
     "output_type": "display_data"
    }
   ],
   "source": [
    "import torch\n",
    "import torch.nn as nn\n",
    "import torch.optim as optim\n",
    "from torch.optim.lr_scheduler import CosineAnnealingLR\n",
    "import time\n",
    "import wandb\n",
    "\n",
    "wandb.login(key='601e2bae7faf9f70cd48f1c1ae9ed183b5193d1c')\n",
    "\n",
    "# =============================================================================\n",
    "# 1. PARAMETERS (GLOBAL)\n",
    "# These are fixed for all sweep runs.\n",
    "# =============================================================================\n",
    "r = 0.05\n",
    "sigma = 0.2\n",
    "K = 100.0\n",
    "T = 1.0\n",
    "theta = sigma**2\n",
    "v_0 = sigma**2\n",
    "kappa = 2.0\n",
    "sigma_v = 0.3\n",
    "rho = -0.7\n",
    "S_min, S_max = 0.0, 250.0\n",
    "v_min, v_max = 0.0, 1.0\n",
    "t_min, t_max = 0.0, T\n",
    "\n",
    "# =============================================================================\n",
    "# 2. NEURAL NETWORK MODEL\n",
    "# =============================================================================\n",
    "class HestonPINN(nn.Module):\n",
    "    def __init__(self, input_dim=3, output_dim=1, hidden_layers=4, neurons_per_layer=64, activation_fn=nn.Tanh()):\n",
    "        super().__init__()\n",
    "        layers = [nn.Linear(input_dim, neurons_per_layer), activation_fn]\n",
    "        for _ in range(hidden_layers - 1):\n",
    "            layers.append(nn.Linear(neurons_per_layer, neurons_per_layer))\n",
    "            layers.append(activation_fn)\n",
    "        layers.append(nn.Linear(neurons_per_layer, output_dim))\n",
    "        self.net = nn.Sequential(*layers)\n",
    "\n",
    "    def forward(self, S, v, t):\n",
    "        x = torch.cat([S, v, t], dim=1)\n",
    "        return self.net(x)\n",
    "\n",
    "# =============================================================================\n",
    "# 3. LOSS FUNCTIONS\n",
    "# =============================================================================\n",
    "def pde_loss(model, S, v, t):\n",
    "    C = model(S, v, t)\n",
    "    C_t = torch.autograd.grad(C, t, grad_outputs=torch.ones_like(C), create_graph=True)[0]\n",
    "    C_S = torch.autograd.grad(C, S, grad_outputs=torch.ones_like(C), create_graph=True)[0]\n",
    "    C_v = torch.autograd.grad(C, v, grad_outputs=torch.ones_like(C), create_graph=True)[0]\n",
    "    C_SS = torch.autograd.grad(C_S, S, grad_outputs=torch.ones_like(C_S), create_graph=True)[0]\n",
    "    C_vv = torch.autograd.grad(C_v, v, grad_outputs=torch.ones_like(C_v), create_graph=True)[0]\n",
    "    C_Sv = torch.autograd.grad(C_S, v, grad_outputs=torch.ones_like(C_S), create_graph=True)[0]\n",
    "    pde_residual = (C_t + r * S * C_S + kappa * (theta - v) * C_v + 0.5 * v * S**2 * C_SS + 0.5 * sigma_v**2 * v * C_vv + rho * sigma_v * v * S * C_Sv - r * C)\n",
    "    return torch.mean(pde_residual**2)\n",
    "\n",
    "def boundary_loss(model, v_bc, t_bc):\n",
    "    S_zero = torch.zeros_like(t_bc).requires_grad_()\n",
    "    C_at_S_zero = model(S_zero, v_bc, t_bc)\n",
    "    loss_S_zero = torch.mean(C_at_S_zero**2)\n",
    "    S_at_max = (torch.ones_like(t_bc) * S_max).requires_grad_()\n",
    "    C_at_S_max_pred = model(S_at_max, v_bc, t_bc)\n",
    "    C_at_S_max_true = S_at_max - K * torch.exp(-r * (T - t_bc))\n",
    "    loss_S_max = torch.mean((C_at_S_max_pred - C_at_S_max_true)**2)\n",
    "    return loss_S_zero + loss_S_max\n",
    "\n",
    "def terminal_loss(model, S_tc, v_tc):\n",
    "    t_terminal = (torch.ones_like(S_tc) * T).requires_grad_()\n",
    "    C_pred = model(S_tc, v_tc, t_terminal)\n",
    "    C_true = torch.clamp(S_tc - K, min=0)\n",
    "    return torch.mean((C_pred - C_true)**2)\n",
    "\n",
    "# =============================================================================\n",
    "# 4. SWEEP TRAINING FUNCTION\n",
    "# =============================================================================\n",
    "def train_pinn_sweep():\n",
    "    wandb.init()\n",
    "    config = wandb.config\n",
    "\n",
    "    model = HestonPINN(\n",
    "        hidden_layers=config.hidden_layers,\n",
    "        neurons_per_layer=config.neurons_per_layer\n",
    "    )\n",
    "    optimizer = optim.Adam(model.parameters(), lr=config.learning_rate)\n",
    "\n",
    "    # Set T_max to the total number of epochs for one full cycle.\n",
    "    scheduler = CosineAnnealingLR(optimizer, T_max=config.num_epochs, eta_min=1e-7)\n",
    "\n",
    "\n",
    "    for epoch in range(config.num_epochs):\n",
    "        optimizer.zero_grad()\n",
    "        \n",
    "        S_pde = (torch.rand(config.N_pde, 1) * S_max).requires_grad_()\n",
    "        v_pde = (torch.rand(config.N_pde, 1) * v_max).requires_grad_()\n",
    "        t_pde = (torch.rand(config.N_pde, 1) * T).requires_grad_()\n",
    "        loss_pde_val = pde_loss(model, S_pde, v_pde, t_pde)\n",
    "\n",
    "        v_bc = (torch.rand(config.N_boundary, 1) * v_max).requires_grad_()\n",
    "        t_bc = (torch.rand(config.N_boundary, 1) * T).requires_grad_()\n",
    "        loss_bc_val = boundary_loss(model, v_bc, t_bc)\n",
    "\n",
    "        S_tc = (torch.rand(config.N_terminal, 1) * S_max).requires_grad_()\n",
    "        v_tc = (torch.rand(config.N_terminal, 1) * v_max).requires_grad_()\n",
    "        loss_tc_val = terminal_loss(model, S_tc, v_tc)\n",
    "        \n",
    "        total_loss = (config.w_pde * loss_pde_val) + (config.w_boundary * loss_bc_val) + (config.w_terminal * loss_tc_val)\n",
    "        \n",
    "        total_loss.backward()\n",
    "        optimizer.step()\n",
    "        scheduler.step()\n",
    "        \n",
    "        wandb.log({\n",
    "            \"epoch\": epoch,\n",
    "            \"total_loss\": total_loss.item(),\n",
    "            \"pde_loss\": loss_pde_val.item(),\n",
    "            \"boundary_loss\": loss_bc_val.item(),\n",
    "            \"terminal_loss\": loss_tc_val.item(),\n",
    "            \"learning_rate\": optimizer.param_groups[0]['lr']\n",
    "        })\n",
    "\n",
    "    wandb.finish()\n",
    "\n",
    "# =============================================================================\n",
    "# 5. SWEEP CONFIGURATION\n",
    "# =============================================================================\n",
    "def generate_sweep_config(flags, defaults):\n",
    "    sweep_config = {\n",
    "        'method': flags['sweep_method'],\n",
    "        'metric': {'name': 'terminal_loss', 'goal': 'minimize'},\n",
    "        'parameters': {}\n",
    "    }\n",
    "    \n",
    "    params = sweep_config['parameters']\n",
    "    \n",
    "    # --- Hyperparameters to sweep ---\n",
    "    if flags['sweep_hidden_layers']:\n",
    "        params['hidden_layers'] = {'distribution': 'q_uniform', 'min': 2, 'max': 8, 'q': 2}\n",
    "    else:\n",
    "        params['hidden_layers'] = {'value': defaults['hidden_layers']}\n",
    "\n",
    "    if flags['sweep_neurons_per_layer']:\n",
    "        # CORRECTED: Use 'values' for categorical choices in random/bayes sweeps\n",
    "        params['neurons_per_layer'] = {'values': [32, 64, 128, 256]}\n",
    "    else:\n",
    "        params['neurons_per_layer'] = {'value': defaults['neurons_per_layer']}\n",
    "    \n",
    "    if flags['sweep_learning_rate']:\n",
    "        params['learning_rate'] = {'distribution': 'log_uniform_values', 'min': 1e-5, 'max': 1e-2}\n",
    "    else:\n",
    "        params['learning_rate'] = {'value': defaults['learning_rate']}\n",
    "        \n",
    "    # --- Loss weights to sweep ---\n",
    "    if flags['sweep_w_pde']:\n",
    "        params['w_pde'] = {'distribution': 'uniform', 'min': 1.0, 'max': 10.0}\n",
    "    else:\n",
    "        params['w_pde'] = {'value': defaults['w_pde']}\n",
    "\n",
    "    if flags['sweep_w_boundary']:\n",
    "        params['w_boundary'] = {'distribution': 'uniform', 'min': 0.001, 'max': 2.0}\n",
    "    else:\n",
    "        params['w_boundary'] = {'value': defaults['w_boundary']}\n",
    "\n",
    "    if flags['sweep_w_terminal']:\n",
    "        params['w_terminal'] = {'distribution': 'uniform', 'min': 0.001, 'max': 2.0}\n",
    "    else:\n",
    "        params['w_terminal'] = {'value': defaults['w_terminal']}\n",
    "\n",
    "    # --- Fixed parameters for all runs ---\n",
    "    params['num_epochs'] = {'value': defaults['num_epochs']}\n",
    "    params['N_pde'] = {'value': defaults['N_pde']}\n",
    "    params['N_boundary'] = {'value': defaults['N_boundary']}\n",
    "    params['N_terminal'] = {'value': defaults['N_terminal']}\n",
    "    \n",
    "    return sweep_config\n",
    "\n",
    "# =============================================================================\n",
    "# 6. MAIN EXECUTION BLOCK\n",
    "# =============================================================================\n",
    "if __name__ == '__main__':\n",
    "    # --- Login to W&B ---\n",
    "    # Make sure to set your API key\n",
    "    # wandb.login(key='YOUR_API_KEY')\n",
    "\n",
    "    # --- Flags to toggle which hyperparameters to sweep ---\n",
    "    config_flags = {\n",
    "        'sweep_hidden_layers': False,\n",
    "        'sweep_neurons_per_layer': False,\n",
    "        'sweep_learning_rate': False,\n",
    "        'sweep_w_pde': True,\n",
    "        'sweep_w_boundary': True,\n",
    "        'sweep_w_terminal': True,\n",
    "        'sweep_method': 'bayes'  # 'random', 'bayes', or 'grid'\n",
    "    }\n",
    "\n",
    "    # --- Default values if a parameter is not being swept ---\n",
    "    fixed_defaults = {\n",
    "        'hidden_layers': 2,\n",
    "        'neurons_per_layer': 256,\n",
    "        'learning_rate': 0.0024,\n",
    "        'w_pde': 10.0,\n",
    "        'w_boundary': 0.9,\n",
    "        'w_terminal': 0.04,\n",
    "        'num_epochs': 5000, # Reduced for quicker sweep runs\n",
    "        'N_pde': 2500,\n",
    "        'N_boundary': 500,\n",
    "        'N_terminal': 500\n",
    "    }\n",
    "    \n",
    "    num_sweeps = 25 # How many runs you want the agent to execute\n",
    "\n",
    "    # --- Generate config and run sweep ---\n",
    "    sweep_config = generate_sweep_config(config_flags, fixed_defaults)\n",
    "    sweep_id = wandb.sweep(sweep_config, project=\"Heston-Weight-Sweeps-3\")\n",
    "    wandb.agent(sweep_id, function=train_pinn_sweep, count=num_sweeps)\n"
   ]
  },
  {
   "cell_type": "code",
   "execution_count": null,
   "id": "b3573447",
   "metadata": {},
   "outputs": [],
   "source": []
  }
 ],
 "metadata": {
  "kernelspec": {
   "display_name": "star-pinn",
   "language": "python",
   "name": "python3"
  },
  "language_info": {
   "codemirror_mode": {
    "name": "ipython",
    "version": 3
   },
   "file_extension": ".py",
   "mimetype": "text/x-python",
   "name": "python",
   "nbconvert_exporter": "python",
   "pygments_lexer": "ipython3",
   "version": "3.10.18"
  }
 },
 "nbformat": 4,
 "nbformat_minor": 5
}
