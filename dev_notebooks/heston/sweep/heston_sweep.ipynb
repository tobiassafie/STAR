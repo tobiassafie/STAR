{
 "cells": [
  {
   "cell_type": "markdown",
   "id": "2cfbd214",
   "metadata": {},
   "source": [
    "# **Heston PINN**\n",
    "---\n",
    "\n",
    "\n",
    "$$\n",
    "\\frac{\\partial V}{\\partial t} + rS \\frac{\\partial V}{\\partial S} + \\rho\\sigma v S \\frac{\\partial^2 V}{\\partial S \\partial v} + \\frac{1}{2}S^2 v \\frac{\\partial^2 V}{\\partial S^2} + \\frac{1}{2}\\sigma^2 v \\frac{\\partial^2 V}{\\partial v^2} + \\kappa(\\theta - v) \\frac{\\partial V}{\\partial v} - rV = 0\n",
    "$$\n",
    "<center>\n",
    "\n",
    "**Heston PDE**\n",
    "</center>\n",
    "\n",
    "Where:\n",
    "* $V$: Option price (a function of $S$, $v$, and $t$)\n",
    "* $t$: Time\n",
    "* $S$: Price of the underlying asset\n",
    "* $v$: Instantaneous variance of the underlying asset (volatility squared)\n",
    "* $r$: Risk-free interest rate\n",
    "* $\\rho$: Correlation between the Brownian motion of the asset price and its variance\n",
    "* $\\sigma$: Volatility of the variance (volatility of volatility)\n",
    "* $\\kappa$: Rate at which the variance $v$ reverts to its long-term mean $\\theta$\n",
    "* $\\theta$: Long-term mean variance\n",
    "\n",
    "---"
   ]
  },
  {
   "cell_type": "code",
   "execution_count": null,
   "id": "c46e0709",
   "metadata": {},
   "outputs": [
    {
     "name": "stderr",
     "output_type": "stream",
     "text": [
      "wandb: WARNING If you're specifying your api key in code, ensure this code is not shared publicly.\n",
      "wandb: WARNING Consider setting the WANDB_API_KEY environment variable, or running `wandb login` from the command line.\n",
      "wandb: Appending key for api.wandb.ai to your netrc file: C:\\Users\\tobys\\_netrc\n"
     ]
    },
    {
     "name": "stdout",
     "output_type": "stream",
     "text": [
      "Create sweep with ID: ohmo3dh6\n",
      "Sweep URL: https://wandb.ai/tobiassafie-drexel-university/Heston-Architecture-Sweeps/sweeps/ohmo3dh6\n"
     ]
    },
    {
     "name": "stderr",
     "output_type": "stream",
     "text": [
      "wandb: Agent Starting Run: 4pbrzr5u with config:\n",
      "wandb: \tN_boundary: 500\n",
      "wandb: \tN_pde: 2500\n",
      "wandb: \tN_terminal: 500\n",
      "wandb: \thidden_layers: 4\n",
      "wandb: \tlearning_rate: 0.0029219721738998196\n",
      "wandb: \tneurons_per_layer: 256\n",
      "wandb: \tnum_epochs: 5000\n",
      "wandb: \tw_boundary: 0.9\n",
      "wandb: \tw_pde: 10\n",
      "wandb: \tw_terminal: 0.04\n"
     ]
    },
    {
     "data": {
      "text/html": [
       "Tracking run with wandb version 0.21.0"
      ],
      "text/plain": [
       "<IPython.core.display.HTML object>"
      ]
     },
     "metadata": {},
     "output_type": "display_data"
    },
    {
     "data": {
      "text/html": [
       "Run data is saved locally in <code>c:\\Users\\tobys\\Desktop\\STAR\\dev_notebooks\\heston\\sweep\\wandb\\run-20250813_143931-4pbrzr5u</code>"
      ],
      "text/plain": [
       "<IPython.core.display.HTML object>"
      ]
     },
     "metadata": {},
     "output_type": "display_data"
    },
    {
     "data": {
      "text/html": [
       "Syncing run <strong><a href='https://wandb.ai/tobiassafie-drexel-university/Heston-Architecture-Sweeps/runs/4pbrzr5u' target=\"_blank\">zesty-sweep-1</a></strong> to <a href='https://wandb.ai/tobiassafie-drexel-university/Heston-Architecture-Sweeps' target=\"_blank\">Weights & Biases</a> (<a href='https://wandb.me/developer-guide' target=\"_blank\">docs</a>)<br>Sweep page: <a href='https://wandb.ai/tobiassafie-drexel-university/Heston-Architecture-Sweeps/sweeps/ohmo3dh6' target=\"_blank\">https://wandb.ai/tobiassafie-drexel-university/Heston-Architecture-Sweeps/sweeps/ohmo3dh6</a>"
      ],
      "text/plain": [
       "<IPython.core.display.HTML object>"
      ]
     },
     "metadata": {},
     "output_type": "display_data"
    },
    {
     "data": {
      "text/html": [
       " View project at <a href='https://wandb.ai/tobiassafie-drexel-university/Heston-Architecture-Sweeps' target=\"_blank\">https://wandb.ai/tobiassafie-drexel-university/Heston-Architecture-Sweeps</a>"
      ],
      "text/plain": [
       "<IPython.core.display.HTML object>"
      ]
     },
     "metadata": {},
     "output_type": "display_data"
    },
    {
     "data": {
      "text/html": [
       " View sweep at <a href='https://wandb.ai/tobiassafie-drexel-university/Heston-Architecture-Sweeps/sweeps/ohmo3dh6' target=\"_blank\">https://wandb.ai/tobiassafie-drexel-university/Heston-Architecture-Sweeps/sweeps/ohmo3dh6</a>"
      ],
      "text/plain": [
       "<IPython.core.display.HTML object>"
      ]
     },
     "metadata": {},
     "output_type": "display_data"
    },
    {
     "data": {
      "text/html": [
       " View run at <a href='https://wandb.ai/tobiassafie-drexel-university/Heston-Architecture-Sweeps/runs/4pbrzr5u' target=\"_blank\">https://wandb.ai/tobiassafie-drexel-university/Heston-Architecture-Sweeps/runs/4pbrzr5u</a>"
      ],
      "text/plain": [
       "<IPython.core.display.HTML object>"
      ]
     },
     "metadata": {},
     "output_type": "display_data"
    },
    {
     "data": {
      "text/html": [],
      "text/plain": [
       "<IPython.core.display.HTML object>"
      ]
     },
     "metadata": {},
     "output_type": "display_data"
    },
    {
     "data": {
      "text/html": [
       "<br>    <style><br>        .wandb-row {<br>            display: flex;<br>            flex-direction: row;<br>            flex-wrap: wrap;<br>            justify-content: flex-start;<br>            width: 100%;<br>        }<br>        .wandb-col {<br>            display: flex;<br>            flex-direction: column;<br>            flex-basis: 100%;<br>            flex: 1;<br>            padding: 10px;<br>        }<br>    </style><br><div class=\"wandb-row\"><div class=\"wandb-col\"><h3>Run history:</h3><br/><table class=\"wandb\"><tr><td>boundary_loss</td><td>█▁▁▁▁▁▁▁▁▁▁▁▁▁▁▁▁▁▁▁▁▁▁▁▁▁▁▁▁▁▁▁▁▁▁▁▁▁▁▁</td></tr><tr><td>epoch</td><td>▁▁▁▁▂▂▂▂▂▃▃▃▃▃▄▄▄▄▄▅▅▅▆▆▆▆▆▆▆▇▇▇▇▇▇▇████</td></tr><tr><td>learning_rate</td><td>██████▇▇▇▇▇▇▇▇▇▇▇▇▆▆▅▅▄▄▄▄▃▃▃▃▂▂▂▂▂▁▁▁▁▁</td></tr><tr><td>pde_loss</td><td>█▁▂▁▁▁▁▁▁▁▃▁▁▁▁▁▁▁▁▁▂▁▁▁▁▁▁▁▁▁▁▁▁▁▁▁▁▁▁▁</td></tr><tr><td>terminal_loss</td><td>▅▆▇▅▇▇▇▄▆▆▆▅█▆▆▇▇▅▅▅▅█▇▄▅▂▂▃▃▃▂▁▁▁▁▁▁▁▁▁</td></tr><tr><td>total_loss</td><td>█▁▁▁▁▁▁▁▁▁▁▁▁▁▁▁▁▁▁▁▁▁▁▁▁▁▁▁▁▁▁▁▁▁▁▁▁▁▁▁</td></tr></table><br/></div><div class=\"wandb-col\"><h3>Run summary:</h3><br/><table class=\"wandb\"><tr><td>boundary_loss</td><td>18.74217</td></tr><tr><td>epoch</td><td>4999</td></tr><tr><td>learning_rate</td><td>0.0</td></tr><tr><td>pde_loss</td><td>1.65401</td></tr><tr><td>terminal_loss</td><td>4605.5166</td></tr><tr><td>total_loss</td><td>217.62869</td></tr></table><br/></div></div>"
      ],
      "text/plain": [
       "<IPython.core.display.HTML object>"
      ]
     },
     "metadata": {},
     "output_type": "display_data"
    },
    {
     "data": {
      "text/html": [
       " View run <strong style=\"color:#cdcd00\">zesty-sweep-1</strong> at: <a href='https://wandb.ai/tobiassafie-drexel-university/Heston-Architecture-Sweeps/runs/4pbrzr5u' target=\"_blank\">https://wandb.ai/tobiassafie-drexel-university/Heston-Architecture-Sweeps/runs/4pbrzr5u</a><br> View project at: <a href='https://wandb.ai/tobiassafie-drexel-university/Heston-Architecture-Sweeps' target=\"_blank\">https://wandb.ai/tobiassafie-drexel-university/Heston-Architecture-Sweeps</a><br>Synced 5 W&B file(s), 0 media file(s), 0 artifact file(s) and 0 other file(s)"
      ],
      "text/plain": [
       "<IPython.core.display.HTML object>"
      ]
     },
     "metadata": {},
     "output_type": "display_data"
    },
    {
     "data": {
      "text/html": [
       "Find logs at: <code>.\\wandb\\run-20250813_143931-4pbrzr5u\\logs</code>"
      ],
      "text/plain": [
       "<IPython.core.display.HTML object>"
      ]
     },
     "metadata": {},
     "output_type": "display_data"
    },
    {
     "name": "stderr",
     "output_type": "stream",
     "text": [
      "wandb: Agent Starting Run: kbrzvtd3 with config:\n",
      "wandb: \tN_boundary: 500\n",
      "wandb: \tN_pde: 2500\n",
      "wandb: \tN_terminal: 500\n",
      "wandb: \thidden_layers: 6\n",
      "wandb: \tlearning_rate: 0.000527596748742403\n",
      "wandb: \tneurons_per_layer: 32\n",
      "wandb: \tnum_epochs: 5000\n",
      "wandb: \tw_boundary: 0.9\n",
      "wandb: \tw_pde: 10\n",
      "wandb: \tw_terminal: 0.04\n"
     ]
    },
    {
     "data": {
      "text/html": [
       "Tracking run with wandb version 0.21.0"
      ],
      "text/plain": [
       "<IPython.core.display.HTML object>"
      ]
     },
     "metadata": {},
     "output_type": "display_data"
    },
    {
     "data": {
      "text/html": [
       "Run data is saved locally in <code>c:\\Users\\tobys\\Desktop\\STAR\\dev_notebooks\\heston\\sweep\\wandb\\run-20250813_144845-kbrzvtd3</code>"
      ],
      "text/plain": [
       "<IPython.core.display.HTML object>"
      ]
     },
     "metadata": {},
     "output_type": "display_data"
    },
    {
     "data": {
      "text/html": [
       "Syncing run <strong><a href='https://wandb.ai/tobiassafie-drexel-university/Heston-Architecture-Sweeps/runs/kbrzvtd3' target=\"_blank\">fiery-sweep-2</a></strong> to <a href='https://wandb.ai/tobiassafie-drexel-university/Heston-Architecture-Sweeps' target=\"_blank\">Weights & Biases</a> (<a href='https://wandb.me/developer-guide' target=\"_blank\">docs</a>)<br>Sweep page: <a href='https://wandb.ai/tobiassafie-drexel-university/Heston-Architecture-Sweeps/sweeps/ohmo3dh6' target=\"_blank\">https://wandb.ai/tobiassafie-drexel-university/Heston-Architecture-Sweeps/sweeps/ohmo3dh6</a>"
      ],
      "text/plain": [
       "<IPython.core.display.HTML object>"
      ]
     },
     "metadata": {},
     "output_type": "display_data"
    },
    {
     "data": {
      "text/html": [
       " View project at <a href='https://wandb.ai/tobiassafie-drexel-university/Heston-Architecture-Sweeps' target=\"_blank\">https://wandb.ai/tobiassafie-drexel-university/Heston-Architecture-Sweeps</a>"
      ],
      "text/plain": [
       "<IPython.core.display.HTML object>"
      ]
     },
     "metadata": {},
     "output_type": "display_data"
    },
    {
     "data": {
      "text/html": [
       " View sweep at <a href='https://wandb.ai/tobiassafie-drexel-university/Heston-Architecture-Sweeps/sweeps/ohmo3dh6' target=\"_blank\">https://wandb.ai/tobiassafie-drexel-university/Heston-Architecture-Sweeps/sweeps/ohmo3dh6</a>"
      ],
      "text/plain": [
       "<IPython.core.display.HTML object>"
      ]
     },
     "metadata": {},
     "output_type": "display_data"
    },
    {
     "data": {
      "text/html": [
       " View run at <a href='https://wandb.ai/tobiassafie-drexel-university/Heston-Architecture-Sweeps/runs/kbrzvtd3' target=\"_blank\">https://wandb.ai/tobiassafie-drexel-university/Heston-Architecture-Sweeps/runs/kbrzvtd3</a>"
      ],
      "text/plain": [
       "<IPython.core.display.HTML object>"
      ]
     },
     "metadata": {},
     "output_type": "display_data"
    },
    {
     "data": {
      "text/html": [],
      "text/plain": [
       "<IPython.core.display.HTML object>"
      ]
     },
     "metadata": {},
     "output_type": "display_data"
    },
    {
     "data": {
      "text/html": [
       "<br>    <style><br>        .wandb-row {<br>            display: flex;<br>            flex-direction: row;<br>            flex-wrap: wrap;<br>            justify-content: flex-start;<br>            width: 100%;<br>        }<br>        .wandb-col {<br>            display: flex;<br>            flex-direction: column;<br>            flex-basis: 100%;<br>            flex: 1;<br>            padding: 10px;<br>        }<br>    </style><br><div class=\"wandb-row\"><div class=\"wandb-col\"><h3>Run history:</h3><br/><table class=\"wandb\"><tr><td>boundary_loss</td><td>███▇▇▆▆▆▆▅▅▅▅▅▅▄▄▄▄▄▃▃▃▃▂▂▂▂▂▂▁▁▁▁▁▁▁▁▁▁</td></tr><tr><td>epoch</td><td>▁▁▁▁▁▁▁▂▂▂▂▃▃▃▃▄▄▄▄▄▅▅▅▅▅▅▅▆▆▆▆▆▆▆▆▇▇▇██</td></tr><tr><td>learning_rate</td><td>████████▇▇▇▇▇▇▇▆▆▆▆▆▆▆▅▅▅▅▅▅▅▄▄▄▄▄▄▃▂▂▂▁</td></tr><tr><td>pde_loss</td><td>▁▁▁▁▁▁▁▁▂▂▂▂▂▂▂▃▃▃▃▄▄▄▅▅▅▅▆▆▇▇██████████</td></tr><tr><td>terminal_loss</td><td>█▆▅▅▅▆▃▄▃▃▃▃▃▃▃▂▂▃▁▂▂▂▂▂▁▁▂▂▂▂▁▂▁▁▂▂▂▂▂▂</td></tr><tr><td>total_loss</td><td>█▇▇▇▆▅▅▅▅▄▄▄▄▄▄▃▃▂▂▂▂▂▂▁▁▁▁▁▁▁▁▁▁▁▁▁▁▁▁▁</td></tr></table><br/></div><div class=\"wandb-col\"><h3>Run summary:</h3><br/><table class=\"wandb\"><tr><td>boundary_loss</td><td>11410.6377</td></tr><tr><td>epoch</td><td>4999</td></tr><tr><td>learning_rate</td><td>0.0</td></tr><tr><td>pde_loss</td><td>5.22316</td></tr><tr><td>terminal_loss</td><td>2514.33008</td></tr><tr><td>total_loss</td><td>10422.37793</td></tr></table><br/></div></div>"
      ],
      "text/plain": [
       "<IPython.core.display.HTML object>"
      ]
     },
     "metadata": {},
     "output_type": "display_data"
    },
    {
     "data": {
      "text/html": [
       " View run <strong style=\"color:#cdcd00\">fiery-sweep-2</strong> at: <a href='https://wandb.ai/tobiassafie-drexel-university/Heston-Architecture-Sweeps/runs/kbrzvtd3' target=\"_blank\">https://wandb.ai/tobiassafie-drexel-university/Heston-Architecture-Sweeps/runs/kbrzvtd3</a><br> View project at: <a href='https://wandb.ai/tobiassafie-drexel-university/Heston-Architecture-Sweeps' target=\"_blank\">https://wandb.ai/tobiassafie-drexel-university/Heston-Architecture-Sweeps</a><br>Synced 5 W&B file(s), 0 media file(s), 0 artifact file(s) and 0 other file(s)"
      ],
      "text/plain": [
       "<IPython.core.display.HTML object>"
      ]
     },
     "metadata": {},
     "output_type": "display_data"
    },
    {
     "data": {
      "text/html": [
       "Find logs at: <code>.\\wandb\\run-20250813_144845-kbrzvtd3\\logs</code>"
      ],
      "text/plain": [
       "<IPython.core.display.HTML object>"
      ]
     },
     "metadata": {},
     "output_type": "display_data"
    },
    {
     "name": "stderr",
     "output_type": "stream",
     "text": [
      "wandb: Sweep Agent: Waiting for job.\n",
      "wandb: Job received.\n",
      "wandb: Agent Starting Run: 8t9n5oz8 with config:\n",
      "wandb: \tN_boundary: 500\n",
      "wandb: \tN_pde: 2500\n",
      "wandb: \tN_terminal: 500\n",
      "wandb: \thidden_layers: 2\n",
      "wandb: \tlearning_rate: 0.0004380058038930173\n",
      "wandb: \tneurons_per_layer: 32\n",
      "wandb: \tnum_epochs: 5000\n",
      "wandb: \tw_boundary: 0.9\n",
      "wandb: \tw_pde: 10\n",
      "wandb: \tw_terminal: 0.04\n"
     ]
    },
    {
     "data": {
      "text/html": [
       "Tracking run with wandb version 0.21.0"
      ],
      "text/plain": [
       "<IPython.core.display.HTML object>"
      ]
     },
     "metadata": {},
     "output_type": "display_data"
    },
    {
     "data": {
      "text/html": [
       "Run data is saved locally in <code>c:\\Users\\tobys\\Desktop\\STAR\\dev_notebooks\\heston\\sweep\\wandb\\run-20250813_145128-8t9n5oz8</code>"
      ],
      "text/plain": [
       "<IPython.core.display.HTML object>"
      ]
     },
     "metadata": {},
     "output_type": "display_data"
    },
    {
     "data": {
      "text/html": [
       "Syncing run <strong><a href='https://wandb.ai/tobiassafie-drexel-university/Heston-Architecture-Sweeps/runs/8t9n5oz8' target=\"_blank\">dashing-sweep-3</a></strong> to <a href='https://wandb.ai/tobiassafie-drexel-university/Heston-Architecture-Sweeps' target=\"_blank\">Weights & Biases</a> (<a href='https://wandb.me/developer-guide' target=\"_blank\">docs</a>)<br>Sweep page: <a href='https://wandb.ai/tobiassafie-drexel-university/Heston-Architecture-Sweeps/sweeps/ohmo3dh6' target=\"_blank\">https://wandb.ai/tobiassafie-drexel-university/Heston-Architecture-Sweeps/sweeps/ohmo3dh6</a>"
      ],
      "text/plain": [
       "<IPython.core.display.HTML object>"
      ]
     },
     "metadata": {},
     "output_type": "display_data"
    },
    {
     "data": {
      "text/html": [
       " View project at <a href='https://wandb.ai/tobiassafie-drexel-university/Heston-Architecture-Sweeps' target=\"_blank\">https://wandb.ai/tobiassafie-drexel-university/Heston-Architecture-Sweeps</a>"
      ],
      "text/plain": [
       "<IPython.core.display.HTML object>"
      ]
     },
     "metadata": {},
     "output_type": "display_data"
    },
    {
     "data": {
      "text/html": [
       " View sweep at <a href='https://wandb.ai/tobiassafie-drexel-university/Heston-Architecture-Sweeps/sweeps/ohmo3dh6' target=\"_blank\">https://wandb.ai/tobiassafie-drexel-university/Heston-Architecture-Sweeps/sweeps/ohmo3dh6</a>"
      ],
      "text/plain": [
       "<IPython.core.display.HTML object>"
      ]
     },
     "metadata": {},
     "output_type": "display_data"
    },
    {
     "data": {
      "text/html": [
       " View run at <a href='https://wandb.ai/tobiassafie-drexel-university/Heston-Architecture-Sweeps/runs/8t9n5oz8' target=\"_blank\">https://wandb.ai/tobiassafie-drexel-university/Heston-Architecture-Sweeps/runs/8t9n5oz8</a>"
      ],
      "text/plain": [
       "<IPython.core.display.HTML object>"
      ]
     },
     "metadata": {},
     "output_type": "display_data"
    },
    {
     "data": {
      "text/html": [],
      "text/plain": [
       "<IPython.core.display.HTML object>"
      ]
     },
     "metadata": {},
     "output_type": "display_data"
    },
    {
     "data": {
      "text/html": [
       "<br>    <style><br>        .wandb-row {<br>            display: flex;<br>            flex-direction: row;<br>            flex-wrap: wrap;<br>            justify-content: flex-start;<br>            width: 100%;<br>        }<br>        .wandb-col {<br>            display: flex;<br>            flex-direction: column;<br>            flex-basis: 100%;<br>            flex: 1;<br>            padding: 10px;<br>        }<br>    </style><br><div class=\"wandb-row\"><div class=\"wandb-col\"><h3>Run history:</h3><br/><table class=\"wandb\"><tr><td>boundary_loss</td><td>██▇▇▇▆▆▅▅▅▄▄▄▄▄▃▃▃▃▃▃▂▂▂▂▂▂▁▁▁▁▁▁▁▁▁▁▁▁▁</td></tr><tr><td>epoch</td><td>▁▁▁▁▁▂▂▂▂▃▃▃▃▄▄▄▄▄▄▄▅▅▅▅▅▆▆▆▆▆▆▆▆▇▇▇████</td></tr><tr><td>learning_rate</td><td>██████▇▇▇▇▇▇▇▇▇▆▆▆▆▆▅▅▅▅▅▄▄▃▃▃▂▂▂▂▂▂▁▁▁▁</td></tr><tr><td>pde_loss</td><td>▁▁▁▁▂▂▂▂▃▃▄▄▄▅▅▅▅▆▆▆▇▇▇▇▇▇▇▇▇▇█▇████████</td></tr><tr><td>terminal_loss</td><td>▇█▅▅▅▄▄▄▃▄▂▃▃▄▂▂▃▃▃▂▂▂▂▂▂▂▂▂▁▁▂▂▁▂▂▂▁▂▁▂</td></tr><tr><td>total_loss</td><td>██▇▇▆▅▅▄▄▄▃▃▃▃▃▃▂▂▂▂▂▂▂▁▁▁▁▁▁▁▁▁▁▁▁▁▁▁▁▁</td></tr></table><br/></div><div class=\"wandb-col\"><h3>Run summary:</h3><br/><table class=\"wandb\"><tr><td>boundary_loss</td><td>12969.04199</td></tr><tr><td>epoch</td><td>4999</td></tr><tr><td>learning_rate</td><td>0.0</td></tr><tr><td>pde_loss</td><td>1.98748</td></tr><tr><td>terminal_loss</td><td>2357.44653</td></tr><tr><td>total_loss</td><td>11786.31055</td></tr></table><br/></div></div>"
      ],
      "text/plain": [
       "<IPython.core.display.HTML object>"
      ]
     },
     "metadata": {},
     "output_type": "display_data"
    },
    {
     "data": {
      "text/html": [
       " View run <strong style=\"color:#cdcd00\">dashing-sweep-3</strong> at: <a href='https://wandb.ai/tobiassafie-drexel-university/Heston-Architecture-Sweeps/runs/8t9n5oz8' target=\"_blank\">https://wandb.ai/tobiassafie-drexel-university/Heston-Architecture-Sweeps/runs/8t9n5oz8</a><br> View project at: <a href='https://wandb.ai/tobiassafie-drexel-university/Heston-Architecture-Sweeps' target=\"_blank\">https://wandb.ai/tobiassafie-drexel-university/Heston-Architecture-Sweeps</a><br>Synced 5 W&B file(s), 0 media file(s), 0 artifact file(s) and 0 other file(s)"
      ],
      "text/plain": [
       "<IPython.core.display.HTML object>"
      ]
     },
     "metadata": {},
     "output_type": "display_data"
    },
    {
     "data": {
      "text/html": [
       "Find logs at: <code>.\\wandb\\run-20250813_145128-8t9n5oz8\\logs</code>"
      ],
      "text/plain": [
       "<IPython.core.display.HTML object>"
      ]
     },
     "metadata": {},
     "output_type": "display_data"
    },
    {
     "name": "stderr",
     "output_type": "stream",
     "text": [
      "wandb: Agent Starting Run: wvkapzvt with config:\n",
      "wandb: \tN_boundary: 500\n",
      "wandb: \tN_pde: 2500\n",
      "wandb: \tN_terminal: 500\n",
      "wandb: \thidden_layers: 4\n",
      "wandb: \tlearning_rate: 0.004973027239664931\n",
      "wandb: \tneurons_per_layer: 256\n",
      "wandb: \tnum_epochs: 5000\n",
      "wandb: \tw_boundary: 0.9\n",
      "wandb: \tw_pde: 10\n",
      "wandb: \tw_terminal: 0.04\n"
     ]
    },
    {
     "data": {
      "text/html": [
       "Tracking run with wandb version 0.21.0"
      ],
      "text/plain": [
       "<IPython.core.display.HTML object>"
      ]
     },
     "metadata": {},
     "output_type": "display_data"
    },
    {
     "data": {
      "text/html": [
       "Run data is saved locally in <code>c:\\Users\\tobys\\Desktop\\STAR\\dev_notebooks\\heston\\sweep\\wandb\\run-20250813_145236-wvkapzvt</code>"
      ],
      "text/plain": [
       "<IPython.core.display.HTML object>"
      ]
     },
     "metadata": {},
     "output_type": "display_data"
    },
    {
     "data": {
      "text/html": [
       "Syncing run <strong><a href='https://wandb.ai/tobiassafie-drexel-university/Heston-Architecture-Sweeps/runs/wvkapzvt' target=\"_blank\">desert-sweep-4</a></strong> to <a href='https://wandb.ai/tobiassafie-drexel-university/Heston-Architecture-Sweeps' target=\"_blank\">Weights & Biases</a> (<a href='https://wandb.me/developer-guide' target=\"_blank\">docs</a>)<br>Sweep page: <a href='https://wandb.ai/tobiassafie-drexel-university/Heston-Architecture-Sweeps/sweeps/ohmo3dh6' target=\"_blank\">https://wandb.ai/tobiassafie-drexel-university/Heston-Architecture-Sweeps/sweeps/ohmo3dh6</a>"
      ],
      "text/plain": [
       "<IPython.core.display.HTML object>"
      ]
     },
     "metadata": {},
     "output_type": "display_data"
    },
    {
     "data": {
      "text/html": [
       " View project at <a href='https://wandb.ai/tobiassafie-drexel-university/Heston-Architecture-Sweeps' target=\"_blank\">https://wandb.ai/tobiassafie-drexel-university/Heston-Architecture-Sweeps</a>"
      ],
      "text/plain": [
       "<IPython.core.display.HTML object>"
      ]
     },
     "metadata": {},
     "output_type": "display_data"
    },
    {
     "data": {
      "text/html": [
       " View sweep at <a href='https://wandb.ai/tobiassafie-drexel-university/Heston-Architecture-Sweeps/sweeps/ohmo3dh6' target=\"_blank\">https://wandb.ai/tobiassafie-drexel-university/Heston-Architecture-Sweeps/sweeps/ohmo3dh6</a>"
      ],
      "text/plain": [
       "<IPython.core.display.HTML object>"
      ]
     },
     "metadata": {},
     "output_type": "display_data"
    },
    {
     "data": {
      "text/html": [
       " View run at <a href='https://wandb.ai/tobiassafie-drexel-university/Heston-Architecture-Sweeps/runs/wvkapzvt' target=\"_blank\">https://wandb.ai/tobiassafie-drexel-university/Heston-Architecture-Sweeps/runs/wvkapzvt</a>"
      ],
      "text/plain": [
       "<IPython.core.display.HTML object>"
      ]
     },
     "metadata": {},
     "output_type": "display_data"
    },
    {
     "data": {
      "text/html": [],
      "text/plain": [
       "<IPython.core.display.HTML object>"
      ]
     },
     "metadata": {},
     "output_type": "display_data"
    },
    {
     "data": {
      "text/html": [
       "<br>    <style><br>        .wandb-row {<br>            display: flex;<br>            flex-direction: row;<br>            flex-wrap: wrap;<br>            justify-content: flex-start;<br>            width: 100%;<br>        }<br>        .wandb-col {<br>            display: flex;<br>            flex-direction: column;<br>            flex-basis: 100%;<br>            flex: 1;<br>            padding: 10px;<br>        }<br>    </style><br><div class=\"wandb-row\"><div class=\"wandb-col\"><h3>Run history:</h3><br/><table class=\"wandb\"><tr><td>boundary_loss</td><td>▂▁▁▁▁▁▁▁▁▁▁▁▁▁▁█▂▁▁▁▁▁▁▁▁▁▁▁▁▁▁▁▁▁▁▁▁▁▁▁</td></tr><tr><td>epoch</td><td>▁▁▁▁▂▂▃▃▃▃▄▄▄▄▄▄▄▅▅▅▅▅▅▅▅▆▆▆▆▇▇▇▇▇▇█████</td></tr><tr><td>learning_rate</td><td>███████▇▇▇▇▇▆▆▆▆▆▆▆▆▅▅▅▄▄▄▄▄▄▃▃▃▃▂▂▁▁▁▁▁</td></tr><tr><td>pde_loss</td><td>▃▄█▃▂▇▁▂▇▂▂▂▂▄▂▂▁▂▄▁▂▂▁▂▂▁▁▃▂▁▁▁▁▁▁▁▁▁▁▁</td></tr><tr><td>terminal_loss</td><td>▁▁▂▅▇▇▇█▇▇▇▇▇▇▇▇▅█▇▆▇▇▄▅▄▆▅▄▄▃▂▁▁▁▁▁▁▁▁▁</td></tr><tr><td>total_loss</td><td>█▆▃▃▁▁▁▁▁▁▁▁▁▁▁▁▂▁▁▁▁▁▁▁▁▁▁▁▁▁▁▁▁▁▁▁▁▁▁▁</td></tr></table><br/></div><div class=\"wandb-col\"><h3>Run summary:</h3><br/><table class=\"wandb\"><tr><td>boundary_loss</td><td>32.09533</td></tr><tr><td>epoch</td><td>4999</td></tr><tr><td>learning_rate</td><td>0.0</td></tr><tr><td>pde_loss</td><td>2.04851</td></tr><tr><td>terminal_loss</td><td>2120.68921</td></tr><tr><td>total_loss</td><td>134.19844</td></tr></table><br/></div></div>"
      ],
      "text/plain": [
       "<IPython.core.display.HTML object>"
      ]
     },
     "metadata": {},
     "output_type": "display_data"
    },
    {
     "data": {
      "text/html": [
       " View run <strong style=\"color:#cdcd00\">desert-sweep-4</strong> at: <a href='https://wandb.ai/tobiassafie-drexel-university/Heston-Architecture-Sweeps/runs/wvkapzvt' target=\"_blank\">https://wandb.ai/tobiassafie-drexel-university/Heston-Architecture-Sweeps/runs/wvkapzvt</a><br> View project at: <a href='https://wandb.ai/tobiassafie-drexel-university/Heston-Architecture-Sweeps' target=\"_blank\">https://wandb.ai/tobiassafie-drexel-university/Heston-Architecture-Sweeps</a><br>Synced 5 W&B file(s), 0 media file(s), 0 artifact file(s) and 0 other file(s)"
      ],
      "text/plain": [
       "<IPython.core.display.HTML object>"
      ]
     },
     "metadata": {},
     "output_type": "display_data"
    },
    {
     "data": {
      "text/html": [
       "Find logs at: <code>.\\wandb\\run-20250813_145236-wvkapzvt\\logs</code>"
      ],
      "text/plain": [
       "<IPython.core.display.HTML object>"
      ]
     },
     "metadata": {},
     "output_type": "display_data"
    },
    {
     "name": "stderr",
     "output_type": "stream",
     "text": [
      "wandb: Agent Starting Run: zyvfqxl3 with config:\n",
      "wandb: \tN_boundary: 500\n",
      "wandb: \tN_pde: 2500\n",
      "wandb: \tN_terminal: 500\n",
      "wandb: \thidden_layers: 8\n",
      "wandb: \tlearning_rate: 0.008661852289762007\n",
      "wandb: \tneurons_per_layer: 256\n",
      "wandb: \tnum_epochs: 5000\n",
      "wandb: \tw_boundary: 0.9\n",
      "wandb: \tw_pde: 10\n",
      "wandb: \tw_terminal: 0.04\n"
     ]
    },
    {
     "data": {
      "text/html": [
       "Tracking run with wandb version 0.21.0"
      ],
      "text/plain": [
       "<IPython.core.display.HTML object>"
      ]
     },
     "metadata": {},
     "output_type": "display_data"
    },
    {
     "data": {
      "text/html": [
       "Run data is saved locally in <code>c:\\Users\\tobys\\Desktop\\STAR\\dev_notebooks\\heston\\sweep\\wandb\\run-20250813_150241-zyvfqxl3</code>"
      ],
      "text/plain": [
       "<IPython.core.display.HTML object>"
      ]
     },
     "metadata": {},
     "output_type": "display_data"
    },
    {
     "data": {
      "text/html": [
       "Syncing run <strong><a href='https://wandb.ai/tobiassafie-drexel-university/Heston-Architecture-Sweeps/runs/zyvfqxl3' target=\"_blank\">magic-sweep-5</a></strong> to <a href='https://wandb.ai/tobiassafie-drexel-university/Heston-Architecture-Sweeps' target=\"_blank\">Weights & Biases</a> (<a href='https://wandb.me/developer-guide' target=\"_blank\">docs</a>)<br>Sweep page: <a href='https://wandb.ai/tobiassafie-drexel-university/Heston-Architecture-Sweeps/sweeps/ohmo3dh6' target=\"_blank\">https://wandb.ai/tobiassafie-drexel-university/Heston-Architecture-Sweeps/sweeps/ohmo3dh6</a>"
      ],
      "text/plain": [
       "<IPython.core.display.HTML object>"
      ]
     },
     "metadata": {},
     "output_type": "display_data"
    },
    {
     "data": {
      "text/html": [
       " View project at <a href='https://wandb.ai/tobiassafie-drexel-university/Heston-Architecture-Sweeps' target=\"_blank\">https://wandb.ai/tobiassafie-drexel-university/Heston-Architecture-Sweeps</a>"
      ],
      "text/plain": [
       "<IPython.core.display.HTML object>"
      ]
     },
     "metadata": {},
     "output_type": "display_data"
    },
    {
     "data": {
      "text/html": [
       " View sweep at <a href='https://wandb.ai/tobiassafie-drexel-university/Heston-Architecture-Sweeps/sweeps/ohmo3dh6' target=\"_blank\">https://wandb.ai/tobiassafie-drexel-university/Heston-Architecture-Sweeps/sweeps/ohmo3dh6</a>"
      ],
      "text/plain": [
       "<IPython.core.display.HTML object>"
      ]
     },
     "metadata": {},
     "output_type": "display_data"
    },
    {
     "data": {
      "text/html": [
       " View run at <a href='https://wandb.ai/tobiassafie-drexel-university/Heston-Architecture-Sweeps/runs/zyvfqxl3' target=\"_blank\">https://wandb.ai/tobiassafie-drexel-university/Heston-Architecture-Sweeps/runs/zyvfqxl3</a>"
      ],
      "text/plain": [
       "<IPython.core.display.HTML object>"
      ]
     },
     "metadata": {},
     "output_type": "display_data"
    },
    {
     "name": "stderr",
     "output_type": "stream",
     "text": [
      "wandb: Network error (ConnectionError), entering retry loop.\n"
     ]
    },
    {
     "data": {
      "text/html": [],
      "text/plain": [
       "<IPython.core.display.HTML object>"
      ]
     },
     "metadata": {},
     "output_type": "display_data"
    },
    {
     "data": {
      "text/html": [
       "<br>    <style><br>        .wandb-row {<br>            display: flex;<br>            flex-direction: row;<br>            flex-wrap: wrap;<br>            justify-content: flex-start;<br>            width: 100%;<br>        }<br>        .wandb-col {<br>            display: flex;<br>            flex-direction: column;<br>            flex-basis: 100%;<br>            flex: 1;<br>            padding: 10px;<br>        }<br>    </style><br><div class=\"wandb-row\"><div class=\"wandb-col\"><h3>Run history:</h3><br/><table class=\"wandb\"><tr><td>boundary_loss</td><td>█▇▂▄▇▃▃▅▆▅▅▃▄▃▆▇▂▄▄▂▅▅▇▄▅▅▅▇▄▅█▆▃▅▇█▇▅▁▄</td></tr><tr><td>epoch</td><td>▁▁▁▁▂▂▂▂▂▂▃▃▃▃▄▄▄▄▄▅▅▅▅▅▅▅▅▅▅▆▆▆▆▇▇▇▇███</td></tr><tr><td>learning_rate</td><td>██████████▇▆▆▆▅▅▄▄▄▄▄▃▃▂▂▂▂▂▂▂▂▁▁▁▁▁▁▁▁▁</td></tr><tr><td>pde_loss</td><td>█▁▁▁▁▁▁▁▁▁▁▁▁▁▁▁▁▁▁▁▁▁▁▁▁▁▁▁▁▁▁▁▁▁▁▁▁▁▁▁</td></tr><tr><td>terminal_loss</td><td>▅▃▅▄█▁▄▂▃▄▄▃▄▆▂▄▅▆▆▄▅▅▄▄▆▄▃▃▄▅▄▃▅▁▆▃▄▄▆▆</td></tr><tr><td>total_loss</td><td>▆▅▆▅▆▅▂▃▅▅▅▁▄▅▄▄▅▃█▁▅▃▄▄▆▅▆▃▅▆█▄▅▇▅▆▇▆▆▃</td></tr></table><br/></div><div class=\"wandb-col\"><h3>Run summary:</h3><br/><table class=\"wandb\"><tr><td>boundary_loss</td><td>11629.26953</td></tr><tr><td>epoch</td><td>4999</td></tr><tr><td>learning_rate</td><td>0.0</td></tr><tr><td>pde_loss</td><td>13.89084</td></tr><tr><td>terminal_loss</td><td>3343.87842</td></tr><tr><td>total_loss</td><td>10739.00586</td></tr></table><br/></div></div>"
      ],
      "text/plain": [
       "<IPython.core.display.HTML object>"
      ]
     },
     "metadata": {},
     "output_type": "display_data"
    },
    {
     "data": {
      "text/html": [
       " View run <strong style=\"color:#cdcd00\">magic-sweep-5</strong> at: <a href='https://wandb.ai/tobiassafie-drexel-university/Heston-Architecture-Sweeps/runs/zyvfqxl3' target=\"_blank\">https://wandb.ai/tobiassafie-drexel-university/Heston-Architecture-Sweeps/runs/zyvfqxl3</a><br> View project at: <a href='https://wandb.ai/tobiassafie-drexel-university/Heston-Architecture-Sweeps' target=\"_blank\">https://wandb.ai/tobiassafie-drexel-university/Heston-Architecture-Sweeps</a><br>Synced 5 W&B file(s), 0 media file(s), 0 artifact file(s) and 0 other file(s)"
      ],
      "text/plain": [
       "<IPython.core.display.HTML object>"
      ]
     },
     "metadata": {},
     "output_type": "display_data"
    },
    {
     "data": {
      "text/html": [
       "Find logs at: <code>.\\wandb\\run-20250813_150241-zyvfqxl3\\logs</code>"
      ],
      "text/plain": [
       "<IPython.core.display.HTML object>"
      ]
     },
     "metadata": {},
     "output_type": "display_data"
    },
    {
     "name": "stderr",
     "output_type": "stream",
     "text": [
      "wandb: Sweep Agent: Waiting for job.\n",
      "wandb: Job received.\n",
      "wandb: Agent Starting Run: 1js57mh7 with config:\n",
      "wandb: \tN_boundary: 500\n",
      "wandb: \tN_pde: 2500\n",
      "wandb: \tN_terminal: 500\n",
      "wandb: \thidden_layers: 2\n",
      "wandb: \tlearning_rate: 0.007074944526782229\n",
      "wandb: \tneurons_per_layer: 256\n",
      "wandb: \tnum_epochs: 5000\n",
      "wandb: \tw_boundary: 0.9\n",
      "wandb: \tw_pde: 10\n",
      "wandb: \tw_terminal: 0.04\n"
     ]
    },
    {
     "data": {
      "text/html": [
       "Tracking run with wandb version 0.21.0"
      ],
      "text/plain": [
       "<IPython.core.display.HTML object>"
      ]
     },
     "metadata": {},
     "output_type": "display_data"
    },
    {
     "data": {
      "text/html": [
       "Run data is saved locally in <code>c:\\Users\\tobys\\Desktop\\STAR\\dev_notebooks\\heston\\sweep\\wandb\\run-20250813_152323-1js57mh7</code>"
      ],
      "text/plain": [
       "<IPython.core.display.HTML object>"
      ]
     },
     "metadata": {},
     "output_type": "display_data"
    },
    {
     "data": {
      "text/html": [
       "Syncing run <strong><a href='https://wandb.ai/tobiassafie-drexel-university/Heston-Architecture-Sweeps/runs/1js57mh7' target=\"_blank\">smooth-sweep-6</a></strong> to <a href='https://wandb.ai/tobiassafie-drexel-university/Heston-Architecture-Sweeps' target=\"_blank\">Weights & Biases</a> (<a href='https://wandb.me/developer-guide' target=\"_blank\">docs</a>)<br>Sweep page: <a href='https://wandb.ai/tobiassafie-drexel-university/Heston-Architecture-Sweeps/sweeps/ohmo3dh6' target=\"_blank\">https://wandb.ai/tobiassafie-drexel-university/Heston-Architecture-Sweeps/sweeps/ohmo3dh6</a>"
      ],
      "text/plain": [
       "<IPython.core.display.HTML object>"
      ]
     },
     "metadata": {},
     "output_type": "display_data"
    },
    {
     "data": {
      "text/html": [
       " View project at <a href='https://wandb.ai/tobiassafie-drexel-university/Heston-Architecture-Sweeps' target=\"_blank\">https://wandb.ai/tobiassafie-drexel-university/Heston-Architecture-Sweeps</a>"
      ],
      "text/plain": [
       "<IPython.core.display.HTML object>"
      ]
     },
     "metadata": {},
     "output_type": "display_data"
    },
    {
     "data": {
      "text/html": [
       " View sweep at <a href='https://wandb.ai/tobiassafie-drexel-university/Heston-Architecture-Sweeps/sweeps/ohmo3dh6' target=\"_blank\">https://wandb.ai/tobiassafie-drexel-university/Heston-Architecture-Sweeps/sweeps/ohmo3dh6</a>"
      ],
      "text/plain": [
       "<IPython.core.display.HTML object>"
      ]
     },
     "metadata": {},
     "output_type": "display_data"
    },
    {
     "data": {
      "text/html": [
       " View run at <a href='https://wandb.ai/tobiassafie-drexel-university/Heston-Architecture-Sweeps/runs/1js57mh7' target=\"_blank\">https://wandb.ai/tobiassafie-drexel-university/Heston-Architecture-Sweeps/runs/1js57mh7</a>"
      ],
      "text/plain": [
       "<IPython.core.display.HTML object>"
      ]
     },
     "metadata": {},
     "output_type": "display_data"
    },
    {
     "name": "stderr",
     "output_type": "stream",
     "text": [
      "wandb: Network error (ConnectionError), entering retry loop.\n"
     ]
    },
    {
     "data": {
      "text/html": [],
      "text/plain": [
       "<IPython.core.display.HTML object>"
      ]
     },
     "metadata": {},
     "output_type": "display_data"
    },
    {
     "data": {
      "text/html": [
       "<br>    <style><br>        .wandb-row {<br>            display: flex;<br>            flex-direction: row;<br>            flex-wrap: wrap;<br>            justify-content: flex-start;<br>            width: 100%;<br>        }<br>        .wandb-col {<br>            display: flex;<br>            flex-direction: column;<br>            flex-basis: 100%;<br>            flex: 1;<br>            padding: 10px;<br>        }<br>    </style><br><div class=\"wandb-row\"><div class=\"wandb-col\"><h3>Run history:</h3><br/><table class=\"wandb\"><tr><td>boundary_loss</td><td>█▁▁▁▁▁▁▁▁▁▁▁▁▁▁▁▁▁▁▁▁▁▁▁▁▁▁▁▁▁▁▁▁▁▁▁▁▁▁▁</td></tr><tr><td>epoch</td><td>▁▁▁▁▂▂▂▂▃▃▃▃▃▄▄▄▅▅▅▅▅▅▅▅▅▅▆▆▆▆▆▆▇▇▇▇████</td></tr><tr><td>learning_rate</td><td>███████▇▇▇▆▆▆▅▅▅▅▅▅▄▄▄▄▃▃▂▂▂▂▂▁▁▁▁▁▁▁▁▁▁</td></tr><tr><td>pde_loss</td><td>▇▃▂█▃▂▁▁▁▂▅▃▂▁▂▂▁▂▁▁▁▁▂▁▁▁▅▂▁▁▁▁▁▁▁▁▁▁▁▁</td></tr><tr><td>terminal_loss</td><td>▆▇▇▇▇▆▆▆▆▇▇██▇█▇▇▇▇▇▇▆▆▅▇▅▅▄▄▂▂▂▂▂▂▁▁▁▁▁</td></tr><tr><td>total_loss</td><td>▅▅▅▅▅▅▅▄▅▅▅▅█▅▆▅▅▅▄▅▄▄▄▄▄▄▃▃▃▃▃▃▃▂▂▂▂▁▁▁</td></tr></table><br/></div><div class=\"wandb-col\"><h3>Run summary:</h3><br/><table class=\"wandb\"><tr><td>boundary_loss</td><td>17.53355</td></tr><tr><td>epoch</td><td>4999</td></tr><tr><td>learning_rate</td><td>0.0</td></tr><tr><td>pde_loss</td><td>0.90834</td></tr><tr><td>terminal_loss</td><td>2964.20093</td></tr><tr><td>total_loss</td><td>143.43166</td></tr></table><br/></div></div>"
      ],
      "text/plain": [
       "<IPython.core.display.HTML object>"
      ]
     },
     "metadata": {},
     "output_type": "display_data"
    },
    {
     "data": {
      "text/html": [
       " View run <strong style=\"color:#cdcd00\">smooth-sweep-6</strong> at: <a href='https://wandb.ai/tobiassafie-drexel-university/Heston-Architecture-Sweeps/runs/1js57mh7' target=\"_blank\">https://wandb.ai/tobiassafie-drexel-university/Heston-Architecture-Sweeps/runs/1js57mh7</a><br> View project at: <a href='https://wandb.ai/tobiassafie-drexel-university/Heston-Architecture-Sweeps' target=\"_blank\">https://wandb.ai/tobiassafie-drexel-university/Heston-Architecture-Sweeps</a><br>Synced 5 W&B file(s), 0 media file(s), 0 artifact file(s) and 0 other file(s)"
      ],
      "text/plain": [
       "<IPython.core.display.HTML object>"
      ]
     },
     "metadata": {},
     "output_type": "display_data"
    },
    {
     "data": {
      "text/html": [
       "Find logs at: <code>.\\wandb\\run-20250813_152323-1js57mh7\\logs</code>"
      ],
      "text/plain": [
       "<IPython.core.display.HTML object>"
      ]
     },
     "metadata": {},
     "output_type": "display_data"
    },
    {
     "name": "stderr",
     "output_type": "stream",
     "text": [
      "wandb: Sweep Agent: Waiting for job.\n",
      "wandb: Job received.\n",
      "wandb: Agent Starting Run: rkq0zc3l with config:\n",
      "wandb: \tN_boundary: 500\n",
      "wandb: \tN_pde: 2500\n",
      "wandb: \tN_terminal: 500\n",
      "wandb: \thidden_layers: 2\n",
      "wandb: \tlearning_rate: 0.00953726866578328\n",
      "wandb: \tneurons_per_layer: 256\n",
      "wandb: \tnum_epochs: 5000\n",
      "wandb: \tw_boundary: 0.9\n",
      "wandb: \tw_pde: 10\n",
      "wandb: \tw_terminal: 0.04\n"
     ]
    },
    {
     "data": {
      "text/html": [
       "Tracking run with wandb version 0.21.0"
      ],
      "text/plain": [
       "<IPython.core.display.HTML object>"
      ]
     },
     "metadata": {},
     "output_type": "display_data"
    },
    {
     "data": {
      "text/html": [
       "Run data is saved locally in <code>c:\\Users\\tobys\\Desktop\\STAR\\dev_notebooks\\heston\\sweep\\wandb\\run-20250813_153858-rkq0zc3l</code>"
      ],
      "text/plain": [
       "<IPython.core.display.HTML object>"
      ]
     },
     "metadata": {},
     "output_type": "display_data"
    },
    {
     "data": {
      "text/html": [
       "Syncing run <strong><a href='https://wandb.ai/tobiassafie-drexel-university/Heston-Architecture-Sweeps/runs/rkq0zc3l' target=\"_blank\">good-sweep-7</a></strong> to <a href='https://wandb.ai/tobiassafie-drexel-university/Heston-Architecture-Sweeps' target=\"_blank\">Weights & Biases</a> (<a href='https://wandb.me/developer-guide' target=\"_blank\">docs</a>)<br>Sweep page: <a href='https://wandb.ai/tobiassafie-drexel-university/Heston-Architecture-Sweeps/sweeps/ohmo3dh6' target=\"_blank\">https://wandb.ai/tobiassafie-drexel-university/Heston-Architecture-Sweeps/sweeps/ohmo3dh6</a>"
      ],
      "text/plain": [
       "<IPython.core.display.HTML object>"
      ]
     },
     "metadata": {},
     "output_type": "display_data"
    },
    {
     "data": {
      "text/html": [
       " View project at <a href='https://wandb.ai/tobiassafie-drexel-university/Heston-Architecture-Sweeps' target=\"_blank\">https://wandb.ai/tobiassafie-drexel-university/Heston-Architecture-Sweeps</a>"
      ],
      "text/plain": [
       "<IPython.core.display.HTML object>"
      ]
     },
     "metadata": {},
     "output_type": "display_data"
    },
    {
     "data": {
      "text/html": [
       " View sweep at <a href='https://wandb.ai/tobiassafie-drexel-university/Heston-Architecture-Sweeps/sweeps/ohmo3dh6' target=\"_blank\">https://wandb.ai/tobiassafie-drexel-university/Heston-Architecture-Sweeps/sweeps/ohmo3dh6</a>"
      ],
      "text/plain": [
       "<IPython.core.display.HTML object>"
      ]
     },
     "metadata": {},
     "output_type": "display_data"
    },
    {
     "data": {
      "text/html": [
       " View run at <a href='https://wandb.ai/tobiassafie-drexel-university/Heston-Architecture-Sweeps/runs/rkq0zc3l' target=\"_blank\">https://wandb.ai/tobiassafie-drexel-university/Heston-Architecture-Sweeps/runs/rkq0zc3l</a>"
      ],
      "text/plain": [
       "<IPython.core.display.HTML object>"
      ]
     },
     "metadata": {},
     "output_type": "display_data"
    },
    {
     "data": {
      "text/html": [],
      "text/plain": [
       "<IPython.core.display.HTML object>"
      ]
     },
     "metadata": {},
     "output_type": "display_data"
    },
    {
     "data": {
      "text/html": [
       "<br>    <style><br>        .wandb-row {<br>            display: flex;<br>            flex-direction: row;<br>            flex-wrap: wrap;<br>            justify-content: flex-start;<br>            width: 100%;<br>        }<br>        .wandb-col {<br>            display: flex;<br>            flex-direction: column;<br>            flex-basis: 100%;<br>            flex: 1;<br>            padding: 10px;<br>        }<br>    </style><br><div class=\"wandb-row\"><div class=\"wandb-col\"><h3>Run history:</h3><br/><table class=\"wandb\"><tr><td>boundary_loss</td><td>█▁▁▁▁▁▁▁▁▁▁▁▁▁▁▁▁▁▁▁▁▁▁▁▁▁▁▁▁▁▁▁▁▁▁▁▁▁▁▁</td></tr><tr><td>epoch</td><td>▁▁▂▂▂▂▂▂▂▂▃▃▃▃▄▄▄▄▄▄▅▅▅▅▅▅▆▆▆▆▇▇▇▇▇█████</td></tr><tr><td>learning_rate</td><td>██████████▇▇▇▇▇▇▆▆▆▆▅▅▅▅▄▄▄▄▄▄▂▂▁▁▁▁▁▁▁▁</td></tr><tr><td>pde_loss</td><td>█▂▃▂▄▃▂▂▁▁▃▂▁▁▁▂▁▁▁▁▁▂▁▁▂▂▁▁▁▁▃▁▁▁▁▁▁▁▁▁</td></tr><tr><td>terminal_loss</td><td>▅█▇▇▇▇▇▆▇▇▇█▇▇▇█▇▇▇▆▆▇█▇▆▆▇▇▃▃▂▂▂▂▂▁▁▁▁▁</td></tr><tr><td>total_loss</td><td>█▃▂▂▂▂▂▂▂▂▂▂▂▂▂▂▂▂▂▂▂▂▁▁▂▁▂▁▁▁▁▁▁▁▁▁▁▁▁▁</td></tr></table><br/></div><div class=\"wandb-col\"><h3>Run summary:</h3><br/><table class=\"wandb\"><tr><td>boundary_loss</td><td>25.92519</td></tr><tr><td>epoch</td><td>4999</td></tr><tr><td>learning_rate</td><td>0.0</td></tr><tr><td>pde_loss</td><td>1.14546</td></tr><tr><td>terminal_loss</td><td>4171.64453</td></tr><tr><td>total_loss</td><td>201.65309</td></tr></table><br/></div></div>"
      ],
      "text/plain": [
       "<IPython.core.display.HTML object>"
      ]
     },
     "metadata": {},
     "output_type": "display_data"
    },
    {
     "data": {
      "text/html": [
       " View run <strong style=\"color:#cdcd00\">good-sweep-7</strong> at: <a href='https://wandb.ai/tobiassafie-drexel-university/Heston-Architecture-Sweeps/runs/rkq0zc3l' target=\"_blank\">https://wandb.ai/tobiassafie-drexel-university/Heston-Architecture-Sweeps/runs/rkq0zc3l</a><br> View project at: <a href='https://wandb.ai/tobiassafie-drexel-university/Heston-Architecture-Sweeps' target=\"_blank\">https://wandb.ai/tobiassafie-drexel-university/Heston-Architecture-Sweeps</a><br>Synced 5 W&B file(s), 0 media file(s), 0 artifact file(s) and 0 other file(s)"
      ],
      "text/plain": [
       "<IPython.core.display.HTML object>"
      ]
     },
     "metadata": {},
     "output_type": "display_data"
    },
    {
     "data": {
      "text/html": [
       "Find logs at: <code>.\\wandb\\run-20250813_153858-rkq0zc3l\\logs</code>"
      ],
      "text/plain": [
       "<IPython.core.display.HTML object>"
      ]
     },
     "metadata": {},
     "output_type": "display_data"
    },
    {
     "name": "stderr",
     "output_type": "stream",
     "text": [
      "wandb: Agent Starting Run: uxqj53ed with config:\n",
      "wandb: \tN_boundary: 500\n",
      "wandb: \tN_pde: 2500\n",
      "wandb: \tN_terminal: 500\n",
      "wandb: \thidden_layers: 2\n",
      "wandb: \tlearning_rate: 5.931322271369976e-05\n",
      "wandb: \tneurons_per_layer: 256\n",
      "wandb: \tnum_epochs: 5000\n",
      "wandb: \tw_boundary: 0.9\n",
      "wandb: \tw_pde: 10\n",
      "wandb: \tw_terminal: 0.04\n"
     ]
    },
    {
     "data": {
      "text/html": [
       "Tracking run with wandb version 0.21.0"
      ],
      "text/plain": [
       "<IPython.core.display.HTML object>"
      ]
     },
     "metadata": {},
     "output_type": "display_data"
    },
    {
     "data": {
      "text/html": [
       "Run data is saved locally in <code>c:\\Users\\tobys\\Desktop\\STAR\\dev_notebooks\\heston\\sweep\\wandb\\run-20250813_154312-uxqj53ed</code>"
      ],
      "text/plain": [
       "<IPython.core.display.HTML object>"
      ]
     },
     "metadata": {},
     "output_type": "display_data"
    },
    {
     "data": {
      "text/html": [
       "Syncing run <strong><a href='https://wandb.ai/tobiassafie-drexel-university/Heston-Architecture-Sweeps/runs/uxqj53ed' target=\"_blank\">classic-sweep-8</a></strong> to <a href='https://wandb.ai/tobiassafie-drexel-university/Heston-Architecture-Sweeps' target=\"_blank\">Weights & Biases</a> (<a href='https://wandb.me/developer-guide' target=\"_blank\">docs</a>)<br>Sweep page: <a href='https://wandb.ai/tobiassafie-drexel-university/Heston-Architecture-Sweeps/sweeps/ohmo3dh6' target=\"_blank\">https://wandb.ai/tobiassafie-drexel-university/Heston-Architecture-Sweeps/sweeps/ohmo3dh6</a>"
      ],
      "text/plain": [
       "<IPython.core.display.HTML object>"
      ]
     },
     "metadata": {},
     "output_type": "display_data"
    },
    {
     "data": {
      "text/html": [
       " View project at <a href='https://wandb.ai/tobiassafie-drexel-university/Heston-Architecture-Sweeps' target=\"_blank\">https://wandb.ai/tobiassafie-drexel-university/Heston-Architecture-Sweeps</a>"
      ],
      "text/plain": [
       "<IPython.core.display.HTML object>"
      ]
     },
     "metadata": {},
     "output_type": "display_data"
    },
    {
     "data": {
      "text/html": [
       " View sweep at <a href='https://wandb.ai/tobiassafie-drexel-university/Heston-Architecture-Sweeps/sweeps/ohmo3dh6' target=\"_blank\">https://wandb.ai/tobiassafie-drexel-university/Heston-Architecture-Sweeps/sweeps/ohmo3dh6</a>"
      ],
      "text/plain": [
       "<IPython.core.display.HTML object>"
      ]
     },
     "metadata": {},
     "output_type": "display_data"
    },
    {
     "data": {
      "text/html": [
       " View run at <a href='https://wandb.ai/tobiassafie-drexel-university/Heston-Architecture-Sweeps/runs/uxqj53ed' target=\"_blank\">https://wandb.ai/tobiassafie-drexel-university/Heston-Architecture-Sweeps/runs/uxqj53ed</a>"
      ],
      "text/plain": [
       "<IPython.core.display.HTML object>"
      ]
     },
     "metadata": {},
     "output_type": "display_data"
    },
    {
     "data": {
      "text/html": [],
      "text/plain": [
       "<IPython.core.display.HTML object>"
      ]
     },
     "metadata": {},
     "output_type": "display_data"
    },
    {
     "data": {
      "text/html": [
       "<br>    <style><br>        .wandb-row {<br>            display: flex;<br>            flex-direction: row;<br>            flex-wrap: wrap;<br>            justify-content: flex-start;<br>            width: 100%;<br>        }<br>        .wandb-col {<br>            display: flex;<br>            flex-direction: column;<br>            flex-basis: 100%;<br>            flex: 1;<br>            padding: 10px;<br>        }<br>    </style><br><div class=\"wandb-row\"><div class=\"wandb-col\"><h3>Run history:</h3><br/><table class=\"wandb\"><tr><td>boundary_loss</td><td>█▇▇▇▆▆▅▅▅▄▄▄▄▃▃▃▃▂▂▂▂▂▂▂▁▁▁▁▁▁▁▁▁▁▁▁▁▁▁▁</td></tr><tr><td>epoch</td><td>▁▁▁▂▂▂▂▂▂▂▂▂▃▃▃▄▄▄▄▄▄▄▅▅▅▅▅▆▆▆▆▆▆▆▇▇▇███</td></tr><tr><td>learning_rate</td><td>████████▇▇▇▇▆▆▆▅▅▅▄▄▄▄▄▃▃▃▂▂▂▂▂▂▂▁▁▁▁▁▁▁</td></tr><tr><td>pde_loss</td><td>▁▁▁▁▂▃▃▄▄▄▅▅▆███████▇▇▇▇▇▇▇▇▇▇▇▇▇▇▇▇▇▇▇▇</td></tr><tr><td>terminal_loss</td><td>██▇█▅▅▅▄▄▄▃▃▂▂▃▂▂▃▂▂▃▂▁▁▃▂▂▂▁▂▂▂▂▂▂▃▂▁▂▂</td></tr><tr><td>total_loss</td><td>█▇▇▆▆▆▆▅▅▅▄▄▄▄▃▃▃▃▃▃▂▂▂▂▁▁▁▁▁▁▁▁▁▁▁▁▁▁▁▁</td></tr></table><br/></div><div class=\"wandb-col\"><h3>Run summary:</h3><br/><table class=\"wandb\"><tr><td>boundary_loss</td><td>11352.4668</td></tr><tr><td>epoch</td><td>4999</td></tr><tr><td>learning_rate</td><td>0.0</td></tr><tr><td>pde_loss</td><td>2.79182</td></tr><tr><td>terminal_loss</td><td>2382.86206</td></tr><tr><td>total_loss</td><td>10340.45215</td></tr></table><br/></div></div>"
      ],
      "text/plain": [
       "<IPython.core.display.HTML object>"
      ]
     },
     "metadata": {},
     "output_type": "display_data"
    },
    {
     "data": {
      "text/html": [
       " View run <strong style=\"color:#cdcd00\">classic-sweep-8</strong> at: <a href='https://wandb.ai/tobiassafie-drexel-university/Heston-Architecture-Sweeps/runs/uxqj53ed' target=\"_blank\">https://wandb.ai/tobiassafie-drexel-university/Heston-Architecture-Sweeps/runs/uxqj53ed</a><br> View project at: <a href='https://wandb.ai/tobiassafie-drexel-university/Heston-Architecture-Sweeps' target=\"_blank\">https://wandb.ai/tobiassafie-drexel-university/Heston-Architecture-Sweeps</a><br>Synced 5 W&B file(s), 0 media file(s), 0 artifact file(s) and 0 other file(s)"
      ],
      "text/plain": [
       "<IPython.core.display.HTML object>"
      ]
     },
     "metadata": {},
     "output_type": "display_data"
    },
    {
     "data": {
      "text/html": [
       "Find logs at: <code>.\\wandb\\run-20250813_154312-uxqj53ed\\logs</code>"
      ],
      "text/plain": [
       "<IPython.core.display.HTML object>"
      ]
     },
     "metadata": {},
     "output_type": "display_data"
    },
    {
     "name": "stderr",
     "output_type": "stream",
     "text": [
      "wandb: Agent Starting Run: csw379uh with config:\n",
      "wandb: \tN_boundary: 500\n",
      "wandb: \tN_pde: 2500\n",
      "wandb: \tN_terminal: 500\n",
      "wandb: \thidden_layers: 4\n",
      "wandb: \tlearning_rate: 0.005208111643691652\n",
      "wandb: \tneurons_per_layer: 256\n",
      "wandb: \tnum_epochs: 5000\n",
      "wandb: \tw_boundary: 0.9\n",
      "wandb: \tw_pde: 10\n",
      "wandb: \tw_terminal: 0.04\n"
     ]
    },
    {
     "data": {
      "text/html": [
       "Tracking run with wandb version 0.21.0"
      ],
      "text/plain": [
       "<IPython.core.display.HTML object>"
      ]
     },
     "metadata": {},
     "output_type": "display_data"
    },
    {
     "data": {
      "text/html": [
       "Run data is saved locally in <code>c:\\Users\\tobys\\Desktop\\STAR\\dev_notebooks\\heston\\sweep\\wandb\\run-20250813_154728-csw379uh</code>"
      ],
      "text/plain": [
       "<IPython.core.display.HTML object>"
      ]
     },
     "metadata": {},
     "output_type": "display_data"
    },
    {
     "data": {
      "text/html": [
       "Syncing run <strong><a href='https://wandb.ai/tobiassafie-drexel-university/Heston-Architecture-Sweeps/runs/csw379uh' target=\"_blank\">serene-sweep-9</a></strong> to <a href='https://wandb.ai/tobiassafie-drexel-university/Heston-Architecture-Sweeps' target=\"_blank\">Weights & Biases</a> (<a href='https://wandb.me/developer-guide' target=\"_blank\">docs</a>)<br>Sweep page: <a href='https://wandb.ai/tobiassafie-drexel-university/Heston-Architecture-Sweeps/sweeps/ohmo3dh6' target=\"_blank\">https://wandb.ai/tobiassafie-drexel-university/Heston-Architecture-Sweeps/sweeps/ohmo3dh6</a>"
      ],
      "text/plain": [
       "<IPython.core.display.HTML object>"
      ]
     },
     "metadata": {},
     "output_type": "display_data"
    },
    {
     "data": {
      "text/html": [
       " View project at <a href='https://wandb.ai/tobiassafie-drexel-university/Heston-Architecture-Sweeps' target=\"_blank\">https://wandb.ai/tobiassafie-drexel-university/Heston-Architecture-Sweeps</a>"
      ],
      "text/plain": [
       "<IPython.core.display.HTML object>"
      ]
     },
     "metadata": {},
     "output_type": "display_data"
    },
    {
     "data": {
      "text/html": [
       " View sweep at <a href='https://wandb.ai/tobiassafie-drexel-university/Heston-Architecture-Sweeps/sweeps/ohmo3dh6' target=\"_blank\">https://wandb.ai/tobiassafie-drexel-university/Heston-Architecture-Sweeps/sweeps/ohmo3dh6</a>"
      ],
      "text/plain": [
       "<IPython.core.display.HTML object>"
      ]
     },
     "metadata": {},
     "output_type": "display_data"
    },
    {
     "data": {
      "text/html": [
       " View run at <a href='https://wandb.ai/tobiassafie-drexel-university/Heston-Architecture-Sweeps/runs/csw379uh' target=\"_blank\">https://wandb.ai/tobiassafie-drexel-university/Heston-Architecture-Sweeps/runs/csw379uh</a>"
      ],
      "text/plain": [
       "<IPython.core.display.HTML object>"
      ]
     },
     "metadata": {},
     "output_type": "display_data"
    },
    {
     "data": {
      "text/html": [],
      "text/plain": [
       "<IPython.core.display.HTML object>"
      ]
     },
     "metadata": {},
     "output_type": "display_data"
    },
    {
     "data": {
      "text/html": [
       "<br>    <style><br>        .wandb-row {<br>            display: flex;<br>            flex-direction: row;<br>            flex-wrap: wrap;<br>            justify-content: flex-start;<br>            width: 100%;<br>        }<br>        .wandb-col {<br>            display: flex;<br>            flex-direction: column;<br>            flex-basis: 100%;<br>            flex: 1;<br>            padding: 10px;<br>        }<br>    </style><br><div class=\"wandb-row\"><div class=\"wandb-col\"><h3>Run history:</h3><br/><table class=\"wandb\"><tr><td>boundary_loss</td><td>█▁▁▁▁▁▁▁▁▁▁▁▁▁▁▁▁▁▁▁▁▁▁▁▁▁▁▁▁▁▁▁▁▁▁▁▁▁▁▁</td></tr><tr><td>epoch</td><td>▁▁▁▂▂▂▂▂▂▃▃▃▃▄▄▄▄▅▅▅▅▅▅▆▆▆▆▆▆▆▇▇▇▇▇█████</td></tr><tr><td>learning_rate</td><td>██████▇▇▇▇▇▇▇▇▇▆▆▆▆▆▅▅▅▄▃▃▃▂▂▂▂▂▂▂▁▁▁▁▁▁</td></tr><tr><td>pde_loss</td><td>▃▃▄█▁▁▂▁▁▂▁▇▂▁▄▂▁▄▁▁▁▁▁▁▁▁▂▇▇▁▁▁▁▁▁▁▁▁▁▁</td></tr><tr><td>terminal_loss</td><td>▁▂▄▄▅▆▇▆▆▅▅▅▇▇▇▆▆▅▅▅▅▆▅▆▇▅▅▅▅▄█▇▇▇▆▅▆▅▅▆</td></tr><tr><td>total_loss</td><td>█▇▁▁▁▁▁▁▂▁▁▁▁▁▁▁▁▁▁▁▁▁▂▁▁▁▁▁▁▁▁▁▁▁▁▁▁▁▁▁</td></tr></table><br/></div><div class=\"wandb-col\"><h3>Run summary:</h3><br/><table class=\"wandb\"><tr><td>boundary_loss</td><td>23.78074</td></tr><tr><td>epoch</td><td>4999</td></tr><tr><td>learning_rate</td><td>0.0</td></tr><tr><td>pde_loss</td><td>2.14756</td></tr><tr><td>terminal_loss</td><td>9901.50781</td></tr><tr><td>total_loss</td><td>438.9386</td></tr></table><br/></div></div>"
      ],
      "text/plain": [
       "<IPython.core.display.HTML object>"
      ]
     },
     "metadata": {},
     "output_type": "display_data"
    },
    {
     "data": {
      "text/html": [
       " View run <strong style=\"color:#cdcd00\">serene-sweep-9</strong> at: <a href='https://wandb.ai/tobiassafie-drexel-university/Heston-Architecture-Sweeps/runs/csw379uh' target=\"_blank\">https://wandb.ai/tobiassafie-drexel-university/Heston-Architecture-Sweeps/runs/csw379uh</a><br> View project at: <a href='https://wandb.ai/tobiassafie-drexel-university/Heston-Architecture-Sweeps' target=\"_blank\">https://wandb.ai/tobiassafie-drexel-university/Heston-Architecture-Sweeps</a><br>Synced 5 W&B file(s), 0 media file(s), 0 artifact file(s) and 0 other file(s)"
      ],
      "text/plain": [
       "<IPython.core.display.HTML object>"
      ]
     },
     "metadata": {},
     "output_type": "display_data"
    },
    {
     "data": {
      "text/html": [
       "Find logs at: <code>.\\wandb\\run-20250813_154728-csw379uh\\logs</code>"
      ],
      "text/plain": [
       "<IPython.core.display.HTML object>"
      ]
     },
     "metadata": {},
     "output_type": "display_data"
    },
    {
     "name": "stderr",
     "output_type": "stream",
     "text": [
      "wandb: Agent Starting Run: sb7dmdip with config:\n",
      "wandb: \tN_boundary: 500\n",
      "wandb: \tN_pde: 2500\n",
      "wandb: \tN_terminal: 500\n",
      "wandb: \thidden_layers: 2\n",
      "wandb: \tlearning_rate: 0.002652869698629273\n",
      "wandb: \tneurons_per_layer: 256\n",
      "wandb: \tnum_epochs: 5000\n",
      "wandb: \tw_boundary: 0.9\n",
      "wandb: \tw_pde: 10\n",
      "wandb: \tw_terminal: 0.04\n"
     ]
    },
    {
     "data": {
      "text/html": [
       "Tracking run with wandb version 0.21.0"
      ],
      "text/plain": [
       "<IPython.core.display.HTML object>"
      ]
     },
     "metadata": {},
     "output_type": "display_data"
    },
    {
     "data": {
      "text/html": [
       "Run data is saved locally in <code>c:\\Users\\tobys\\Desktop\\STAR\\dev_notebooks\\heston\\sweep\\wandb\\run-20250813_155655-sb7dmdip</code>"
      ],
      "text/plain": [
       "<IPython.core.display.HTML object>"
      ]
     },
     "metadata": {},
     "output_type": "display_data"
    },
    {
     "data": {
      "text/html": [
       "Syncing run <strong><a href='https://wandb.ai/tobiassafie-drexel-university/Heston-Architecture-Sweeps/runs/sb7dmdip' target=\"_blank\">swift-sweep-10</a></strong> to <a href='https://wandb.ai/tobiassafie-drexel-university/Heston-Architecture-Sweeps' target=\"_blank\">Weights & Biases</a> (<a href='https://wandb.me/developer-guide' target=\"_blank\">docs</a>)<br>Sweep page: <a href='https://wandb.ai/tobiassafie-drexel-university/Heston-Architecture-Sweeps/sweeps/ohmo3dh6' target=\"_blank\">https://wandb.ai/tobiassafie-drexel-university/Heston-Architecture-Sweeps/sweeps/ohmo3dh6</a>"
      ],
      "text/plain": [
       "<IPython.core.display.HTML object>"
      ]
     },
     "metadata": {},
     "output_type": "display_data"
    },
    {
     "data": {
      "text/html": [
       " View project at <a href='https://wandb.ai/tobiassafie-drexel-university/Heston-Architecture-Sweeps' target=\"_blank\">https://wandb.ai/tobiassafie-drexel-university/Heston-Architecture-Sweeps</a>"
      ],
      "text/plain": [
       "<IPython.core.display.HTML object>"
      ]
     },
     "metadata": {},
     "output_type": "display_data"
    },
    {
     "data": {
      "text/html": [
       " View sweep at <a href='https://wandb.ai/tobiassafie-drexel-university/Heston-Architecture-Sweeps/sweeps/ohmo3dh6' target=\"_blank\">https://wandb.ai/tobiassafie-drexel-university/Heston-Architecture-Sweeps/sweeps/ohmo3dh6</a>"
      ],
      "text/plain": [
       "<IPython.core.display.HTML object>"
      ]
     },
     "metadata": {},
     "output_type": "display_data"
    },
    {
     "data": {
      "text/html": [
       " View run at <a href='https://wandb.ai/tobiassafie-drexel-university/Heston-Architecture-Sweeps/runs/sb7dmdip' target=\"_blank\">https://wandb.ai/tobiassafie-drexel-university/Heston-Architecture-Sweeps/runs/sb7dmdip</a>"
      ],
      "text/plain": [
       "<IPython.core.display.HTML object>"
      ]
     },
     "metadata": {},
     "output_type": "display_data"
    },
    {
     "data": {
      "text/html": [],
      "text/plain": [
       "<IPython.core.display.HTML object>"
      ]
     },
     "metadata": {},
     "output_type": "display_data"
    },
    {
     "data": {
      "text/html": [
       "<br>    <style><br>        .wandb-row {<br>            display: flex;<br>            flex-direction: row;<br>            flex-wrap: wrap;<br>            justify-content: flex-start;<br>            width: 100%;<br>        }<br>        .wandb-col {<br>            display: flex;<br>            flex-direction: column;<br>            flex-basis: 100%;<br>            flex: 1;<br>            padding: 10px;<br>        }<br>    </style><br><div class=\"wandb-row\"><div class=\"wandb-col\"><h3>Run history:</h3><br/><table class=\"wandb\"><tr><td>boundary_loss</td><td>█▅▃▂▁▁▁▁▁▁▁▁▁▁▁▁▁▁▁▁▁▁▁▁▁▁▁▁▁▁▁▁▁▁▁▁▁▁▁▁</td></tr><tr><td>epoch</td><td>▁▁▁▁▂▂▂▂▂▃▃▃▃▃▄▄▄▄▅▅▅▅▅▆▆▆▆▆▇▇▇▇▇▇▇▇████</td></tr><tr><td>learning_rate</td><td>██████▇▇▇▇▇▇▆▆▆▆▅▅▅▅▄▄▄▄▄▃▃▃▃▃▂▂▂▂▂▁▁▁▁▁</td></tr><tr><td>pde_loss</td><td>▂▃▂▂▂█▂▂▂▂▁▁▃▂▁▁▁▁▁▁▁▁▁▁▁▁▁▁▁▁▁▁▁▁▁▁▁▁▁▁</td></tr><tr><td>terminal_loss</td><td>▇▇█▆▆▅▅▄▅▄▃▄▄▃▄▂▂▅▂▂▂▁▁▁▁▁▁▁▁▁▁▁▁▁▁▁▁▁▁▁</td></tr><tr><td>total_loss</td><td>█▅▂▂▁▁▁▁▁▁▁▁▁▁▁▁▁▁▁▁▁▁▁▁▁▁▁▁▁▁▁▁▁▁▁▁▁▁▁▁</td></tr></table><br/></div><div class=\"wandb-col\"><h3>Run summary:</h3><br/><table class=\"wandb\"><tr><td>boundary_loss</td><td>0.3642</td></tr><tr><td>epoch</td><td>4999</td></tr><tr><td>learning_rate</td><td>0.0</td></tr><tr><td>pde_loss</td><td>0.08849</td></tr><tr><td>terminal_loss</td><td>70.62967</td></tr><tr><td>total_loss</td><td>4.03786</td></tr></table><br/></div></div>"
      ],
      "text/plain": [
       "<IPython.core.display.HTML object>"
      ]
     },
     "metadata": {},
     "output_type": "display_data"
    },
    {
     "data": {
      "text/html": [
       " View run <strong style=\"color:#cdcd00\">swift-sweep-10</strong> at: <a href='https://wandb.ai/tobiassafie-drexel-university/Heston-Architecture-Sweeps/runs/sb7dmdip' target=\"_blank\">https://wandb.ai/tobiassafie-drexel-university/Heston-Architecture-Sweeps/runs/sb7dmdip</a><br> View project at: <a href='https://wandb.ai/tobiassafie-drexel-university/Heston-Architecture-Sweeps' target=\"_blank\">https://wandb.ai/tobiassafie-drexel-university/Heston-Architecture-Sweeps</a><br>Synced 5 W&B file(s), 0 media file(s), 0 artifact file(s) and 0 other file(s)"
      ],
      "text/plain": [
       "<IPython.core.display.HTML object>"
      ]
     },
     "metadata": {},
     "output_type": "display_data"
    },
    {
     "data": {
      "text/html": [
       "Find logs at: <code>.\\wandb\\run-20250813_155655-sb7dmdip\\logs</code>"
      ],
      "text/plain": [
       "<IPython.core.display.HTML object>"
      ]
     },
     "metadata": {},
     "output_type": "display_data"
    },
    {
     "name": "stderr",
     "output_type": "stream",
     "text": [
      "wandb: Agent Starting Run: a0e001r6 with config:\n",
      "wandb: \tN_boundary: 500\n",
      "wandb: \tN_pde: 2500\n",
      "wandb: \tN_terminal: 500\n",
      "wandb: \thidden_layers: 4\n",
      "wandb: \tlearning_rate: 0.0028074278390252064\n",
      "wandb: \tneurons_per_layer: 256\n",
      "wandb: \tnum_epochs: 5000\n",
      "wandb: \tw_boundary: 0.9\n",
      "wandb: \tw_pde: 10\n",
      "wandb: \tw_terminal: 0.04\n"
     ]
    },
    {
     "data": {
      "text/html": [
       "Tracking run with wandb version 0.21.0"
      ],
      "text/plain": [
       "<IPython.core.display.HTML object>"
      ]
     },
     "metadata": {},
     "output_type": "display_data"
    },
    {
     "data": {
      "text/html": [
       "Run data is saved locally in <code>c:\\Users\\tobys\\Desktop\\STAR\\dev_notebooks\\heston\\sweep\\wandb\\run-20250813_160152-a0e001r6</code>"
      ],
      "text/plain": [
       "<IPython.core.display.HTML object>"
      ]
     },
     "metadata": {},
     "output_type": "display_data"
    },
    {
     "data": {
      "text/html": [
       "Syncing run <strong><a href='https://wandb.ai/tobiassafie-drexel-university/Heston-Architecture-Sweeps/runs/a0e001r6' target=\"_blank\">zany-sweep-11</a></strong> to <a href='https://wandb.ai/tobiassafie-drexel-university/Heston-Architecture-Sweeps' target=\"_blank\">Weights & Biases</a> (<a href='https://wandb.me/developer-guide' target=\"_blank\">docs</a>)<br>Sweep page: <a href='https://wandb.ai/tobiassafie-drexel-university/Heston-Architecture-Sweeps/sweeps/ohmo3dh6' target=\"_blank\">https://wandb.ai/tobiassafie-drexel-university/Heston-Architecture-Sweeps/sweeps/ohmo3dh6</a>"
      ],
      "text/plain": [
       "<IPython.core.display.HTML object>"
      ]
     },
     "metadata": {},
     "output_type": "display_data"
    },
    {
     "data": {
      "text/html": [
       " View project at <a href='https://wandb.ai/tobiassafie-drexel-university/Heston-Architecture-Sweeps' target=\"_blank\">https://wandb.ai/tobiassafie-drexel-university/Heston-Architecture-Sweeps</a>"
      ],
      "text/plain": [
       "<IPython.core.display.HTML object>"
      ]
     },
     "metadata": {},
     "output_type": "display_data"
    },
    {
     "data": {
      "text/html": [
       " View sweep at <a href='https://wandb.ai/tobiassafie-drexel-university/Heston-Architecture-Sweeps/sweeps/ohmo3dh6' target=\"_blank\">https://wandb.ai/tobiassafie-drexel-university/Heston-Architecture-Sweeps/sweeps/ohmo3dh6</a>"
      ],
      "text/plain": [
       "<IPython.core.display.HTML object>"
      ]
     },
     "metadata": {},
     "output_type": "display_data"
    },
    {
     "data": {
      "text/html": [
       " View run at <a href='https://wandb.ai/tobiassafie-drexel-university/Heston-Architecture-Sweeps/runs/a0e001r6' target=\"_blank\">https://wandb.ai/tobiassafie-drexel-university/Heston-Architecture-Sweeps/runs/a0e001r6</a>"
      ],
      "text/plain": [
       "<IPython.core.display.HTML object>"
      ]
     },
     "metadata": {},
     "output_type": "display_data"
    },
    {
     "data": {
      "text/html": [],
      "text/plain": [
       "<IPython.core.display.HTML object>"
      ]
     },
     "metadata": {},
     "output_type": "display_data"
    },
    {
     "data": {
      "text/html": [
       "<br>    <style><br>        .wandb-row {<br>            display: flex;<br>            flex-direction: row;<br>            flex-wrap: wrap;<br>            justify-content: flex-start;<br>            width: 100%;<br>        }<br>        .wandb-col {<br>            display: flex;<br>            flex-direction: column;<br>            flex-basis: 100%;<br>            flex: 1;<br>            padding: 10px;<br>        }<br>    </style><br><div class=\"wandb-row\"><div class=\"wandb-col\"><h3>Run history:</h3><br/><table class=\"wandb\"><tr><td>boundary_loss</td><td>█▅▃▂▁▁▁▁▁▁▁▁▁▁▁▁▁▁▁▁▁▁▁▁▁▁▁▁▁▁▁▁▁▁▁▁▁▁▁▁</td></tr><tr><td>epoch</td><td>▁▁▁▁▂▂▂▂▂▂▂▂▂▂▂▃▃▃▃▃▄▅▅▅▅▅▅▆▆▆▆▆▆▆▆▇▇▇██</td></tr><tr><td>learning_rate</td><td>█████████▇▇▇▇▇▆▆▆▆▆▅▅▅▅▄▄▃▃▃▂▂▂▂▂▂▂▁▁▁▁▁</td></tr><tr><td>pde_loss</td><td>▃▆▂▂▁▂▂▂▁▁▁▅▂▁▆▁█▃▁▂▁▂▁▁▁▁▁▁▁▁▁▁▁▁▁▁▁▁▁▁</td></tr><tr><td>terminal_loss</td><td>▁▅▆▅█▇▇█▇▇▇▇▇▇█▆▅█▆▆▆▆▆▄▅▄▃▅▃▃▄▃▂▂▂▁▁▁▁▁</td></tr><tr><td>total_loss</td><td>█▁▁▁▁▁▁▁▁▁▁▁▁▁▁▁▁▁▁▁▁▁▁▁▁▁▁▁▁▁▁▁▁▁▁▁▁▁▁▁</td></tr></table><br/></div><div class=\"wandb-col\"><h3>Run summary:</h3><br/><table class=\"wandb\"><tr><td>boundary_loss</td><td>3.57332</td></tr><tr><td>epoch</td><td>4999</td></tr><tr><td>learning_rate</td><td>0.0</td></tr><tr><td>pde_loss</td><td>1.17908</td></tr><tr><td>terminal_loss</td><td>1909.89099</td></tr><tr><td>total_loss</td><td>91.40247</td></tr></table><br/></div></div>"
      ],
      "text/plain": [
       "<IPython.core.display.HTML object>"
      ]
     },
     "metadata": {},
     "output_type": "display_data"
    },
    {
     "data": {
      "text/html": [
       " View run <strong style=\"color:#cdcd00\">zany-sweep-11</strong> at: <a href='https://wandb.ai/tobiassafie-drexel-university/Heston-Architecture-Sweeps/runs/a0e001r6' target=\"_blank\">https://wandb.ai/tobiassafie-drexel-university/Heston-Architecture-Sweeps/runs/a0e001r6</a><br> View project at: <a href='https://wandb.ai/tobiassafie-drexel-university/Heston-Architecture-Sweeps' target=\"_blank\">https://wandb.ai/tobiassafie-drexel-university/Heston-Architecture-Sweeps</a><br>Synced 5 W&B file(s), 0 media file(s), 0 artifact file(s) and 0 other file(s)"
      ],
      "text/plain": [
       "<IPython.core.display.HTML object>"
      ]
     },
     "metadata": {},
     "output_type": "display_data"
    },
    {
     "data": {
      "text/html": [
       "Find logs at: <code>.\\wandb\\run-20250813_160152-a0e001r6\\logs</code>"
      ],
      "text/plain": [
       "<IPython.core.display.HTML object>"
      ]
     },
     "metadata": {},
     "output_type": "display_data"
    },
    {
     "name": "stderr",
     "output_type": "stream",
     "text": [
      "wandb: Agent Starting Run: gmc1bh0c with config:\n",
      "wandb: \tN_boundary: 500\n",
      "wandb: \tN_pde: 2500\n",
      "wandb: \tN_terminal: 500\n",
      "wandb: \thidden_layers: 4\n",
      "wandb: \tlearning_rate: 0.0026661522083421367\n",
      "wandb: \tneurons_per_layer: 256\n",
      "wandb: \tnum_epochs: 5000\n",
      "wandb: \tw_boundary: 0.9\n",
      "wandb: \tw_pde: 10\n",
      "wandb: \tw_terminal: 0.04\n"
     ]
    },
    {
     "data": {
      "text/html": [
       "Tracking run with wandb version 0.21.0"
      ],
      "text/plain": [
       "<IPython.core.display.HTML object>"
      ]
     },
     "metadata": {},
     "output_type": "display_data"
    },
    {
     "data": {
      "text/html": [
       "Run data is saved locally in <code>c:\\Users\\tobys\\Desktop\\STAR\\dev_notebooks\\heston\\sweep\\wandb\\run-20250813_161034-gmc1bh0c</code>"
      ],
      "text/plain": [
       "<IPython.core.display.HTML object>"
      ]
     },
     "metadata": {},
     "output_type": "display_data"
    },
    {
     "data": {
      "text/html": [
       "Syncing run <strong><a href='https://wandb.ai/tobiassafie-drexel-university/Heston-Architecture-Sweeps/runs/gmc1bh0c' target=\"_blank\">sleek-sweep-12</a></strong> to <a href='https://wandb.ai/tobiassafie-drexel-university/Heston-Architecture-Sweeps' target=\"_blank\">Weights & Biases</a> (<a href='https://wandb.me/developer-guide' target=\"_blank\">docs</a>)<br>Sweep page: <a href='https://wandb.ai/tobiassafie-drexel-university/Heston-Architecture-Sweeps/sweeps/ohmo3dh6' target=\"_blank\">https://wandb.ai/tobiassafie-drexel-university/Heston-Architecture-Sweeps/sweeps/ohmo3dh6</a>"
      ],
      "text/plain": [
       "<IPython.core.display.HTML object>"
      ]
     },
     "metadata": {},
     "output_type": "display_data"
    },
    {
     "data": {
      "text/html": [
       " View project at <a href='https://wandb.ai/tobiassafie-drexel-university/Heston-Architecture-Sweeps' target=\"_blank\">https://wandb.ai/tobiassafie-drexel-university/Heston-Architecture-Sweeps</a>"
      ],
      "text/plain": [
       "<IPython.core.display.HTML object>"
      ]
     },
     "metadata": {},
     "output_type": "display_data"
    },
    {
     "data": {
      "text/html": [
       " View sweep at <a href='https://wandb.ai/tobiassafie-drexel-university/Heston-Architecture-Sweeps/sweeps/ohmo3dh6' target=\"_blank\">https://wandb.ai/tobiassafie-drexel-university/Heston-Architecture-Sweeps/sweeps/ohmo3dh6</a>"
      ],
      "text/plain": [
       "<IPython.core.display.HTML object>"
      ]
     },
     "metadata": {},
     "output_type": "display_data"
    },
    {
     "data": {
      "text/html": [
       " View run at <a href='https://wandb.ai/tobiassafie-drexel-university/Heston-Architecture-Sweeps/runs/gmc1bh0c' target=\"_blank\">https://wandb.ai/tobiassafie-drexel-university/Heston-Architecture-Sweeps/runs/gmc1bh0c</a>"
      ],
      "text/plain": [
       "<IPython.core.display.HTML object>"
      ]
     },
     "metadata": {},
     "output_type": "display_data"
    },
    {
     "data": {
      "text/html": [],
      "text/plain": [
       "<IPython.core.display.HTML object>"
      ]
     },
     "metadata": {},
     "output_type": "display_data"
    },
    {
     "data": {
      "text/html": [
       "<br>    <style><br>        .wandb-row {<br>            display: flex;<br>            flex-direction: row;<br>            flex-wrap: wrap;<br>            justify-content: flex-start;<br>            width: 100%;<br>        }<br>        .wandb-col {<br>            display: flex;<br>            flex-direction: column;<br>            flex-basis: 100%;<br>            flex: 1;<br>            padding: 10px;<br>        }<br>    </style><br><div class=\"wandb-row\"><div class=\"wandb-col\"><h3>Run history:</h3><br/><table class=\"wandb\"><tr><td>boundary_loss</td><td>██▆▂▂▁▁▁▁▁▁▁▁▁▁▁▁▁▁▁▁▁▁▁▁▁▁▁▁▁▁▁▁▁▁▁▁▁▁▁</td></tr><tr><td>epoch</td><td>▁▁▁▁▁▂▂▂▂▂▂▂▃▃▃▃▃▄▄▄▅▅▅▅▅▆▆▆▆▆▆▆▆▇▇▇▇███</td></tr><tr><td>learning_rate</td><td>████████▇▇▇▇▇▇▇▆▆▆▆▆▅▅▅▄▃▃▃▃▃▂▂▁▁▁▁▁▁▁▁▁</td></tr><tr><td>pde_loss</td><td>▃▇█▂▂▁▃▁▁▁▁▁▁▄▂▁▅▁▂▁▁▃▁▁▁▁▃▁▁▁▁▁▁▁▁▁▁▁▁▁</td></tr><tr><td>terminal_loss</td><td>▂▃▃▅▇█████▇▆▅▇▆▆▇▆▄▅▄▅▅▃▅▄▄▄▃▃▂▂▁▁▁▁▁▁▁▁</td></tr><tr><td>total_loss</td><td>█▂▁▁▁▁▁▁▁▁▁▁▁▁▁▁▁▁▁▁▁▁▁▁▁▁▁▁▁▁▁▁▁▁▁▁▁▁▁▁</td></tr></table><br/></div><div class=\"wandb-col\"><h3>Run summary:</h3><br/><table class=\"wandb\"><tr><td>boundary_loss</td><td>4.70007</td></tr><tr><td>epoch</td><td>4999</td></tr><tr><td>learning_rate</td><td>0.0</td></tr><tr><td>pde_loss</td><td>1.31431</td></tr><tr><td>terminal_loss</td><td>1574.6521</td></tr><tr><td>total_loss</td><td>80.35927</td></tr></table><br/></div></div>"
      ],
      "text/plain": [
       "<IPython.core.display.HTML object>"
      ]
     },
     "metadata": {},
     "output_type": "display_data"
    },
    {
     "data": {
      "text/html": [
       " View run <strong style=\"color:#cdcd00\">sleek-sweep-12</strong> at: <a href='https://wandb.ai/tobiassafie-drexel-university/Heston-Architecture-Sweeps/runs/gmc1bh0c' target=\"_blank\">https://wandb.ai/tobiassafie-drexel-university/Heston-Architecture-Sweeps/runs/gmc1bh0c</a><br> View project at: <a href='https://wandb.ai/tobiassafie-drexel-university/Heston-Architecture-Sweeps' target=\"_blank\">https://wandb.ai/tobiassafie-drexel-university/Heston-Architecture-Sweeps</a><br>Synced 5 W&B file(s), 0 media file(s), 0 artifact file(s) and 0 other file(s)"
      ],
      "text/plain": [
       "<IPython.core.display.HTML object>"
      ]
     },
     "metadata": {},
     "output_type": "display_data"
    },
    {
     "data": {
      "text/html": [
       "Find logs at: <code>.\\wandb\\run-20250813_161034-gmc1bh0c\\logs</code>"
      ],
      "text/plain": [
       "<IPython.core.display.HTML object>"
      ]
     },
     "metadata": {},
     "output_type": "display_data"
    },
    {
     "name": "stderr",
     "output_type": "stream",
     "text": [
      "wandb: Sweep Agent: Waiting for job.\n",
      "wandb: Job received.\n",
      "wandb: Agent Starting Run: sib93m3y with config:\n",
      "wandb: \tN_boundary: 500\n",
      "wandb: \tN_pde: 2500\n",
      "wandb: \tN_terminal: 500\n",
      "wandb: \thidden_layers: 2\n",
      "wandb: \tlearning_rate: 0.002533553138511793\n",
      "wandb: \tneurons_per_layer: 256\n",
      "wandb: \tnum_epochs: 5000\n",
      "wandb: \tw_boundary: 0.9\n",
      "wandb: \tw_pde: 10\n",
      "wandb: \tw_terminal: 0.04\n"
     ]
    },
    {
     "data": {
      "text/html": [
       "creating run (0.0s)"
      ],
      "text/plain": [
       "<IPython.core.display.HTML object>"
      ]
     },
     "metadata": {},
     "output_type": "display_data"
    },
    {
     "data": {
      "text/html": [
       "Tracking run with wandb version 0.21.0"
      ],
      "text/plain": [
       "<IPython.core.display.HTML object>"
      ]
     },
     "metadata": {},
     "output_type": "display_data"
    },
    {
     "data": {
      "text/html": [
       "Run data is saved locally in <code>c:\\Users\\tobys\\Desktop\\STAR\\dev_notebooks\\heston\\sweep\\wandb\\run-20250813_161922-sib93m3y</code>"
      ],
      "text/plain": [
       "<IPython.core.display.HTML object>"
      ]
     },
     "metadata": {},
     "output_type": "display_data"
    },
    {
     "data": {
      "text/html": [
       "Syncing run <strong><a href='https://wandb.ai/tobiassafie-drexel-university/Heston-Architecture-Sweeps/runs/sib93m3y' target=\"_blank\">major-sweep-13</a></strong> to <a href='https://wandb.ai/tobiassafie-drexel-university/Heston-Architecture-Sweeps' target=\"_blank\">Weights & Biases</a> (<a href='https://wandb.me/developer-guide' target=\"_blank\">docs</a>)<br>Sweep page: <a href='https://wandb.ai/tobiassafie-drexel-university/Heston-Architecture-Sweeps/sweeps/ohmo3dh6' target=\"_blank\">https://wandb.ai/tobiassafie-drexel-university/Heston-Architecture-Sweeps/sweeps/ohmo3dh6</a>"
      ],
      "text/plain": [
       "<IPython.core.display.HTML object>"
      ]
     },
     "metadata": {},
     "output_type": "display_data"
    },
    {
     "data": {
      "text/html": [
       " View project at <a href='https://wandb.ai/tobiassafie-drexel-university/Heston-Architecture-Sweeps' target=\"_blank\">https://wandb.ai/tobiassafie-drexel-university/Heston-Architecture-Sweeps</a>"
      ],
      "text/plain": [
       "<IPython.core.display.HTML object>"
      ]
     },
     "metadata": {},
     "output_type": "display_data"
    },
    {
     "data": {
      "text/html": [
       " View sweep at <a href='https://wandb.ai/tobiassafie-drexel-university/Heston-Architecture-Sweeps/sweeps/ohmo3dh6' target=\"_blank\">https://wandb.ai/tobiassafie-drexel-university/Heston-Architecture-Sweeps/sweeps/ohmo3dh6</a>"
      ],
      "text/plain": [
       "<IPython.core.display.HTML object>"
      ]
     },
     "metadata": {},
     "output_type": "display_data"
    },
    {
     "data": {
      "text/html": [
       " View run at <a href='https://wandb.ai/tobiassafie-drexel-university/Heston-Architecture-Sweeps/runs/sib93m3y' target=\"_blank\">https://wandb.ai/tobiassafie-drexel-university/Heston-Architecture-Sweeps/runs/sib93m3y</a>"
      ],
      "text/plain": [
       "<IPython.core.display.HTML object>"
      ]
     },
     "metadata": {},
     "output_type": "display_data"
    },
    {
     "data": {
      "text/html": [],
      "text/plain": [
       "<IPython.core.display.HTML object>"
      ]
     },
     "metadata": {},
     "output_type": "display_data"
    },
    {
     "data": {
      "text/html": [
       "<br>    <style><br>        .wandb-row {<br>            display: flex;<br>            flex-direction: row;<br>            flex-wrap: wrap;<br>            justify-content: flex-start;<br>            width: 100%;<br>        }<br>        .wandb-col {<br>            display: flex;<br>            flex-direction: column;<br>            flex-basis: 100%;<br>            flex: 1;<br>            padding: 10px;<br>        }<br>    </style><br><div class=\"wandb-row\"><div class=\"wandb-col\"><h3>Run history:</h3><br/><table class=\"wandb\"><tr><td>boundary_loss</td><td>█▂▂▁▁▁▁▁▁▁▁▁▁▁▁▁▁▁▁▁▁▁▁▁▁▁▁▁▁▁▁▁▁▁▁▁▁▁▁▁</td></tr><tr><td>epoch</td><td>▁▁▁▁▁▂▂▂▂▂▂▃▃▃▃▃▄▄▄▅▅▅▅▅▆▆▆▆▆▆▆▆▇▇▇▇▇▇██</td></tr><tr><td>learning_rate</td><td>██████▇▇▇▇▆▆▆▆▆▅▅▅▅▄▄▄▄▃▃▃▃▃▃▃▂▂▂▂▂▂▁▁▁▁</td></tr><tr><td>pde_loss</td><td>▂▂▂▂▁▁█▁▁▁▁▂▁▁▁▁▂▁▁▁▁▁▁▁▂▁▁▁▁▁▁▁▁▁▁▁▁▁▁▁</td></tr><tr><td>terminal_loss</td><td>▆█▇▆▆▄█▄▄▃▃▄▂█▇▅▃▃▃▃▃▂▂▂▂▁▁▁▁▁▁▁▁▁▁▁▁▁▁▁</td></tr><tr><td>total_loss</td><td>█▅▅▄▃▁▁▁▁▁▁▁▁▁▁▁▁▁▁▁▁▁▁▁▁▁▁▁▁▁▁▁▁▁▁▁▁▁▁▁</td></tr></table><br/></div><div class=\"wandb-col\"><h3>Run summary:</h3><br/><table class=\"wandb\"><tr><td>boundary_loss</td><td>0.62662</td></tr><tr><td>epoch</td><td>4999</td></tr><tr><td>learning_rate</td><td>0.0</td></tr><tr><td>pde_loss</td><td>0.1548</td></tr><tr><td>terminal_loss</td><td>99.42293</td></tr><tr><td>total_loss</td><td>6.08891</td></tr></table><br/></div></div>"
      ],
      "text/plain": [
       "<IPython.core.display.HTML object>"
      ]
     },
     "metadata": {},
     "output_type": "display_data"
    },
    {
     "data": {
      "text/html": [
       " View run <strong style=\"color:#cdcd00\">major-sweep-13</strong> at: <a href='https://wandb.ai/tobiassafie-drexel-university/Heston-Architecture-Sweeps/runs/sib93m3y' target=\"_blank\">https://wandb.ai/tobiassafie-drexel-university/Heston-Architecture-Sweeps/runs/sib93m3y</a><br> View project at: <a href='https://wandb.ai/tobiassafie-drexel-university/Heston-Architecture-Sweeps' target=\"_blank\">https://wandb.ai/tobiassafie-drexel-university/Heston-Architecture-Sweeps</a><br>Synced 5 W&B file(s), 0 media file(s), 0 artifact file(s) and 0 other file(s)"
      ],
      "text/plain": [
       "<IPython.core.display.HTML object>"
      ]
     },
     "metadata": {},
     "output_type": "display_data"
    },
    {
     "data": {
      "text/html": [
       "Find logs at: <code>.\\wandb\\run-20250813_161922-sib93m3y\\logs</code>"
      ],
      "text/plain": [
       "<IPython.core.display.HTML object>"
      ]
     },
     "metadata": {},
     "output_type": "display_data"
    },
    {
     "name": "stderr",
     "output_type": "stream",
     "text": [
      "wandb: Agent Starting Run: 67khlo5t with config:\n",
      "wandb: \tN_boundary: 500\n",
      "wandb: \tN_pde: 2500\n",
      "wandb: \tN_terminal: 500\n",
      "wandb: \thidden_layers: 2\n",
      "wandb: \tlearning_rate: 0.0036152476790930702\n",
      "wandb: \tneurons_per_layer: 256\n",
      "wandb: \tnum_epochs: 5000\n",
      "wandb: \tw_boundary: 0.9\n",
      "wandb: \tw_pde: 10\n",
      "wandb: \tw_terminal: 0.04\n"
     ]
    },
    {
     "data": {
      "text/html": [
       "creating run (0.1s)"
      ],
      "text/plain": [
       "<IPython.core.display.HTML object>"
      ]
     },
     "metadata": {},
     "output_type": "display_data"
    },
    {
     "data": {
      "text/html": [
       "Tracking run with wandb version 0.21.0"
      ],
      "text/plain": [
       "<IPython.core.display.HTML object>"
      ]
     },
     "metadata": {},
     "output_type": "display_data"
    },
    {
     "data": {
      "text/html": [
       "Run data is saved locally in <code>c:\\Users\\tobys\\Desktop\\STAR\\dev_notebooks\\heston\\sweep\\wandb\\run-20250813_162314-67khlo5t</code>"
      ],
      "text/plain": [
       "<IPython.core.display.HTML object>"
      ]
     },
     "metadata": {},
     "output_type": "display_data"
    },
    {
     "data": {
      "text/html": [
       "Syncing run <strong><a href='https://wandb.ai/tobiassafie-drexel-university/Heston-Architecture-Sweeps/runs/67khlo5t' target=\"_blank\">apricot-sweep-14</a></strong> to <a href='https://wandb.ai/tobiassafie-drexel-university/Heston-Architecture-Sweeps' target=\"_blank\">Weights & Biases</a> (<a href='https://wandb.me/developer-guide' target=\"_blank\">docs</a>)<br>Sweep page: <a href='https://wandb.ai/tobiassafie-drexel-university/Heston-Architecture-Sweeps/sweeps/ohmo3dh6' target=\"_blank\">https://wandb.ai/tobiassafie-drexel-university/Heston-Architecture-Sweeps/sweeps/ohmo3dh6</a>"
      ],
      "text/plain": [
       "<IPython.core.display.HTML object>"
      ]
     },
     "metadata": {},
     "output_type": "display_data"
    },
    {
     "data": {
      "text/html": [
       " View project at <a href='https://wandb.ai/tobiassafie-drexel-university/Heston-Architecture-Sweeps' target=\"_blank\">https://wandb.ai/tobiassafie-drexel-university/Heston-Architecture-Sweeps</a>"
      ],
      "text/plain": [
       "<IPython.core.display.HTML object>"
      ]
     },
     "metadata": {},
     "output_type": "display_data"
    },
    {
     "data": {
      "text/html": [
       " View sweep at <a href='https://wandb.ai/tobiassafie-drexel-university/Heston-Architecture-Sweeps/sweeps/ohmo3dh6' target=\"_blank\">https://wandb.ai/tobiassafie-drexel-university/Heston-Architecture-Sweeps/sweeps/ohmo3dh6</a>"
      ],
      "text/plain": [
       "<IPython.core.display.HTML object>"
      ]
     },
     "metadata": {},
     "output_type": "display_data"
    },
    {
     "data": {
      "text/html": [
       " View run at <a href='https://wandb.ai/tobiassafie-drexel-university/Heston-Architecture-Sweeps/runs/67khlo5t' target=\"_blank\">https://wandb.ai/tobiassafie-drexel-university/Heston-Architecture-Sweeps/runs/67khlo5t</a>"
      ],
      "text/plain": [
       "<IPython.core.display.HTML object>"
      ]
     },
     "metadata": {},
     "output_type": "display_data"
    },
    {
     "data": {
      "text/html": [],
      "text/plain": [
       "<IPython.core.display.HTML object>"
      ]
     },
     "metadata": {},
     "output_type": "display_data"
    },
    {
     "data": {
      "text/html": [
       "<br>    <style><br>        .wandb-row {<br>            display: flex;<br>            flex-direction: row;<br>            flex-wrap: wrap;<br>            justify-content: flex-start;<br>            width: 100%;<br>        }<br>        .wandb-col {<br>            display: flex;<br>            flex-direction: column;<br>            flex-basis: 100%;<br>            flex: 1;<br>            padding: 10px;<br>        }<br>    </style><br><div class=\"wandb-row\"><div class=\"wandb-col\"><h3>Run history:</h3><br/><table class=\"wandb\"><tr><td>boundary_loss</td><td>█▇▁▁▁▁▁▁▁▁▁▁▁▁▁▁▁▁▁▁▁▁▁▁▁▁▁▁▁▁▁▁▁▁▁▁▁▁▁▁</td></tr><tr><td>epoch</td><td>▁▁▁▁▁▂▂▂▃▃▃▃▄▄▄▄▅▅▅▅▅▅▆▆▆▆▆▆▆▆▆▇▇▇▇▇████</td></tr><tr><td>learning_rate</td><td>████████▇▇▇▇▆▆▆▆▆▅▅▅▄▄▄▄▄▄▄▄▃▂▂▂▂▂▁▁▁▁▁▁</td></tr><tr><td>pde_loss</td><td>▁▃▃▂▂▂▅▂▄█▁▂▂▂▂▁▄▂▅▁▁▁▁▂▁▁▁▁▁▁▁▁▁▁▁▁▁▁▁▁</td></tr><tr><td>terminal_loss</td><td>▅▆█▆▅▆▆▄▅▄▃▃▃▃▃▃▂▂▂▂▂▂▁▁▁▁▁▁▁▁▁▁▁▁▁▁▁▁▁▁</td></tr><tr><td>total_loss</td><td>█▃▂▁▁▁▁▁▁▁▁▁▁▁▁▁▁▁▁▁▁▁▁▁▁▁▁▁▁▁▁▁▁▁▁▁▁▁▁▁</td></tr></table><br/></div><div class=\"wandb-col\"><h3>Run summary:</h3><br/><table class=\"wandb\"><tr><td>boundary_loss</td><td>0.7679</td></tr><tr><td>epoch</td><td>4999</td></tr><tr><td>learning_rate</td><td>0.0</td></tr><tr><td>pde_loss</td><td>0.34199</td></tr><tr><td>terminal_loss</td><td>330.67172</td></tr><tr><td>total_loss</td><td>17.33784</td></tr></table><br/></div></div>"
      ],
      "text/plain": [
       "<IPython.core.display.HTML object>"
      ]
     },
     "metadata": {},
     "output_type": "display_data"
    },
    {
     "data": {
      "text/html": [
       " View run <strong style=\"color:#cdcd00\">apricot-sweep-14</strong> at: <a href='https://wandb.ai/tobiassafie-drexel-university/Heston-Architecture-Sweeps/runs/67khlo5t' target=\"_blank\">https://wandb.ai/tobiassafie-drexel-university/Heston-Architecture-Sweeps/runs/67khlo5t</a><br> View project at: <a href='https://wandb.ai/tobiassafie-drexel-university/Heston-Architecture-Sweeps' target=\"_blank\">https://wandb.ai/tobiassafie-drexel-university/Heston-Architecture-Sweeps</a><br>Synced 5 W&B file(s), 0 media file(s), 0 artifact file(s) and 0 other file(s)"
      ],
      "text/plain": [
       "<IPython.core.display.HTML object>"
      ]
     },
     "metadata": {},
     "output_type": "display_data"
    },
    {
     "data": {
      "text/html": [
       "Find logs at: <code>.\\wandb\\run-20250813_162314-67khlo5t\\logs</code>"
      ],
      "text/plain": [
       "<IPython.core.display.HTML object>"
      ]
     },
     "metadata": {},
     "output_type": "display_data"
    },
    {
     "name": "stderr",
     "output_type": "stream",
     "text": [
      "wandb: Agent Starting Run: xxytmfz1 with config:\n",
      "wandb: \tN_boundary: 500\n",
      "wandb: \tN_pde: 2500\n",
      "wandb: \tN_terminal: 500\n",
      "wandb: \thidden_layers: 2\n",
      "wandb: \tlearning_rate: 0.0032825135771763214\n",
      "wandb: \tneurons_per_layer: 256\n",
      "wandb: \tnum_epochs: 5000\n",
      "wandb: \tw_boundary: 0.9\n",
      "wandb: \tw_pde: 10\n",
      "wandb: \tw_terminal: 0.04\n"
     ]
    },
    {
     "data": {
      "text/html": [
       "Tracking run with wandb version 0.21.0"
      ],
      "text/plain": [
       "<IPython.core.display.HTML object>"
      ]
     },
     "metadata": {},
     "output_type": "display_data"
    },
    {
     "data": {
      "text/html": [
       "Run data is saved locally in <code>c:\\Users\\tobys\\Desktop\\STAR\\dev_notebooks\\heston\\sweep\\wandb\\run-20250813_162701-xxytmfz1</code>"
      ],
      "text/plain": [
       "<IPython.core.display.HTML object>"
      ]
     },
     "metadata": {},
     "output_type": "display_data"
    },
    {
     "data": {
      "text/html": [
       "Syncing run <strong><a href='https://wandb.ai/tobiassafie-drexel-university/Heston-Architecture-Sweeps/runs/xxytmfz1' target=\"_blank\">swept-sweep-15</a></strong> to <a href='https://wandb.ai/tobiassafie-drexel-university/Heston-Architecture-Sweeps' target=\"_blank\">Weights & Biases</a> (<a href='https://wandb.me/developer-guide' target=\"_blank\">docs</a>)<br>Sweep page: <a href='https://wandb.ai/tobiassafie-drexel-university/Heston-Architecture-Sweeps/sweeps/ohmo3dh6' target=\"_blank\">https://wandb.ai/tobiassafie-drexel-university/Heston-Architecture-Sweeps/sweeps/ohmo3dh6</a>"
      ],
      "text/plain": [
       "<IPython.core.display.HTML object>"
      ]
     },
     "metadata": {},
     "output_type": "display_data"
    },
    {
     "data": {
      "text/html": [
       " View project at <a href='https://wandb.ai/tobiassafie-drexel-university/Heston-Architecture-Sweeps' target=\"_blank\">https://wandb.ai/tobiassafie-drexel-university/Heston-Architecture-Sweeps</a>"
      ],
      "text/plain": [
       "<IPython.core.display.HTML object>"
      ]
     },
     "metadata": {},
     "output_type": "display_data"
    },
    {
     "data": {
      "text/html": [
       " View sweep at <a href='https://wandb.ai/tobiassafie-drexel-university/Heston-Architecture-Sweeps/sweeps/ohmo3dh6' target=\"_blank\">https://wandb.ai/tobiassafie-drexel-university/Heston-Architecture-Sweeps/sweeps/ohmo3dh6</a>"
      ],
      "text/plain": [
       "<IPython.core.display.HTML object>"
      ]
     },
     "metadata": {},
     "output_type": "display_data"
    },
    {
     "data": {
      "text/html": [
       " View run at <a href='https://wandb.ai/tobiassafie-drexel-university/Heston-Architecture-Sweeps/runs/xxytmfz1' target=\"_blank\">https://wandb.ai/tobiassafie-drexel-university/Heston-Architecture-Sweeps/runs/xxytmfz1</a>"
      ],
      "text/plain": [
       "<IPython.core.display.HTML object>"
      ]
     },
     "metadata": {},
     "output_type": "display_data"
    },
    {
     "data": {
      "text/html": [],
      "text/plain": [
       "<IPython.core.display.HTML object>"
      ]
     },
     "metadata": {},
     "output_type": "display_data"
    },
    {
     "data": {
      "text/html": [
       "<br>    <style><br>        .wandb-row {<br>            display: flex;<br>            flex-direction: row;<br>            flex-wrap: wrap;<br>            justify-content: flex-start;<br>            width: 100%;<br>        }<br>        .wandb-col {<br>            display: flex;<br>            flex-direction: column;<br>            flex-basis: 100%;<br>            flex: 1;<br>            padding: 10px;<br>        }<br>    </style><br><div class=\"wandb-row\"><div class=\"wandb-col\"><h3>Run history:</h3><br/><table class=\"wandb\"><tr><td>boundary_loss</td><td>█▄▁▁▁▁▁▁▂▁▁▁▁▁▁▁▁▁▁▁▁▁▁▁▁▁▁▁▁▁▁▁▁▁▁▁▁▁▁▁</td></tr><tr><td>epoch</td><td>▁▁▁▁▁▂▂▂▂▂▂▂▃▃▃▄▄▄▄▅▅▅▅▆▆▆▆▆▆▆▆▆▆▇▇▇▇███</td></tr><tr><td>learning_rate</td><td>███████▇▇▇▆▆▆▆▆▅▅▅▅▄▄▃▃▃▃▃▃▂▂▂▁▁▁▁▁▁▁▁▁▁</td></tr><tr><td>pde_loss</td><td>▄▃▂▂▂▂▂█▂▆▂▂▁▂▁▁▂▁▃▂▄▁▁▁▃▁▁▁▁▁▁▁▁▁▁▁▁▁▁▁</td></tr><tr><td>terminal_loss</td><td>▃▆█▆▆▅▅▅▄▄▄▄▄▃▃▆▄▃▃▃▂▂▂▂▂▁▁▁▁▁▁▁▁▁▁▁▁▁▁▁</td></tr><tr><td>total_loss</td><td>█▅▅▃▁▁▁▁▁▁▁▁▁▁▁▁▁▁▁▁▁▁▁▁▁▁▁▁▁▁▁▁▁▁▁▁▁▁▁▁</td></tr></table><br/></div><div class=\"wandb-col\"><h3>Run summary:</h3><br/><table class=\"wandb\"><tr><td>boundary_loss</td><td>0.91235</td></tr><tr><td>epoch</td><td>4999</td></tr><tr><td>learning_rate</td><td>0.0</td></tr><tr><td>pde_loss</td><td>0.20076</td></tr><tr><td>terminal_loss</td><td>161.27711</td></tr><tr><td>total_loss</td><td>9.27983</td></tr></table><br/></div></div>"
      ],
      "text/plain": [
       "<IPython.core.display.HTML object>"
      ]
     },
     "metadata": {},
     "output_type": "display_data"
    },
    {
     "data": {
      "text/html": [
       " View run <strong style=\"color:#cdcd00\">swept-sweep-15</strong> at: <a href='https://wandb.ai/tobiassafie-drexel-university/Heston-Architecture-Sweeps/runs/xxytmfz1' target=\"_blank\">https://wandb.ai/tobiassafie-drexel-university/Heston-Architecture-Sweeps/runs/xxytmfz1</a><br> View project at: <a href='https://wandb.ai/tobiassafie-drexel-university/Heston-Architecture-Sweeps' target=\"_blank\">https://wandb.ai/tobiassafie-drexel-university/Heston-Architecture-Sweeps</a><br>Synced 5 W&B file(s), 0 media file(s), 0 artifact file(s) and 0 other file(s)"
      ],
      "text/plain": [
       "<IPython.core.display.HTML object>"
      ]
     },
     "metadata": {},
     "output_type": "display_data"
    },
    {
     "data": {
      "text/html": [
       "Find logs at: <code>.\\wandb\\run-20250813_162701-xxytmfz1\\logs</code>"
      ],
      "text/plain": [
       "<IPython.core.display.HTML object>"
      ]
     },
     "metadata": {},
     "output_type": "display_data"
    },
    {
     "name": "stderr",
     "output_type": "stream",
     "text": [
      "wandb: Agent Starting Run: rgcj3dkk with config:\n",
      "wandb: \tN_boundary: 500\n",
      "wandb: \tN_pde: 2500\n",
      "wandb: \tN_terminal: 500\n",
      "wandb: \thidden_layers: 4\n",
      "wandb: \tlearning_rate: 0.0038751185801645218\n",
      "wandb: \tneurons_per_layer: 256\n",
      "wandb: \tnum_epochs: 5000\n",
      "wandb: \tw_boundary: 0.9\n",
      "wandb: \tw_pde: 10\n",
      "wandb: \tw_terminal: 0.04\n"
     ]
    },
    {
     "data": {
      "text/html": [
       "Tracking run with wandb version 0.21.0"
      ],
      "text/plain": [
       "<IPython.core.display.HTML object>"
      ]
     },
     "metadata": {},
     "output_type": "display_data"
    },
    {
     "data": {
      "text/html": [
       "Run data is saved locally in <code>c:\\Users\\tobys\\Desktop\\STAR\\dev_notebooks\\heston\\sweep\\wandb\\run-20250813_163109-rgcj3dkk</code>"
      ],
      "text/plain": [
       "<IPython.core.display.HTML object>"
      ]
     },
     "metadata": {},
     "output_type": "display_data"
    },
    {
     "data": {
      "text/html": [
       "Syncing run <strong><a href='https://wandb.ai/tobiassafie-drexel-university/Heston-Architecture-Sweeps/runs/rgcj3dkk' target=\"_blank\">helpful-sweep-16</a></strong> to <a href='https://wandb.ai/tobiassafie-drexel-university/Heston-Architecture-Sweeps' target=\"_blank\">Weights & Biases</a> (<a href='https://wandb.me/developer-guide' target=\"_blank\">docs</a>)<br>Sweep page: <a href='https://wandb.ai/tobiassafie-drexel-university/Heston-Architecture-Sweeps/sweeps/ohmo3dh6' target=\"_blank\">https://wandb.ai/tobiassafie-drexel-university/Heston-Architecture-Sweeps/sweeps/ohmo3dh6</a>"
      ],
      "text/plain": [
       "<IPython.core.display.HTML object>"
      ]
     },
     "metadata": {},
     "output_type": "display_data"
    },
    {
     "data": {
      "text/html": [
       " View project at <a href='https://wandb.ai/tobiassafie-drexel-university/Heston-Architecture-Sweeps' target=\"_blank\">https://wandb.ai/tobiassafie-drexel-university/Heston-Architecture-Sweeps</a>"
      ],
      "text/plain": [
       "<IPython.core.display.HTML object>"
      ]
     },
     "metadata": {},
     "output_type": "display_data"
    },
    {
     "data": {
      "text/html": [
       " View sweep at <a href='https://wandb.ai/tobiassafie-drexel-university/Heston-Architecture-Sweeps/sweeps/ohmo3dh6' target=\"_blank\">https://wandb.ai/tobiassafie-drexel-university/Heston-Architecture-Sweeps/sweeps/ohmo3dh6</a>"
      ],
      "text/plain": [
       "<IPython.core.display.HTML object>"
      ]
     },
     "metadata": {},
     "output_type": "display_data"
    },
    {
     "data": {
      "text/html": [
       " View run at <a href='https://wandb.ai/tobiassafie-drexel-university/Heston-Architecture-Sweeps/runs/rgcj3dkk' target=\"_blank\">https://wandb.ai/tobiassafie-drexel-university/Heston-Architecture-Sweeps/runs/rgcj3dkk</a>"
      ],
      "text/plain": [
       "<IPython.core.display.HTML object>"
      ]
     },
     "metadata": {},
     "output_type": "display_data"
    },
    {
     "name": "stderr",
     "output_type": "stream",
     "text": [
      "wandb: Network error (ConnectionError), entering retry loop.\n"
     ]
    },
    {
     "data": {
      "text/html": [],
      "text/plain": [
       "<IPython.core.display.HTML object>"
      ]
     },
     "metadata": {},
     "output_type": "display_data"
    },
    {
     "data": {
      "text/html": [
       "<br>    <style><br>        .wandb-row {<br>            display: flex;<br>            flex-direction: row;<br>            flex-wrap: wrap;<br>            justify-content: flex-start;<br>            width: 100%;<br>        }<br>        .wandb-col {<br>            display: flex;<br>            flex-direction: column;<br>            flex-basis: 100%;<br>            flex: 1;<br>            padding: 10px;<br>        }<br>    </style><br><div class=\"wandb-row\"><div class=\"wandb-col\"><h3>Run history:</h3><br/><table class=\"wandb\"><tr><td>boundary_loss</td><td>█▂▂▁▁▁▁▁▁▁▁▁▁▁▂▁▁▁▁▁▁▁▁▁▁▁▁▁▁▁▁▁▁▁▁▁▁▁▁▁</td></tr><tr><td>epoch</td><td>▁▁▁▁▁▂▂▂▃▃▃▃▃▄▄▄▄▄▄▄▅▅▅▅▅▅▅▅▆▆▆▆▇▇▇▇▇███</td></tr><tr><td>learning_rate</td><td>█████████▇▇▇▇▇▇▆▅▅▅▅▄▄▃▃▃▃▂▂▂▂▂▂▂▁▁▁▁▁▁▁</td></tr><tr><td>pde_loss</td><td>▄▆▇▅▂▂▁▁█▁▁▁▁▁▁▁▁▁▃▂▁▁▁▁▂▂▁▁▁▁▁▁▁▁▁▁▁▁▁▁</td></tr><tr><td>terminal_loss</td><td>▁█▇▆▇▇▇██▇▅▆▆▆▅▅▆▅▅▅▅▅▆▆▅▇▇▆▆▅▃▃▂▂▂▁▁▁▁▁</td></tr><tr><td>total_loss</td><td>▃▂▂▂▂▂▂▂▂▂▂█▄▄▃▂▂▂▂▂▂▂▂▂▁▁▂▂▁▁▂▂▂▂▂▁▁▁▁▁</td></tr></table><br/></div><div class=\"wandb-col\"><h3>Run summary:</h3><br/><table class=\"wandb\"><tr><td>boundary_loss</td><td>52.09462</td></tr><tr><td>epoch</td><td>4999</td></tr><tr><td>learning_rate</td><td>0.0</td></tr><tr><td>pde_loss</td><td>1.7632</td></tr><tr><td>terminal_loss</td><td>3525.20532</td></tr><tr><td>total_loss</td><td>205.52542</td></tr></table><br/></div></div>"
      ],
      "text/plain": [
       "<IPython.core.display.HTML object>"
      ]
     },
     "metadata": {},
     "output_type": "display_data"
    },
    {
     "data": {
      "text/html": [
       " View run <strong style=\"color:#cdcd00\">helpful-sweep-16</strong> at: <a href='https://wandb.ai/tobiassafie-drexel-university/Heston-Architecture-Sweeps/runs/rgcj3dkk' target=\"_blank\">https://wandb.ai/tobiassafie-drexel-university/Heston-Architecture-Sweeps/runs/rgcj3dkk</a><br> View project at: <a href='https://wandb.ai/tobiassafie-drexel-university/Heston-Architecture-Sweeps' target=\"_blank\">https://wandb.ai/tobiassafie-drexel-university/Heston-Architecture-Sweeps</a><br>Synced 3 W&B file(s), 0 media file(s), 0 artifact file(s) and 0 other file(s)"
      ],
      "text/plain": [
       "<IPython.core.display.HTML object>"
      ]
     },
     "metadata": {},
     "output_type": "display_data"
    },
    {
     "data": {
      "text/html": [
       "Find logs at: <code>.\\wandb\\run-20250813_163109-rgcj3dkk\\logs</code>"
      ],
      "text/plain": [
       "<IPython.core.display.HTML object>"
      ]
     },
     "metadata": {},
     "output_type": "display_data"
    },
    {
     "name": "stderr",
     "output_type": "stream",
     "text": [
      "wandb: Sweep Agent: Waiting for job.\n",
      "wandb: Job received.\n",
      "wandb: Agent Starting Run: kjz81z85 with config:\n",
      "wandb: \tN_boundary: 500\n",
      "wandb: \tN_pde: 2500\n",
      "wandb: \tN_terminal: 500\n",
      "wandb: \thidden_layers: 2\n",
      "wandb: \tlearning_rate: 0.0032193946935970257\n",
      "wandb: \tneurons_per_layer: 256\n",
      "wandb: \tnum_epochs: 5000\n",
      "wandb: \tw_boundary: 0.9\n",
      "wandb: \tw_pde: 10\n",
      "wandb: \tw_terminal: 0.04\n"
     ]
    },
    {
     "data": {
      "text/html": [
       "Tracking run with wandb version 0.21.0"
      ],
      "text/plain": [
       "<IPython.core.display.HTML object>"
      ]
     },
     "metadata": {},
     "output_type": "display_data"
    },
    {
     "data": {
      "text/html": [
       "Run data is saved locally in <code>c:\\Users\\tobys\\Desktop\\STAR\\dev_notebooks\\heston\\sweep\\wandb\\run-20250813_171608-kjz81z85</code>"
      ],
      "text/plain": [
       "<IPython.core.display.HTML object>"
      ]
     },
     "metadata": {},
     "output_type": "display_data"
    },
    {
     "data": {
      "text/html": [
       "Syncing run <strong><a href='https://wandb.ai/tobiassafie-drexel-university/Heston-Architecture-Sweeps/runs/kjz81z85' target=\"_blank\">autumn-sweep-17</a></strong> to <a href='https://wandb.ai/tobiassafie-drexel-university/Heston-Architecture-Sweeps' target=\"_blank\">Weights & Biases</a> (<a href='https://wandb.me/developer-guide' target=\"_blank\">docs</a>)<br>Sweep page: <a href='https://wandb.ai/tobiassafie-drexel-university/Heston-Architecture-Sweeps/sweeps/ohmo3dh6' target=\"_blank\">https://wandb.ai/tobiassafie-drexel-university/Heston-Architecture-Sweeps/sweeps/ohmo3dh6</a>"
      ],
      "text/plain": [
       "<IPython.core.display.HTML object>"
      ]
     },
     "metadata": {},
     "output_type": "display_data"
    },
    {
     "data": {
      "text/html": [
       " View project at <a href='https://wandb.ai/tobiassafie-drexel-university/Heston-Architecture-Sweeps' target=\"_blank\">https://wandb.ai/tobiassafie-drexel-university/Heston-Architecture-Sweeps</a>"
      ],
      "text/plain": [
       "<IPython.core.display.HTML object>"
      ]
     },
     "metadata": {},
     "output_type": "display_data"
    },
    {
     "data": {
      "text/html": [
       " View sweep at <a href='https://wandb.ai/tobiassafie-drexel-university/Heston-Architecture-Sweeps/sweeps/ohmo3dh6' target=\"_blank\">https://wandb.ai/tobiassafie-drexel-university/Heston-Architecture-Sweeps/sweeps/ohmo3dh6</a>"
      ],
      "text/plain": [
       "<IPython.core.display.HTML object>"
      ]
     },
     "metadata": {},
     "output_type": "display_data"
    },
    {
     "data": {
      "text/html": [
       " View run at <a href='https://wandb.ai/tobiassafie-drexel-university/Heston-Architecture-Sweeps/runs/kjz81z85' target=\"_blank\">https://wandb.ai/tobiassafie-drexel-university/Heston-Architecture-Sweeps/runs/kjz81z85</a>"
      ],
      "text/plain": [
       "<IPython.core.display.HTML object>"
      ]
     },
     "metadata": {},
     "output_type": "display_data"
    },
    {
     "data": {
      "text/html": [],
      "text/plain": [
       "<IPython.core.display.HTML object>"
      ]
     },
     "metadata": {},
     "output_type": "display_data"
    },
    {
     "data": {
      "text/html": [
       "<br>    <style><br>        .wandb-row {<br>            display: flex;<br>            flex-direction: row;<br>            flex-wrap: wrap;<br>            justify-content: flex-start;<br>            width: 100%;<br>        }<br>        .wandb-col {<br>            display: flex;<br>            flex-direction: column;<br>            flex-basis: 100%;<br>            flex: 1;<br>            padding: 10px;<br>        }<br>    </style><br><div class=\"wandb-row\"><div class=\"wandb-col\"><h3>Run history:</h3><br/><table class=\"wandb\"><tr><td>boundary_loss</td><td>█▄▃▃▂▁▁▁▁▁▁▁▁▁▁▁▁▁▁▁▁▁▁▁▁▁▁▁▁▁▁▁▁▁▁▁▁▁▁▁</td></tr><tr><td>epoch</td><td>▁▁▁▁▂▂▂▂▃▃▃▃▃▃▃▄▄▄▄▄▅▅▅▅▅▅▅▅▆▆▆▆▆▆▇▇▇███</td></tr><tr><td>learning_rate</td><td>██████████▇▇▇▇▇▇▇▇▆▆▅▄▄▄▄▃▃▃▃▃▂▂▂▂▁▁▁▁▁▁</td></tr><tr><td>pde_loss</td><td>▅▅▃▂▂▁▁▂▁▁▃█▂▁▁▁▁▄▁▂▃▁▁▁▁▁▁▁▁▁▁▁▁▁▁▁▁▁▁▁</td></tr><tr><td>terminal_loss</td><td>▃▇▇█▅▆▅▄▆▅▄▃▃▄▃▃▃▃▃▃▂▂▂▂▃▁▁▁▁▁▁▁▁▁▁▁▁▁▁▁</td></tr><tr><td>total_loss</td><td>█▅▅▄▁▁▁▁▁▁▁▁▁▁▁▁▁▁▁▁▁▁▁▁▁▁▁▁▁▁▁▁▁▁▁▁▁▁▁▁</td></tr></table><br/></div><div class=\"wandb-col\"><h3>Run summary:</h3><br/><table class=\"wandb\"><tr><td>boundary_loss</td><td>0.97275</td></tr><tr><td>epoch</td><td>4999</td></tr><tr><td>learning_rate</td><td>0.0</td></tr><tr><td>pde_loss</td><td>0.22996</td></tr><tr><td>terminal_loss</td><td>206.76691</td></tr><tr><td>total_loss</td><td>11.44575</td></tr></table><br/></div></div>"
      ],
      "text/plain": [
       "<IPython.core.display.HTML object>"
      ]
     },
     "metadata": {},
     "output_type": "display_data"
    },
    {
     "data": {
      "text/html": [
       " View run <strong style=\"color:#cdcd00\">autumn-sweep-17</strong> at: <a href='https://wandb.ai/tobiassafie-drexel-university/Heston-Architecture-Sweeps/runs/kjz81z85' target=\"_blank\">https://wandb.ai/tobiassafie-drexel-university/Heston-Architecture-Sweeps/runs/kjz81z85</a><br> View project at: <a href='https://wandb.ai/tobiassafie-drexel-university/Heston-Architecture-Sweeps' target=\"_blank\">https://wandb.ai/tobiassafie-drexel-university/Heston-Architecture-Sweeps</a><br>Synced 5 W&B file(s), 0 media file(s), 0 artifact file(s) and 0 other file(s)"
      ],
      "text/plain": [
       "<IPython.core.display.HTML object>"
      ]
     },
     "metadata": {},
     "output_type": "display_data"
    },
    {
     "data": {
      "text/html": [
       "Find logs at: <code>.\\wandb\\run-20250813_171608-kjz81z85\\logs</code>"
      ],
      "text/plain": [
       "<IPython.core.display.HTML object>"
      ]
     },
     "metadata": {},
     "output_type": "display_data"
    },
    {
     "name": "stderr",
     "output_type": "stream",
     "text": [
      "wandb: Agent Starting Run: 5g30mvny with config:\n",
      "wandb: \tN_boundary: 500\n",
      "wandb: \tN_pde: 2500\n",
      "wandb: \tN_terminal: 500\n",
      "wandb: \thidden_layers: 2\n",
      "wandb: \tlearning_rate: 0.002114907748307748\n",
      "wandb: \tneurons_per_layer: 256\n",
      "wandb: \tnum_epochs: 5000\n",
      "wandb: \tw_boundary: 0.9\n",
      "wandb: \tw_pde: 10\n",
      "wandb: \tw_terminal: 0.04\n"
     ]
    },
    {
     "data": {
      "text/html": [
       "Tracking run with wandb version 0.21.0"
      ],
      "text/plain": [
       "<IPython.core.display.HTML object>"
      ]
     },
     "metadata": {},
     "output_type": "display_data"
    },
    {
     "data": {
      "text/html": [
       "Run data is saved locally in <code>c:\\Users\\tobys\\Desktop\\STAR\\dev_notebooks\\heston\\sweep\\wandb\\run-20250813_172027-5g30mvny</code>"
      ],
      "text/plain": [
       "<IPython.core.display.HTML object>"
      ]
     },
     "metadata": {},
     "output_type": "display_data"
    },
    {
     "data": {
      "text/html": [
       "Syncing run <strong><a href='https://wandb.ai/tobiassafie-drexel-university/Heston-Architecture-Sweeps/runs/5g30mvny' target=\"_blank\">zany-sweep-18</a></strong> to <a href='https://wandb.ai/tobiassafie-drexel-university/Heston-Architecture-Sweeps' target=\"_blank\">Weights & Biases</a> (<a href='https://wandb.me/developer-guide' target=\"_blank\">docs</a>)<br>Sweep page: <a href='https://wandb.ai/tobiassafie-drexel-university/Heston-Architecture-Sweeps/sweeps/ohmo3dh6' target=\"_blank\">https://wandb.ai/tobiassafie-drexel-university/Heston-Architecture-Sweeps/sweeps/ohmo3dh6</a>"
      ],
      "text/plain": [
       "<IPython.core.display.HTML object>"
      ]
     },
     "metadata": {},
     "output_type": "display_data"
    },
    {
     "data": {
      "text/html": [
       " View project at <a href='https://wandb.ai/tobiassafie-drexel-university/Heston-Architecture-Sweeps' target=\"_blank\">https://wandb.ai/tobiassafie-drexel-university/Heston-Architecture-Sweeps</a>"
      ],
      "text/plain": [
       "<IPython.core.display.HTML object>"
      ]
     },
     "metadata": {},
     "output_type": "display_data"
    },
    {
     "data": {
      "text/html": [
       " View sweep at <a href='https://wandb.ai/tobiassafie-drexel-university/Heston-Architecture-Sweeps/sweeps/ohmo3dh6' target=\"_blank\">https://wandb.ai/tobiassafie-drexel-university/Heston-Architecture-Sweeps/sweeps/ohmo3dh6</a>"
      ],
      "text/plain": [
       "<IPython.core.display.HTML object>"
      ]
     },
     "metadata": {},
     "output_type": "display_data"
    },
    {
     "data": {
      "text/html": [
       " View run at <a href='https://wandb.ai/tobiassafie-drexel-university/Heston-Architecture-Sweeps/runs/5g30mvny' target=\"_blank\">https://wandb.ai/tobiassafie-drexel-university/Heston-Architecture-Sweeps/runs/5g30mvny</a>"
      ],
      "text/plain": [
       "<IPython.core.display.HTML object>"
      ]
     },
     "metadata": {},
     "output_type": "display_data"
    },
    {
     "name": "stderr",
     "output_type": "stream",
     "text": [
      "wandb: Network error (ConnectionError), entering retry loop.\n"
     ]
    },
    {
     "data": {
      "text/html": [],
      "text/plain": [
       "<IPython.core.display.HTML object>"
      ]
     },
     "metadata": {},
     "output_type": "display_data"
    },
    {
     "data": {
      "text/html": [
       "<br>    <style><br>        .wandb-row {<br>            display: flex;<br>            flex-direction: row;<br>            flex-wrap: wrap;<br>            justify-content: flex-start;<br>            width: 100%;<br>        }<br>        .wandb-col {<br>            display: flex;<br>            flex-direction: column;<br>            flex-basis: 100%;<br>            flex: 1;<br>            padding: 10px;<br>        }<br>    </style><br><div class=\"wandb-row\"><div class=\"wandb-col\"><h3>Run history:</h3><br/><table class=\"wandb\"><tr><td>boundary_loss</td><td>██▇▃▃▁▁▁▁▁▁▁▁▁▁▁▁▁▁▁▁▁▁▁▁▁▁▁▁▁▁▁▁▁▁▁▁▁▁▁</td></tr><tr><td>epoch</td><td>▁▁▁▁▁▂▂▂▂▂▂▃▃▃▃▃▃▄▄▄▅▅▅▅▅▅▅▆▆▆▆▇▇▇▇█████</td></tr><tr><td>learning_rate</td><td>██████▇▇▇▇▇▇▆▆▆▆▆▅▅▅▅▅▄▄▄▃▂▂▂▂▂▁▁▁▁▁▁▁▁▁</td></tr><tr><td>pde_loss</td><td>▁▂▅▆▆▆█▂▃▂▂▂▄▅▂▃▂▂▆▂▂▂▁▂▂▂▂▂▃▂▁▂▂▁▁▁▁▁▁▁</td></tr><tr><td>terminal_loss</td><td>▃▄▄▇▇█▇▆▄▄▃▂▃▃▂▂▂▂▂▂█▇▂▂▂▁▁▁▁▁▁▁▁▁▁▁▁▁▁▁</td></tr><tr><td>total_loss</td><td>█▇▂▁▁▁▁▁▁▁▁▁▁▁▄▁▁▁▁▁▁▁▁▂▁▁▁▁▁▁▁▁▁▁▁▁▁▁▁▁</td></tr></table><br/></div><div class=\"wandb-col\"><h3>Run summary:</h3><br/><table class=\"wandb\"><tr><td>boundary_loss</td><td>2.30636</td></tr><tr><td>epoch</td><td>4999</td></tr><tr><td>learning_rate</td><td>0.0</td></tr><tr><td>pde_loss</td><td>0.26588</td></tr><tr><td>terminal_loss</td><td>242.29294</td></tr><tr><td>total_loss</td><td>14.42624</td></tr></table><br/></div></div>"
      ],
      "text/plain": [
       "<IPython.core.display.HTML object>"
      ]
     },
     "metadata": {},
     "output_type": "display_data"
    },
    {
     "data": {
      "text/html": [
       " View run <strong style=\"color:#cdcd00\">zany-sweep-18</strong> at: <a href='https://wandb.ai/tobiassafie-drexel-university/Heston-Architecture-Sweeps/runs/5g30mvny' target=\"_blank\">https://wandb.ai/tobiassafie-drexel-university/Heston-Architecture-Sweeps/runs/5g30mvny</a><br> View project at: <a href='https://wandb.ai/tobiassafie-drexel-university/Heston-Architecture-Sweeps' target=\"_blank\">https://wandb.ai/tobiassafie-drexel-university/Heston-Architecture-Sweeps</a><br>Synced 2 W&B file(s), 0 media file(s), 0 artifact file(s) and 0 other file(s)"
      ],
      "text/plain": [
       "<IPython.core.display.HTML object>"
      ]
     },
     "metadata": {},
     "output_type": "display_data"
    },
    {
     "data": {
      "text/html": [
       "Find logs at: <code>.\\wandb\\run-20250813_172027-5g30mvny\\logs</code>"
      ],
      "text/plain": [
       "<IPython.core.display.HTML object>"
      ]
     },
     "metadata": {},
     "output_type": "display_data"
    },
    {
     "name": "stderr",
     "output_type": "stream",
     "text": [
      "wandb: Sweep Agent: Waiting for job.\n",
      "wandb: Job received.\n",
      "wandb: Agent Starting Run: uw8hsxdk with config:\n",
      "wandb: \tN_boundary: 500\n",
      "wandb: \tN_pde: 2500\n",
      "wandb: \tN_terminal: 500\n",
      "wandb: \thidden_layers: 4\n",
      "wandb: \tlearning_rate: 0.0045400665632477286\n",
      "wandb: \tneurons_per_layer: 256\n",
      "wandb: \tnum_epochs: 5000\n",
      "wandb: \tw_boundary: 0.9\n",
      "wandb: \tw_pde: 10\n",
      "wandb: \tw_terminal: 0.04\n"
     ]
    },
    {
     "data": {
      "text/html": [
       "Tracking run with wandb version 0.21.0"
      ],
      "text/plain": [
       "<IPython.core.display.HTML object>"
      ]
     },
     "metadata": {},
     "output_type": "display_data"
    },
    {
     "data": {
      "text/html": [
       "Run data is saved locally in <code>c:\\Users\\tobys\\Desktop\\STAR\\dev_notebooks\\heston\\sweep\\wandb\\run-20250813_183234-uw8hsxdk</code>"
      ],
      "text/plain": [
       "<IPython.core.display.HTML object>"
      ]
     },
     "metadata": {},
     "output_type": "display_data"
    },
    {
     "data": {
      "text/html": [
       "Syncing run <strong><a href='https://wandb.ai/tobiassafie-drexel-university/Heston-Architecture-Sweeps/runs/uw8hsxdk' target=\"_blank\">good-sweep-19</a></strong> to <a href='https://wandb.ai/tobiassafie-drexel-university/Heston-Architecture-Sweeps' target=\"_blank\">Weights & Biases</a> (<a href='https://wandb.me/developer-guide' target=\"_blank\">docs</a>)<br>Sweep page: <a href='https://wandb.ai/tobiassafie-drexel-university/Heston-Architecture-Sweeps/sweeps/ohmo3dh6' target=\"_blank\">https://wandb.ai/tobiassafie-drexel-university/Heston-Architecture-Sweeps/sweeps/ohmo3dh6</a>"
      ],
      "text/plain": [
       "<IPython.core.display.HTML object>"
      ]
     },
     "metadata": {},
     "output_type": "display_data"
    },
    {
     "data": {
      "text/html": [
       " View project at <a href='https://wandb.ai/tobiassafie-drexel-university/Heston-Architecture-Sweeps' target=\"_blank\">https://wandb.ai/tobiassafie-drexel-university/Heston-Architecture-Sweeps</a>"
      ],
      "text/plain": [
       "<IPython.core.display.HTML object>"
      ]
     },
     "metadata": {},
     "output_type": "display_data"
    },
    {
     "data": {
      "text/html": [
       " View sweep at <a href='https://wandb.ai/tobiassafie-drexel-university/Heston-Architecture-Sweeps/sweeps/ohmo3dh6' target=\"_blank\">https://wandb.ai/tobiassafie-drexel-university/Heston-Architecture-Sweeps/sweeps/ohmo3dh6</a>"
      ],
      "text/plain": [
       "<IPython.core.display.HTML object>"
      ]
     },
     "metadata": {},
     "output_type": "display_data"
    },
    {
     "data": {
      "text/html": [
       " View run at <a href='https://wandb.ai/tobiassafie-drexel-university/Heston-Architecture-Sweeps/runs/uw8hsxdk' target=\"_blank\">https://wandb.ai/tobiassafie-drexel-university/Heston-Architecture-Sweeps/runs/uw8hsxdk</a>"
      ],
      "text/plain": [
       "<IPython.core.display.HTML object>"
      ]
     },
     "metadata": {},
     "output_type": "display_data"
    }
   ],
   "source": [
    "import torch\n",
    "import torch.nn as nn\n",
    "import torch.optim as optim\n",
    "from torch.optim.lr_scheduler import CosineAnnealingLR\n",
    "import time\n",
    "import wandb\n",
    "\n",
    "wandb.login(key='601e2bae7faf9f70cd48f1c1ae9ed183b5193d1c')\n",
    "\n",
    "# =============================================================================\n",
    "# 1. PARAMETERS (GLOBAL)\n",
    "# These are fixed for all sweep runs.\n",
    "# =============================================================================\n",
    "r = 0.05\n",
    "sigma = 0.2\n",
    "K = 100.0\n",
    "T = 1.0\n",
    "theta = sigma**2\n",
    "v_0 = sigma**2\n",
    "kappa = 2.0\n",
    "sigma_v = 0.3\n",
    "rho = -0.7\n",
    "S_min, S_max = 0.0, 250.0\n",
    "v_min, v_max = 0.0, 1.0\n",
    "t_min, t_max = 0.0, T\n",
    "\n",
    "# =============================================================================\n",
    "# 2. NEURAL NETWORK MODEL\n",
    "# =============================================================================\n",
    "class HestonPINN(nn.Module):\n",
    "    def __init__(self, input_dim=3, output_dim=1, hidden_layers=4, neurons_per_layer=64, activation_fn=nn.Tanh()):\n",
    "        super().__init__()\n",
    "        layers = [nn.Linear(input_dim, neurons_per_layer), activation_fn]\n",
    "        for _ in range(hidden_layers - 1):\n",
    "            layers.append(nn.Linear(neurons_per_layer, neurons_per_layer))\n",
    "            layers.append(activation_fn)\n",
    "        layers.append(nn.Linear(neurons_per_layer, output_dim))\n",
    "        self.net = nn.Sequential(*layers)\n",
    "\n",
    "    def forward(self, S, v, t):\n",
    "        x = torch.cat([S, v, t], dim=1)\n",
    "        return self.net(x)\n",
    "\n",
    "# =============================================================================\n",
    "# 3. LOSS FUNCTIONS\n",
    "# =============================================================================\n",
    "def pde_loss(model, S, v, t):\n",
    "    C = model(S, v, t)\n",
    "    C_t = torch.autograd.grad(C, t, grad_outputs=torch.ones_like(C), create_graph=True)[0]\n",
    "    C_S = torch.autograd.grad(C, S, grad_outputs=torch.ones_like(C), create_graph=True)[0]\n",
    "    C_v = torch.autograd.grad(C, v, grad_outputs=torch.ones_like(C), create_graph=True)[0]\n",
    "    C_SS = torch.autograd.grad(C_S, S, grad_outputs=torch.ones_like(C_S), create_graph=True)[0]\n",
    "    C_vv = torch.autograd.grad(C_v, v, grad_outputs=torch.ones_like(C_v), create_graph=True)[0]\n",
    "    C_Sv = torch.autograd.grad(C_S, v, grad_outputs=torch.ones_like(C_S), create_graph=True)[0]\n",
    "    pde_residual = (C_t + r * S * C_S + kappa * (theta - v) * C_v + 0.5 * v * S**2 * C_SS + 0.5 * sigma_v**2 * v * C_vv + rho * sigma_v * v * S * C_Sv - r * C)\n",
    "    return torch.mean(pde_residual**2)\n",
    "\n",
    "def boundary_loss(model, v_bc, t_bc):\n",
    "    S_zero = torch.zeros_like(t_bc).requires_grad_()\n",
    "    C_at_S_zero = model(S_zero, v_bc, t_bc)\n",
    "    loss_S_zero = torch.mean(C_at_S_zero**2)\n",
    "    S_at_max = (torch.ones_like(t_bc) * S_max).requires_grad_()\n",
    "    C_at_S_max_pred = model(S_at_max, v_bc, t_bc)\n",
    "    C_at_S_max_true = S_at_max - K * torch.exp(-r * (T - t_bc))\n",
    "    loss_S_max = torch.mean((C_at_S_max_pred - C_at_S_max_true)**2)\n",
    "    return loss_S_zero + loss_S_max\n",
    "\n",
    "def terminal_loss(model, S_tc, v_tc):\n",
    "    t_terminal = (torch.ones_like(S_tc) * T).requires_grad_()\n",
    "    C_pred = model(S_tc, v_tc, t_terminal)\n",
    "    C_true = torch.clamp(S_tc - K, min=0)\n",
    "    return torch.mean((C_pred - C_true)**2)\n",
    "\n",
    "# =============================================================================\n",
    "# 4. SWEEP TRAINING FUNCTION\n",
    "# =============================================================================\n",
    "def train_pinn_sweep():\n",
    "    wandb.init()\n",
    "    config = wandb.config\n",
    "\n",
    "    model = HestonPINN(\n",
    "        hidden_layers=config.hidden_layers,\n",
    "        neurons_per_layer=config.neurons_per_layer\n",
    "    )\n",
    "    optimizer = optim.Adam(model.parameters(), lr=config.learning_rate)\n",
    "\n",
    "    # Set T_max to the total number of epochs for one full cycle.\n",
    "    scheduler = CosineAnnealingLR(optimizer, T_max=config.num_epochs, eta_min=1e-7)\n",
    "\n",
    "\n",
    "    for epoch in range(config.num_epochs):\n",
    "        optimizer.zero_grad()\n",
    "        \n",
    "        S_pde = (torch.rand(config.N_pde, 1) * S_max).requires_grad_()\n",
    "        v_pde = (torch.rand(config.N_pde, 1) * v_max).requires_grad_()\n",
    "        t_pde = (torch.rand(config.N_pde, 1) * T).requires_grad_()\n",
    "        loss_pde_val = pde_loss(model, S_pde, v_pde, t_pde)\n",
    "\n",
    "        v_bc = (torch.rand(config.N_boundary, 1) * v_max).requires_grad_()\n",
    "        t_bc = (torch.rand(config.N_boundary, 1) * T).requires_grad_()\n",
    "        loss_bc_val = boundary_loss(model, v_bc, t_bc)\n",
    "\n",
    "        S_tc = (torch.rand(config.N_terminal, 1) * S_max).requires_grad_()\n",
    "        v_tc = (torch.rand(config.N_terminal, 1) * v_max).requires_grad_()\n",
    "        loss_tc_val = terminal_loss(model, S_tc, v_tc)\n",
    "        \n",
    "        total_loss = (config.w_pde * loss_pde_val) + (config.w_boundary * loss_bc_val) + (config.w_terminal * loss_tc_val)\n",
    "        \n",
    "        total_loss.backward()\n",
    "        optimizer.step()\n",
    "        scheduler.step()\n",
    "        \n",
    "        wandb.log({\n",
    "            \"epoch\": epoch,\n",
    "            \"total_loss\": total_loss.item(),\n",
    "            \"pde_loss\": loss_pde_val.item(),\n",
    "            \"boundary_loss\": loss_bc_val.item(),\n",
    "            \"terminal_loss\": loss_tc_val.item(),\n",
    "            \"learning_rate\": optimizer.param_groups[0]['lr']\n",
    "        })\n",
    "\n",
    "    wandb.finish()\n",
    "\n",
    "# =============================================================================\n",
    "# 5. SWEEP CONFIGURATION\n",
    "# =============================================================================\n",
    "def generate_sweep_config(flags, defaults):\n",
    "    sweep_config = {\n",
    "        'method': flags['sweep_method'],\n",
    "        'metric': {'name': 'terminal_loss', 'goal': 'minimize'},\n",
    "        'parameters': {}\n",
    "    }\n",
    "    \n",
    "    params = sweep_config['parameters']\n",
    "    \n",
    "    # --- Hyperparameters to sweep ---\n",
    "    if flags['sweep_hidden_layers']:\n",
    "        params['hidden_layers'] = {'distribution': 'q_uniform', 'min': 2, 'max': 8, 'q': 2}\n",
    "    else:\n",
    "        params['hidden_layers'] = {'value': defaults['hidden_layers']}\n",
    "\n",
    "    if flags['sweep_neurons_per_layer']:\n",
    "        # CORRECTED: Use 'values' for categorical choices in random/bayes sweeps\n",
    "        params['neurons_per_layer'] = {'values': [32, 64, 128, 256]}\n",
    "    else:\n",
    "        params['neurons_per_layer'] = {'value': defaults['neurons_per_layer']}\n",
    "    \n",
    "    if flags['sweep_learning_rate']:\n",
    "        params['learning_rate'] = {'distribution': 'log_uniform_values', 'min': 1e-5, 'max': 1e-2}\n",
    "    else:\n",
    "        params['learning_rate'] = {'value': defaults['learning_rate']}\n",
    "        \n",
    "    # --- Loss weights to sweep ---\n",
    "    if flags['sweep_w_pde']:\n",
    "        params['w_pde'] = {'distribution': 'uniform', 'min': 1.0, 'max': 10.0}\n",
    "    else:\n",
    "        params['w_pde'] = {'value': defaults['w_pde']}\n",
    "\n",
    "    if flags['sweep_w_boundary']:\n",
    "        params['w_boundary'] = {'distribution': 'uniform', 'min': 0.001, 'max': 2.0}\n",
    "    else:\n",
    "        params['w_boundary'] = {'value': defaults['w_boundary']}\n",
    "\n",
    "    if flags['sweep_w_terminal']:\n",
    "        params['w_terminal'] = {'distribution': 'uniform', 'min': 0.001, 'max': 2.0}\n",
    "    else:\n",
    "        params['w_terminal'] = {'value': defaults['w_terminal']}\n",
    "\n",
    "    # --- Fixed parameters for all runs ---\n",
    "    params['num_epochs'] = {'value': defaults['num_epochs']}\n",
    "    params['N_pde'] = {'value': defaults['N_pde']}\n",
    "    params['N_boundary'] = {'value': defaults['N_boundary']}\n",
    "    params['N_terminal'] = {'value': defaults['N_terminal']}\n",
    "    \n",
    "    return sweep_config\n",
    "\n",
    "# =============================================================================\n",
    "# 6. MAIN EXECUTION BLOCK\n",
    "# =============================================================================\n",
    "if __name__ == '__main__':\n",
    "    # --- Login to W&B ---\n",
    "    # Make sure to set your API key\n",
    "    # wandb.login(key='YOUR_API_KEY')\n",
    "\n",
    "    # --- Flags to toggle which hyperparameters to sweep ---\n",
    "    config_flags = {\n",
    "        'sweep_hidden_layers': True,\n",
    "        'sweep_neurons_per_layer': True,\n",
    "        'sweep_learning_rate': True,\n",
    "        'sweep_w_pde': False,\n",
    "        'sweep_w_boundary': False,\n",
    "        'sweep_w_terminal': False,\n",
    "        'sweep_method': 'bayes'  # 'random', 'bayes', or 'grid'\n",
    "    }\n",
    "\n",
    "    # --- Default values if a parameter is not being swept ---\n",
    "    fixed_defaults = {\n",
    "        'hidden_layers': 4,\n",
    "        'neurons_per_layer': 32,\n",
    "        'learning_rate': 0.0024,\n",
    "        'w_pde': 10.0,\n",
    "        'w_boundary': 0.9,\n",
    "        'w_terminal': 0.04,\n",
    "        'num_epochs': 5000, # Reduced for quicker sweep runs\n",
    "        'N_pde': 2500,\n",
    "        'N_boundary': 500,\n",
    "        'N_terminal': 500\n",
    "    }\n",
    "    \n",
    "    num_sweeps = 25 # How many runs you want the agent to execute\n",
    "\n",
    "    # --- Generate config and run sweep ---\n",
    "    sweep_config = generate_sweep_config(config_flags, fixed_defaults)\n",
    "    sweep_id = wandb.sweep(sweep_config, project=\"Heston-Architecture-Sweeps\")\n",
    "    wandb.agent(sweep_id, function=train_pinn_sweep, count=num_sweeps)\n"
   ]
  },
  {
   "cell_type": "code",
   "execution_count": null,
   "id": "b3573447",
   "metadata": {},
   "outputs": [],
   "source": []
  }
 ],
 "metadata": {
  "kernelspec": {
   "display_name": "star-pinn",
   "language": "python",
   "name": "python3"
  },
  "language_info": {
   "codemirror_mode": {
    "name": "ipython",
    "version": 3
   },
   "file_extension": ".py",
   "mimetype": "text/x-python",
   "name": "python",
   "nbconvert_exporter": "python",
   "pygments_lexer": "ipython3",
   "version": "3.10.18"
  }
 },
 "nbformat": 4,
 "nbformat_minor": 5
}
