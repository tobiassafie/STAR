{
 "cells": [
  {
   "cell_type": "markdown",
   "id": "2cfbd214",
   "metadata": {},
   "source": [
    "# **Heston PINN**\n",
    "---\n",
    "\n",
    "\n",
    "$$\n",
    "\\frac{\\partial V}{\\partial t} + rS \\frac{\\partial V}{\\partial S} + \\rho\\sigma v S \\frac{\\partial^2 V}{\\partial S \\partial v} + \\frac{1}{2}S^2 v \\frac{\\partial^2 V}{\\partial S^2} + \\frac{1}{2}\\sigma^2 v \\frac{\\partial^2 V}{\\partial v^2} + \\kappa(\\theta - v) \\frac{\\partial V}{\\partial v} - rV = 0\n",
    "$$\n",
    "<center>\n",
    "\n",
    "**Heston PDE**\n",
    "</center>\n",
    "\n",
    "Where:\n",
    "* $V$: Option price (a function of $S$, $v$, and $t$)\n",
    "* $t$: Time\n",
    "* $S$: Price of the underlying asset\n",
    "* $v$: Instantaneous variance of the underlying asset (volatility squared)\n",
    "* $r$: Risk-free interest rate\n",
    "* $\\rho$: Correlation between the Brownian motion of the asset price and its variance\n",
    "* $\\sigma$: Volatility of the variance (volatility of volatility)\n",
    "* $\\kappa$: Rate at which the variance $v$ reverts to its long-term mean $\\theta$\n",
    "* $\\theta$: Long-term mean variance\n",
    "\n",
    "---"
   ]
  },
  {
   "cell_type": "code",
   "execution_count": null,
   "id": "c46e0709",
   "metadata": {},
   "outputs": [
    {
     "name": "stdout",
     "output_type": "stream",
     "text": [
      "Create sweep with ID: 3wf2g0zy\n",
      "Sweep URL: https://wandb.ai/tobiassafie-drexel-university/Heston-PINN-Sweeps/sweeps/3wf2g0zy\n"
     ]
    },
    {
     "name": "stderr",
     "output_type": "stream",
     "text": [
      "wandb: Agent Starting Run: 75o7sfb1 with config:\n",
      "wandb: \tN_boundary: 500\n",
      "wandb: \tN_pde: 2500\n",
      "wandb: \tN_terminal: 500\n",
      "wandb: \thidden_layers: 6\n",
      "wandb: \tlearning_rate: 0.00010050402331139494\n",
      "wandb: \tneurons_per_layer: 64\n",
      "wandb: \tnum_epochs: 5000\n",
      "wandb: \tw_boundary: 1\n",
      "wandb: \tw_pde: 1\n",
      "wandb: \tw_terminal: 1\n"
     ]
    },
    {
     "data": {
      "text/html": [
       "Tracking run with wandb version 0.21.0"
      ],
      "text/plain": [
       "<IPython.core.display.HTML object>"
      ]
     },
     "metadata": {},
     "output_type": "display_data"
    },
    {
     "data": {
      "text/html": [
       "Run data is saved locally in <code>c:\\Users\\tobys\\OneDrive\\Desktop\\STAR\\dev_notebooks\\heston\\sweep\\wandb\\run-20250812_215900-75o7sfb1</code>"
      ],
      "text/plain": [
       "<IPython.core.display.HTML object>"
      ]
     },
     "metadata": {},
     "output_type": "display_data"
    },
    {
     "data": {
      "text/html": [
       "Syncing run <strong><a href='https://wandb.ai/tobiassafie-drexel-university/Heston-PINN-Sweeps/runs/75o7sfb1' target=\"_blank\">efficient-sweep-1</a></strong> to <a href='https://wandb.ai/tobiassafie-drexel-university/Heston-PINN-Sweeps' target=\"_blank\">Weights & Biases</a> (<a href='https://wandb.me/developer-guide' target=\"_blank\">docs</a>)<br>Sweep page: <a href='https://wandb.ai/tobiassafie-drexel-university/Heston-PINN-Sweeps/sweeps/3wf2g0zy' target=\"_blank\">https://wandb.ai/tobiassafie-drexel-university/Heston-PINN-Sweeps/sweeps/3wf2g0zy</a>"
      ],
      "text/plain": [
       "<IPython.core.display.HTML object>"
      ]
     },
     "metadata": {},
     "output_type": "display_data"
    },
    {
     "data": {
      "text/html": [
       " View project at <a href='https://wandb.ai/tobiassafie-drexel-university/Heston-PINN-Sweeps' target=\"_blank\">https://wandb.ai/tobiassafie-drexel-university/Heston-PINN-Sweeps</a>"
      ],
      "text/plain": [
       "<IPython.core.display.HTML object>"
      ]
     },
     "metadata": {},
     "output_type": "display_data"
    },
    {
     "data": {
      "text/html": [
       " View sweep at <a href='https://wandb.ai/tobiassafie-drexel-university/Heston-PINN-Sweeps/sweeps/3wf2g0zy' target=\"_blank\">https://wandb.ai/tobiassafie-drexel-university/Heston-PINN-Sweeps/sweeps/3wf2g0zy</a>"
      ],
      "text/plain": [
       "<IPython.core.display.HTML object>"
      ]
     },
     "metadata": {},
     "output_type": "display_data"
    },
    {
     "data": {
      "text/html": [
       " View run at <a href='https://wandb.ai/tobiassafie-drexel-university/Heston-PINN-Sweeps/runs/75o7sfb1' target=\"_blank\">https://wandb.ai/tobiassafie-drexel-university/Heston-PINN-Sweeps/runs/75o7sfb1</a>"
      ],
      "text/plain": [
       "<IPython.core.display.HTML object>"
      ]
     },
     "metadata": {},
     "output_type": "display_data"
    },
    {
     "data": {
      "text/html": [],
      "text/plain": [
       "<IPython.core.display.HTML object>"
      ]
     },
     "metadata": {},
     "output_type": "display_data"
    },
    {
     "data": {
      "text/html": [
       "<br>    <style><br>        .wandb-row {<br>            display: flex;<br>            flex-direction: row;<br>            flex-wrap: wrap;<br>            justify-content: flex-start;<br>            width: 100%;<br>        }<br>        .wandb-col {<br>            display: flex;<br>            flex-direction: column;<br>            flex-basis: 100%;<br>            flex: 1;<br>            padding: 10px;<br>        }<br>    </style><br><div class=\"wandb-row\"><div class=\"wandb-col\"><h3>Run history:</h3><br/><table class=\"wandb\"><tr><td>boundary_loss</td><td>██▇▇▇▇▆▆▆▅▅▅▅▄▄▄▄▄▄▃▃▃▃▃▃▃▃▂▂▂▂▂▂▂▂▂▁▁▁▁</td></tr><tr><td>epoch</td><td>▁▁▁▁▁▂▂▂▂▂▂▃▃▃▃▃▄▄▄▅▅▅▅▅▅▆▆▆▆▆▇▇▇▇▇█████</td></tr><tr><td>learning_rate</td><td>▁▁▁▁▁▁▁▁▁▁▁▁▁▁▁▁▁▁▁▁▁▁▁▁▁▁▁▁▁▁▁▁▁▁▁▁▁▁▁▁</td></tr><tr><td>pde_loss</td><td>▁▁▁▁▁▁▁▁▁▁▁▁▁▁▁▁▁▁▁▄▄▃▄▄▄▅▅▆▇▆▇▇▆▇▇▇█▇██</td></tr><tr><td>terminal_loss</td><td>█▆▇▆▅▆▄▆▇▆▆▅▅▆▆▅▅▅▅▄▅▅▄▄▄▂▃▃▄▃▃▃▂▄▁▃▂▂▃▂</td></tr><tr><td>total_loss</td><td>██▇▆▆▆▆▆▆▆▅▅▅▅▅▄▄▄▄▄▃▃▃▃▃▃▂▂▂▂▂▂▂▂▂▁▁▁▁▁</td></tr></table><br/></div><div class=\"wandb-col\"><h3>Run summary:</h3><br/><table class=\"wandb\"><tr><td>boundary_loss</td><td>13436.1084</td></tr><tr><td>epoch</td><td>4999</td></tr><tr><td>learning_rate</td><td>0.0001</td></tr><tr><td>pde_loss</td><td>64.09062</td></tr><tr><td>terminal_loss</td><td>2072.25195</td></tr><tr><td>total_loss</td><td>15572.45117</td></tr></table><br/></div></div>"
      ],
      "text/plain": [
       "<IPython.core.display.HTML object>"
      ]
     },
     "metadata": {},
     "output_type": "display_data"
    },
    {
     "data": {
      "text/html": [
       " View run <strong style=\"color:#cdcd00\">efficient-sweep-1</strong> at: <a href='https://wandb.ai/tobiassafie-drexel-university/Heston-PINN-Sweeps/runs/75o7sfb1' target=\"_blank\">https://wandb.ai/tobiassafie-drexel-university/Heston-PINN-Sweeps/runs/75o7sfb1</a><br> View project at: <a href='https://wandb.ai/tobiassafie-drexel-university/Heston-PINN-Sweeps' target=\"_blank\">https://wandb.ai/tobiassafie-drexel-university/Heston-PINN-Sweeps</a><br>Synced 5 W&B file(s), 0 media file(s), 0 artifact file(s) and 0 other file(s)"
      ],
      "text/plain": [
       "<IPython.core.display.HTML object>"
      ]
     },
     "metadata": {},
     "output_type": "display_data"
    },
    {
     "data": {
      "text/html": [
       "Find logs at: <code>.\\wandb\\run-20250812_215900-75o7sfb1\\logs</code>"
      ],
      "text/plain": [
       "<IPython.core.display.HTML object>"
      ]
     },
     "metadata": {},
     "output_type": "display_data"
    },
    {
     "name": "stderr",
     "output_type": "stream",
     "text": [
      "wandb: Agent Starting Run: plfukiqa with config:\n",
      "wandb: \tN_boundary: 500\n",
      "wandb: \tN_pde: 2500\n",
      "wandb: \tN_terminal: 500\n",
      "wandb: \thidden_layers: 6\n",
      "wandb: \tlearning_rate: 0.0010131573479054854\n",
      "wandb: \tneurons_per_layer: 128\n",
      "wandb: \tnum_epochs: 5000\n",
      "wandb: \tw_boundary: 1\n",
      "wandb: \tw_pde: 1\n",
      "wandb: \tw_terminal: 1\n"
     ]
    },
    {
     "data": {
      "text/html": [
       "Tracking run with wandb version 0.21.0"
      ],
      "text/plain": [
       "<IPython.core.display.HTML object>"
      ]
     },
     "metadata": {},
     "output_type": "display_data"
    },
    {
     "data": {
      "text/html": [
       "Run data is saved locally in <code>c:\\Users\\tobys\\OneDrive\\Desktop\\STAR\\dev_notebooks\\heston\\sweep\\wandb\\run-20250812_220304-plfukiqa</code>"
      ],
      "text/plain": [
       "<IPython.core.display.HTML object>"
      ]
     },
     "metadata": {},
     "output_type": "display_data"
    },
    {
     "data": {
      "text/html": [
       "Syncing run <strong><a href='https://wandb.ai/tobiassafie-drexel-university/Heston-PINN-Sweeps/runs/plfukiqa' target=\"_blank\">glowing-sweep-2</a></strong> to <a href='https://wandb.ai/tobiassafie-drexel-university/Heston-PINN-Sweeps' target=\"_blank\">Weights & Biases</a> (<a href='https://wandb.me/developer-guide' target=\"_blank\">docs</a>)<br>Sweep page: <a href='https://wandb.ai/tobiassafie-drexel-university/Heston-PINN-Sweeps/sweeps/3wf2g0zy' target=\"_blank\">https://wandb.ai/tobiassafie-drexel-university/Heston-PINN-Sweeps/sweeps/3wf2g0zy</a>"
      ],
      "text/plain": [
       "<IPython.core.display.HTML object>"
      ]
     },
     "metadata": {},
     "output_type": "display_data"
    },
    {
     "data": {
      "text/html": [
       " View project at <a href='https://wandb.ai/tobiassafie-drexel-university/Heston-PINN-Sweeps' target=\"_blank\">https://wandb.ai/tobiassafie-drexel-university/Heston-PINN-Sweeps</a>"
      ],
      "text/plain": [
       "<IPython.core.display.HTML object>"
      ]
     },
     "metadata": {},
     "output_type": "display_data"
    },
    {
     "data": {
      "text/html": [
       " View sweep at <a href='https://wandb.ai/tobiassafie-drexel-university/Heston-PINN-Sweeps/sweeps/3wf2g0zy' target=\"_blank\">https://wandb.ai/tobiassafie-drexel-university/Heston-PINN-Sweeps/sweeps/3wf2g0zy</a>"
      ],
      "text/plain": [
       "<IPython.core.display.HTML object>"
      ]
     },
     "metadata": {},
     "output_type": "display_data"
    },
    {
     "data": {
      "text/html": [
       " View run at <a href='https://wandb.ai/tobiassafie-drexel-university/Heston-PINN-Sweeps/runs/plfukiqa' target=\"_blank\">https://wandb.ai/tobiassafie-drexel-university/Heston-PINN-Sweeps/runs/plfukiqa</a>"
      ],
      "text/plain": [
       "<IPython.core.display.HTML object>"
      ]
     },
     "metadata": {},
     "output_type": "display_data"
    }
   ],
   "source": [
    "import torch\n",
    "import torch.nn as nn\n",
    "import torch.optim as optim\n",
    "import time\n",
    "import wandb\n",
    "\n",
    "wandb.login(key='601e2bae7faf9f70cd48f1c1ae9ed183b5193d1c')\n",
    "\n",
    "# =============================================================================\n",
    "# 1. PARAMETERS (GLOBAL)\n",
    "# These are fixed for all sweep runs.\n",
    "# =============================================================================\n",
    "r = 0.05\n",
    "sigma = 0.2\n",
    "K = 100.0\n",
    "T = 1.0\n",
    "theta = sigma**2\n",
    "v_0 = sigma**2\n",
    "kappa = 2.0\n",
    "sigma_v = 0.3\n",
    "rho = -0.7\n",
    "S_min, S_max = 0.0, 250.0\n",
    "v_min, v_max = 0.0, 1.0\n",
    "t_min, t_max = 0.0, T\n",
    "\n",
    "# =============================================================================\n",
    "# 2. NEURAL NETWORK MODEL\n",
    "# =============================================================================\n",
    "class HestonPINN(nn.Module):\n",
    "    def __init__(self, input_dim=3, output_dim=1, hidden_layers=4, neurons_per_layer=64, activation_fn=nn.Tanh()):\n",
    "        super().__init__()\n",
    "        layers = [nn.Linear(input_dim, neurons_per_layer), activation_fn]\n",
    "        for _ in range(hidden_layers - 1):\n",
    "            layers.append(nn.Linear(neurons_per_layer, neurons_per_layer))\n",
    "            layers.append(activation_fn)\n",
    "        layers.append(nn.Linear(neurons_per_layer, output_dim))\n",
    "        self.net = nn.Sequential(*layers)\n",
    "\n",
    "    def forward(self, S, v, t):\n",
    "        x = torch.cat([S, v, t], dim=1)\n",
    "        return self.net(x)\n",
    "\n",
    "# =============================================================================\n",
    "# 3. LOSS FUNCTIONS\n",
    "# =============================================================================\n",
    "def pde_loss(model, S, v, t):\n",
    "    C = model(S, v, t)\n",
    "    C_t = torch.autograd.grad(C, t, grad_outputs=torch.ones_like(C), create_graph=True)[0]\n",
    "    C_S = torch.autograd.grad(C, S, grad_outputs=torch.ones_like(C), create_graph=True)[0]\n",
    "    C_v = torch.autograd.grad(C, v, grad_outputs=torch.ones_like(C), create_graph=True)[0]\n",
    "    C_SS = torch.autograd.grad(C_S, S, grad_outputs=torch.ones_like(C_S), create_graph=True)[0]\n",
    "    C_vv = torch.autograd.grad(C_v, v, grad_outputs=torch.ones_like(C_v), create_graph=True)[0]\n",
    "    C_Sv = torch.autograd.grad(C_S, v, grad_outputs=torch.ones_like(C_S), create_graph=True)[0]\n",
    "    pde_residual = (C_t + r * S * C_S + kappa * (theta - v) * C_v + 0.5 * v * S**2 * C_SS + 0.5 * sigma_v**2 * v * C_vv + rho * sigma_v * v * S * C_Sv - r * C)\n",
    "    return torch.mean(pde_residual**2)\n",
    "\n",
    "def boundary_loss(model, v_bc, t_bc):\n",
    "    S_zero = torch.zeros_like(t_bc).requires_grad_()\n",
    "    C_at_S_zero = model(S_zero, v_bc, t_bc)\n",
    "    loss_S_zero = torch.mean(C_at_S_zero**2)\n",
    "    S_at_max = (torch.ones_like(t_bc) * S_max).requires_grad_()\n",
    "    C_at_S_max_pred = model(S_at_max, v_bc, t_bc)\n",
    "    C_at_S_max_true = S_at_max - K * torch.exp(-r * (T - t_bc))\n",
    "    loss_S_max = torch.mean((C_at_S_max_pred - C_at_S_max_true)**2)\n",
    "    return loss_S_zero + loss_S_max\n",
    "\n",
    "def terminal_loss(model, S_tc, v_tc):\n",
    "    t_terminal = (torch.ones_like(S_tc) * T).requires_grad_()\n",
    "    C_pred = model(S_tc, v_tc, t_terminal)\n",
    "    C_true = torch.clamp(S_tc - K, min=0)\n",
    "    return torch.mean((C_pred - C_true)**2)\n",
    "\n",
    "# =============================================================================\n",
    "# 4. SWEEP TRAINING FUNCTION\n",
    "# =============================================================================\n",
    "def train_pinn_sweep():\n",
    "    wandb.init()\n",
    "    config = wandb.config\n",
    "\n",
    "    model = HestonPINN(\n",
    "        hidden_layers=config.hidden_layers,\n",
    "        neurons_per_layer=config.neurons_per_layer\n",
    "    )\n",
    "    optimizer = optim.Adam(model.parameters(), lr=config.learning_rate)\n",
    "\n",
    "    for epoch in range(config.num_epochs):\n",
    "        optimizer.zero_grad()\n",
    "        \n",
    "        S_pde = (torch.rand(config.N_pde, 1) * S_max).requires_grad_()\n",
    "        v_pde = (torch.rand(config.N_pde, 1) * v_max).requires_grad_()\n",
    "        t_pde = (torch.rand(config.N_pde, 1) * T).requires_grad_()\n",
    "        loss_pde_val = pde_loss(model, S_pde, v_pde, t_pde)\n",
    "\n",
    "        v_bc = (torch.rand(config.N_boundary, 1) * v_max).requires_grad_()\n",
    "        t_bc = (torch.rand(config.N_boundary, 1) * T).requires_grad_()\n",
    "        loss_bc_val = boundary_loss(model, v_bc, t_bc)\n",
    "\n",
    "        S_tc = (torch.rand(config.N_terminal, 1) * S_max).requires_grad_()\n",
    "        v_tc = (torch.rand(config.N_terminal, 1) * v_max).requires_grad_()\n",
    "        loss_tc_val = terminal_loss(model, S_tc, v_tc)\n",
    "        \n",
    "        total_loss = (config.w_pde * loss_pde_val) + (config.w_boundary * loss_bc_val) + (config.w_terminal * loss_tc_val)\n",
    "        \n",
    "        total_loss.backward()\n",
    "        optimizer.step()\n",
    "        \n",
    "        wandb.log({\n",
    "            \"epoch\": epoch,\n",
    "            \"total_loss\": total_loss.item(),\n",
    "            \"pde_loss\": loss_pde_val.item(),\n",
    "            \"boundary_loss\": loss_bc_val.item(),\n",
    "            \"terminal_loss\": loss_tc_val.item(),\n",
    "            \"learning_rate\": optimizer.param_groups[0]['lr']\n",
    "        })\n",
    "\n",
    "    wandb.finish()\n",
    "\n",
    "# =============================================================================\n",
    "# 5. SWEEP CONFIGURATION\n",
    "# =============================================================================\n",
    "def generate_sweep_config(flags, defaults):\n",
    "    sweep_config = {\n",
    "        'method': flags['sweep_method'],\n",
    "        'metric': {'name': 'total_loss', 'goal': 'minimize'},\n",
    "        'parameters': {}\n",
    "    }\n",
    "    \n",
    "    params = sweep_config['parameters']\n",
    "    \n",
    "    # --- Hyperparameters to sweep ---\n",
    "    if flags['sweep_hidden_layers']:\n",
    "        params['hidden_layers'] = {'distribution': 'q_uniform', 'min': 2, 'max': 8, 'q': 2}\n",
    "    else:\n",
    "        params['hidden_layers'] = {'value': defaults['hidden_layers']}\n",
    "\n",
    "    if flags['sweep_neurons_per_layer']:\n",
    "        # CORRECTED: Use 'values' for categorical choices in random/bayes sweeps\n",
    "        params['neurons_per_layer'] = {'values': [32, 64, 128, 256]}\n",
    "    else:\n",
    "        params['neurons_per_layer'] = {'value': defaults['neurons_per_layer']}\n",
    "    \n",
    "    if flags['sweep_learning_rate']:\n",
    "        params['learning_rate'] = {'distribution': 'log_uniform_values', 'min': 1e-5, 'max': 1e-2}\n",
    "    else:\n",
    "        params['learning_rate'] = {'value': defaults['learning_rate']}\n",
    "        \n",
    "    # --- Loss weights to sweep ---\n",
    "    if flags['sweep_w_pde']:\n",
    "        params['w_pde'] = {'distribution': 'uniform', 'min': 0.5, 'max': 2.0}\n",
    "    else:\n",
    "        params['w_pde'] = {'value': defaults['w_pde']}\n",
    "\n",
    "    if flags['sweep_w_boundary']:\n",
    "        params['w_boundary'] = {'distribution': 'uniform', 'min': 0.5, 'max': 2.0}\n",
    "    else:\n",
    "        params['w_boundary'] = {'value': defaults['w_boundary']}\n",
    "\n",
    "    if flags['sweep_w_terminal']:\n",
    "        params['w_terminal'] = {'distribution': 'uniform', 'min': 0.5, 'max': 2.0}\n",
    "    else:\n",
    "        params['w_terminal'] = {'value': defaults['w_terminal']}\n",
    "\n",
    "    # --- Fixed parameters for all runs ---\n",
    "    params['num_epochs'] = {'value': defaults['num_epochs']}\n",
    "    params['N_pde'] = {'value': defaults['N_pde']}\n",
    "    params['N_boundary'] = {'value': defaults['N_boundary']}\n",
    "    params['N_terminal'] = {'value': defaults['N_terminal']}\n",
    "    \n",
    "    return sweep_config\n",
    "\n",
    "# =============================================================================\n",
    "# 6. MAIN EXECUTION BLOCK\n",
    "# =============================================================================\n",
    "if __name__ == '__main__':\n",
    "    # --- Login to W&B ---\n",
    "    # Make sure to set your API key\n",
    "    # wandb.login(key='YOUR_API_KEY')\n",
    "\n",
    "    # --- Flags to toggle which hyperparameters to sweep ---\n",
    "    config_flags = {\n",
    "        'sweep_hidden_layers': True,\n",
    "        'sweep_neurons_per_layer': True,\n",
    "        'sweep_learning_rate': True,\n",
    "        'sweep_w_pde': False,\n",
    "        'sweep_w_boundary': False,\n",
    "        'sweep_w_terminal': False,\n",
    "        'sweep_method': 'bayes'  # 'random', 'bayes', or 'grid'\n",
    "    }\n",
    "\n",
    "    # --- Default values if a parameter is not being swept ---\n",
    "    fixed_defaults = {\n",
    "        'hidden_layers': 4,\n",
    "        'neurons_per_layer': 64,\n",
    "        'learning_rate': 0.001,\n",
    "        'w_pde': 1.0,\n",
    "        'w_boundary': 1.0,\n",
    "        'w_terminal': 1.0,\n",
    "        'num_epochs': 5000, # Reduced for quicker sweep runs\n",
    "        'N_pde': 2500,\n",
    "        'N_boundary': 500,\n",
    "        'N_terminal': 500\n",
    "    }\n",
    "    \n",
    "    num_sweeps = 25 # How many runs you want the agent to execute\n",
    "\n",
    "    # --- Generate config and run sweep ---\n",
    "    sweep_config = generate_sweep_config(config_flags, fixed_defaults)\n",
    "    sweep_id = wandb.sweep(sweep_config, project=\"Heston-PINN-Sweeps\")\n",
    "    wandb.agent(sweep_id, function=train_pinn_sweep, count=num_sweeps)\n"
   ]
  }
 ],
 "metadata": {
  "kernelspec": {
   "display_name": "star-pinn",
   "language": "python",
   "name": "python3"
  },
  "language_info": {
   "codemirror_mode": {
    "name": "ipython",
    "version": 3
   },
   "file_extension": ".py",
   "mimetype": "text/x-python",
   "name": "python",
   "nbconvert_exporter": "python",
   "pygments_lexer": "ipython3",
   "version": "3.10.18"
  }
 },
 "nbformat": 4,
 "nbformat_minor": 5
}
