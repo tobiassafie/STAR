{
 "cells": [
  {
   "cell_type": "markdown",
   "id": "75aacad3",
   "metadata": {},
   "source": [
    "## **1D Diffusion Approximated via PINN**\n",
    "**6/23**\n",
    "<br>\n",
    "Utilizing Pytorch and Torchdyn libraries in order to create a PINN that will approximate our test case (1D diffusion). To do: benchmark speed and accuracy of each solution in a singular notebook/script."
   ]
  },
  {
   "cell_type": "markdown",
   "id": "7df01d6d",
   "metadata": {},
   "source": [
    "$$\\frac{\\partial u}{\\partial t} = D \\frac{\\partial^2 u}{\\partial x^2}$$"
   ]
  },
  {
   "cell_type": "markdown",
   "id": "a3a721be",
   "metadata": {},
   "source": [
    "#### **Pure Pytorch PINN**"
   ]
  },
  {
   "cell_type": "code",
   "execution_count": null,
   "id": "c1df7a57",
   "metadata": {},
   "outputs": [],
   "source": [
    "import torch\n",
    "import torch.nn as nn\n",
    "import numpy as np\n",
    "import matplotlib.pyplot as plt\n",
    "\n"
   ]
  },
  {
   "cell_type": "markdown",
   "id": "c212cd55",
   "metadata": {},
   "source": [
    "#### **Pytorch w/ Torchdyn PINN**"
   ]
  },
  {
   "cell_type": "markdown",
   "id": "9a52530c",
   "metadata": {},
   "source": [
    " "
   ]
  }
 ],
 "metadata": {
  "kernelspec": {
   "display_name": "star-pinn",
   "language": "python",
   "name": "python3"
  },
  "language_info": {
   "name": "python",
   "version": "3.10.18"
  }
 },
 "nbformat": 4,
 "nbformat_minor": 5
}
